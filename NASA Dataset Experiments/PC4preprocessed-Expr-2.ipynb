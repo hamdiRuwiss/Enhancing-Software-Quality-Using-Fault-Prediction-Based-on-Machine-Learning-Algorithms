{
 "cells": [
  {
   "cell_type": "code",
   "execution_count": 1,
   "metadata": {},
   "outputs": [],
   "source": [
    "import pandas as pd\n",
    "import numpy as np\n",
    "import random as rnd\n",
    "from scipy.io.arff import loadarff\n",
    "\n",
    "import seaborn as sns\n",
    "import matplotlib.pyplot as plt\n",
    "plt.rcParams[\"figure.figsize\"] = (8, 5)\n",
    "\n",
    "from sklearn.ensemble import BaggingClassifier\n",
    "\n",
    "from sklearn.linear_model import LogisticRegression\n",
    "from sklearn.svm import SVC, LinearSVC\n",
    "from sklearn.ensemble import RandomForestClassifier\n",
    "from sklearn.neighbors import KNeighborsClassifier\n",
    "from sklearn.naive_bayes import GaussianNB\n",
    "from sklearn.linear_model import Perceptron\n",
    "from sklearn.linear_model import SGDClassifier\n",
    "from sklearn.tree import DecisionTreeClassifier\n",
    "from sklearn.preprocessing import StandardScaler\n",
    "from sklearn.linear_model import Lasso\n",
    "from sklearn.pipeline import Pipeline\n",
    "from sklearn.model_selection import GridSearchCV\n",
    "from sklearn.model_selection import StratifiedKFold\n",
    "\n",
    "from sklearn.ensemble import AdaBoostClassifier\n",
    "from xgboost import XGBClassifier\n",
    "\n",
    "\n",
    "from sklearn.metrics import accuracy_score, roc_auc_score, roc_curve, auc, confusion_matrix, f1_score\n",
    "\n",
    "# model evaluation calculate and score\n",
    "from sklearn.metrics import accuracy_score, recall_score, precision_score, roc_auc_score,  mean_squared_error\n",
    "\n",
    "# plot metrics model answer(metrics)\n",
    "from sklearn.metrics import plot_roc_curve, plot_precision_recall_curve\n",
    "\n",
    "# model evaluation \n",
    "from sklearn.metrics import classification_report, confusion_matrix\n",
    "\n",
    "from sklearn.preprocessing import LabelBinarizer\n",
    "\n",
    "\n",
    "from mpl_toolkits.mplot3d import Axes3D\n",
    "from sklearn.cluster import KMeans\n",
    "from sklearn.dummy import DummyClassifier\n",
    "from sklearn.decomposition import PCA\n",
    "from sklearn.mixture import GaussianMixture\n",
    "#import umap\n",
    "\n",
    "import matplotlib.pyplot as plt\n",
    "%matplotlib inline\n",
    "\n",
    "import seaborn as sns\n",
    "sns.set_style('whitegrid')\n",
    "\n",
    "import warnings\n",
    "warnings.filterwarnings('ignore')\n",
    "\n",
    "from tqdm import tqdm\n",
    "\n",
    "# import some dependencies to plot\n",
    "\n",
    "from plotly.offline import iplot\n",
    "# init_notebook_mode(connected=True)\n",
    "import plotly.graph_objs as go\n",
    "\n",
    "from sklearn.model_selection import train_test_split, KFold, cross_val_score\n",
    "\n",
    "# machine learning model\n",
    "from sklearn.naive_bayes import GaussianNB, MultinomialNB, BernoulliNB\n",
    "from sklearn.linear_model import LinearRegression\n",
    "from sklearn.tree import DecisionTreeClassifier\n",
    "# boosting\n",
    "from xgboost import XGBClassifier\n",
    "from xgboost import plot_importance\n",
    "from matplotlib import pyplot\n",
    "from sklearn.feature_selection import SelectFromModel\n",
    "\n",
    "# Import for VIF\n",
    "from statsmodels.stats.outliers_influence import variance_inflation_factor\n",
    "from statsmodels.tools.tools import add_constant"
   ]
  },
  {
   "cell_type": "code",
   "execution_count": 2,
   "metadata": {},
   "outputs": [
    {
     "data": {
      "text/html": [
       "<div>\n",
       "<style scoped>\n",
       "    .dataframe tbody tr th:only-of-type {\n",
       "        vertical-align: middle;\n",
       "    }\n",
       "\n",
       "    .dataframe tbody tr th {\n",
       "        vertical-align: top;\n",
       "    }\n",
       "\n",
       "    .dataframe thead th {\n",
       "        text-align: right;\n",
       "    }\n",
       "</style>\n",
       "<table border=\"1\" class=\"dataframe\">\n",
       "  <thead>\n",
       "    <tr style=\"text-align: right;\">\n",
       "      <th></th>\n",
       "      <th>LOC_BLANK</th>\n",
       "      <th>BRANCH_COUNT</th>\n",
       "      <th>CALL_PAIRS</th>\n",
       "      <th>LOC_CODE_AND_COMMENT</th>\n",
       "      <th>LOC_COMMENTS</th>\n",
       "      <th>CONDITION_COUNT</th>\n",
       "      <th>CYCLOMATIC_COMPLEXITY</th>\n",
       "      <th>CYCLOMATIC_DENSITY</th>\n",
       "      <th>DECISION_COUNT</th>\n",
       "      <th>DECISION_DENSITY</th>\n",
       "      <th>...</th>\n",
       "      <th>NODE_COUNT</th>\n",
       "      <th>NORMALIZED_CYLOMATIC_COMPLEXITY</th>\n",
       "      <th>NUM_OPERANDS</th>\n",
       "      <th>NUM_OPERATORS</th>\n",
       "      <th>NUM_UNIQUE_OPERANDS</th>\n",
       "      <th>NUM_UNIQUE_OPERATORS</th>\n",
       "      <th>NUMBER_OF_LINES</th>\n",
       "      <th>PERCENT_COMMENTS</th>\n",
       "      <th>LOC_TOTAL</th>\n",
       "      <th>Defective</th>\n",
       "    </tr>\n",
       "  </thead>\n",
       "  <tbody>\n",
       "    <tr>\n",
       "      <th>0</th>\n",
       "      <td>22.0</td>\n",
       "      <td>15.0</td>\n",
       "      <td>9.0</td>\n",
       "      <td>4.0</td>\n",
       "      <td>11.0</td>\n",
       "      <td>26.0</td>\n",
       "      <td>8.0</td>\n",
       "      <td>0.22</td>\n",
       "      <td>12.0</td>\n",
       "      <td>2.17</td>\n",
       "      <td>...</td>\n",
       "      <td>29.0</td>\n",
       "      <td>0.11</td>\n",
       "      <td>42.0</td>\n",
       "      <td>78.0</td>\n",
       "      <td>23.0</td>\n",
       "      <td>16.0</td>\n",
       "      <td>71.0</td>\n",
       "      <td>31.91</td>\n",
       "      <td>36.0</td>\n",
       "      <td>b'Y'</td>\n",
       "    </tr>\n",
       "    <tr>\n",
       "      <th>1</th>\n",
       "      <td>7.0</td>\n",
       "      <td>1.0</td>\n",
       "      <td>2.0</td>\n",
       "      <td>0.0</td>\n",
       "      <td>2.0</td>\n",
       "      <td>0.0</td>\n",
       "      <td>1.0</td>\n",
       "      <td>0.14</td>\n",
       "      <td>0.0</td>\n",
       "      <td>0.00</td>\n",
       "      <td>...</td>\n",
       "      <td>4.0</td>\n",
       "      <td>0.06</td>\n",
       "      <td>8.0</td>\n",
       "      <td>30.0</td>\n",
       "      <td>4.0</td>\n",
       "      <td>10.0</td>\n",
       "      <td>18.0</td>\n",
       "      <td>22.22</td>\n",
       "      <td>7.0</td>\n",
       "      <td>b'N'</td>\n",
       "    </tr>\n",
       "    <tr>\n",
       "      <th>2</th>\n",
       "      <td>10.0</td>\n",
       "      <td>3.0</td>\n",
       "      <td>2.0</td>\n",
       "      <td>0.0</td>\n",
       "      <td>2.0</td>\n",
       "      <td>4.0</td>\n",
       "      <td>2.0</td>\n",
       "      <td>0.20</td>\n",
       "      <td>2.0</td>\n",
       "      <td>2.00</td>\n",
       "      <td>...</td>\n",
       "      <td>9.0</td>\n",
       "      <td>0.08</td>\n",
       "      <td>12.0</td>\n",
       "      <td>25.0</td>\n",
       "      <td>8.0</td>\n",
       "      <td>12.0</td>\n",
       "      <td>24.0</td>\n",
       "      <td>16.67</td>\n",
       "      <td>10.0</td>\n",
       "      <td>b'N'</td>\n",
       "    </tr>\n",
       "    <tr>\n",
       "      <th>3</th>\n",
       "      <td>9.0</td>\n",
       "      <td>3.0</td>\n",
       "      <td>2.0</td>\n",
       "      <td>0.0</td>\n",
       "      <td>6.0</td>\n",
       "      <td>4.0</td>\n",
       "      <td>2.0</td>\n",
       "      <td>0.20</td>\n",
       "      <td>2.0</td>\n",
       "      <td>2.00</td>\n",
       "      <td>...</td>\n",
       "      <td>9.0</td>\n",
       "      <td>0.07</td>\n",
       "      <td>12.0</td>\n",
       "      <td>26.0</td>\n",
       "      <td>8.0</td>\n",
       "      <td>12.0</td>\n",
       "      <td>27.0</td>\n",
       "      <td>37.50</td>\n",
       "      <td>10.0</td>\n",
       "      <td>b'N'</td>\n",
       "    </tr>\n",
       "    <tr>\n",
       "      <th>4</th>\n",
       "      <td>3.0</td>\n",
       "      <td>1.0</td>\n",
       "      <td>0.0</td>\n",
       "      <td>0.0</td>\n",
       "      <td>0.0</td>\n",
       "      <td>0.0</td>\n",
       "      <td>1.0</td>\n",
       "      <td>0.25</td>\n",
       "      <td>0.0</td>\n",
       "      <td>0.00</td>\n",
       "      <td>...</td>\n",
       "      <td>2.0</td>\n",
       "      <td>0.10</td>\n",
       "      <td>4.0</td>\n",
       "      <td>8.0</td>\n",
       "      <td>3.0</td>\n",
       "      <td>7.0</td>\n",
       "      <td>10.0</td>\n",
       "      <td>0.00</td>\n",
       "      <td>4.0</td>\n",
       "      <td>b'N'</td>\n",
       "    </tr>\n",
       "    <tr>\n",
       "      <th>...</th>\n",
       "      <td>...</td>\n",
       "      <td>...</td>\n",
       "      <td>...</td>\n",
       "      <td>...</td>\n",
       "      <td>...</td>\n",
       "      <td>...</td>\n",
       "      <td>...</td>\n",
       "      <td>...</td>\n",
       "      <td>...</td>\n",
       "      <td>...</td>\n",
       "      <td>...</td>\n",
       "      <td>...</td>\n",
       "      <td>...</td>\n",
       "      <td>...</td>\n",
       "      <td>...</td>\n",
       "      <td>...</td>\n",
       "      <td>...</td>\n",
       "      <td>...</td>\n",
       "      <td>...</td>\n",
       "      <td>...</td>\n",
       "      <td>...</td>\n",
       "    </tr>\n",
       "    <tr>\n",
       "      <th>1374</th>\n",
       "      <td>0.0</td>\n",
       "      <td>3.0</td>\n",
       "      <td>0.0</td>\n",
       "      <td>0.0</td>\n",
       "      <td>0.0</td>\n",
       "      <td>4.0</td>\n",
       "      <td>2.0</td>\n",
       "      <td>0.29</td>\n",
       "      <td>2.0</td>\n",
       "      <td>2.00</td>\n",
       "      <td>...</td>\n",
       "      <td>7.0</td>\n",
       "      <td>0.22</td>\n",
       "      <td>17.0</td>\n",
       "      <td>23.0</td>\n",
       "      <td>5.0</td>\n",
       "      <td>7.0</td>\n",
       "      <td>9.0</td>\n",
       "      <td>0.00</td>\n",
       "      <td>7.0</td>\n",
       "      <td>b'N'</td>\n",
       "    </tr>\n",
       "    <tr>\n",
       "      <th>1375</th>\n",
       "      <td>0.0</td>\n",
       "      <td>3.0</td>\n",
       "      <td>0.0</td>\n",
       "      <td>0.0</td>\n",
       "      <td>0.0</td>\n",
       "      <td>4.0</td>\n",
       "      <td>2.0</td>\n",
       "      <td>0.33</td>\n",
       "      <td>2.0</td>\n",
       "      <td>2.00</td>\n",
       "      <td>...</td>\n",
       "      <td>7.0</td>\n",
       "      <td>0.25</td>\n",
       "      <td>13.0</td>\n",
       "      <td>17.0</td>\n",
       "      <td>5.0</td>\n",
       "      <td>7.0</td>\n",
       "      <td>8.0</td>\n",
       "      <td>0.00</td>\n",
       "      <td>6.0</td>\n",
       "      <td>b'N'</td>\n",
       "    </tr>\n",
       "    <tr>\n",
       "      <th>1376</th>\n",
       "      <td>0.0</td>\n",
       "      <td>1.0</td>\n",
       "      <td>1.0</td>\n",
       "      <td>0.0</td>\n",
       "      <td>0.0</td>\n",
       "      <td>0.0</td>\n",
       "      <td>1.0</td>\n",
       "      <td>0.07</td>\n",
       "      <td>0.0</td>\n",
       "      <td>0.00</td>\n",
       "      <td>...</td>\n",
       "      <td>3.0</td>\n",
       "      <td>0.06</td>\n",
       "      <td>29.0</td>\n",
       "      <td>76.0</td>\n",
       "      <td>3.0</td>\n",
       "      <td>8.0</td>\n",
       "      <td>17.0</td>\n",
       "      <td>0.00</td>\n",
       "      <td>15.0</td>\n",
       "      <td>b'N'</td>\n",
       "    </tr>\n",
       "    <tr>\n",
       "      <th>1377</th>\n",
       "      <td>1.0</td>\n",
       "      <td>3.0</td>\n",
       "      <td>1.0</td>\n",
       "      <td>0.0</td>\n",
       "      <td>0.0</td>\n",
       "      <td>4.0</td>\n",
       "      <td>2.0</td>\n",
       "      <td>0.40</td>\n",
       "      <td>2.0</td>\n",
       "      <td>2.00</td>\n",
       "      <td>...</td>\n",
       "      <td>7.0</td>\n",
       "      <td>0.25</td>\n",
       "      <td>10.0</td>\n",
       "      <td>14.0</td>\n",
       "      <td>6.0</td>\n",
       "      <td>10.0</td>\n",
       "      <td>8.0</td>\n",
       "      <td>0.00</td>\n",
       "      <td>5.0</td>\n",
       "      <td>b'N'</td>\n",
       "    </tr>\n",
       "    <tr>\n",
       "      <th>1378</th>\n",
       "      <td>1.0</td>\n",
       "      <td>1.0</td>\n",
       "      <td>0.0</td>\n",
       "      <td>0.0</td>\n",
       "      <td>0.0</td>\n",
       "      <td>0.0</td>\n",
       "      <td>1.0</td>\n",
       "      <td>0.05</td>\n",
       "      <td>0.0</td>\n",
       "      <td>0.00</td>\n",
       "      <td>...</td>\n",
       "      <td>2.0</td>\n",
       "      <td>0.05</td>\n",
       "      <td>36.0</td>\n",
       "      <td>131.0</td>\n",
       "      <td>2.0</td>\n",
       "      <td>5.0</td>\n",
       "      <td>22.0</td>\n",
       "      <td>0.00</td>\n",
       "      <td>19.0</td>\n",
       "      <td>b'N'</td>\n",
       "    </tr>\n",
       "  </tbody>\n",
       "</table>\n",
       "<p>1379 rows × 38 columns</p>\n",
       "</div>"
      ],
      "text/plain": [
       "      LOC_BLANK  BRANCH_COUNT  CALL_PAIRS  LOC_CODE_AND_COMMENT  LOC_COMMENTS  \\\n",
       "0          22.0          15.0         9.0                   4.0          11.0   \n",
       "1           7.0           1.0         2.0                   0.0           2.0   \n",
       "2          10.0           3.0         2.0                   0.0           2.0   \n",
       "3           9.0           3.0         2.0                   0.0           6.0   \n",
       "4           3.0           1.0         0.0                   0.0           0.0   \n",
       "...         ...           ...         ...                   ...           ...   \n",
       "1374        0.0           3.0         0.0                   0.0           0.0   \n",
       "1375        0.0           3.0         0.0                   0.0           0.0   \n",
       "1376        0.0           1.0         1.0                   0.0           0.0   \n",
       "1377        1.0           3.0         1.0                   0.0           0.0   \n",
       "1378        1.0           1.0         0.0                   0.0           0.0   \n",
       "\n",
       "      CONDITION_COUNT  CYCLOMATIC_COMPLEXITY  CYCLOMATIC_DENSITY  \\\n",
       "0                26.0                    8.0                0.22   \n",
       "1                 0.0                    1.0                0.14   \n",
       "2                 4.0                    2.0                0.20   \n",
       "3                 4.0                    2.0                0.20   \n",
       "4                 0.0                    1.0                0.25   \n",
       "...               ...                    ...                 ...   \n",
       "1374              4.0                    2.0                0.29   \n",
       "1375              4.0                    2.0                0.33   \n",
       "1376              0.0                    1.0                0.07   \n",
       "1377              4.0                    2.0                0.40   \n",
       "1378              0.0                    1.0                0.05   \n",
       "\n",
       "      DECISION_COUNT  DECISION_DENSITY  ...  NODE_COUNT  \\\n",
       "0               12.0              2.17  ...        29.0   \n",
       "1                0.0              0.00  ...         4.0   \n",
       "2                2.0              2.00  ...         9.0   \n",
       "3                2.0              2.00  ...         9.0   \n",
       "4                0.0              0.00  ...         2.0   \n",
       "...              ...               ...  ...         ...   \n",
       "1374             2.0              2.00  ...         7.0   \n",
       "1375             2.0              2.00  ...         7.0   \n",
       "1376             0.0              0.00  ...         3.0   \n",
       "1377             2.0              2.00  ...         7.0   \n",
       "1378             0.0              0.00  ...         2.0   \n",
       "\n",
       "      NORMALIZED_CYLOMATIC_COMPLEXITY  NUM_OPERANDS  NUM_OPERATORS  \\\n",
       "0                                0.11          42.0           78.0   \n",
       "1                                0.06           8.0           30.0   \n",
       "2                                0.08          12.0           25.0   \n",
       "3                                0.07          12.0           26.0   \n",
       "4                                0.10           4.0            8.0   \n",
       "...                               ...           ...            ...   \n",
       "1374                             0.22          17.0           23.0   \n",
       "1375                             0.25          13.0           17.0   \n",
       "1376                             0.06          29.0           76.0   \n",
       "1377                             0.25          10.0           14.0   \n",
       "1378                             0.05          36.0          131.0   \n",
       "\n",
       "      NUM_UNIQUE_OPERANDS  NUM_UNIQUE_OPERATORS  NUMBER_OF_LINES  \\\n",
       "0                    23.0                  16.0             71.0   \n",
       "1                     4.0                  10.0             18.0   \n",
       "2                     8.0                  12.0             24.0   \n",
       "3                     8.0                  12.0             27.0   \n",
       "4                     3.0                   7.0             10.0   \n",
       "...                   ...                   ...              ...   \n",
       "1374                  5.0                   7.0              9.0   \n",
       "1375                  5.0                   7.0              8.0   \n",
       "1376                  3.0                   8.0             17.0   \n",
       "1377                  6.0                  10.0              8.0   \n",
       "1378                  2.0                   5.0             22.0   \n",
       "\n",
       "      PERCENT_COMMENTS  LOC_TOTAL  Defective  \n",
       "0                31.91       36.0       b'Y'  \n",
       "1                22.22        7.0       b'N'  \n",
       "2                16.67       10.0       b'N'  \n",
       "3                37.50       10.0       b'N'  \n",
       "4                 0.00        4.0       b'N'  \n",
       "...                ...        ...        ...  \n",
       "1374              0.00        7.0       b'N'  \n",
       "1375              0.00        6.0       b'N'  \n",
       "1376              0.00       15.0       b'N'  \n",
       "1377              0.00        5.0       b'N'  \n",
       "1378              0.00       19.0       b'N'  \n",
       "\n",
       "[1379 rows x 38 columns]"
      ]
     },
     "execution_count": 2,
     "metadata": {},
     "output_type": "execute_result"
    }
   ],
   "source": [
    "raw_data = loadarff('data/cleaned/pc4.arff')\n",
    "df_data = pd.DataFrame(raw_data[0])\n",
    "df_data"
   ]
  },
  {
   "cell_type": "code",
   "execution_count": 3,
   "metadata": {},
   "outputs": [
    {
     "name": "stdout",
     "output_type": "stream",
     "text": [
      "<class 'pandas.core.frame.DataFrame'>\n",
      "RangeIndex: 1379 entries, 0 to 1378\n",
      "Data columns (total 38 columns):\n",
      " #   Column                           Non-Null Count  Dtype  \n",
      "---  ------                           --------------  -----  \n",
      " 0   LOC_BLANK                        1379 non-null   float64\n",
      " 1   BRANCH_COUNT                     1379 non-null   float64\n",
      " 2   CALL_PAIRS                       1379 non-null   float64\n",
      " 3   LOC_CODE_AND_COMMENT             1379 non-null   float64\n",
      " 4   LOC_COMMENTS                     1379 non-null   float64\n",
      " 5   CONDITION_COUNT                  1379 non-null   float64\n",
      " 6   CYCLOMATIC_COMPLEXITY            1379 non-null   float64\n",
      " 7   CYCLOMATIC_DENSITY               1379 non-null   float64\n",
      " 8   DECISION_COUNT                   1379 non-null   float64\n",
      " 9   DECISION_DENSITY                 1379 non-null   float64\n",
      " 10  DESIGN_COMPLEXITY                1379 non-null   float64\n",
      " 11  DESIGN_DENSITY                   1379 non-null   float64\n",
      " 12  EDGE_COUNT                       1379 non-null   float64\n",
      " 13  ESSENTIAL_COMPLEXITY             1379 non-null   float64\n",
      " 14  ESSENTIAL_DENSITY                1379 non-null   float64\n",
      " 15  LOC_EXECUTABLE                   1379 non-null   float64\n",
      " 16  PARAMETER_COUNT                  1379 non-null   float64\n",
      " 17  HALSTEAD_CONTENT                 1379 non-null   float64\n",
      " 18  HALSTEAD_DIFFICULTY              1379 non-null   float64\n",
      " 19  HALSTEAD_EFFORT                  1379 non-null   float64\n",
      " 20  HALSTEAD_ERROR_EST               1379 non-null   float64\n",
      " 21  HALSTEAD_LENGTH                  1379 non-null   float64\n",
      " 22  HALSTEAD_LEVEL                   1379 non-null   float64\n",
      " 23  HALSTEAD_PROG_TIME               1379 non-null   float64\n",
      " 24  HALSTEAD_VOLUME                  1379 non-null   float64\n",
      " 25  MAINTENANCE_SEVERITY             1379 non-null   float64\n",
      " 26  MODIFIED_CONDITION_COUNT         1379 non-null   float64\n",
      " 27  MULTIPLE_CONDITION_COUNT         1379 non-null   float64\n",
      " 28  NODE_COUNT                       1379 non-null   float64\n",
      " 29  NORMALIZED_CYLOMATIC_COMPLEXITY  1379 non-null   float64\n",
      " 30  NUM_OPERANDS                     1379 non-null   float64\n",
      " 31  NUM_OPERATORS                    1379 non-null   float64\n",
      " 32  NUM_UNIQUE_OPERANDS              1379 non-null   float64\n",
      " 33  NUM_UNIQUE_OPERATORS             1379 non-null   float64\n",
      " 34  NUMBER_OF_LINES                  1379 non-null   float64\n",
      " 35  PERCENT_COMMENTS                 1379 non-null   float64\n",
      " 36  LOC_TOTAL                        1379 non-null   float64\n",
      " 37  Defective                        1379 non-null   object \n",
      "dtypes: float64(37), object(1)\n",
      "memory usage: 409.5+ KB\n"
     ]
    }
   ],
   "source": [
    "df_data.info() #informs about the data (memory usage, data types etc.)"
   ]
  },
  {
   "cell_type": "code",
   "execution_count": 4,
   "metadata": {},
   "outputs": [
    {
     "data": {
      "text/html": [
       "<div>\n",
       "<style scoped>\n",
       "    .dataframe tbody tr th:only-of-type {\n",
       "        vertical-align: middle;\n",
       "    }\n",
       "\n",
       "    .dataframe tbody tr th {\n",
       "        vertical-align: top;\n",
       "    }\n",
       "\n",
       "    .dataframe thead th {\n",
       "        text-align: right;\n",
       "    }\n",
       "</style>\n",
       "<table border=\"1\" class=\"dataframe\">\n",
       "  <thead>\n",
       "    <tr style=\"text-align: right;\">\n",
       "      <th></th>\n",
       "      <th>LOC_BLANK</th>\n",
       "      <th>BRANCH_COUNT</th>\n",
       "      <th>CALL_PAIRS</th>\n",
       "      <th>LOC_CODE_AND_COMMENT</th>\n",
       "      <th>LOC_COMMENTS</th>\n",
       "      <th>CONDITION_COUNT</th>\n",
       "      <th>CYCLOMATIC_COMPLEXITY</th>\n",
       "      <th>CYCLOMATIC_DENSITY</th>\n",
       "      <th>DECISION_COUNT</th>\n",
       "      <th>DECISION_DENSITY</th>\n",
       "      <th>...</th>\n",
       "      <th>MULTIPLE_CONDITION_COUNT</th>\n",
       "      <th>NODE_COUNT</th>\n",
       "      <th>NORMALIZED_CYLOMATIC_COMPLEXITY</th>\n",
       "      <th>NUM_OPERANDS</th>\n",
       "      <th>NUM_OPERATORS</th>\n",
       "      <th>NUM_UNIQUE_OPERANDS</th>\n",
       "      <th>NUM_UNIQUE_OPERATORS</th>\n",
       "      <th>NUMBER_OF_LINES</th>\n",
       "      <th>PERCENT_COMMENTS</th>\n",
       "      <th>LOC_TOTAL</th>\n",
       "    </tr>\n",
       "  </thead>\n",
       "  <tbody>\n",
       "    <tr>\n",
       "      <th>count</th>\n",
       "      <td>1379.000000</td>\n",
       "      <td>1379.000000</td>\n",
       "      <td>1379.000000</td>\n",
       "      <td>1379.000000</td>\n",
       "      <td>1379.000000</td>\n",
       "      <td>1379.000000</td>\n",
       "      <td>1379.000000</td>\n",
       "      <td>1379.000000</td>\n",
       "      <td>1379.000000</td>\n",
       "      <td>1379.000000</td>\n",
       "      <td>...</td>\n",
       "      <td>1379.000000</td>\n",
       "      <td>1379.000000</td>\n",
       "      <td>1379.000000</td>\n",
       "      <td>1379.000000</td>\n",
       "      <td>1379.000000</td>\n",
       "      <td>1379.000000</td>\n",
       "      <td>1379.000000</td>\n",
       "      <td>1379.000000</td>\n",
       "      <td>1379.000000</td>\n",
       "      <td>1379.000000</td>\n",
       "    </tr>\n",
       "    <tr>\n",
       "      <th>mean</th>\n",
       "      <td>7.357505</td>\n",
       "      <td>7.856418</td>\n",
       "      <td>2.327049</td>\n",
       "      <td>2.226251</td>\n",
       "      <td>5.110950</td>\n",
       "      <td>7.253082</td>\n",
       "      <td>4.538071</td>\n",
       "      <td>0.287716</td>\n",
       "      <td>3.299492</td>\n",
       "      <td>1.060167</td>\n",
       "      <td>...</td>\n",
       "      <td>3.672951</td>\n",
       "      <td>15.161711</td>\n",
       "      <td>0.181639</td>\n",
       "      <td>40.004351</td>\n",
       "      <td>64.155185</td>\n",
       "      <td>13.627991</td>\n",
       "      <td>12.243655</td>\n",
       "      <td>37.718637</td>\n",
       "      <td>18.405279</td>\n",
       "      <td>21.488035</td>\n",
       "    </tr>\n",
       "    <tr>\n",
       "      <th>std</th>\n",
       "      <td>9.974887</td>\n",
       "      <td>10.452032</td>\n",
       "      <td>2.853651</td>\n",
       "      <td>5.443696</td>\n",
       "      <td>9.662146</td>\n",
       "      <td>13.027232</td>\n",
       "      <td>5.483896</td>\n",
       "      <td>0.201082</td>\n",
       "      <td>5.780661</td>\n",
       "      <td>1.129120</td>\n",
       "      <td>...</td>\n",
       "      <td>6.856052</td>\n",
       "      <td>18.957498</td>\n",
       "      <td>0.177228</td>\n",
       "      <td>72.352738</td>\n",
       "      <td>101.420652</td>\n",
       "      <td>20.847643</td>\n",
       "      <td>6.263223</td>\n",
       "      <td>45.795602</td>\n",
       "      <td>21.352172</td>\n",
       "      <td>25.394029</td>\n",
       "    </tr>\n",
       "    <tr>\n",
       "      <th>min</th>\n",
       "      <td>0.000000</td>\n",
       "      <td>1.000000</td>\n",
       "      <td>0.000000</td>\n",
       "      <td>0.000000</td>\n",
       "      <td>0.000000</td>\n",
       "      <td>0.000000</td>\n",
       "      <td>1.000000</td>\n",
       "      <td>0.000000</td>\n",
       "      <td>0.000000</td>\n",
       "      <td>0.000000</td>\n",
       "      <td>...</td>\n",
       "      <td>0.000000</td>\n",
       "      <td>2.000000</td>\n",
       "      <td>0.000000</td>\n",
       "      <td>0.000000</td>\n",
       "      <td>0.000000</td>\n",
       "      <td>0.000000</td>\n",
       "      <td>0.000000</td>\n",
       "      <td>1.000000</td>\n",
       "      <td>0.000000</td>\n",
       "      <td>0.000000</td>\n",
       "    </tr>\n",
       "    <tr>\n",
       "      <th>25%</th>\n",
       "      <td>1.000000</td>\n",
       "      <td>1.000000</td>\n",
       "      <td>1.000000</td>\n",
       "      <td>0.000000</td>\n",
       "      <td>0.000000</td>\n",
       "      <td>0.000000</td>\n",
       "      <td>1.000000</td>\n",
       "      <td>0.150000</td>\n",
       "      <td>0.000000</td>\n",
       "      <td>0.000000</td>\n",
       "      <td>...</td>\n",
       "      <td>0.000000</td>\n",
       "      <td>5.000000</td>\n",
       "      <td>0.080000</td>\n",
       "      <td>9.000000</td>\n",
       "      <td>16.000000</td>\n",
       "      <td>6.000000</td>\n",
       "      <td>8.000000</td>\n",
       "      <td>12.000000</td>\n",
       "      <td>0.000000</td>\n",
       "      <td>7.000000</td>\n",
       "    </tr>\n",
       "    <tr>\n",
       "      <th>50%</th>\n",
       "      <td>4.000000</td>\n",
       "      <td>5.000000</td>\n",
       "      <td>1.000000</td>\n",
       "      <td>0.000000</td>\n",
       "      <td>1.000000</td>\n",
       "      <td>0.000000</td>\n",
       "      <td>3.000000</td>\n",
       "      <td>0.240000</td>\n",
       "      <td>0.000000</td>\n",
       "      <td>0.000000</td>\n",
       "      <td>...</td>\n",
       "      <td>0.000000</td>\n",
       "      <td>10.000000</td>\n",
       "      <td>0.130000</td>\n",
       "      <td>20.000000</td>\n",
       "      <td>35.000000</td>\n",
       "      <td>9.000000</td>\n",
       "      <td>11.000000</td>\n",
       "      <td>21.000000</td>\n",
       "      <td>10.870000</td>\n",
       "      <td>12.000000</td>\n",
       "    </tr>\n",
       "    <tr>\n",
       "      <th>75%</th>\n",
       "      <td>10.000000</td>\n",
       "      <td>9.000000</td>\n",
       "      <td>3.000000</td>\n",
       "      <td>2.000000</td>\n",
       "      <td>6.000000</td>\n",
       "      <td>8.000000</td>\n",
       "      <td>5.000000</td>\n",
       "      <td>0.380000</td>\n",
       "      <td>4.000000</td>\n",
       "      <td>2.000000</td>\n",
       "      <td>...</td>\n",
       "      <td>4.000000</td>\n",
       "      <td>18.000000</td>\n",
       "      <td>0.220000</td>\n",
       "      <td>45.000000</td>\n",
       "      <td>76.000000</td>\n",
       "      <td>17.000000</td>\n",
       "      <td>16.000000</td>\n",
       "      <td>48.000000</td>\n",
       "      <td>31.860000</td>\n",
       "      <td>27.000000</td>\n",
       "    </tr>\n",
       "    <tr>\n",
       "      <th>max</th>\n",
       "      <td>90.000000</td>\n",
       "      <td>143.000000</td>\n",
       "      <td>24.000000</td>\n",
       "      <td>68.000000</td>\n",
       "      <td>78.000000</td>\n",
       "      <td>118.000000</td>\n",
       "      <td>73.000000</td>\n",
       "      <td>1.000000</td>\n",
       "      <td>50.000000</td>\n",
       "      <td>5.000000</td>\n",
       "      <td>...</td>\n",
       "      <td>84.000000</td>\n",
       "      <td>286.000000</td>\n",
       "      <td>1.000000</td>\n",
       "      <td>1403.000000</td>\n",
       "      <td>1687.000000</td>\n",
       "      <td>601.000000</td>\n",
       "      <td>38.000000</td>\n",
       "      <td>627.000000</td>\n",
       "      <td>93.020000</td>\n",
       "      <td>210.000000</td>\n",
       "    </tr>\n",
       "  </tbody>\n",
       "</table>\n",
       "<p>8 rows × 37 columns</p>\n",
       "</div>"
      ],
      "text/plain": [
       "         LOC_BLANK  BRANCH_COUNT   CALL_PAIRS  LOC_CODE_AND_COMMENT  \\\n",
       "count  1379.000000   1379.000000  1379.000000           1379.000000   \n",
       "mean      7.357505      7.856418     2.327049              2.226251   \n",
       "std       9.974887     10.452032     2.853651              5.443696   \n",
       "min       0.000000      1.000000     0.000000              0.000000   \n",
       "25%       1.000000      1.000000     1.000000              0.000000   \n",
       "50%       4.000000      5.000000     1.000000              0.000000   \n",
       "75%      10.000000      9.000000     3.000000              2.000000   \n",
       "max      90.000000    143.000000    24.000000             68.000000   \n",
       "\n",
       "       LOC_COMMENTS  CONDITION_COUNT  CYCLOMATIC_COMPLEXITY  \\\n",
       "count   1379.000000      1379.000000            1379.000000   \n",
       "mean       5.110950         7.253082               4.538071   \n",
       "std        9.662146        13.027232               5.483896   \n",
       "min        0.000000         0.000000               1.000000   \n",
       "25%        0.000000         0.000000               1.000000   \n",
       "50%        1.000000         0.000000               3.000000   \n",
       "75%        6.000000         8.000000               5.000000   \n",
       "max       78.000000       118.000000              73.000000   \n",
       "\n",
       "       CYCLOMATIC_DENSITY  DECISION_COUNT  DECISION_DENSITY  ...  \\\n",
       "count         1379.000000     1379.000000       1379.000000  ...   \n",
       "mean             0.287716        3.299492          1.060167  ...   \n",
       "std              0.201082        5.780661          1.129120  ...   \n",
       "min              0.000000        0.000000          0.000000  ...   \n",
       "25%              0.150000        0.000000          0.000000  ...   \n",
       "50%              0.240000        0.000000          0.000000  ...   \n",
       "75%              0.380000        4.000000          2.000000  ...   \n",
       "max              1.000000       50.000000          5.000000  ...   \n",
       "\n",
       "       MULTIPLE_CONDITION_COUNT   NODE_COUNT  NORMALIZED_CYLOMATIC_COMPLEXITY  \\\n",
       "count               1379.000000  1379.000000                      1379.000000   \n",
       "mean                   3.672951    15.161711                         0.181639   \n",
       "std                    6.856052    18.957498                         0.177228   \n",
       "min                    0.000000     2.000000                         0.000000   \n",
       "25%                    0.000000     5.000000                         0.080000   \n",
       "50%                    0.000000    10.000000                         0.130000   \n",
       "75%                    4.000000    18.000000                         0.220000   \n",
       "max                   84.000000   286.000000                         1.000000   \n",
       "\n",
       "       NUM_OPERANDS  NUM_OPERATORS  NUM_UNIQUE_OPERANDS  NUM_UNIQUE_OPERATORS  \\\n",
       "count   1379.000000    1379.000000          1379.000000           1379.000000   \n",
       "mean      40.004351      64.155185            13.627991             12.243655   \n",
       "std       72.352738     101.420652            20.847643              6.263223   \n",
       "min        0.000000       0.000000             0.000000              0.000000   \n",
       "25%        9.000000      16.000000             6.000000              8.000000   \n",
       "50%       20.000000      35.000000             9.000000             11.000000   \n",
       "75%       45.000000      76.000000            17.000000             16.000000   \n",
       "max     1403.000000    1687.000000           601.000000             38.000000   \n",
       "\n",
       "       NUMBER_OF_LINES  PERCENT_COMMENTS    LOC_TOTAL  \n",
       "count      1379.000000       1379.000000  1379.000000  \n",
       "mean         37.718637         18.405279    21.488035  \n",
       "std          45.795602         21.352172    25.394029  \n",
       "min           1.000000          0.000000     0.000000  \n",
       "25%          12.000000          0.000000     7.000000  \n",
       "50%          21.000000         10.870000    12.000000  \n",
       "75%          48.000000         31.860000    27.000000  \n",
       "max         627.000000         93.020000   210.000000  \n",
       "\n",
       "[8 rows x 37 columns]"
      ]
     },
     "execution_count": 4,
     "metadata": {},
     "output_type": "execute_result"
    }
   ],
   "source": [
    "df_data.describe() #shows simple statistics (min, max, mean, etc.)"
   ]
  },
  {
   "cell_type": "code",
   "execution_count": 5,
   "metadata": {},
   "outputs": [
    {
     "data": {
      "text/plain": [
       "Defective\n",
       "0    1201\n",
       "1     178\n",
       "dtype: int64"
      ]
     },
     "execution_count": 5,
     "metadata": {},
     "output_type": "execute_result"
    }
   ],
   "source": [
    "# trasform to binary and extract target dont run twice\n",
    "df_data['Defective'] = df_data['Defective'].apply(lambda x: 1 if x == b'Y' else 0)\n",
    "df_data.groupby(\"Defective\").size()"
   ]
  },
  {
   "cell_type": "code",
   "execution_count": 56,
   "metadata": {},
   "outputs": [],
   "source": [
    "# metric correlations- (step 1)"
   ]
  },
  {
   "cell_type": "code",
   "execution_count": 6,
   "metadata": {
    "scrolled": true
   },
   "outputs": [],
   "source": [
    "X_train_size_features = df_data[['LOC_BLANK','PERCENT_COMMENTS','PARAMETER_COUNT']]\n",
    "X_train_complexity_features = df_data[['CONDITION_COUNT','CYCLOMATIC_DENSITY','DESIGN_COMPLEXITY','DESIGN_DENSITY','ESSENTIAL_COMPLEXITY','NUM_OPERATORS','HALSTEAD_LEVEL']]"
   ]
  },
  {
   "cell_type": "code",
   "execution_count": 7,
   "metadata": {},
   "outputs": [
    {
     "data": {
      "text/plain": [
       "(1379, 38)"
      ]
     },
     "execution_count": 7,
     "metadata": {},
     "output_type": "execute_result"
    }
   ],
   "source": [
    "df_data.shape"
   ]
  },
  {
   "cell_type": "code",
   "execution_count": 199,
   "metadata": {},
   "outputs": [],
   "source": [
    "# Variance inflation factor analysis  (VIF) - setp 2"
   ]
  },
  {
   "cell_type": "code",
   "execution_count": 8,
   "metadata": {},
   "outputs": [],
   "source": [
    "def vif(features):\n",
    "\n",
    "    # Prepare a dataframe for VIF\n",
    "    X_VIF = add_constant(features)\n",
    "\n",
    "    # Simulate a multicollinearity situation of AddedLOC, A, and B\n",
    "    #X_VIF['A'] = [2 * x_i + random.random() for x_i in X_VIF['AddedLOC']]\n",
    "    #X_VIF['B'] = [3 * x_i + random.random() for x_i in X_VIF['AddedLOC']]\n",
    "\n",
    "    # Calculate VIF scores\n",
    "    vif_scores = pd.DataFrame([variance_inflation_factor(X_VIF.values, i) \n",
    "                   for i in range(X_VIF.shape[1])], \n",
    "                  index=X_VIF.columns)\n",
    "    # Prepare a final dataframe of VIF scores\n",
    "    vif_scores.reset_index(inplace = True)\n",
    "    vif_scores.columns = ['Feature', 'VIFscore']\n",
    "    vif_scores = vif_scores.loc[vif_scores['Feature'] != 'const', :]\n",
    "    vif_scores = vif_scores.sort_values(by = ['VIFscore'], ascending = False)\n",
    "    return vif_scores"
   ]
  },
  {
   "cell_type": "code",
   "execution_count": 9,
   "metadata": {},
   "outputs": [
    {
     "name": "stdout",
     "output_type": "stream",
     "text": [
      "X: (1379, 37)\n",
      "y: (1379,)\n"
     ]
    }
   ],
   "source": [
    "X = df_data.iloc[:, 0:-1]\n",
    "y = df_data[\"Defective\"]\n",
    "\n",
    "#y = df_data.pop('Defective')\n",
    "#X = df_data\n",
    "\n",
    "print(\"X:\", X.shape)\n",
    "print(\"y:\", y.shape)"
   ]
  },
  {
   "cell_type": "code",
   "execution_count": 10,
   "metadata": {},
   "outputs": [
    {
     "data": {
      "text/html": [
       "<div>\n",
       "<style scoped>\n",
       "    .dataframe tbody tr th:only-of-type {\n",
       "        vertical-align: middle;\n",
       "    }\n",
       "\n",
       "    .dataframe tbody tr th {\n",
       "        vertical-align: top;\n",
       "    }\n",
       "\n",
       "    .dataframe thead th {\n",
       "        text-align: right;\n",
       "    }\n",
       "</style>\n",
       "<table border=\"1\" class=\"dataframe\">\n",
       "  <thead>\n",
       "    <tr style=\"text-align: right;\">\n",
       "      <th></th>\n",
       "      <th>Feature</th>\n",
       "      <th>VIFscore</th>\n",
       "    </tr>\n",
       "  </thead>\n",
       "  <tbody>\n",
       "    <tr>\n",
       "      <th>1</th>\n",
       "      <td>LOC_BLANK</td>\n",
       "      <td>1.334684</td>\n",
       "    </tr>\n",
       "    <tr>\n",
       "      <th>2</th>\n",
       "      <td>PERCENT_COMMENTS</td>\n",
       "      <td>1.332763</td>\n",
       "    </tr>\n",
       "    <tr>\n",
       "      <th>3</th>\n",
       "      <td>PARAMETER_COUNT</td>\n",
       "      <td>1.002430</td>\n",
       "    </tr>\n",
       "  </tbody>\n",
       "</table>\n",
       "</div>"
      ],
      "text/plain": [
       "            Feature  VIFscore\n",
       "1         LOC_BLANK  1.334684\n",
       "2  PERCENT_COMMENTS  1.332763\n",
       "3   PARAMETER_COUNT  1.002430"
      ]
     },
     "execution_count": 10,
     "metadata": {},
     "output_type": "execute_result"
    }
   ],
   "source": [
    "vif(X_train_size_features)"
   ]
  },
  {
   "cell_type": "code",
   "execution_count": 12,
   "metadata": {},
   "outputs": [
    {
     "data": {
      "text/html": [
       "<div>\n",
       "<style scoped>\n",
       "    .dataframe tbody tr th:only-of-type {\n",
       "        vertical-align: middle;\n",
       "    }\n",
       "\n",
       "    .dataframe tbody tr th {\n",
       "        vertical-align: top;\n",
       "    }\n",
       "\n",
       "    .dataframe thead th {\n",
       "        text-align: right;\n",
       "    }\n",
       "</style>\n",
       "<table border=\"1\" class=\"dataframe\">\n",
       "  <thead>\n",
       "    <tr style=\"text-align: right;\">\n",
       "      <th></th>\n",
       "      <th>Feature</th>\n",
       "      <th>VIFscore</th>\n",
       "    </tr>\n",
       "  </thead>\n",
       "  <tbody>\n",
       "    <tr>\n",
       "      <th>3</th>\n",
       "      <td>DESIGN_COMPLEXITY</td>\n",
       "      <td>1.975442</td>\n",
       "    </tr>\n",
       "    <tr>\n",
       "      <th>5</th>\n",
       "      <td>ESSENTIAL_COMPLEXITY</td>\n",
       "      <td>1.938543</td>\n",
       "    </tr>\n",
       "    <tr>\n",
       "      <th>6</th>\n",
       "      <td>NUM_OPERATORS</td>\n",
       "      <td>1.492236</td>\n",
       "    </tr>\n",
       "    <tr>\n",
       "      <th>4</th>\n",
       "      <td>DESIGN_DENSITY</td>\n",
       "      <td>1.475486</td>\n",
       "    </tr>\n",
       "    <tr>\n",
       "      <th>1</th>\n",
       "      <td>CONDITION_COUNT</td>\n",
       "      <td>1.469822</td>\n",
       "    </tr>\n",
       "    <tr>\n",
       "      <th>7</th>\n",
       "      <td>HALSTEAD_LEVEL</td>\n",
       "      <td>1.347947</td>\n",
       "    </tr>\n",
       "    <tr>\n",
       "      <th>2</th>\n",
       "      <td>CYCLOMATIC_DENSITY</td>\n",
       "      <td>1.113948</td>\n",
       "    </tr>\n",
       "  </tbody>\n",
       "</table>\n",
       "</div>"
      ],
      "text/plain": [
       "                Feature  VIFscore\n",
       "3     DESIGN_COMPLEXITY  1.975442\n",
       "5  ESSENTIAL_COMPLEXITY  1.938543\n",
       "6         NUM_OPERATORS  1.492236\n",
       "4        DESIGN_DENSITY  1.475486\n",
       "1       CONDITION_COUNT  1.469822\n",
       "7        HALSTEAD_LEVEL  1.347947\n",
       "2    CYCLOMATIC_DENSITY  1.113948"
      ]
     },
     "execution_count": 12,
     "metadata": {},
     "output_type": "execute_result"
    }
   ],
   "source": [
    "vif(X_train_complexity_features)"
   ]
  },
  {
   "cell_type": "code",
   "execution_count": 14,
   "metadata": {},
   "outputs": [],
   "source": [
    "#featres after step1 & step 2"
   ]
  },
  {
   "cell_type": "code",
   "execution_count": 13,
   "metadata": {},
   "outputs": [],
   "source": [
    "X_train_all_features = df_data[['LOC_BLANK','PERCENT_COMMENTS','PARAMETER_COUNT','CONDITION_COUNT','CYCLOMATIC_DENSITY','DESIGN_COMPLEXITY','DESIGN_DENSITY','ESSENTIAL_COMPLEXITY','NUM_OPERATORS','HALSTEAD_LEVEL']]"
   ]
  },
  {
   "cell_type": "code",
   "execution_count": null,
   "metadata": {},
   "outputs": [],
   "source": [
    "#resampling"
   ]
  },
  {
   "cell_type": "code",
   "execution_count": 14,
   "metadata": {
    "scrolled": true
   },
   "outputs": [
    {
     "name": "stdout",
     "output_type": "stream",
     "text": [
      "Classes: [0, 1]\n",
      "Counts: [1201, 178]\n"
     ]
    },
    {
     "data": {
      "image/png": "[encoded data removed]",
      "text/plain": [
       "<Figure size 432x288 with 1 Axes>"
      ]
     },
     "metadata": {},
     "output_type": "display_data"
    }
   ],
   "source": [
    "unique, counts = np.unique(y, return_counts=True)\n",
    "print(\"Classes:\", unique.tolist())\n",
    "print(\"Counts:\", counts.tolist())\n",
    "\n",
    "plt.bar(unique, counts, color=['g', 'orange', 'r'], alpha=0.7)\n",
    "plt.title(\"#Bugs VS Occurrences\")\n",
    "plt.xticks(range(len(unique)))\n",
    "plt.ylabel(\"Occurrences\")\n",
    "plt.xlabel(\"# Bugs\");"
   ]
  },
  {
   "cell_type": "code",
   "execution_count": 17,
   "metadata": {},
   "outputs": [],
   "source": [
    "#oversampling using SMOTE up to 30%"
   ]
  },
  {
   "cell_type": "code",
   "execution_count": 15,
   "metadata": {},
   "outputs": [
    {
     "name": "stdout",
     "output_type": "stream",
     "text": [
      "Train: (1561, 10) (1561,)\n"
     ]
    }
   ],
   "source": [
    "from imblearn.over_sampling import SMOTE\n",
    "X_train_over_sampled, y_train_over_sampled = SMOTE(sampling_strategy=0.3).fit_resample(X_train_all_features, y)\n",
    "print(\"Train:\", X_train_over_sampled.shape, y_train_over_sampled.shape)"
   ]
  },
  {
   "cell_type": "code",
   "execution_count": 16,
   "metadata": {},
   "outputs": [
    {
     "name": "stdout",
     "output_type": "stream",
     "text": [
      "Classes: [0, 1]\n",
      "Counts: [1201, 360]\n"
     ]
    },
    {
     "data": {
      "image/png": "[encoded data removed]",
      "text/plain": [
       "<Figure size 432x288 with 1 Axes>"
      ]
     },
     "metadata": {},
     "output_type": "display_data"
    }
   ],
   "source": [
    "unique, counts = np.unique(y_train_over_sampled, return_counts=True)\n",
    "print(\"Classes:\", unique.tolist())\n",
    "print(\"Counts:\", counts.tolist())\n",
    "\n",
    "plt.bar(unique, counts, color=['g', 'orange', 'r'], alpha=0.7)\n",
    "plt.title(\"#Bugs VS Occurrences\")\n",
    "plt.xticks(range(len(unique)))\n",
    "plt.ylabel(\"Occurrences\")\n",
    "plt.xlabel(\"# Bugs\");"
   ]
  },
  {
   "cell_type": "code",
   "execution_count": 17,
   "metadata": {},
   "outputs": [
    {
     "data": {
      "text/plain": [
       "Defective\n",
       "0    1201\n",
       "1     360\n",
       "Name: Defective, dtype: int64"
      ]
     },
     "execution_count": 17,
     "metadata": {},
     "output_type": "execute_result"
    }
   ],
   "source": [
    "bugs= y_train_over_sampled.groupby(y_train_over_sampled)\n",
    "bugs.size()"
   ]
  },
  {
   "cell_type": "code",
   "execution_count": 18,
   "metadata": {},
   "outputs": [],
   "source": [
    "data = pd.concat([X_train_over_sampled, y_train_over_sampled], axis=1)"
   ]
  },
  {
   "cell_type": "code",
   "execution_count": 19,
   "metadata": {},
   "outputs": [
    {
     "data": {
      "text/html": [
       "<div>\n",
       "<style scoped>\n",
       "    .dataframe tbody tr th:only-of-type {\n",
       "        vertical-align: middle;\n",
       "    }\n",
       "\n",
       "    .dataframe tbody tr th {\n",
       "        vertical-align: top;\n",
       "    }\n",
       "\n",
       "    .dataframe thead th {\n",
       "        text-align: right;\n",
       "    }\n",
       "</style>\n",
       "<table border=\"1\" class=\"dataframe\">\n",
       "  <thead>\n",
       "    <tr style=\"text-align: right;\">\n",
       "      <th></th>\n",
       "      <th>LOC_BLANK</th>\n",
       "      <th>PERCENT_COMMENTS</th>\n",
       "      <th>PARAMETER_COUNT</th>\n",
       "      <th>CONDITION_COUNT</th>\n",
       "      <th>CYCLOMATIC_DENSITY</th>\n",
       "      <th>DESIGN_COMPLEXITY</th>\n",
       "      <th>DESIGN_DENSITY</th>\n",
       "      <th>ESSENTIAL_COMPLEXITY</th>\n",
       "      <th>NUM_OPERATORS</th>\n",
       "      <th>HALSTEAD_LEVEL</th>\n",
       "      <th>Defective</th>\n",
       "    </tr>\n",
       "  </thead>\n",
       "  <tbody>\n",
       "    <tr>\n",
       "      <th>0</th>\n",
       "      <td>22.000000</td>\n",
       "      <td>31.910000</td>\n",
       "      <td>0.000000</td>\n",
       "      <td>26.000000</td>\n",
       "      <td>0.220000</td>\n",
       "      <td>5.000000</td>\n",
       "      <td>0.630000</td>\n",
       "      <td>1.000000</td>\n",
       "      <td>78.000000</td>\n",
       "      <td>0.070000</td>\n",
       "      <td>1</td>\n",
       "    </tr>\n",
       "    <tr>\n",
       "      <th>1</th>\n",
       "      <td>7.000000</td>\n",
       "      <td>22.220000</td>\n",
       "      <td>0.000000</td>\n",
       "      <td>0.000000</td>\n",
       "      <td>0.140000</td>\n",
       "      <td>1.000000</td>\n",
       "      <td>1.000000</td>\n",
       "      <td>1.000000</td>\n",
       "      <td>30.000000</td>\n",
       "      <td>0.100000</td>\n",
       "      <td>0</td>\n",
       "    </tr>\n",
       "    <tr>\n",
       "      <th>2</th>\n",
       "      <td>10.000000</td>\n",
       "      <td>16.670000</td>\n",
       "      <td>0.000000</td>\n",
       "      <td>4.000000</td>\n",
       "      <td>0.200000</td>\n",
       "      <td>2.000000</td>\n",
       "      <td>1.000000</td>\n",
       "      <td>1.000000</td>\n",
       "      <td>25.000000</td>\n",
       "      <td>0.110000</td>\n",
       "      <td>0</td>\n",
       "    </tr>\n",
       "    <tr>\n",
       "      <th>3</th>\n",
       "      <td>9.000000</td>\n",
       "      <td>37.500000</td>\n",
       "      <td>0.000000</td>\n",
       "      <td>4.000000</td>\n",
       "      <td>0.200000</td>\n",
       "      <td>2.000000</td>\n",
       "      <td>1.000000</td>\n",
       "      <td>1.000000</td>\n",
       "      <td>26.000000</td>\n",
       "      <td>0.110000</td>\n",
       "      <td>0</td>\n",
       "    </tr>\n",
       "    <tr>\n",
       "      <th>4</th>\n",
       "      <td>3.000000</td>\n",
       "      <td>0.000000</td>\n",
       "      <td>0.000000</td>\n",
       "      <td>0.000000</td>\n",
       "      <td>0.250000</td>\n",
       "      <td>1.000000</td>\n",
       "      <td>1.000000</td>\n",
       "      <td>1.000000</td>\n",
       "      <td>8.000000</td>\n",
       "      <td>0.210000</td>\n",
       "      <td>0</td>\n",
       "    </tr>\n",
       "    <tr>\n",
       "      <th>...</th>\n",
       "      <td>...</td>\n",
       "      <td>...</td>\n",
       "      <td>...</td>\n",
       "      <td>...</td>\n",
       "      <td>...</td>\n",
       "      <td>...</td>\n",
       "      <td>...</td>\n",
       "      <td>...</td>\n",
       "      <td>...</td>\n",
       "      <td>...</td>\n",
       "      <td>...</td>\n",
       "    </tr>\n",
       "    <tr>\n",
       "      <th>1556</th>\n",
       "      <td>18.192228</td>\n",
       "      <td>17.399452</td>\n",
       "      <td>0.931606</td>\n",
       "      <td>23.837307</td>\n",
       "      <td>0.108503</td>\n",
       "      <td>3.863213</td>\n",
       "      <td>0.590813</td>\n",
       "      <td>3.329016</td>\n",
       "      <td>607.628991</td>\n",
       "      <td>0.024658</td>\n",
       "      <td>1</td>\n",
       "    </tr>\n",
       "    <tr>\n",
       "      <th>1557</th>\n",
       "      <td>7.983076</td>\n",
       "      <td>26.707495</td>\n",
       "      <td>0.000000</td>\n",
       "      <td>23.355899</td>\n",
       "      <td>0.223728</td>\n",
       "      <td>2.338975</td>\n",
       "      <td>0.257287</td>\n",
       "      <td>4.966151</td>\n",
       "      <td>87.271277</td>\n",
       "      <td>0.030000</td>\n",
       "      <td>1</td>\n",
       "    </tr>\n",
       "    <tr>\n",
       "      <th>1558</th>\n",
       "      <td>4.306986</td>\n",
       "      <td>9.933355</td>\n",
       "      <td>1.000000</td>\n",
       "      <td>4.000000</td>\n",
       "      <td>0.141163</td>\n",
       "      <td>1.423253</td>\n",
       "      <td>0.711627</td>\n",
       "      <td>1.000000</td>\n",
       "      <td>38.153493</td>\n",
       "      <td>0.108465</td>\n",
       "      <td>1</td>\n",
       "    </tr>\n",
       "    <tr>\n",
       "      <th>1559</th>\n",
       "      <td>5.073539</td>\n",
       "      <td>31.747761</td>\n",
       "      <td>0.073539</td>\n",
       "      <td>11.705844</td>\n",
       "      <td>0.171471</td>\n",
       "      <td>1.073539</td>\n",
       "      <td>0.280886</td>\n",
       "      <td>1.000000</td>\n",
       "      <td>34.558766</td>\n",
       "      <td>0.071471</td>\n",
       "      <td>1</td>\n",
       "    </tr>\n",
       "    <tr>\n",
       "      <th>1560</th>\n",
       "      <td>6.000000</td>\n",
       "      <td>12.328167</td>\n",
       "      <td>1.000000</td>\n",
       "      <td>4.000000</td>\n",
       "      <td>0.134264</td>\n",
       "      <td>1.000000</td>\n",
       "      <td>0.500000</td>\n",
       "      <td>1.000000</td>\n",
       "      <td>38.429430</td>\n",
       "      <td>0.100000</td>\n",
       "      <td>1</td>\n",
       "    </tr>\n",
       "  </tbody>\n",
       "</table>\n",
       "<p>1561 rows × 11 columns</p>\n",
       "</div>"
      ],
      "text/plain": [
       "      LOC_BLANK  PERCENT_COMMENTS  PARAMETER_COUNT  CONDITION_COUNT  \\\n",
       "0     22.000000         31.910000         0.000000        26.000000   \n",
       "1      7.000000         22.220000         0.000000         0.000000   \n",
       "2     10.000000         16.670000         0.000000         4.000000   \n",
       "3      9.000000         37.500000         0.000000         4.000000   \n",
       "4      3.000000          0.000000         0.000000         0.000000   \n",
       "...         ...               ...              ...              ...   \n",
       "1556  18.192228         17.399452         0.931606        23.837307   \n",
       "1557   7.983076         26.707495         0.000000        23.355899   \n",
       "1558   4.306986          9.933355         1.000000         4.000000   \n",
       "1559   5.073539         31.747761         0.073539        11.705844   \n",
       "1560   6.000000         12.328167         1.000000         4.000000   \n",
       "\n",
       "      CYCLOMATIC_DENSITY  DESIGN_COMPLEXITY  DESIGN_DENSITY  \\\n",
       "0               0.220000           5.000000        0.630000   \n",
       "1               0.140000           1.000000        1.000000   \n",
       "2               0.200000           2.000000        1.000000   \n",
       "3               0.200000           2.000000        1.000000   \n",
       "4               0.250000           1.000000        1.000000   \n",
       "...                  ...                ...             ...   \n",
       "1556            0.108503           3.863213        0.590813   \n",
       "1557            0.223728           2.338975        0.257287   \n",
       "1558            0.141163           1.423253        0.711627   \n",
       "1559            0.171471           1.073539        0.280886   \n",
       "1560            0.134264           1.000000        0.500000   \n",
       "\n",
       "      ESSENTIAL_COMPLEXITY  NUM_OPERATORS  HALSTEAD_LEVEL  Defective  \n",
       "0                 1.000000      78.000000        0.070000          1  \n",
       "1                 1.000000      30.000000        0.100000          0  \n",
       "2                 1.000000      25.000000        0.110000          0  \n",
       "3                 1.000000      26.000000        0.110000          0  \n",
       "4                 1.000000       8.000000        0.210000          0  \n",
       "...                    ...            ...             ...        ...  \n",
       "1556              3.329016     607.628991        0.024658          1  \n",
       "1557              4.966151      87.271277        0.030000          1  \n",
       "1558              1.000000      38.153493        0.108465          1  \n",
       "1559              1.000000      34.558766        0.071471          1  \n",
       "1560              1.000000      38.429430        0.100000          1  \n",
       "\n",
       "[1561 rows x 11 columns]"
      ]
     },
     "execution_count": 19,
     "metadata": {},
     "output_type": "execute_result"
    }
   ],
   "source": [
    "data"
   ]
  },
  {
   "cell_type": "code",
   "execution_count": 20,
   "metadata": {},
   "outputs": [],
   "source": [
    "# save the dataset for c5\n",
    "filename = 'pc4.csv'\n",
    "data.to_csv('data/cleaned/expr2/{}'.format(filename),sep=',')"
   ]
  },
  {
   "cell_type": "code",
   "execution_count": 116,
   "metadata": {},
   "outputs": [],
   "source": [
    "# Model construction"
   ]
  },
  {
   "cell_type": "code",
   "execution_count": 16,
   "metadata": {},
   "outputs": [
    {
     "name": "stdout",
     "output_type": "stream",
     "text": [
      "Train: (1092, 10) (1092,) Test: (235, 10) (235,) Cross Validation (234, 10) (234,)\n"
     ]
    }
   ],
   "source": [
    "validation_size = 0.3\n",
    "random_seed=7\n",
    "\n",
    "from sklearn.model_selection import train_test_split\n",
    "X_train_over_sampled, X_test_over_sampled, y_train_over_sampled, y_test_over_sampled = train_test_split(X_train_over_sampled, y_train_over_sampled, test_size=0.3,random_state=7)\n",
    "X_cv_over_sampled, X_test_over_sampled, y_cv_over_sampled, y_test_over_sampled = train_test_split(X_test_over_sampled, y_test_over_sampled, test_size=0.5)\n",
    "print(\"Train:\", X_train_over_sampled.shape, y_train_over_sampled.shape,\n",
    "      \"Test:\", X_test_over_sampled.shape, y_test_over_sampled.shape,\n",
    "      \"Cross Validation\", X_cv_over_sampled.shape, y_cv_over_sampled.shape)\n"
   ]
  },
  {
   "cell_type": "code",
   "execution_count": 18,
   "metadata": {},
   "outputs": [],
   "source": [
    "def Modeler(model, X_train, y_train, X_cv, y_cv, params, scale=False, n_jobs=True, pca=False):\n",
    "    \n",
    "    if scale & pca:\n",
    "        pipeline = Pipeline([\n",
    "            ('scale', StandardScaler()),\n",
    "            ('dim_reduct', PCA(n_components=4)),\n",
    "            ('clf', model())])\n",
    "        print(\"Scaling and dim reduct...\")\n",
    "        \n",
    "    elif scale:\n",
    "        pipeline = Pipeline([ ('scale', StandardScaler()), ('clf', model())])\n",
    "        \n",
    "    elif pca:\n",
    "        pipeline = Pipeline([\n",
    "        ('dim_reduct', PCA(n_components=pca)),\n",
    "        ('clf', model())])\n",
    "    else:\n",
    "        pipeline = Pipeline([('clf', model())])\n",
    "        \n",
    "    grid = GridSearchCV(pipeline, param_grid = params, cv=5, n_jobs=4, refit=True)\n",
    "    grid.fit(X_cv, y_cv)\n",
    "    \n",
    "    best_prameters = {}\n",
    "    for k, v in grid.best_params_.items():\n",
    "        best_prameters[k[5:]] = v\n",
    "\n",
    "    if n_jobs:\n",
    "        model = model(**best_prameters, n_jobs=4)\n",
    "    else:\n",
    "        model = model(**best_prameters)\n",
    "   \n",
    "    model.fit(X_train, y_train)\n",
    "    \n",
    "    print(\"Best Parameters for model:\", best_prameters)\n",
    "\n",
    "    return {\n",
    "        \"model\": model, \n",
    "        \"best_params\":best_prameters\n",
    "    }"
   ]
  },
  {
   "cell_type": "code",
   "execution_count": 19,
   "metadata": {},
   "outputs": [],
   "source": [
    "# metrics method\n",
    "def metrics_calculate(model_name, y_val, y_pred):\n",
    "    '''\n",
    "    0. basic metrics values ['accuracy', 'precision', 'recall', 'fpr', 'fnr', 'auc']\n",
    "    1. classification report\n",
    "    2. confusion matrix\n",
    "    '''\n",
    "    y_val = np.reshape(y_val, -1).astype(np.int32)\n",
    "    y_pred = np.where(np.reshape(y_pred, -1) > 0.5, 1, 0)\n",
    "    accuracy = accuracy_score(y_val, y_pred)\n",
    "    precision = precision_score(y_val, y_pred)\n",
    "    recall = recall_score(y_val, y_pred)\n",
    "    tn, fp, fn, tp = confusion_matrix(y_val, y_pred,labels=[0,1]).ravel()\n",
    "    fpr = fp / (tn + fp)\n",
    "    fnr = fn / (tp + fn)\n",
    "    auc = roc_auc_score(y_val, y_pred)\n",
    "    print('Model:%s Acc:%.8f Prec:%.8f Recall:%.8f FNR:%.8f FPR:%.8f AUC:%.8f' % (model_name, accuracy, precision, recall, fnr, fpr, auc))\n",
    "    print(model_name, 'classification report:\\n', classification_report(y_val, y_pred))\n",
    "    print(model_name, 'confusion_matrix:\\n', confusion_matrix(y_val, y_pred))\n",
    "    print('\\n%s FNR:%.8f FPR:%.8f\\n%s accuracy:%.8f' % (model_name, fnr, fpr, model_name, accuracy_score(y_pred,y_val)))"
   ]
  },
  {
   "cell_type": "code",
   "execution_count": 20,
   "metadata": {},
   "outputs": [],
   "source": [
    "def model_eval(model, X_test, y_test, acc=True, recall_=True, auc_=True, plot_conf=True, plot_auc=True, f1=True, prop=False):\n",
    "    \n",
    "    res = [None, None, None, None] # Accuracy, auc_roc, f1_score, recall\n",
    "    y_pred = model.predict(X_test)\n",
    "    \n",
    "    if prop:\n",
    "        y_pred = np.where(y_pred > 0.5, 1, 0)\n",
    "    \n",
    "    if f1:\n",
    "        f_sc = f1_score(y_test, y_pred, average='macro')\n",
    "        res[2] = f_sc\n",
    "        \n",
    "    if acc:\n",
    "        res[0] = accuracy_score(y_test, y_pred)\n",
    "        print('accuracy:', res[0] * 100 ,'%')\n",
    "              \n",
    "    if recall_:\n",
    "        res[3]= recall_score(y_test, y_pred, average='macro')\n",
    "        print('recall:', res[3] * 100 ,'%')\n",
    "              \n",
    "    if auc_:\n",
    "        lb = LabelBinarizer()\n",
    "        lb.fit(y_test)\n",
    "\n",
    "        truth = lb.transform(y_test)\n",
    "        y_pred_encode = lb.transform(y_pred)\n",
    "              \n",
    "        res[1] = roc_auc_score(truth, y_pred_encode, average = 'macro')\n",
    "        print('ROC:', res[1] * 100 ,'%')\n",
    "              \n",
    "    if plot_conf:\n",
    "        fig, ax = plt.subplots(figsize=(10,6))\n",
    "\n",
    "        conf = confusion_matrix(y_test, y_pred, labels=np.unique(y_test))\n",
    "        sns.heatmap(conf, cmap= 'Set1', annot=True, cbar=False)\n",
    "        plt.ylabel('Actual')\n",
    "        plt.xlabel('Predicted')\n",
    "        plt.title('Confusion Matrix');\n",
    "    \n",
    "    if plot_auc:\n",
    "        fig, ax = plt.subplots(figsize=(10,6))\n",
    "\n",
    "        if not auc_:\n",
    "            lb = LabelBinarizer()\n",
    "            lb.fit(y_test)\n",
    "\n",
    "            truth = lb.transform(y_test)\n",
    "            y_pred_encode = lb.transform(y_pred)\n",
    "\n",
    "        fpr = [None, None, None]\n",
    "        tpr = [None, None, None]\n",
    "        auc_of_roc = [None, None, None]\n",
    "        \n",
    "        #n_classes = (0, 1)\n",
    "        \n",
    "        for i in range(0,1):\n",
    "            fpr[i], tpr[i], _ = roc_curve(truth[:, i], y_pred_encode[:, i])\n",
    "            auc_of_roc[i] = auc(fpr[i], tpr[i])\n",
    "            \n",
    "        plt.plot(fpr[0], tpr[0], label='0 - area under ROC = %0.3f' % auc_of_roc[0])\n",
    "\n",
    "        plt.xlabel('False Positive Rate')\n",
    "        plt.ylabel('True Positive Rate')\n",
    "        plt.title(\"ROC AUC\");\n",
    "        plt.legend()\n",
    "\n",
    "    return res"
   ]
  },
  {
   "cell_type": "code",
   "execution_count": 22,
   "metadata": {},
   "outputs": [],
   "source": [
    "scores = {}"
   ]
  },
  {
   "cell_type": "code",
   "execution_count": 85,
   "metadata": {},
   "outputs": [],
   "source": [
    "# classifiers after removing multi columnary and over sampling"
   ]
  },
  {
   "cell_type": "code",
   "execution_count": 23,
   "metadata": {},
   "outputs": [
    {
     "name": "stdout",
     "output_type": "stream",
     "text": [
      "Best Parameters for model: {'learning_rate': 1.0, 'n_estimators': 200}\n"
     ]
    }
   ],
   "source": [
    "# AdaBoostClassifier\n",
    "ada_params = {\n",
    "    'clf__learning_rate': [0.1, 0.5, 1.0],\n",
    "    'clf__n_estimators': [100, 200]\n",
    "}\n",
    "\n",
    "ada = Modeler(AdaBoostClassifier, X_train_over_sampled, y_train_over_sampled, X_cv_over_sampled, y_cv_over_sampled, ada_params, scale=False, n_jobs=False)"
   ]
  },
  {
   "cell_type": "code",
   "execution_count": 24,
   "metadata": {},
   "outputs": [
    {
     "name": "stdout",
     "output_type": "stream",
     "text": [
      "accuracy: 91.06382978723404 %\n",
      "recall: 84.84042553191489 %\n",
      "ROC: 84.8404255319149 %\n"
     ]
    },
    {
     "data": {
      "image/png": "[encoded data removed]",
      "text/plain": [
       "<Figure size 720x432 with 1 Axes>"
      ]
     },
     "metadata": {},
     "output_type": "display_data"
    },
    {
     "data": {
      "image/png": "[encoded data removed]",
      "text/plain": [
       "<Figure size 720x432 with 1 Axes>"
      ]
     },
     "metadata": {},
     "output_type": "display_data"
    }
   ],
   "source": [
    "model_scoring = model_eval(ada[\"model\"], X_test_over_sampled, y_test_over_sampled)\n",
    "scores[\"AdaBoost Classifier | Binary\"] = {\"Accuracy\": '{0:.2f}'.format(round(model_scoring[0], 4)*100),\n",
    "                             \"ROC\": '{0:.2f}'.format(round(model_scoring[1],4)*100),\n",
    "                             \"F1-Score\": '{0:.2f}'.format(round(model_scoring[2],4)*100),\n",
    "                             \"Recall-Score\": '{0:.2f}'.format(round(model_scoring[3],4)*100)}"
   ]
  },
  {
   "cell_type": "code",
   "execution_count": 25,
   "metadata": {},
   "outputs": [
    {
     "data": {
      "image/png": "[encoded data removed]",
      "text/plain": [
       "<Figure size 432x288 with 1 Axes>"
      ]
     },
     "metadata": {},
     "output_type": "display_data"
    }
   ],
   "source": [
    "ROC_curve = plot_roc_curve(ada[\"model\"], X_test_over_sampled, y_test_over_sampled)\n",
    "scores[\"AdaBoost Classifier | Binary\"][\"AUC\"] = '{0:.2f}'.format(round(ROC_curve.roc_auc,4)*100)"
   ]
  },
  {
   "cell_type": "code",
   "execution_count": 127,
   "metadata": {},
   "outputs": [],
   "source": [
    "#xgboost"
   ]
  },
  {
   "cell_type": "code",
   "execution_count": 26,
   "metadata": {},
   "outputs": [
    {
     "name": "stdout",
     "output_type": "stream",
     "text": [
      "[11:41:15] WARNING: C:/Users/Administrator/workspace/xgboost-win64_release_1.5.1/src/learner.cc:1115: Starting in XGBoost 1.3.0, the default evaluation metric used with the objective 'binary:logistic' was changed from 'error' to 'logloss'. Explicitly set eval_metric if you'd like to restore the old behavior.\n",
      "[11:41:16] WARNING: C:/Users/Administrator/workspace/xgboost-win64_release_1.5.1/src/learner.cc:1115: Starting in XGBoost 1.3.0, the default evaluation metric used with the objective 'binary:logistic' was changed from 'error' to 'logloss'. Explicitly set eval_metric if you'd like to restore the old behavior.\n",
      "Best Parameters for model: {'colsample_bytree': 0.8, 'learning_rate': 0.1, 'max_depth': 8, 'n_estimators': 200, 'reg_alpha': 1.1, 'subsample': 0.8}\n"
     ]
    }
   ],
   "source": [
    "xg_params = {\n",
    "    'clf__max_depth': [8, 9],\n",
    "    'clf__learning_rate': [0.1],\n",
    "    'clf__n_estimators':[200],\n",
    "    'clf__reg_alpha':[1.1],\n",
    "    'clf__colsample_bytree':[0.8],\n",
    "    'clf__subsample':[0.8, 0.9,],\n",
    "}\n",
    "\n",
    "xgboost = Modeler(XGBClassifier, X_train_over_sampled, y_train_over_sampled, X_cv_over_sampled, y_cv_over_sampled, xg_params, scale=False, n_jobs=5)"
   ]
  },
  {
   "cell_type": "code",
   "execution_count": 27,
   "metadata": {},
   "outputs": [
    {
     "name": "stdout",
     "output_type": "stream",
     "text": [
      "accuracy: 94.8936170212766 %\n",
      "recall: 92.02127659574468 %\n",
      "ROC: 92.02127659574468 %\n"
     ]
    },
    {
     "data": {
      "image/png": "[encoded data removed]",
      "text/plain": [
       "<Figure size 720x432 with 1 Axes>"
      ]
     },
     "metadata": {},
     "output_type": "display_data"
    },
    {
     "data": {
      "image/png": "[encoded data removed]",
      "text/plain": [
       "<Figure size 720x432 with 1 Axes>"
      ]
     },
     "metadata": {},
     "output_type": "display_data"
    }
   ],
   "source": [
    "model_scoring = model_eval(xgboost[\"model\"], X_test_over_sampled, y_test_over_sampled)\n",
    "scores[\"XGBoost | Binary\"] = {\"Accuracy\": '{0:.2f}'.format(round(model_scoring[0], 4)*100),\n",
    "                              \"ROC\": '{0:.2f}'.format(round(model_scoring[1],4)*100),\n",
    "                              \"F1-Score\": '{0:.2f}'.format(round(model_scoring[2],4)*100),\n",
    "                              \"Recall-Score\": '{0:.2f}'.format(round(model_scoring[3],4)*100)}\n"
   ]
  },
  {
   "cell_type": "code",
   "execution_count": 28,
   "metadata": {},
   "outputs": [
    {
     "data": {
      "image/png": "[encoded data removed]",
      "text/plain": [
       "<Figure size 432x288 with 1 Axes>"
      ]
     },
     "metadata": {},
     "output_type": "display_data"
    }
   ],
   "source": [
    "ROC_curve = plot_roc_curve(xgboost[\"model\"], X_test_over_sampled, y_test_over_sampled)\n",
    "scores[\"XGBoost | Binary\"][\"AUC\"] = '{0:.2f}'.format(round(ROC_curve.roc_auc,4)*100)"
   ]
  },
  {
   "cell_type": "code",
   "execution_count": null,
   "metadata": {},
   "outputs": [],
   "source": [
    "# Random Forest"
   ]
  },
  {
   "cell_type": "code",
   "execution_count": 29,
   "metadata": {},
   "outputs": [
    {
     "name": "stdout",
     "output_type": "stream",
     "text": [
      "Best Parameters for model: {'criterion': 'entropy', 'max_depth': 20, 'max_features': 1.0, 'n_estimators': 200}\n"
     ]
    }
   ],
   "source": [
    "rfc_params = {\n",
    "    'clf__n_estimators'      : [200, 500],\n",
    "    'clf__max_depth'         : [10, 20],\n",
    "    'clf__max_features': [1.0, 0.7, 0.4],\n",
    "    'clf__criterion' :['gini', 'entropy']\n",
    "}\n",
    "\n",
    "rfc = Modeler(RandomForestClassifier, X_train_over_sampled, y_train_over_sampled, X_cv_over_sampled, y_cv_over_sampled, rfc_params, scale=False) "
   ]
  },
  {
   "cell_type": "code",
   "execution_count": 30,
   "metadata": {},
   "outputs": [
    {
     "name": "stdout",
     "output_type": "stream",
     "text": [
      "accuracy: 92.34042553191489 %\n",
      "recall: 88.82978723404256 %\n",
      "ROC: 88.82978723404256 %\n"
     ]
    },
    {
     "data": {
      "image/png": "[encoded data removed]",
      "text/plain": [
       "<Figure size 720x432 with 1 Axes>"
      ]
     },
     "metadata": {},
     "output_type": "display_data"
    },
    {
     "data": {
      "image/png": "[encoded data removed]",
      "text/plain": [
       "<Figure size 720x432 with 1 Axes>"
      ]
     },
     "metadata": {},
     "output_type": "display_data"
    }
   ],
   "source": [
    "model_scoring = model_eval(rfc[\"model\"], X_test_over_sampled, y_test_over_sampled)\n",
    "scores[\"Random Forest | Binary\"] = {\"Accuracy\": '{0:.2f}'.format(round(model_scoring[0], 4)*100),\n",
    "                             \"ROC\": '{0:.2f}'.format(round(model_scoring[1],4)*100),\n",
    "                             \"F1-Score\": '{0:.2f}'.format(round(model_scoring[2],4)*100),\n",
    "                             \"Recall-Score\": '{0:.2f}'.format(round(model_scoring[3],4)*100)}"
   ]
  },
  {
   "cell_type": "code",
   "execution_count": 31,
   "metadata": {},
   "outputs": [
    {
     "data": {
      "image/png": "[encoded data removed]",
      "text/plain": [
       "<Figure size 432x288 with 1 Axes>"
      ]
     },
     "metadata": {},
     "output_type": "display_data"
    }
   ],
   "source": [
    "ROC_curve = plot_roc_curve(rfc[\"model\"], X_test_over_sampled, y_test_over_sampled)\n",
    "scores[\"Random Forest | Binary\"][\"AUC\"] = '{0:.2f}'.format(round(ROC_curve.roc_auc,4)*100)"
   ]
  },
  {
   "cell_type": "code",
   "execution_count": 136,
   "metadata": {},
   "outputs": [],
   "source": [
    "# SVC"
   ]
  },
  {
   "cell_type": "code",
   "execution_count": 32,
   "metadata": {},
   "outputs": [
    {
     "name": "stdout",
     "output_type": "stream",
     "text": [
      "Best Parameters for model: {'C': 0.1, 'gamma': 1, 'kernel': 'linear'}\n"
     ]
    }
   ],
   "source": [
    "svc_params = {\n",
    "    'clf__C': [0.1, 1],\n",
    "    'clf__kernel': ['linear','rbf'],\n",
    "    'clf__gamma':[1, 0.01]\n",
    "}\n",
    "\n",
    "svc = Modeler(SVC, X_train_over_sampled, y_train_over_sampled, X_cv_over_sampled, y_cv_over_sampled, svc_params, scale=False, n_jobs=False)"
   ]
  },
  {
   "cell_type": "code",
   "execution_count": 33,
   "metadata": {},
   "outputs": [
    {
     "name": "stdout",
     "output_type": "stream",
     "text": [
      "accuracy: 82.5531914893617 %\n",
      "recall: 61.170212765957444 %\n",
      "ROC: 61.170212765957444 %\n"
     ]
    },
    {
     "data": {
      "image/png": "[encoded data removed]",
      "text/plain": [
       "<Figure size 720x432 with 1 Axes>"
      ]
     },
     "metadata": {},
     "output_type": "display_data"
    },
    {
     "data": {
      "image/png": "[encoded data removed]",
      "text/plain": [
       "<Figure size 720x432 with 1 Axes>"
      ]
     },
     "metadata": {},
     "output_type": "display_data"
    }
   ],
   "source": [
    "model_scoring = model_eval(svc[\"model\"], X_test_over_sampled, y_test_over_sampled)\n",
    "scores[\"Support-Vector Machine | Binary\"] = {\"Accuracy\": '{0:.2f}'.format(round(model_scoring[0], 4)*100),\n",
    "                             \"ROC\": '{0:.2f}'.format(round(model_scoring[1],4)*100),\n",
    "                             \"F1-Score\": '{0:.2f}'.format(round(model_scoring[2],4)*100),\n",
    "                             \"Recall-Score\": '{0:.2f}'.format(round(model_scoring[3],4)*100)}"
   ]
  },
  {
   "cell_type": "code",
   "execution_count": 34,
   "metadata": {},
   "outputs": [
    {
     "data": {
      "image/png": "[encoded data removed]",
      "text/plain": [
       "<Figure size 432x288 with 1 Axes>"
      ]
     },
     "metadata": {},
     "output_type": "display_data"
    }
   ],
   "source": [
    "ROC_curve = plot_roc_curve(svc[\"model\"], X_test_over_sampled, y_test_over_sampled)\n",
    "scores[\"Support-Vector Machine | Binary\"][\"AUC\"] = '{0:.2f}'.format(round(ROC_curve.roc_auc,4)*100)"
   ]
  },
  {
   "cell_type": "code",
   "execution_count": null,
   "metadata": {},
   "outputs": [],
   "source": [
    "# naive_bayes"
   ]
  },
  {
   "cell_type": "code",
   "execution_count": 35,
   "metadata": {},
   "outputs": [
    {
     "name": "stdout",
     "output_type": "stream",
     "text": [
      "Best Parameters for model: {}\n"
     ]
    }
   ],
   "source": [
    "naive_bayes = Modeler(GaussianNB, X_train_over_sampled, y_train_over_sampled, X_cv_over_sampled, y_cv_over_sampled,params={}, scale=False, n_jobs=False)"
   ]
  },
  {
   "cell_type": "code",
   "execution_count": 36,
   "metadata": {},
   "outputs": [
    {
     "name": "stdout",
     "output_type": "stream",
     "text": [
      "accuracy: 73.61702127659574 %\n",
      "recall: 73.93617021276594 %\n",
      "ROC: 73.93617021276594 %\n"
     ]
    },
    {
     "data": {
      "image/png": "[encoded data removed]",
      "text/plain": [
       "<Figure size 720x432 with 1 Axes>"
      ]
     },
     "metadata": {},
     "output_type": "display_data"
    },
    {
     "data": {
      "image/png": "[encoded data removed]",
      "text/plain": [
       "<Figure size 720x432 with 1 Axes>"
      ]
     },
     "metadata": {},
     "output_type": "display_data"
    }
   ],
   "source": [
    "model_scoring = model_eval(naive_bayes[\"model\"], X_test_over_sampled, y_test_over_sampled)\n",
    "scores[\"Naive Bayes | Binary\"] = {\"Accuracy\": '{0:.2f}'.format(round(model_scoring[0], 4)*100),\n",
    "                             \"ROC\": '{0:.2f}'.format(round(model_scoring[1],4)*100),\n",
    "                             \"F1-Score\": '{0:.2f}'.format(round(model_scoring[2],4)*100),\n",
    "                              \"Recall-Score\": '{0:.2f}'.format(round(model_scoring[3],4)*100)}"
   ]
  },
  {
   "cell_type": "code",
   "execution_count": 37,
   "metadata": {},
   "outputs": [
    {
     "data": {
      "image/png": "[encoded data removed]",
      "text/plain": [
       "<Figure size 432x288 with 1 Axes>"
      ]
     },
     "metadata": {},
     "output_type": "display_data"
    }
   ],
   "source": [
    "ROC_curve = plot_roc_curve(naive_bayes[\"model\"], X_cv_over_sampled, y_cv_over_sampled)\n",
    "scores[\"Naive Bayes | Binary\"][\"AUC\"] = '{0:.2f}'.format(round(ROC_curve.roc_auc,4)*100)"
   ]
  },
  {
   "cell_type": "code",
   "execution_count": 44,
   "metadata": {},
   "outputs": [],
   "source": [
    "# Model Evaluation Comparision '%'"
   ]
  },
  {
   "cell_type": "code",
   "execution_count": 38,
   "metadata": {},
   "outputs": [],
   "source": [
    "score_df = pd.DataFrame.from_dict(scores).T\n",
    "score_df= score_df.sort_values('Accuracy', ascending=False)"
   ]
  },
  {
   "cell_type": "code",
   "execution_count": 39,
   "metadata": {},
   "outputs": [
    {
     "data": {
      "text/html": [
       "<div>\n",
       "<style scoped>\n",
       "    .dataframe tbody tr th:only-of-type {\n",
       "        vertical-align: middle;\n",
       "    }\n",
       "\n",
       "    .dataframe tbody tr th {\n",
       "        vertical-align: top;\n",
       "    }\n",
       "\n",
       "    .dataframe thead th {\n",
       "        text-align: right;\n",
       "    }\n",
       "</style>\n",
       "<table border=\"1\" class=\"dataframe\">\n",
       "  <thead>\n",
       "    <tr style=\"text-align: right;\">\n",
       "      <th></th>\n",
       "      <th>Accuracy</th>\n",
       "      <th>ROC</th>\n",
       "      <th>F1-Score</th>\n",
       "      <th>Recall-Score</th>\n",
       "      <th>AUC</th>\n",
       "    </tr>\n",
       "  </thead>\n",
       "  <tbody>\n",
       "    <tr>\n",
       "      <th>XGBoost | Binary</th>\n",
       "      <td>94.89</td>\n",
       "      <td>92.02</td>\n",
       "      <td>92.02</td>\n",
       "      <td>92.02</td>\n",
       "      <td>96.07</td>\n",
       "    </tr>\n",
       "    <tr>\n",
       "      <th>Random Forest | Binary</th>\n",
       "      <td>92.34</td>\n",
       "      <td>88.83</td>\n",
       "      <td>88.22</td>\n",
       "      <td>88.83</td>\n",
       "      <td>95.46</td>\n",
       "    </tr>\n",
       "    <tr>\n",
       "      <th>AdaBoost Classifier | Binary</th>\n",
       "      <td>91.06</td>\n",
       "      <td>84.84</td>\n",
       "      <td>85.69</td>\n",
       "      <td>84.84</td>\n",
       "      <td>92.50</td>\n",
       "    </tr>\n",
       "    <tr>\n",
       "      <th>Support-Vector Machine | Binary</th>\n",
       "      <td>82.55</td>\n",
       "      <td>61.17</td>\n",
       "      <td>63.40</td>\n",
       "      <td>61.17</td>\n",
       "      <td>84.37</td>\n",
       "    </tr>\n",
       "    <tr>\n",
       "      <th>Naive Bayes | Binary</th>\n",
       "      <td>73.62</td>\n",
       "      <td>73.94</td>\n",
       "      <td>67.34</td>\n",
       "      <td>73.94</td>\n",
       "      <td>81.88</td>\n",
       "    </tr>\n",
       "  </tbody>\n",
       "</table>\n",
       "</div>"
      ],
      "text/plain": [
       "                                Accuracy    ROC F1-Score Recall-Score    AUC\n",
       "XGBoost | Binary                   94.89  92.02    92.02        92.02  96.07\n",
       "Random Forest | Binary             92.34  88.83    88.22        88.83  95.46\n",
       "AdaBoost Classifier | Binary       91.06  84.84    85.69        84.84  92.50\n",
       "Support-Vector Machine | Binary    82.55  61.17    63.40        61.17  84.37\n",
       "Naive Bayes | Binary               73.62  73.94    67.34        73.94  81.88"
      ]
     },
     "execution_count": 39,
     "metadata": {},
     "output_type": "execute_result"
    }
   ],
   "source": [
    "score_df"
   ]
  },
  {
   "cell_type": "code",
   "execution_count": 123,
   "metadata": {},
   "outputs": [],
   "source": [
    "#feature importance using xgboost"
   ]
  },
  {
   "cell_type": "code",
   "execution_count": 152,
   "metadata": {},
   "outputs": [
    {
     "name": "stdout",
     "output_type": "stream",
     "text": [
      "[19:10:29] WARNING: C:/Users/Administrator/workspace/xgboost-win64_release_1.5.1/src/learner.cc:1115: Starting in XGBoost 1.3.0, the default evaluation metric used with the objective 'binary:logistic' was changed from 'error' to 'logloss'. Explicitly set eval_metric if you'd like to restore the old behavior.\n"
     ]
    },
    {
     "data": {
      "text/plain": [
       "XGBClassifier(base_score=0.5, booster='gbtree', colsample_bylevel=1,\n",
       "              colsample_bynode=1, colsample_bytree=1, enable_categorical=False,\n",
       "              gamma=0, gpu_id=-1, importance_type=None,\n",
       "              interaction_constraints='', learning_rate=0.300000012,\n",
       "              max_delta_step=0, max_depth=6, min_child_weight=1, missing=nan,\n",
       "              monotone_constraints='()', n_estimators=100, n_jobs=4,\n",
       "              num_parallel_tree=1, predictor='auto', random_state=0,\n",
       "              reg_alpha=0, reg_lambda=1, scale_pos_weight=1, subsample=1,\n",
       "              tree_method='exact', validate_parameters=1, verbosity=None)"
      ]
     },
     "execution_count": 152,
     "metadata": {},
     "output_type": "execute_result"
    }
   ],
   "source": [
    "model = XGBClassifier()\n",
    "model.fit(X_train_over_sampled,y_train_over_sampled)"
   ]
  },
  {
   "cell_type": "code",
   "execution_count": 153,
   "metadata": {},
   "outputs": [
    {
     "name": "stdout",
     "output_type": "stream",
     "text": [
      "[0.10278101 0.16066277 0.1322404  0.18246835 0.10620168 0.10247912\n",
      " 0.04859877 0.06730934 0.04976001 0.04749858]\n"
     ]
    }
   ],
   "source": [
    "print(model.feature_importances_)"
   ]
  },
  {
   "cell_type": "code",
   "execution_count": 155,
   "metadata": {},
   "outputs": [
    {
     "data": {
      "text/html": [
       "<div>\n",
       "<style scoped>\n",
       "    .dataframe tbody tr th:only-of-type {\n",
       "        vertical-align: middle;\n",
       "    }\n",
       "\n",
       "    .dataframe tbody tr th {\n",
       "        vertical-align: top;\n",
       "    }\n",
       "\n",
       "    .dataframe thead th {\n",
       "        text-align: right;\n",
       "    }\n",
       "</style>\n",
       "<table border=\"1\" class=\"dataframe\">\n",
       "  <thead>\n",
       "    <tr style=\"text-align: right;\">\n",
       "      <th></th>\n",
       "      <th>0</th>\n",
       "    </tr>\n",
       "  </thead>\n",
       "  <tbody>\n",
       "    <tr>\n",
       "      <th>count</th>\n",
       "      <td>10.000000</td>\n",
       "    </tr>\n",
       "    <tr>\n",
       "      <th>mean</th>\n",
       "      <td>0.100000</td>\n",
       "    </tr>\n",
       "    <tr>\n",
       "      <th>std</th>\n",
       "      <td>0.047801</td>\n",
       "    </tr>\n",
       "    <tr>\n",
       "      <th>min</th>\n",
       "      <td>0.047499</td>\n",
       "    </tr>\n",
       "    <tr>\n",
       "      <th>25%</th>\n",
       "      <td>0.054147</td>\n",
       "    </tr>\n",
       "    <tr>\n",
       "      <th>50%</th>\n",
       "      <td>0.102630</td>\n",
       "    </tr>\n",
       "    <tr>\n",
       "      <th>75%</th>\n",
       "      <td>0.125731</td>\n",
       "    </tr>\n",
       "    <tr>\n",
       "      <th>max</th>\n",
       "      <td>0.182468</td>\n",
       "    </tr>\n",
       "  </tbody>\n",
       "</table>\n",
       "</div>"
      ],
      "text/plain": [
       "               0\n",
       "count  10.000000\n",
       "mean    0.100000\n",
       "std     0.047801\n",
       "min     0.047499\n",
       "25%     0.054147\n",
       "50%     0.102630\n",
       "75%     0.125731\n",
       "max     0.182468"
      ]
     },
     "execution_count": 155,
     "metadata": {},
     "output_type": "execute_result"
    }
   ],
   "source": [
    "features = pd.DataFrame(model.feature_importances_)\n",
    "features.describe()"
   ]
  },
  {
   "cell_type": "code",
   "execution_count": 156,
   "metadata": {},
   "outputs": [
    {
     "data": {
      "image/png": "[encoded data removed]",
      "text/plain": [
       "<Figure size 432x288 with 1 Axes>"
      ]
     },
     "metadata": {},
     "output_type": "display_data"
    }
   ],
   "source": [
    "pyplot.bar(range(len(model.feature_importances_)),model.feature_importances_)\n",
    "pyplot.show()"
   ]
  },
  {
   "cell_type": "code",
   "execution_count": 157,
   "metadata": {},
   "outputs": [
    {
     "name": "stdout",
     "output_type": "stream",
     "text": [
      "('LOC_BLANK', 0.10278101)\n",
      "('PERCENT_COMMENTS', 0.16066277)\n",
      "('PARAMETER_COUNT', 0.1322404)\n",
      "('CONDITION_COUNT', 0.18246835)\n",
      "('CYCLOMATIC_DENSITY', 0.10620168)\n",
      "('DESIGN_COMPLEXITY', 0.10247912)\n",
      "('DESIGN_DENSITY', 0.048598774)\n",
      "('ESSENTIAL_COMPLEXITY', 0.06730934)\n",
      "('NUM_OPERATORS', 0.049760006)\n",
      "('HALSTEAD_LEVEL', 0.047498576)\n"
     ]
    }
   ],
   "source": [
    "for feature in zip(X_train_over_sampled.columns,model.feature_importances_):\n",
    "    print(feature)"
   ]
  },
  {
   "cell_type": "code",
   "execution_count": 167,
   "metadata": {},
   "outputs": [
    {
     "name": "stdout",
     "output_type": "stream",
     "text": [
      "('LOC_BLANK', 0.10278101)\n",
      "('PERCENT_COMMENTS', 0.16066277)\n",
      "('PARAMETER_COUNT', 0.1322404)\n",
      "('CONDITION_COUNT', 0.18246835)\n",
      "('CYCLOMATIC_DENSITY', 0.10620168)\n",
      "('DESIGN_COMPLEXITY', 0.10247912)\n",
      "('ESSENTIAL_COMPLEXITY', 0.06730934)\n"
     ]
    }
   ],
   "source": [
    "feature_list=[];\n",
    "for feature in zip(X_train_over_sampled.columns,model.feature_importances_):\n",
    "    if feature[1] > 0.054:\n",
    "        print(feature)\n",
    "        feature_list.append(feature)"
   ]
  },
  {
   "cell_type": "code",
   "execution_count": null,
   "metadata": {},
   "outputs": [],
   "source": [
    "# ranking features"
   ]
  },
  {
   "cell_type": "code",
   "execution_count": 173,
   "metadata": {
    "scrolled": true
   },
   "outputs": [
    {
     "data": {
      "text/html": [
       "<div>\n",
       "<style scoped>\n",
       "    .dataframe tbody tr th:only-of-type {\n",
       "        vertical-align: middle;\n",
       "    }\n",
       "\n",
       "    .dataframe tbody tr th {\n",
       "        vertical-align: top;\n",
       "    }\n",
       "\n",
       "    .dataframe thead th {\n",
       "        text-align: right;\n",
       "    }\n",
       "</style>\n",
       "<table border=\"1\" class=\"dataframe\">\n",
       "  <thead>\n",
       "    <tr style=\"text-align: right;\">\n",
       "      <th></th>\n",
       "      <th>0</th>\n",
       "      <th>1</th>\n",
       "    </tr>\n",
       "  </thead>\n",
       "  <tbody>\n",
       "    <tr>\n",
       "      <th>0</th>\n",
       "      <td>CONDITION_COUNT</td>\n",
       "      <td>0.182468</td>\n",
       "    </tr>\n",
       "    <tr>\n",
       "      <th>1</th>\n",
       "      <td>PERCENT_COMMENTS</td>\n",
       "      <td>0.160663</td>\n",
       "    </tr>\n",
       "    <tr>\n",
       "      <th>2</th>\n",
       "      <td>PARAMETER_COUNT</td>\n",
       "      <td>0.132240</td>\n",
       "    </tr>\n",
       "    <tr>\n",
       "      <th>3</th>\n",
       "      <td>CYCLOMATIC_DENSITY</td>\n",
       "      <td>0.106202</td>\n",
       "    </tr>\n",
       "    <tr>\n",
       "      <th>4</th>\n",
       "      <td>LOC_BLANK</td>\n",
       "      <td>0.102781</td>\n",
       "    </tr>\n",
       "    <tr>\n",
       "      <th>5</th>\n",
       "      <td>DESIGN_COMPLEXITY</td>\n",
       "      <td>0.102479</td>\n",
       "    </tr>\n",
       "    <tr>\n",
       "      <th>6</th>\n",
       "      <td>ESSENTIAL_COMPLEXITY</td>\n",
       "      <td>0.067309</td>\n",
       "    </tr>\n",
       "  </tbody>\n",
       "</table>\n",
       "</div>"
      ],
      "text/plain": [
       "                      0         1\n",
       "0       CONDITION_COUNT  0.182468\n",
       "1      PERCENT_COMMENTS  0.160663\n",
       "2       PARAMETER_COUNT  0.132240\n",
       "3    CYCLOMATIC_DENSITY  0.106202\n",
       "4             LOC_BLANK  0.102781\n",
       "5     DESIGN_COMPLEXITY  0.102479\n",
       "6  ESSENTIAL_COMPLEXITY  0.067309"
      ]
     },
     "execution_count": 173,
     "metadata": {},
     "output_type": "execute_result"
    }
   ],
   "source": [
    "feature_list.sort(key=lambda item: item[1])\n",
    "feature_list.reverse()\n",
    "features= pd.DataFrame(feature_list)\n",
    "features"
   ]
  },
  {
   "cell_type": "code",
   "execution_count": 174,
   "metadata": {},
   "outputs": [
    {
     "name": "stdout",
     "output_type": "stream",
     "text": [
      "[19:21:31] WARNING: C:/Users/Administrator/workspace/xgboost-win64_release_1.5.1/src/learner.cc:1115: Starting in XGBoost 1.3.0, the default evaluation metric used with the objective 'binary:logistic' was changed from 'error' to 'logloss'. Explicitly set eval_metric if you'd like to restore the old behavior.\n"
     ]
    }
   ],
   "source": [
    "sfm=SelectFromModel(model,threshold=0.054)\n",
    "X_important_train=sfm.fit(X_train_over_sampled,y_train_over_sampled)"
   ]
  },
  {
   "cell_type": "code",
   "execution_count": 175,
   "metadata": {},
   "outputs": [],
   "source": [
    "X_train_important_over_sampled = X_important_train.transform(X_train_over_sampled)"
   ]
  },
  {
   "cell_type": "code",
   "execution_count": 176,
   "metadata": {},
   "outputs": [
    {
     "data": {
      "text/plain": [
       "(1092, 7)"
      ]
     },
     "execution_count": 176,
     "metadata": {},
     "output_type": "execute_result"
    }
   ],
   "source": [
    "X_train_important_over_sampled.shape"
   ]
  },
  {
   "cell_type": "code",
   "execution_count": null,
   "metadata": {},
   "outputs": [],
   "source": [
    "#"
   ]
  },
  {
   "cell_type": "code",
   "execution_count": 179,
   "metadata": {},
   "outputs": [
    {
     "name": "stdout",
     "output_type": "stream",
     "text": [
      "Train: (764, 7) (764,) Test: (164, 7) (164,) Cross Validation (164, 7) (164,)\n"
     ]
    }
   ],
   "source": [
    "validation_size = 0.3\n",
    "random_seed=7\n",
    "\n",
    "from sklearn.model_selection import train_test_split\n",
    "X_train_over_sampled, X_test_over_sampled, y_train_over_sampled, y_test_over_sampled = train_test_split(X_train_important_over_sampled, y_train_over_sampled, test_size=0.3,random_state=7)\n",
    "X_cv_over_sampled, X_test_over_sampled, y_cv_over_sampled, y_test_over_sampled = train_test_split(X_test_over_sampled, y_test_over_sampled, test_size=0.5)\n",
    "print(\"Train:\", X_train_over_sampled.shape, y_train_over_sampled.shape,\n",
    "      \"Test:\", X_test_over_sampled.shape, y_test_over_sampled.shape,\n",
    "      \"Cross Validation\", X_cv_over_sampled.shape, y_cv_over_sampled.shape)"
   ]
  },
  {
   "cell_type": "code",
   "execution_count": 127,
   "metadata": {},
   "outputs": [],
   "source": [
    "#xgboost"
   ]
  },
  {
   "cell_type": "code",
   "execution_count": 181,
   "metadata": {},
   "outputs": [
    {
     "name": "stdout",
     "output_type": "stream",
     "text": [
      "[19:29:58] WARNING: C:/Users/Administrator/workspace/xgboost-win64_release_1.5.1/src/learner.cc:1115: Starting in XGBoost 1.3.0, the default evaluation metric used with the objective 'binary:logistic' was changed from 'error' to 'logloss'. Explicitly set eval_metric if you'd like to restore the old behavior.\n",
      "[19:29:59] WARNING: C:/Users/Administrator/workspace/xgboost-win64_release_1.5.1/src/learner.cc:1115: Starting in XGBoost 1.3.0, the default evaluation metric used with the objective 'binary:logistic' was changed from 'error' to 'logloss'. Explicitly set eval_metric if you'd like to restore the old behavior.\n",
      "Best Parameters for model: {'colsample_bytree': 0.8, 'learning_rate': 0.1, 'max_depth': 8, 'n_estimators': 200, 'reg_alpha': 1.1, 'subsample': 0.8}\n"
     ]
    }
   ],
   "source": [
    "xg_params = {\n",
    "    'clf__max_depth': [8, 9],\n",
    "    'clf__learning_rate': [0.1],\n",
    "    'clf__n_estimators':[200],\n",
    "    'clf__reg_alpha':[1.1],\n",
    "    'clf__colsample_bytree':[0.8],\n",
    "    'clf__subsample':[0.8, 0.9,],\n",
    "}\n",
    "\n",
    "xgboost = Modeler(XGBClassifier, X_train_over_sampled, y_train_over_sampled, X_cv_over_sampled, y_cv_over_sampled, xg_params, scale=False, n_jobs=5)"
   ]
  },
  {
   "cell_type": "code",
   "execution_count": 182,
   "metadata": {},
   "outputs": [
    {
     "name": "stdout",
     "output_type": "stream",
     "text": [
      "accuracy: 86.58536585365853 %\n",
      "ROC: 82.71972760161736 %\n"
     ]
    },
    {
     "data": {
      "image/png": "[encoded data removed]",
      "text/plain": [
       "<Figure size 720x432 with 1 Axes>"
      ]
     },
     "metadata": {},
     "output_type": "display_data"
    },
    {
     "data": {
      "image/png": "[encoded data removed]",
      "text/plain": [
       "<Figure size 720x432 with 1 Axes>"
      ]
     },
     "metadata": {},
     "output_type": "display_data"
    }
   ],
   "source": [
    "model_scoring = model_eval(xgboost[\"model\"], X_test_over_sampled, y_test_over_sampled, multi=False)\n",
    "scores[\"XGBoost | Binary\"] = {\"Accuracy\": '{0:.2f}'.format(round(model_scoring[0], 4)*100),\n",
    "                             \"ROC\": '{0:.2f}'.format(round(model_scoring[1],4)*100),\n",
    "                             \"F1-Score\": '{0:.2f}'.format(round(model_scoring[2],4)*100)}"
   ]
  },
  {
   "cell_type": "code",
   "execution_count": 183,
   "metadata": {},
   "outputs": [
    {
     "data": {
      "image/png": "[encoded data removed]",
      "text/plain": [
       "<Figure size 432x288 with 1 Axes>"
      ]
     },
     "metadata": {},
     "output_type": "display_data"
    }
   ],
   "source": [
    "ROC_curve = plot_roc_curve(xgboost[\"model\"], X_test_over_sampled, y_test_over_sampled)\n",
    "scores[\"XGBoost | Binary\"][\"AUC\"] = '{0:.2f}'.format(round(ROC_curve.roc_auc,4)*100)"
   ]
  }
 ],
 "metadata": {
  "kernelspec": {
   "display_name": "Python 3 (ipykernel)",
   "language": "python",
   "name": "python3"
  },
  "language_info": {
   "codemirror_mode": {
    "name": "ipython",
    "version": 3
   },
   "file_extension": ".py",
   "mimetype": "text/x-python",
   "name": "python",
   "nbconvert_exporter": "python",
   "pygments_lexer": "ipython3",
   "version": "3.7.1"
  }
 },
 "nbformat": 4,
 "nbformat_minor": 2
}
