{
 "cells": [
  {
   "cell_type": "code",
   "execution_count": 1,
   "metadata": {},
   "outputs": [],
   "source": [
    "import pandas as pd\n",
    "import numpy as np\n",
    "import random as rnd\n",
    "from scipy.io.arff import loadarff\n",
    "\n",
    "import seaborn as sns\n",
    "import matplotlib.pyplot as plt\n",
    "plt.rcParams[\"figure.figsize\"] = (8, 5)\n",
    "\n",
    "from sklearn.ensemble import BaggingClassifier\n",
    "\n",
    "from sklearn.linear_model import LogisticRegression\n",
    "from sklearn.svm import SVC, LinearSVC\n",
    "from sklearn.ensemble import RandomForestClassifier\n",
    "from sklearn.neighbors import KNeighborsClassifier\n",
    "from sklearn.naive_bayes import GaussianNB\n",
    "from sklearn.linear_model import Perceptron\n",
    "from sklearn.linear_model import SGDClassifier\n",
    "from sklearn.tree import DecisionTreeClassifier\n",
    "from sklearn.preprocessing import StandardScaler\n",
    "from sklearn.linear_model import Lasso\n",
    "from sklearn.pipeline import Pipeline\n",
    "from sklearn.model_selection import GridSearchCV\n",
    "from sklearn.model_selection import StratifiedKFold\n",
    "\n",
    "from sklearn.ensemble import AdaBoostClassifier\n",
    "from xgboost import XGBClassifier\n",
    "\n",
    "\n",
    "from sklearn.metrics import accuracy_score, roc_auc_score, roc_curve, auc, confusion_matrix, f1_score\n",
    "\n",
    "# model evaluation calculate and score\n",
    "from sklearn.metrics import accuracy_score, recall_score, precision_score, roc_auc_score,  mean_squared_error\n",
    "\n",
    "# plot metrics model answer(metrics)\n",
    "from sklearn.metrics import plot_roc_curve, plot_precision_recall_curve\n",
    "\n",
    "# model evaluation \n",
    "from sklearn.metrics import classification_report, confusion_matrix\n",
    "\n",
    "from sklearn.preprocessing import LabelBinarizer\n",
    "\n",
    "\n",
    "from mpl_toolkits.mplot3d import Axes3D\n",
    "from sklearn.cluster import KMeans\n",
    "from sklearn.dummy import DummyClassifier\n",
    "from sklearn.decomposition import PCA\n",
    "from sklearn.mixture import GaussianMixture\n",
    "#import umap\n",
    "\n",
    "import matplotlib.pyplot as plt\n",
    "%matplotlib inline\n",
    "\n",
    "import seaborn as sns\n",
    "sns.set_style('whitegrid')\n",
    "\n",
    "import warnings\n",
    "warnings.filterwarnings('ignore')\n",
    "\n",
    "from tqdm import tqdm\n",
    "\n",
    "# import some dependencies to plot\n",
    "\n",
    "from plotly.offline import iplot\n",
    "# init_notebook_mode(connected=True)\n",
    "import plotly.graph_objs as go\n",
    "\n",
    "from sklearn.model_selection import train_test_split, KFold, cross_val_score\n",
    "\n",
    "# machine learning model\n",
    "from sklearn.naive_bayes import GaussianNB, MultinomialNB, BernoulliNB\n",
    "from sklearn.linear_model import LinearRegression\n",
    "from sklearn.tree import DecisionTreeClassifier\n",
    "# boosting\n",
    "from xgboost import XGBClassifier\n",
    "from xgboost import plot_importance\n",
    "from matplotlib import pyplot\n",
    "from sklearn.feature_selection import SelectFromModel\n",
    "\n",
    "# Import for VIF\n",
    "from statsmodels.stats.outliers_influence import variance_inflation_factor\n",
    "from statsmodels.tools.tools import add_constant"
   ]
  },
  {
   "cell_type": "code",
   "execution_count": 2,
   "metadata": {},
   "outputs": [
    {
     "data": {
      "text/html": [
       "<div>\n",
       "<style scoped>\n",
       "    .dataframe tbody tr th:only-of-type {\n",
       "        vertical-align: middle;\n",
       "    }\n",
       "\n",
       "    .dataframe tbody tr th {\n",
       "        vertical-align: top;\n",
       "    }\n",
       "\n",
       "    .dataframe thead th {\n",
       "        text-align: right;\n",
       "    }\n",
       "</style>\n",
       "<table border=\"1\" class=\"dataframe\">\n",
       "  <thead>\n",
       "    <tr style=\"text-align: right;\">\n",
       "      <th></th>\n",
       "      <th>LOC_BLANK</th>\n",
       "      <th>BRANCH_COUNT</th>\n",
       "      <th>CALL_PAIRS</th>\n",
       "      <th>LOC_CODE_AND_COMMENT</th>\n",
       "      <th>LOC_COMMENTS</th>\n",
       "      <th>CONDITION_COUNT</th>\n",
       "      <th>CYCLOMATIC_COMPLEXITY</th>\n",
       "      <th>CYCLOMATIC_DENSITY</th>\n",
       "      <th>DECISION_COUNT</th>\n",
       "      <th>DECISION_DENSITY</th>\n",
       "      <th>...</th>\n",
       "      <th>NODE_COUNT</th>\n",
       "      <th>NORMALIZED_CYLOMATIC_COMPLEXITY</th>\n",
       "      <th>NUM_OPERANDS</th>\n",
       "      <th>NUM_OPERATORS</th>\n",
       "      <th>NUM_UNIQUE_OPERANDS</th>\n",
       "      <th>NUM_UNIQUE_OPERATORS</th>\n",
       "      <th>NUMBER_OF_LINES</th>\n",
       "      <th>PERCENT_COMMENTS</th>\n",
       "      <th>LOC_TOTAL</th>\n",
       "      <th>Defective</th>\n",
       "    </tr>\n",
       "  </thead>\n",
       "  <tbody>\n",
       "    <tr>\n",
       "      <th>0</th>\n",
       "      <td>14.0</td>\n",
       "      <td>11.0</td>\n",
       "      <td>4.0</td>\n",
       "      <td>3.0</td>\n",
       "      <td>0.0</td>\n",
       "      <td>20.0</td>\n",
       "      <td>6.0</td>\n",
       "      <td>0.23</td>\n",
       "      <td>10.0</td>\n",
       "      <td>2.0</td>\n",
       "      <td>...</td>\n",
       "      <td>22.0</td>\n",
       "      <td>0.15</td>\n",
       "      <td>51.0</td>\n",
       "      <td>59.0</td>\n",
       "      <td>27.0</td>\n",
       "      <td>15.0</td>\n",
       "      <td>41.0</td>\n",
       "      <td>11.54</td>\n",
       "      <td>26.0</td>\n",
       "      <td>b'N'</td>\n",
       "    </tr>\n",
       "    <tr>\n",
       "      <th>1</th>\n",
       "      <td>6.0</td>\n",
       "      <td>3.0</td>\n",
       "      <td>1.0</td>\n",
       "      <td>1.0</td>\n",
       "      <td>3.0</td>\n",
       "      <td>4.0</td>\n",
       "      <td>2.0</td>\n",
       "      <td>0.50</td>\n",
       "      <td>2.0</td>\n",
       "      <td>2.0</td>\n",
       "      <td>...</td>\n",
       "      <td>5.0</td>\n",
       "      <td>0.14</td>\n",
       "      <td>4.0</td>\n",
       "      <td>7.0</td>\n",
       "      <td>4.0</td>\n",
       "      <td>6.0</td>\n",
       "      <td>14.0</td>\n",
       "      <td>57.14</td>\n",
       "      <td>4.0</td>\n",
       "      <td>b'N'</td>\n",
       "    </tr>\n",
       "    <tr>\n",
       "      <th>2</th>\n",
       "      <td>14.0</td>\n",
       "      <td>19.0</td>\n",
       "      <td>6.0</td>\n",
       "      <td>5.0</td>\n",
       "      <td>12.0</td>\n",
       "      <td>24.0</td>\n",
       "      <td>11.0</td>\n",
       "      <td>0.28</td>\n",
       "      <td>10.0</td>\n",
       "      <td>2.4</td>\n",
       "      <td>...</td>\n",
       "      <td>28.0</td>\n",
       "      <td>0.17</td>\n",
       "      <td>63.0</td>\n",
       "      <td>89.0</td>\n",
       "      <td>33.0</td>\n",
       "      <td>25.0</td>\n",
       "      <td>66.0</td>\n",
       "      <td>33.33</td>\n",
       "      <td>39.0</td>\n",
       "      <td>b'N'</td>\n",
       "    </tr>\n",
       "    <tr>\n",
       "      <th>3</th>\n",
       "      <td>20.0</td>\n",
       "      <td>17.0</td>\n",
       "      <td>2.0</td>\n",
       "      <td>3.0</td>\n",
       "      <td>12.0</td>\n",
       "      <td>20.0</td>\n",
       "      <td>10.0</td>\n",
       "      <td>0.26</td>\n",
       "      <td>8.0</td>\n",
       "      <td>2.5</td>\n",
       "      <td>...</td>\n",
       "      <td>23.0</td>\n",
       "      <td>0.14</td>\n",
       "      <td>47.0</td>\n",
       "      <td>60.0</td>\n",
       "      <td>28.0</td>\n",
       "      <td>23.0</td>\n",
       "      <td>72.0</td>\n",
       "      <td>29.41</td>\n",
       "      <td>39.0</td>\n",
       "      <td>b'N'</td>\n",
       "    </tr>\n",
       "    <tr>\n",
       "      <th>4</th>\n",
       "      <td>6.0</td>\n",
       "      <td>3.0</td>\n",
       "      <td>6.0</td>\n",
       "      <td>1.0</td>\n",
       "      <td>0.0</td>\n",
       "      <td>4.0</td>\n",
       "      <td>2.0</td>\n",
       "      <td>0.18</td>\n",
       "      <td>2.0</td>\n",
       "      <td>2.0</td>\n",
       "      <td>...</td>\n",
       "      <td>10.0</td>\n",
       "      <td>0.11</td>\n",
       "      <td>23.0</td>\n",
       "      <td>25.0</td>\n",
       "      <td>15.0</td>\n",
       "      <td>9.0</td>\n",
       "      <td>18.0</td>\n",
       "      <td>9.09</td>\n",
       "      <td>11.0</td>\n",
       "      <td>b'Y'</td>\n",
       "    </tr>\n",
       "    <tr>\n",
       "      <th>...</th>\n",
       "      <td>...</td>\n",
       "      <td>...</td>\n",
       "      <td>...</td>\n",
       "      <td>...</td>\n",
       "      <td>...</td>\n",
       "      <td>...</td>\n",
       "      <td>...</td>\n",
       "      <td>...</td>\n",
       "      <td>...</td>\n",
       "      <td>...</td>\n",
       "      <td>...</td>\n",
       "      <td>...</td>\n",
       "      <td>...</td>\n",
       "      <td>...</td>\n",
       "      <td>...</td>\n",
       "      <td>...</td>\n",
       "      <td>...</td>\n",
       "      <td>...</td>\n",
       "      <td>...</td>\n",
       "      <td>...</td>\n",
       "      <td>...</td>\n",
       "    </tr>\n",
       "    <tr>\n",
       "      <th>1094</th>\n",
       "      <td>1.0</td>\n",
       "      <td>3.0</td>\n",
       "      <td>0.0</td>\n",
       "      <td>0.0</td>\n",
       "      <td>0.0</td>\n",
       "      <td>4.0</td>\n",
       "      <td>2.0</td>\n",
       "      <td>0.10</td>\n",
       "      <td>2.0</td>\n",
       "      <td>2.0</td>\n",
       "      <td>...</td>\n",
       "      <td>7.0</td>\n",
       "      <td>0.09</td>\n",
       "      <td>121.0</td>\n",
       "      <td>122.0</td>\n",
       "      <td>22.0</td>\n",
       "      <td>8.0</td>\n",
       "      <td>22.0</td>\n",
       "      <td>0.00</td>\n",
       "      <td>20.0</td>\n",
       "      <td>b'N'</td>\n",
       "    </tr>\n",
       "    <tr>\n",
       "      <th>1095</th>\n",
       "      <td>1.0</td>\n",
       "      <td>3.0</td>\n",
       "      <td>0.0</td>\n",
       "      <td>0.0</td>\n",
       "      <td>0.0</td>\n",
       "      <td>4.0</td>\n",
       "      <td>2.0</td>\n",
       "      <td>0.25</td>\n",
       "      <td>2.0</td>\n",
       "      <td>2.0</td>\n",
       "      <td>...</td>\n",
       "      <td>7.0</td>\n",
       "      <td>0.20</td>\n",
       "      <td>23.0</td>\n",
       "      <td>24.0</td>\n",
       "      <td>8.0</td>\n",
       "      <td>8.0</td>\n",
       "      <td>10.0</td>\n",
       "      <td>0.00</td>\n",
       "      <td>8.0</td>\n",
       "      <td>b'N'</td>\n",
       "    </tr>\n",
       "    <tr>\n",
       "      <th>1096</th>\n",
       "      <td>0.0</td>\n",
       "      <td>3.0</td>\n",
       "      <td>0.0</td>\n",
       "      <td>0.0</td>\n",
       "      <td>0.0</td>\n",
       "      <td>4.0</td>\n",
       "      <td>2.0</td>\n",
       "      <td>0.25</td>\n",
       "      <td>2.0</td>\n",
       "      <td>2.0</td>\n",
       "      <td>...</td>\n",
       "      <td>7.0</td>\n",
       "      <td>0.22</td>\n",
       "      <td>23.0</td>\n",
       "      <td>24.0</td>\n",
       "      <td>8.0</td>\n",
       "      <td>8.0</td>\n",
       "      <td>9.0</td>\n",
       "      <td>0.00</td>\n",
       "      <td>8.0</td>\n",
       "      <td>b'N'</td>\n",
       "    </tr>\n",
       "    <tr>\n",
       "      <th>1097</th>\n",
       "      <td>0.0</td>\n",
       "      <td>3.0</td>\n",
       "      <td>0.0</td>\n",
       "      <td>0.0</td>\n",
       "      <td>0.0</td>\n",
       "      <td>4.0</td>\n",
       "      <td>2.0</td>\n",
       "      <td>0.29</td>\n",
       "      <td>2.0</td>\n",
       "      <td>2.0</td>\n",
       "      <td>...</td>\n",
       "      <td>7.0</td>\n",
       "      <td>0.25</td>\n",
       "      <td>17.0</td>\n",
       "      <td>18.0</td>\n",
       "      <td>6.0</td>\n",
       "      <td>8.0</td>\n",
       "      <td>8.0</td>\n",
       "      <td>0.00</td>\n",
       "      <td>7.0</td>\n",
       "      <td>b'N'</td>\n",
       "    </tr>\n",
       "    <tr>\n",
       "      <th>1098</th>\n",
       "      <td>1.0</td>\n",
       "      <td>3.0</td>\n",
       "      <td>1.0</td>\n",
       "      <td>0.0</td>\n",
       "      <td>0.0</td>\n",
       "      <td>4.0</td>\n",
       "      <td>2.0</td>\n",
       "      <td>0.33</td>\n",
       "      <td>2.0</td>\n",
       "      <td>2.0</td>\n",
       "      <td>...</td>\n",
       "      <td>7.0</td>\n",
       "      <td>0.25</td>\n",
       "      <td>10.0</td>\n",
       "      <td>15.0</td>\n",
       "      <td>6.0</td>\n",
       "      <td>11.0</td>\n",
       "      <td>8.0</td>\n",
       "      <td>0.00</td>\n",
       "      <td>6.0</td>\n",
       "      <td>b'N'</td>\n",
       "    </tr>\n",
       "  </tbody>\n",
       "</table>\n",
       "<p>1099 rows × 38 columns</p>\n",
       "</div>"
      ],
      "text/plain": [
       "      LOC_BLANK  BRANCH_COUNT  CALL_PAIRS  LOC_CODE_AND_COMMENT  LOC_COMMENTS  \\\n",
       "0          14.0          11.0         4.0                   3.0           0.0   \n",
       "1           6.0           3.0         1.0                   1.0           3.0   \n",
       "2          14.0          19.0         6.0                   5.0          12.0   \n",
       "3          20.0          17.0         2.0                   3.0          12.0   \n",
       "4           6.0           3.0         6.0                   1.0           0.0   \n",
       "...         ...           ...         ...                   ...           ...   \n",
       "1094        1.0           3.0         0.0                   0.0           0.0   \n",
       "1095        1.0           3.0         0.0                   0.0           0.0   \n",
       "1096        0.0           3.0         0.0                   0.0           0.0   \n",
       "1097        0.0           3.0         0.0                   0.0           0.0   \n",
       "1098        1.0           3.0         1.0                   0.0           0.0   \n",
       "\n",
       "      CONDITION_COUNT  CYCLOMATIC_COMPLEXITY  CYCLOMATIC_DENSITY  \\\n",
       "0                20.0                    6.0                0.23   \n",
       "1                 4.0                    2.0                0.50   \n",
       "2                24.0                   11.0                0.28   \n",
       "3                20.0                   10.0                0.26   \n",
       "4                 4.0                    2.0                0.18   \n",
       "...               ...                    ...                 ...   \n",
       "1094              4.0                    2.0                0.10   \n",
       "1095              4.0                    2.0                0.25   \n",
       "1096              4.0                    2.0                0.25   \n",
       "1097              4.0                    2.0                0.29   \n",
       "1098              4.0                    2.0                0.33   \n",
       "\n",
       "      DECISION_COUNT  DECISION_DENSITY  ...  NODE_COUNT  \\\n",
       "0               10.0               2.0  ...        22.0   \n",
       "1                2.0               2.0  ...         5.0   \n",
       "2               10.0               2.4  ...        28.0   \n",
       "3                8.0               2.5  ...        23.0   \n",
       "4                2.0               2.0  ...        10.0   \n",
       "...              ...               ...  ...         ...   \n",
       "1094             2.0               2.0  ...         7.0   \n",
       "1095             2.0               2.0  ...         7.0   \n",
       "1096             2.0               2.0  ...         7.0   \n",
       "1097             2.0               2.0  ...         7.0   \n",
       "1098             2.0               2.0  ...         7.0   \n",
       "\n",
       "      NORMALIZED_CYLOMATIC_COMPLEXITY  NUM_OPERANDS  NUM_OPERATORS  \\\n",
       "0                                0.15          51.0           59.0   \n",
       "1                                0.14           4.0            7.0   \n",
       "2                                0.17          63.0           89.0   \n",
       "3                                0.14          47.0           60.0   \n",
       "4                                0.11          23.0           25.0   \n",
       "...                               ...           ...            ...   \n",
       "1094                             0.09         121.0          122.0   \n",
       "1095                             0.20          23.0           24.0   \n",
       "1096                             0.22          23.0           24.0   \n",
       "1097                             0.25          17.0           18.0   \n",
       "1098                             0.25          10.0           15.0   \n",
       "\n",
       "      NUM_UNIQUE_OPERANDS  NUM_UNIQUE_OPERATORS  NUMBER_OF_LINES  \\\n",
       "0                    27.0                  15.0             41.0   \n",
       "1                     4.0                   6.0             14.0   \n",
       "2                    33.0                  25.0             66.0   \n",
       "3                    28.0                  23.0             72.0   \n",
       "4                    15.0                   9.0             18.0   \n",
       "...                   ...                   ...              ...   \n",
       "1094                 22.0                   8.0             22.0   \n",
       "1095                  8.0                   8.0             10.0   \n",
       "1096                  8.0                   8.0              9.0   \n",
       "1097                  6.0                   8.0              8.0   \n",
       "1098                  6.0                  11.0              8.0   \n",
       "\n",
       "      PERCENT_COMMENTS  LOC_TOTAL  Defective  \n",
       "0                11.54       26.0       b'N'  \n",
       "1                57.14        4.0       b'N'  \n",
       "2                33.33       39.0       b'N'  \n",
       "3                29.41       39.0       b'N'  \n",
       "4                 9.09       11.0       b'Y'  \n",
       "...                ...        ...        ...  \n",
       "1094              0.00       20.0       b'N'  \n",
       "1095              0.00        8.0       b'N'  \n",
       "1096              0.00        8.0       b'N'  \n",
       "1097              0.00        7.0       b'N'  \n",
       "1098              0.00        6.0       b'N'  \n",
       "\n",
       "[1099 rows x 38 columns]"
      ]
     },
     "execution_count": 2,
     "metadata": {},
     "output_type": "execute_result"
    }
   ],
   "source": [
    "raw_data = loadarff('data/cleaned/pc3.arff')\n",
    "df_data = pd.DataFrame(raw_data[0])\n",
    "df_data"
   ]
  },
  {
   "cell_type": "code",
   "execution_count": 3,
   "metadata": {},
   "outputs": [
    {
     "name": "stdout",
     "output_type": "stream",
     "text": [
      "<class 'pandas.core.frame.DataFrame'>\n",
      "RangeIndex: 1099 entries, 0 to 1098\n",
      "Data columns (total 38 columns):\n",
      " #   Column                           Non-Null Count  Dtype  \n",
      "---  ------                           --------------  -----  \n",
      " 0   LOC_BLANK                        1099 non-null   float64\n",
      " 1   BRANCH_COUNT                     1099 non-null   float64\n",
      " 2   CALL_PAIRS                       1099 non-null   float64\n",
      " 3   LOC_CODE_AND_COMMENT             1099 non-null   float64\n",
      " 4   LOC_COMMENTS                     1099 non-null   float64\n",
      " 5   CONDITION_COUNT                  1099 non-null   float64\n",
      " 6   CYCLOMATIC_COMPLEXITY            1099 non-null   float64\n",
      " 7   CYCLOMATIC_DENSITY               1099 non-null   float64\n",
      " 8   DECISION_COUNT                   1099 non-null   float64\n",
      " 9   DECISION_DENSITY                 1099 non-null   float64\n",
      " 10  DESIGN_COMPLEXITY                1099 non-null   float64\n",
      " 11  DESIGN_DENSITY                   1099 non-null   float64\n",
      " 12  EDGE_COUNT                       1099 non-null   float64\n",
      " 13  ESSENTIAL_COMPLEXITY             1099 non-null   float64\n",
      " 14  ESSENTIAL_DENSITY                1099 non-null   float64\n",
      " 15  LOC_EXECUTABLE                   1099 non-null   float64\n",
      " 16  PARAMETER_COUNT                  1099 non-null   float64\n",
      " 17  HALSTEAD_CONTENT                 1099 non-null   float64\n",
      " 18  HALSTEAD_DIFFICULTY              1099 non-null   float64\n",
      " 19  HALSTEAD_EFFORT                  1099 non-null   float64\n",
      " 20  HALSTEAD_ERROR_EST               1099 non-null   float64\n",
      " 21  HALSTEAD_LENGTH                  1099 non-null   float64\n",
      " 22  HALSTEAD_LEVEL                   1099 non-null   float64\n",
      " 23  HALSTEAD_PROG_TIME               1099 non-null   float64\n",
      " 24  HALSTEAD_VOLUME                  1099 non-null   float64\n",
      " 25  MAINTENANCE_SEVERITY             1099 non-null   float64\n",
      " 26  MODIFIED_CONDITION_COUNT         1099 non-null   float64\n",
      " 27  MULTIPLE_CONDITION_COUNT         1099 non-null   float64\n",
      " 28  NODE_COUNT                       1099 non-null   float64\n",
      " 29  NORMALIZED_CYLOMATIC_COMPLEXITY  1099 non-null   float64\n",
      " 30  NUM_OPERANDS                     1099 non-null   float64\n",
      " 31  NUM_OPERATORS                    1099 non-null   float64\n",
      " 32  NUM_UNIQUE_OPERANDS              1099 non-null   float64\n",
      " 33  NUM_UNIQUE_OPERATORS             1099 non-null   float64\n",
      " 34  NUMBER_OF_LINES                  1099 non-null   float64\n",
      " 35  PERCENT_COMMENTS                 1099 non-null   float64\n",
      " 36  LOC_TOTAL                        1099 non-null   float64\n",
      " 37  Defective                        1099 non-null   object \n",
      "dtypes: float64(37), object(1)\n",
      "memory usage: 326.4+ KB\n"
     ]
    }
   ],
   "source": [
    "df_data.info() #informs about the data (memory usage, data types etc.)"
   ]
  },
  {
   "cell_type": "code",
   "execution_count": 4,
   "metadata": {},
   "outputs": [
    {
     "data": {
      "text/html": [
       "<div>\n",
       "<style scoped>\n",
       "    .dataframe tbody tr th:only-of-type {\n",
       "        vertical-align: middle;\n",
       "    }\n",
       "\n",
       "    .dataframe tbody tr th {\n",
       "        vertical-align: top;\n",
       "    }\n",
       "\n",
       "    .dataframe thead th {\n",
       "        text-align: right;\n",
       "    }\n",
       "</style>\n",
       "<table border=\"1\" class=\"dataframe\">\n",
       "  <thead>\n",
       "    <tr style=\"text-align: right;\">\n",
       "      <th></th>\n",
       "      <th>LOC_BLANK</th>\n",
       "      <th>BRANCH_COUNT</th>\n",
       "      <th>CALL_PAIRS</th>\n",
       "      <th>LOC_CODE_AND_COMMENT</th>\n",
       "      <th>LOC_COMMENTS</th>\n",
       "      <th>CONDITION_COUNT</th>\n",
       "      <th>CYCLOMATIC_COMPLEXITY</th>\n",
       "      <th>CYCLOMATIC_DENSITY</th>\n",
       "      <th>DECISION_COUNT</th>\n",
       "      <th>DECISION_DENSITY</th>\n",
       "      <th>...</th>\n",
       "      <th>MULTIPLE_CONDITION_COUNT</th>\n",
       "      <th>NODE_COUNT</th>\n",
       "      <th>NORMALIZED_CYLOMATIC_COMPLEXITY</th>\n",
       "      <th>NUM_OPERANDS</th>\n",
       "      <th>NUM_OPERATORS</th>\n",
       "      <th>NUM_UNIQUE_OPERANDS</th>\n",
       "      <th>NUM_UNIQUE_OPERATORS</th>\n",
       "      <th>NUMBER_OF_LINES</th>\n",
       "      <th>PERCENT_COMMENTS</th>\n",
       "      <th>LOC_TOTAL</th>\n",
       "    </tr>\n",
       "  </thead>\n",
       "  <tbody>\n",
       "    <tr>\n",
       "      <th>count</th>\n",
       "      <td>1099.000000</td>\n",
       "      <td>1099.000000</td>\n",
       "      <td>1099.000000</td>\n",
       "      <td>1099.000000</td>\n",
       "      <td>1099.000000</td>\n",
       "      <td>1099.000000</td>\n",
       "      <td>1099.000000</td>\n",
       "      <td>1099.000000</td>\n",
       "      <td>1099.000000</td>\n",
       "      <td>1099.000000</td>\n",
       "      <td>...</td>\n",
       "      <td>1099.000000</td>\n",
       "      <td>1099.000000</td>\n",
       "      <td>1099.000000</td>\n",
       "      <td>1099.000000</td>\n",
       "      <td>1099.000000</td>\n",
       "      <td>1099.000000</td>\n",
       "      <td>1099.000000</td>\n",
       "      <td>1099.000000</td>\n",
       "      <td>1099.000000</td>\n",
       "      <td>1099.000000</td>\n",
       "    </tr>\n",
       "    <tr>\n",
       "      <th>mean</th>\n",
       "      <td>8.133758</td>\n",
       "      <td>12.330300</td>\n",
       "      <td>2.866242</td>\n",
       "      <td>1.706096</td>\n",
       "      <td>5.582348</td>\n",
       "      <td>20.145587</td>\n",
       "      <td>6.850773</td>\n",
       "      <td>0.274813</td>\n",
       "      <td>9.393995</td>\n",
       "      <td>2.173549</td>\n",
       "      <td>...</td>\n",
       "      <td>10.161965</td>\n",
       "      <td>22.384895</td>\n",
       "      <td>0.194422</td>\n",
       "      <td>71.347589</td>\n",
       "      <td>87.817106</td>\n",
       "      <td>27.371247</td>\n",
       "      <td>15.095541</td>\n",
       "      <td>44.748863</td>\n",
       "      <td>15.883194</td>\n",
       "      <td>29.515924</td>\n",
       "    </tr>\n",
       "    <tr>\n",
       "      <th>std</th>\n",
       "      <td>10.177896</td>\n",
       "      <td>23.500593</td>\n",
       "      <td>3.125973</td>\n",
       "      <td>3.541077</td>\n",
       "      <td>10.332685</td>\n",
       "      <td>44.146724</td>\n",
       "      <td>12.037340</td>\n",
       "      <td>0.130341</td>\n",
       "      <td>21.381273</td>\n",
       "      <td>0.364159</td>\n",
       "      <td>...</td>\n",
       "      <td>22.203299</td>\n",
       "      <td>40.047583</td>\n",
       "      <td>0.114276</td>\n",
       "      <td>180.614694</td>\n",
       "      <td>222.931647</td>\n",
       "      <td>43.945700</td>\n",
       "      <td>6.320880</td>\n",
       "      <td>59.019159</td>\n",
       "      <td>18.856796</td>\n",
       "      <td>47.644789</td>\n",
       "    </tr>\n",
       "    <tr>\n",
       "      <th>min</th>\n",
       "      <td>0.000000</td>\n",
       "      <td>1.000000</td>\n",
       "      <td>0.000000</td>\n",
       "      <td>0.000000</td>\n",
       "      <td>0.000000</td>\n",
       "      <td>4.000000</td>\n",
       "      <td>1.000000</td>\n",
       "      <td>0.010000</td>\n",
       "      <td>2.000000</td>\n",
       "      <td>2.000000</td>\n",
       "      <td>...</td>\n",
       "      <td>2.000000</td>\n",
       "      <td>2.000000</td>\n",
       "      <td>0.010000</td>\n",
       "      <td>2.000000</td>\n",
       "      <td>5.000000</td>\n",
       "      <td>2.000000</td>\n",
       "      <td>4.000000</td>\n",
       "      <td>4.000000</td>\n",
       "      <td>0.000000</td>\n",
       "      <td>3.000000</td>\n",
       "    </tr>\n",
       "    <tr>\n",
       "      <th>25%</th>\n",
       "      <td>1.000000</td>\n",
       "      <td>5.000000</td>\n",
       "      <td>1.000000</td>\n",
       "      <td>0.000000</td>\n",
       "      <td>0.000000</td>\n",
       "      <td>6.000000</td>\n",
       "      <td>3.000000</td>\n",
       "      <td>0.180000</td>\n",
       "      <td>2.000000</td>\n",
       "      <td>2.000000</td>\n",
       "      <td>...</td>\n",
       "      <td>3.000000</td>\n",
       "      <td>9.000000</td>\n",
       "      <td>0.100000</td>\n",
       "      <td>18.000000</td>\n",
       "      <td>24.000000</td>\n",
       "      <td>10.000000</td>\n",
       "      <td>11.000000</td>\n",
       "      <td>14.000000</td>\n",
       "      <td>0.000000</td>\n",
       "      <td>10.000000</td>\n",
       "    </tr>\n",
       "    <tr>\n",
       "      <th>50%</th>\n",
       "      <td>4.000000</td>\n",
       "      <td>7.000000</td>\n",
       "      <td>2.000000</td>\n",
       "      <td>0.000000</td>\n",
       "      <td>1.000000</td>\n",
       "      <td>12.000000</td>\n",
       "      <td>4.000000</td>\n",
       "      <td>0.250000</td>\n",
       "      <td>4.000000</td>\n",
       "      <td>2.000000</td>\n",
       "      <td>...</td>\n",
       "      <td>6.000000</td>\n",
       "      <td>13.000000</td>\n",
       "      <td>0.170000</td>\n",
       "      <td>35.000000</td>\n",
       "      <td>45.000000</td>\n",
       "      <td>17.000000</td>\n",
       "      <td>14.000000</td>\n",
       "      <td>26.000000</td>\n",
       "      <td>8.700000</td>\n",
       "      <td>18.000000</td>\n",
       "    </tr>\n",
       "    <tr>\n",
       "      <th>75%</th>\n",
       "      <td>12.000000</td>\n",
       "      <td>13.000000</td>\n",
       "      <td>4.000000</td>\n",
       "      <td>2.000000</td>\n",
       "      <td>7.000000</td>\n",
       "      <td>20.000000</td>\n",
       "      <td>7.000000</td>\n",
       "      <td>0.330000</td>\n",
       "      <td>10.000000</td>\n",
       "      <td>2.200000</td>\n",
       "      <td>...</td>\n",
       "      <td>10.000000</td>\n",
       "      <td>23.000000</td>\n",
       "      <td>0.260000</td>\n",
       "      <td>71.500000</td>\n",
       "      <td>87.500000</td>\n",
       "      <td>32.000000</td>\n",
       "      <td>18.000000</td>\n",
       "      <td>55.000000</td>\n",
       "      <td>28.285000</td>\n",
       "      <td>32.500000</td>\n",
       "    </tr>\n",
       "    <tr>\n",
       "      <th>max</th>\n",
       "      <td>77.000000</td>\n",
       "      <td>589.000000</td>\n",
       "      <td>24.000000</td>\n",
       "      <td>42.000000</td>\n",
       "      <td>78.000000</td>\n",
       "      <td>1148.000000</td>\n",
       "      <td>299.000000</td>\n",
       "      <td>0.750000</td>\n",
       "      <td>570.000000</td>\n",
       "      <td>5.000000</td>\n",
       "      <td>...</td>\n",
       "      <td>574.000000</td>\n",
       "      <td>963.000000</td>\n",
       "      <td>0.600000</td>\n",
       "      <td>4015.000000</td>\n",
       "      <td>5590.000000</td>\n",
       "      <td>787.000000</td>\n",
       "      <td>68.000000</td>\n",
       "      <td>891.000000</td>\n",
       "      <td>89.470000</td>\n",
       "      <td>817.000000</td>\n",
       "    </tr>\n",
       "  </tbody>\n",
       "</table>\n",
       "<p>8 rows × 37 columns</p>\n",
       "</div>"
      ],
      "text/plain": [
       "         LOC_BLANK  BRANCH_COUNT   CALL_PAIRS  LOC_CODE_AND_COMMENT  \\\n",
       "count  1099.000000   1099.000000  1099.000000           1099.000000   \n",
       "mean      8.133758     12.330300     2.866242              1.706096   \n",
       "std      10.177896     23.500593     3.125973              3.541077   \n",
       "min       0.000000      1.000000     0.000000              0.000000   \n",
       "25%       1.000000      5.000000     1.000000              0.000000   \n",
       "50%       4.000000      7.000000     2.000000              0.000000   \n",
       "75%      12.000000     13.000000     4.000000              2.000000   \n",
       "max      77.000000    589.000000    24.000000             42.000000   \n",
       "\n",
       "       LOC_COMMENTS  CONDITION_COUNT  CYCLOMATIC_COMPLEXITY  \\\n",
       "count   1099.000000      1099.000000            1099.000000   \n",
       "mean       5.582348        20.145587               6.850773   \n",
       "std       10.332685        44.146724              12.037340   \n",
       "min        0.000000         4.000000               1.000000   \n",
       "25%        0.000000         6.000000               3.000000   \n",
       "50%        1.000000        12.000000               4.000000   \n",
       "75%        7.000000        20.000000               7.000000   \n",
       "max       78.000000      1148.000000             299.000000   \n",
       "\n",
       "       CYCLOMATIC_DENSITY  DECISION_COUNT  DECISION_DENSITY  ...  \\\n",
       "count         1099.000000     1099.000000       1099.000000  ...   \n",
       "mean             0.274813        9.393995          2.173549  ...   \n",
       "std              0.130341       21.381273          0.364159  ...   \n",
       "min              0.010000        2.000000          2.000000  ...   \n",
       "25%              0.180000        2.000000          2.000000  ...   \n",
       "50%              0.250000        4.000000          2.000000  ...   \n",
       "75%              0.330000       10.000000          2.200000  ...   \n",
       "max              0.750000      570.000000          5.000000  ...   \n",
       "\n",
       "       MULTIPLE_CONDITION_COUNT   NODE_COUNT  NORMALIZED_CYLOMATIC_COMPLEXITY  \\\n",
       "count               1099.000000  1099.000000                      1099.000000   \n",
       "mean                  10.161965    22.384895                         0.194422   \n",
       "std                   22.203299    40.047583                         0.114276   \n",
       "min                    2.000000     2.000000                         0.010000   \n",
       "25%                    3.000000     9.000000                         0.100000   \n",
       "50%                    6.000000    13.000000                         0.170000   \n",
       "75%                   10.000000    23.000000                         0.260000   \n",
       "max                  574.000000   963.000000                         0.600000   \n",
       "\n",
       "       NUM_OPERANDS  NUM_OPERATORS  NUM_UNIQUE_OPERANDS  NUM_UNIQUE_OPERATORS  \\\n",
       "count   1099.000000    1099.000000          1099.000000           1099.000000   \n",
       "mean      71.347589      87.817106            27.371247             15.095541   \n",
       "std      180.614694     222.931647            43.945700              6.320880   \n",
       "min        2.000000       5.000000             2.000000              4.000000   \n",
       "25%       18.000000      24.000000            10.000000             11.000000   \n",
       "50%       35.000000      45.000000            17.000000             14.000000   \n",
       "75%       71.500000      87.500000            32.000000             18.000000   \n",
       "max     4015.000000    5590.000000           787.000000             68.000000   \n",
       "\n",
       "       NUMBER_OF_LINES  PERCENT_COMMENTS    LOC_TOTAL  \n",
       "count      1099.000000       1099.000000  1099.000000  \n",
       "mean         44.748863         15.883194    29.515924  \n",
       "std          59.019159         18.856796    47.644789  \n",
       "min           4.000000          0.000000     3.000000  \n",
       "25%          14.000000          0.000000    10.000000  \n",
       "50%          26.000000          8.700000    18.000000  \n",
       "75%          55.000000         28.285000    32.500000  \n",
       "max         891.000000         89.470000   817.000000  \n",
       "\n",
       "[8 rows x 37 columns]"
      ]
     },
     "execution_count": 4,
     "metadata": {},
     "output_type": "execute_result"
    }
   ],
   "source": [
    "df_data.describe() #shows simple statistics (min, max, mean, etc.)"
   ]
  },
  {
   "cell_type": "code",
   "execution_count": 5,
   "metadata": {},
   "outputs": [
    {
     "data": {
      "text/plain": [
       "Defective\n",
       "0    961\n",
       "1    138\n",
       "dtype: int64"
      ]
     },
     "execution_count": 5,
     "metadata": {},
     "output_type": "execute_result"
    }
   ],
   "source": [
    "# trasform to binary and extract target dont run twice\n",
    "df_data['Defective'] = df_data['Defective'].apply(lambda x: 1 if x == b'Y' else 0)\n",
    "df_data.groupby(\"Defective\").size()"
   ]
  },
  {
   "cell_type": "code",
   "execution_count": 56,
   "metadata": {},
   "outputs": [],
   "source": [
    "# metric correlations- (step 1)"
   ]
  },
  {
   "cell_type": "code",
   "execution_count": 7,
   "metadata": {
    "scrolled": true
   },
   "outputs": [],
   "source": [
    "X_train_size_features = df_data[['LOC_BLANK','PERCENT_COMMENTS','PARAMETER_COUNT']]\n",
    "X_train_complexity_features = df_data[['CONDITION_COUNT','CYCLOMATIC_DENSITY','DESIGN_COMPLEXITY','DESIGN_DENSITY','ESSENTIAL_COMPLEXITY','NUM_OPERATORS','HALSTEAD_LEVEL']]"
   ]
  },
  {
   "cell_type": "code",
   "execution_count": 8,
   "metadata": {},
   "outputs": [
    {
     "data": {
      "text/plain": [
       "(1099, 38)"
      ]
     },
     "execution_count": 8,
     "metadata": {},
     "output_type": "execute_result"
    }
   ],
   "source": [
    "df_data.shape"
   ]
  },
  {
   "cell_type": "code",
   "execution_count": 199,
   "metadata": {},
   "outputs": [],
   "source": [
    "# Variance inflation factor analysis  (VIF) - setp 2"
   ]
  },
  {
   "cell_type": "code",
   "execution_count": 9,
   "metadata": {},
   "outputs": [],
   "source": [
    "def vif(features):\n",
    "\n",
    "    # Prepare a dataframe for VIF\n",
    "    X_VIF = add_constant(features)\n",
    "\n",
    "    # Simulate a multicollinearity situation of AddedLOC, A, and B\n",
    "    #X_VIF['A'] = [2 * x_i + random.random() for x_i in X_VIF['AddedLOC']]\n",
    "    #X_VIF['B'] = [3 * x_i + random.random() for x_i in X_VIF['AddedLOC']]\n",
    "\n",
    "    # Calculate VIF scores\n",
    "    vif_scores = pd.DataFrame([variance_inflation_factor(X_VIF.values, i) \n",
    "                   for i in range(X_VIF.shape[1])], \n",
    "                  index=X_VIF.columns)\n",
    "    # Prepare a final dataframe of VIF scores\n",
    "    vif_scores.reset_index(inplace = True)\n",
    "    vif_scores.columns = ['Feature', 'VIFscore']\n",
    "    vif_scores = vif_scores.loc[vif_scores['Feature'] != 'const', :]\n",
    "    vif_scores = vif_scores.sort_values(by = ['VIFscore'], ascending = False)\n",
    "    return vif_scores"
   ]
  },
  {
   "cell_type": "code",
   "execution_count": 10,
   "metadata": {},
   "outputs": [
    {
     "name": "stdout",
     "output_type": "stream",
     "text": [
      "X: (1099, 37)\n",
      "y: (1099,)\n"
     ]
    }
   ],
   "source": [
    "X = df_data.iloc[:, 0:-1]\n",
    "y = df_data[\"Defective\"]\n",
    "\n",
    "#y = df_data.pop('Defective')\n",
    "#X = df_data\n",
    "\n",
    "print(\"X:\", X.shape)\n",
    "print(\"y:\", y.shape)"
   ]
  },
  {
   "cell_type": "code",
   "execution_count": 11,
   "metadata": {},
   "outputs": [
    {
     "data": {
      "text/html": [
       "<div>\n",
       "<style scoped>\n",
       "    .dataframe tbody tr th:only-of-type {\n",
       "        vertical-align: middle;\n",
       "    }\n",
       "\n",
       "    .dataframe tbody tr th {\n",
       "        vertical-align: top;\n",
       "    }\n",
       "\n",
       "    .dataframe thead th {\n",
       "        text-align: right;\n",
       "    }\n",
       "</style>\n",
       "<table border=\"1\" class=\"dataframe\">\n",
       "  <thead>\n",
       "    <tr style=\"text-align: right;\">\n",
       "      <th></th>\n",
       "      <th>Feature</th>\n",
       "      <th>VIFscore</th>\n",
       "    </tr>\n",
       "  </thead>\n",
       "  <tbody>\n",
       "    <tr>\n",
       "      <th>2</th>\n",
       "      <td>PERCENT_COMMENTS</td>\n",
       "      <td>1.388691</td>\n",
       "    </tr>\n",
       "    <tr>\n",
       "      <th>1</th>\n",
       "      <td>LOC_BLANK</td>\n",
       "      <td>1.377754</td>\n",
       "    </tr>\n",
       "    <tr>\n",
       "      <th>3</th>\n",
       "      <td>PARAMETER_COUNT</td>\n",
       "      <td>1.038382</td>\n",
       "    </tr>\n",
       "  </tbody>\n",
       "</table>\n",
       "</div>"
      ],
      "text/plain": [
       "            Feature  VIFscore\n",
       "2  PERCENT_COMMENTS  1.388691\n",
       "1         LOC_BLANK  1.377754\n",
       "3   PARAMETER_COUNT  1.038382"
      ]
     },
     "execution_count": 11,
     "metadata": {},
     "output_type": "execute_result"
    }
   ],
   "source": [
    "vif(X_train_size_features)"
   ]
  },
  {
   "cell_type": "code",
   "execution_count": 12,
   "metadata": {},
   "outputs": [
    {
     "data": {
      "text/html": [
       "<div>\n",
       "<style scoped>\n",
       "    .dataframe tbody tr th:only-of-type {\n",
       "        vertical-align: middle;\n",
       "    }\n",
       "\n",
       "    .dataframe tbody tr th {\n",
       "        vertical-align: top;\n",
       "    }\n",
       "\n",
       "    .dataframe thead th {\n",
       "        text-align: right;\n",
       "    }\n",
       "</style>\n",
       "<table border=\"1\" class=\"dataframe\">\n",
       "  <thead>\n",
       "    <tr style=\"text-align: right;\">\n",
       "      <th></th>\n",
       "      <th>Feature</th>\n",
       "      <th>VIFscore</th>\n",
       "    </tr>\n",
       "  </thead>\n",
       "  <tbody>\n",
       "    <tr>\n",
       "      <th>1</th>\n",
       "      <td>CONDITION_COUNT</td>\n",
       "      <td>5.650560</td>\n",
       "    </tr>\n",
       "    <tr>\n",
       "      <th>6</th>\n",
       "      <td>NUM_OPERATORS</td>\n",
       "      <td>4.937667</td>\n",
       "    </tr>\n",
       "    <tr>\n",
       "      <th>3</th>\n",
       "      <td>DESIGN_COMPLEXITY</td>\n",
       "      <td>2.387958</td>\n",
       "    </tr>\n",
       "    <tr>\n",
       "      <th>5</th>\n",
       "      <td>ESSENTIAL_COMPLEXITY</td>\n",
       "      <td>2.064249</td>\n",
       "    </tr>\n",
       "    <tr>\n",
       "      <th>4</th>\n",
       "      <td>DESIGN_DENSITY</td>\n",
       "      <td>1.532755</td>\n",
       "    </tr>\n",
       "    <tr>\n",
       "      <th>7</th>\n",
       "      <td>HALSTEAD_LEVEL</td>\n",
       "      <td>1.375662</td>\n",
       "    </tr>\n",
       "    <tr>\n",
       "      <th>2</th>\n",
       "      <td>CYCLOMATIC_DENSITY</td>\n",
       "      <td>1.247550</td>\n",
       "    </tr>\n",
       "  </tbody>\n",
       "</table>\n",
       "</div>"
      ],
      "text/plain": [
       "                Feature  VIFscore\n",
       "1       CONDITION_COUNT  5.650560\n",
       "6         NUM_OPERATORS  4.937667\n",
       "3     DESIGN_COMPLEXITY  2.387958\n",
       "5  ESSENTIAL_COMPLEXITY  2.064249\n",
       "4        DESIGN_DENSITY  1.532755\n",
       "7        HALSTEAD_LEVEL  1.375662\n",
       "2    CYCLOMATIC_DENSITY  1.247550"
      ]
     },
     "execution_count": 12,
     "metadata": {},
     "output_type": "execute_result"
    }
   ],
   "source": [
    "vif(X_train_complexity_features)"
   ]
  },
  {
   "cell_type": "code",
   "execution_count": null,
   "metadata": {},
   "outputs": [],
   "source": [
    "# drop column 1"
   ]
  },
  {
   "cell_type": "code",
   "execution_count": 13,
   "metadata": {},
   "outputs": [],
   "source": [
    "X_train_complexity_features= X_train_complexity_features.drop(labels=['CONDITION_COUNT'],axis='columns')"
   ]
  },
  {
   "cell_type": "code",
   "execution_count": 14,
   "metadata": {},
   "outputs": [
    {
     "data": {
      "text/html": [
       "<div>\n",
       "<style scoped>\n",
       "    .dataframe tbody tr th:only-of-type {\n",
       "        vertical-align: middle;\n",
       "    }\n",
       "\n",
       "    .dataframe tbody tr th {\n",
       "        vertical-align: top;\n",
       "    }\n",
       "\n",
       "    .dataframe thead th {\n",
       "        text-align: right;\n",
       "    }\n",
       "</style>\n",
       "<table border=\"1\" class=\"dataframe\">\n",
       "  <thead>\n",
       "    <tr style=\"text-align: right;\">\n",
       "      <th></th>\n",
       "      <th>Feature</th>\n",
       "      <th>VIFscore</th>\n",
       "    </tr>\n",
       "  </thead>\n",
       "  <tbody>\n",
       "    <tr>\n",
       "      <th>2</th>\n",
       "      <td>DESIGN_COMPLEXITY</td>\n",
       "      <td>2.337659</td>\n",
       "    </tr>\n",
       "    <tr>\n",
       "      <th>4</th>\n",
       "      <td>ESSENTIAL_COMPLEXITY</td>\n",
       "      <td>2.001324</td>\n",
       "    </tr>\n",
       "    <tr>\n",
       "      <th>3</th>\n",
       "      <td>DESIGN_DENSITY</td>\n",
       "      <td>1.520778</td>\n",
       "    </tr>\n",
       "    <tr>\n",
       "      <th>6</th>\n",
       "      <td>HALSTEAD_LEVEL</td>\n",
       "      <td>1.375617</td>\n",
       "    </tr>\n",
       "    <tr>\n",
       "      <th>5</th>\n",
       "      <td>NUM_OPERATORS</td>\n",
       "      <td>1.295681</td>\n",
       "    </tr>\n",
       "    <tr>\n",
       "      <th>1</th>\n",
       "      <td>CYCLOMATIC_DENSITY</td>\n",
       "      <td>1.159050</td>\n",
       "    </tr>\n",
       "  </tbody>\n",
       "</table>\n",
       "</div>"
      ],
      "text/plain": [
       "                Feature  VIFscore\n",
       "2     DESIGN_COMPLEXITY  2.337659\n",
       "4  ESSENTIAL_COMPLEXITY  2.001324\n",
       "3        DESIGN_DENSITY  1.520778\n",
       "6        HALSTEAD_LEVEL  1.375617\n",
       "5         NUM_OPERATORS  1.295681\n",
       "1    CYCLOMATIC_DENSITY  1.159050"
      ]
     },
     "execution_count": 14,
     "metadata": {},
     "output_type": "execute_result"
    }
   ],
   "source": [
    "vif(X_train_complexity_features)"
   ]
  },
  {
   "cell_type": "code",
   "execution_count": 14,
   "metadata": {},
   "outputs": [],
   "source": [
    "#featres after step1 & step 2"
   ]
  },
  {
   "cell_type": "code",
   "execution_count": 15,
   "metadata": {},
   "outputs": [],
   "source": [
    "X_train_all_features = df_data[['LOC_BLANK','PERCENT_COMMENTS','PARAMETER_COUNT','CYCLOMATIC_DENSITY','DESIGN_COMPLEXITY','DESIGN_DENSITY','ESSENTIAL_COMPLEXITY','NUM_OPERATORS','HALSTEAD_LEVEL']]"
   ]
  },
  {
   "cell_type": "code",
   "execution_count": null,
   "metadata": {},
   "outputs": [],
   "source": [
    "#resampling"
   ]
  },
  {
   "cell_type": "code",
   "execution_count": 16,
   "metadata": {
    "scrolled": true
   },
   "outputs": [
    {
     "name": "stdout",
     "output_type": "stream",
     "text": [
      "Classes: [0, 1]\n",
      "Counts: [961, 138]\n"
     ]
    },
    {
     "data": {
      "image/png": "[encoded data removed]",
      "text/plain": [
       "<Figure size 432x288 with 1 Axes>"
      ]
     },
     "metadata": {},
     "output_type": "display_data"
    }
   ],
   "source": [
    "unique, counts = np.unique(y, return_counts=True)\n",
    "print(\"Classes:\", unique.tolist())\n",
    "print(\"Counts:\", counts.tolist())\n",
    "\n",
    "plt.bar(unique, counts, color=['g', 'orange', 'r'], alpha=0.7)\n",
    "plt.title(\"#Bugs VS Occurrences\")\n",
    "plt.xticks(range(len(unique)))\n",
    "plt.ylabel(\"Occurrences\")\n",
    "plt.xlabel(\"# Bugs\");"
   ]
  },
  {
   "cell_type": "code",
   "execution_count": 17,
   "metadata": {},
   "outputs": [],
   "source": [
    "#oversampling using SMOTE up to 30%"
   ]
  },
  {
   "cell_type": "code",
   "execution_count": 17,
   "metadata": {},
   "outputs": [
    {
     "name": "stdout",
     "output_type": "stream",
     "text": [
      "Train: (1249, 9) (1249,)\n"
     ]
    }
   ],
   "source": [
    "from imblearn.over_sampling import SMOTE\n",
    "X_train_over_sampled, y_train_over_sampled = SMOTE(sampling_strategy=0.3).fit_resample(X_train_all_features, y)\n",
    "print(\"Train:\", X_train_over_sampled.shape, y_train_over_sampled.shape)"
   ]
  },
  {
   "cell_type": "code",
   "execution_count": 18,
   "metadata": {},
   "outputs": [
    {
     "name": "stdout",
     "output_type": "stream",
     "text": [
      "Classes: [0, 1]\n",
      "Counts: [961, 288]\n"
     ]
    },
    {
     "data": {
      "image/png": "[encoded data removed]",
      "text/plain": [
       "<Figure size 432x288 with 1 Axes>"
      ]
     },
     "metadata": {},
     "output_type": "display_data"
    }
   ],
   "source": [
    "unique, counts = np.unique(y_train_over_sampled, return_counts=True)\n",
    "print(\"Classes:\", unique.tolist())\n",
    "print(\"Counts:\", counts.tolist())\n",
    "\n",
    "plt.bar(unique, counts, color=['g', 'orange', 'r'], alpha=0.7)\n",
    "plt.title(\"#Bugs VS Occurrences\")\n",
    "plt.xticks(range(len(unique)))\n",
    "plt.ylabel(\"Occurrences\")\n",
    "plt.xlabel(\"# Bugs\");"
   ]
  },
  {
   "cell_type": "code",
   "execution_count": 19,
   "metadata": {},
   "outputs": [
    {
     "data": {
      "text/plain": [
       "Defective\n",
       "0    961\n",
       "1    288\n",
       "Name: Defective, dtype: int64"
      ]
     },
     "execution_count": 19,
     "metadata": {},
     "output_type": "execute_result"
    }
   ],
   "source": [
    "bugs= y_train_over_sampled.groupby(y_train_over_sampled)\n",
    "bugs.size()"
   ]
  },
  {
   "cell_type": "code",
   "execution_count": 20,
   "metadata": {},
   "outputs": [],
   "source": [
    "data = pd.concat([X_train_over_sampled, y_train_over_sampled], axis=1)"
   ]
  },
  {
   "cell_type": "code",
   "execution_count": 21,
   "metadata": {},
   "outputs": [
    {
     "data": {
      "text/html": [
       "<div>\n",
       "<style scoped>\n",
       "    .dataframe tbody tr th:only-of-type {\n",
       "        vertical-align: middle;\n",
       "    }\n",
       "\n",
       "    .dataframe tbody tr th {\n",
       "        vertical-align: top;\n",
       "    }\n",
       "\n",
       "    .dataframe thead th {\n",
       "        text-align: right;\n",
       "    }\n",
       "</style>\n",
       "<table border=\"1\" class=\"dataframe\">\n",
       "  <thead>\n",
       "    <tr style=\"text-align: right;\">\n",
       "      <th></th>\n",
       "      <th>LOC_BLANK</th>\n",
       "      <th>PERCENT_COMMENTS</th>\n",
       "      <th>PARAMETER_COUNT</th>\n",
       "      <th>CYCLOMATIC_DENSITY</th>\n",
       "      <th>DESIGN_COMPLEXITY</th>\n",
       "      <th>DESIGN_DENSITY</th>\n",
       "      <th>ESSENTIAL_COMPLEXITY</th>\n",
       "      <th>NUM_OPERATORS</th>\n",
       "      <th>HALSTEAD_LEVEL</th>\n",
       "      <th>Defective</th>\n",
       "    </tr>\n",
       "  </thead>\n",
       "  <tbody>\n",
       "    <tr>\n",
       "      <th>0</th>\n",
       "      <td>14.000000</td>\n",
       "      <td>11.540000</td>\n",
       "      <td>1.000000</td>\n",
       "      <td>0.230000</td>\n",
       "      <td>3.000000</td>\n",
       "      <td>0.500000</td>\n",
       "      <td>1.00000</td>\n",
       "      <td>59.000000</td>\n",
       "      <td>0.070000</td>\n",
       "      <td>0</td>\n",
       "    </tr>\n",
       "    <tr>\n",
       "      <th>1</th>\n",
       "      <td>6.000000</td>\n",
       "      <td>57.140000</td>\n",
       "      <td>1.000000</td>\n",
       "      <td>0.500000</td>\n",
       "      <td>2.000000</td>\n",
       "      <td>1.000000</td>\n",
       "      <td>1.00000</td>\n",
       "      <td>7.000000</td>\n",
       "      <td>0.330000</td>\n",
       "      <td>0</td>\n",
       "    </tr>\n",
       "    <tr>\n",
       "      <th>2</th>\n",
       "      <td>14.000000</td>\n",
       "      <td>33.330000</td>\n",
       "      <td>2.000000</td>\n",
       "      <td>0.280000</td>\n",
       "      <td>9.000000</td>\n",
       "      <td>0.820000</td>\n",
       "      <td>3.00000</td>\n",
       "      <td>89.000000</td>\n",
       "      <td>0.040000</td>\n",
       "      <td>0</td>\n",
       "    </tr>\n",
       "    <tr>\n",
       "      <th>3</th>\n",
       "      <td>20.000000</td>\n",
       "      <td>29.410000</td>\n",
       "      <td>5.000000</td>\n",
       "      <td>0.260000</td>\n",
       "      <td>3.000000</td>\n",
       "      <td>0.300000</td>\n",
       "      <td>3.00000</td>\n",
       "      <td>60.000000</td>\n",
       "      <td>0.050000</td>\n",
       "      <td>0</td>\n",
       "    </tr>\n",
       "    <tr>\n",
       "      <th>4</th>\n",
       "      <td>6.000000</td>\n",
       "      <td>9.090000</td>\n",
       "      <td>1.000000</td>\n",
       "      <td>0.180000</td>\n",
       "      <td>2.000000</td>\n",
       "      <td>1.000000</td>\n",
       "      <td>1.00000</td>\n",
       "      <td>25.000000</td>\n",
       "      <td>0.140000</td>\n",
       "      <td>1</td>\n",
       "    </tr>\n",
       "    <tr>\n",
       "      <th>...</th>\n",
       "      <td>...</td>\n",
       "      <td>...</td>\n",
       "      <td>...</td>\n",
       "      <td>...</td>\n",
       "      <td>...</td>\n",
       "      <td>...</td>\n",
       "      <td>...</td>\n",
       "      <td>...</td>\n",
       "      <td>...</td>\n",
       "      <td>...</td>\n",
       "    </tr>\n",
       "    <tr>\n",
       "      <th>1244</th>\n",
       "      <td>24.222756</td>\n",
       "      <td>47.711330</td>\n",
       "      <td>0.111378</td>\n",
       "      <td>0.188886</td>\n",
       "      <td>3.445512</td>\n",
       "      <td>0.493485</td>\n",
       "      <td>1.00000</td>\n",
       "      <td>136.670669</td>\n",
       "      <td>0.040000</td>\n",
       "      <td>1</td>\n",
       "    </tr>\n",
       "    <tr>\n",
       "      <th>1245</th>\n",
       "      <td>48.681861</td>\n",
       "      <td>38.362763</td>\n",
       "      <td>0.239897</td>\n",
       "      <td>0.120404</td>\n",
       "      <td>6.560620</td>\n",
       "      <td>0.674824</td>\n",
       "      <td>3.28031</td>\n",
       "      <td>239.280310</td>\n",
       "      <td>0.037601</td>\n",
       "      <td>1</td>\n",
       "    </tr>\n",
       "    <tr>\n",
       "      <th>1246</th>\n",
       "      <td>10.156229</td>\n",
       "      <td>26.812689</td>\n",
       "      <td>0.052076</td>\n",
       "      <td>0.320106</td>\n",
       "      <td>3.052076</td>\n",
       "      <td>0.763019</td>\n",
       "      <td>1.00000</td>\n",
       "      <td>47.572839</td>\n",
       "      <td>0.052083</td>\n",
       "      <td>1</td>\n",
       "    </tr>\n",
       "    <tr>\n",
       "      <th>1247</th>\n",
       "      <td>8.217773</td>\n",
       "      <td>17.451760</td>\n",
       "      <td>2.173340</td>\n",
       "      <td>0.150845</td>\n",
       "      <td>2.782227</td>\n",
       "      <td>0.831821</td>\n",
       "      <td>1.00000</td>\n",
       "      <td>69.435546</td>\n",
       "      <td>0.066089</td>\n",
       "      <td>1</td>\n",
       "    </tr>\n",
       "    <tr>\n",
       "      <th>1248</th>\n",
       "      <td>26.000000</td>\n",
       "      <td>8.890000</td>\n",
       "      <td>1.000000</td>\n",
       "      <td>0.070000</td>\n",
       "      <td>3.000000</td>\n",
       "      <td>1.000000</td>\n",
       "      <td>1.00000</td>\n",
       "      <td>129.000000</td>\n",
       "      <td>0.030000</td>\n",
       "      <td>1</td>\n",
       "    </tr>\n",
       "  </tbody>\n",
       "</table>\n",
       "<p>1249 rows × 10 columns</p>\n",
       "</div>"
      ],
      "text/plain": [
       "      LOC_BLANK  PERCENT_COMMENTS  PARAMETER_COUNT  CYCLOMATIC_DENSITY  \\\n",
       "0     14.000000         11.540000         1.000000            0.230000   \n",
       "1      6.000000         57.140000         1.000000            0.500000   \n",
       "2     14.000000         33.330000         2.000000            0.280000   \n",
       "3     20.000000         29.410000         5.000000            0.260000   \n",
       "4      6.000000          9.090000         1.000000            0.180000   \n",
       "...         ...               ...              ...                 ...   \n",
       "1244  24.222756         47.711330         0.111378            0.188886   \n",
       "1245  48.681861         38.362763         0.239897            0.120404   \n",
       "1246  10.156229         26.812689         0.052076            0.320106   \n",
       "1247   8.217773         17.451760         2.173340            0.150845   \n",
       "1248  26.000000          8.890000         1.000000            0.070000   \n",
       "\n",
       "      DESIGN_COMPLEXITY  DESIGN_DENSITY  ESSENTIAL_COMPLEXITY  NUM_OPERATORS  \\\n",
       "0              3.000000        0.500000               1.00000      59.000000   \n",
       "1              2.000000        1.000000               1.00000       7.000000   \n",
       "2              9.000000        0.820000               3.00000      89.000000   \n",
       "3              3.000000        0.300000               3.00000      60.000000   \n",
       "4              2.000000        1.000000               1.00000      25.000000   \n",
       "...                 ...             ...                   ...            ...   \n",
       "1244           3.445512        0.493485               1.00000     136.670669   \n",
       "1245           6.560620        0.674824               3.28031     239.280310   \n",
       "1246           3.052076        0.763019               1.00000      47.572839   \n",
       "1247           2.782227        0.831821               1.00000      69.435546   \n",
       "1248           3.000000        1.000000               1.00000     129.000000   \n",
       "\n",
       "      HALSTEAD_LEVEL  Defective  \n",
       "0           0.070000          0  \n",
       "1           0.330000          0  \n",
       "2           0.040000          0  \n",
       "3           0.050000          0  \n",
       "4           0.140000          1  \n",
       "...              ...        ...  \n",
       "1244        0.040000          1  \n",
       "1245        0.037601          1  \n",
       "1246        0.052083          1  \n",
       "1247        0.066089          1  \n",
       "1248        0.030000          1  \n",
       "\n",
       "[1249 rows x 10 columns]"
      ]
     },
     "execution_count": 21,
     "metadata": {},
     "output_type": "execute_result"
    }
   ],
   "source": [
    "data"
   ]
  },
  {
   "cell_type": "code",
   "execution_count": 23,
   "metadata": {},
   "outputs": [],
   "source": [
    "# save the dataset for c5\n",
    "filename = 'pc3.csv'\n",
    "data.to_csv('data/cleaned/expr2/{}'.format(filename),sep=',')"
   ]
  },
  {
   "cell_type": "code",
   "execution_count": 116,
   "metadata": {},
   "outputs": [],
   "source": [
    "# Model construction"
   ]
  },
  {
   "cell_type": "code",
   "execution_count": 19,
   "metadata": {},
   "outputs": [
    {
     "name": "stdout",
     "output_type": "stream",
     "text": [
      "Train: (874, 10) (874,) Test: (188, 10) (188,) Cross Validation (187, 10) (187,)\n"
     ]
    }
   ],
   "source": [
    "validation_size = 0.3\n",
    "random_seed=7\n",
    "\n",
    "from sklearn.model_selection import train_test_split\n",
    "X_train_over_sampled, X_test_over_sampled, y_train_over_sampled, y_test_over_sampled = train_test_split(X_train_over_sampled, y_train_over_sampled, test_size=0.3,random_state=7)\n",
    "X_cv_over_sampled, X_test_over_sampled, y_cv_over_sampled, y_test_over_sampled = train_test_split(X_test_over_sampled, y_test_over_sampled, test_size=0.5)\n",
    "print(\"Train:\", X_train_over_sampled.shape, y_train_over_sampled.shape,\n",
    "      \"Test:\", X_test_over_sampled.shape, y_test_over_sampled.shape,\n",
    "      \"Cross Validation\", X_cv_over_sampled.shape, y_cv_over_sampled.shape)\n"
   ]
  },
  {
   "cell_type": "code",
   "execution_count": 20,
   "metadata": {},
   "outputs": [],
   "source": [
    "def Modeler(model, X_train, y_train, X_cv, y_cv, params, scale=False, n_jobs=True, pca=False):\n",
    "    \n",
    "    if scale & pca:\n",
    "        pipeline = Pipeline([\n",
    "            ('scale', StandardScaler()),\n",
    "            ('dim_reduct', PCA(n_components=4)),\n",
    "            ('clf', model())])\n",
    "        print(\"Scaling and dim reduct...\")\n",
    "        \n",
    "    elif scale:\n",
    "        pipeline = Pipeline([ ('scale', StandardScaler()), ('clf', model())])\n",
    "        \n",
    "    elif pca:\n",
    "        pipeline = Pipeline([\n",
    "        ('dim_reduct', PCA(n_components=pca)),\n",
    "        ('clf', model())])\n",
    "    else:\n",
    "        pipeline = Pipeline([('clf', model())])\n",
    "        \n",
    "    grid = GridSearchCV(pipeline, param_grid = params, cv=5, n_jobs=4, refit=True)\n",
    "    grid.fit(X_cv, y_cv)\n",
    "    \n",
    "    best_prameters = {}\n",
    "    for k, v in grid.best_params_.items():\n",
    "        best_prameters[k[5:]] = v\n",
    "\n",
    "    if n_jobs:\n",
    "        model = model(**best_prameters, n_jobs=4)\n",
    "    else:\n",
    "        model = model(**best_prameters)\n",
    "   \n",
    "    model.fit(X_train, y_train)\n",
    "    \n",
    "    print(\"Best Parameters for model:\", best_prameters)\n",
    "\n",
    "    return {\n",
    "        \"model\": model, \n",
    "        \"best_params\":best_prameters\n",
    "    }"
   ]
  },
  {
   "cell_type": "code",
   "execution_count": 21,
   "metadata": {},
   "outputs": [],
   "source": [
    "# metrics method\n",
    "def metrics_calculate(model_name, y_val, y_pred):\n",
    "    '''\n",
    "    0. basic metrics values ['accuracy', 'precision', 'recall', 'fpr', 'fnr', 'auc']\n",
    "    1. classification report\n",
    "    2. confusion matrix\n",
    "    '''\n",
    "    y_val = np.reshape(y_val, -1).astype(np.int32)\n",
    "    y_pred = np.where(np.reshape(y_pred, -1) > 0.5, 1, 0)\n",
    "    accuracy = accuracy_score(y_val, y_pred)\n",
    "    precision = precision_score(y_val, y_pred)\n",
    "    recall = recall_score(y_val, y_pred)\n",
    "    tn, fp, fn, tp = confusion_matrix(y_val, y_pred,labels=[0,1]).ravel()\n",
    "    fpr = fp / (tn + fp)\n",
    "    fnr = fn / (tp + fn)\n",
    "    auc = roc_auc_score(y_val, y_pred)\n",
    "    print('Model:%s Acc:%.8f Prec:%.8f Recall:%.8f FNR:%.8f FPR:%.8f AUC:%.8f' % (model_name, accuracy, precision, recall, fnr, fpr, auc))\n",
    "    print(model_name, 'classification report:\\n', classification_report(y_val, y_pred))\n",
    "    print(model_name, 'confusion_matrix:\\n', confusion_matrix(y_val, y_pred))\n",
    "    print('\\n%s FNR:%.8f FPR:%.8f\\n%s accuracy:%.8f' % (model_name, fnr, fpr, model_name, accuracy_score(y_pred,y_val)))"
   ]
  },
  {
   "cell_type": "code",
   "execution_count": 22,
   "metadata": {},
   "outputs": [],
   "source": [
    "def model_eval(model, X_test, y_test, acc=True, recall_=True, auc_=True, plot_conf=True, plot_auc=True, f1=True, prop=False):\n",
    "    \n",
    "    res = [None, None, None, None] # Accuracy, auc_roc, f1_score, recall\n",
    "    y_pred = model.predict(X_test)\n",
    "    \n",
    "    if prop:\n",
    "        y_pred = np.where(y_pred > 0.5, 1, 0)\n",
    "    \n",
    "    if f1:\n",
    "        f_sc = f1_score(y_test, y_pred, average='macro')\n",
    "        res[2] = f_sc\n",
    "        \n",
    "    if acc:\n",
    "        res[0] = accuracy_score(y_test, y_pred)\n",
    "        print('accuracy:', res[0] * 100 ,'%')\n",
    "              \n",
    "    if recall_:\n",
    "        res[3]= recall_score(y_test, y_pred, average='macro')\n",
    "        print('recall:', res[3] * 100 ,'%')\n",
    "              \n",
    "    if auc_:\n",
    "        lb = LabelBinarizer()\n",
    "        lb.fit(y_test)\n",
    "\n",
    "        truth = lb.transform(y_test)\n",
    "        y_pred_encode = lb.transform(y_pred)\n",
    "              \n",
    "        res[1] = roc_auc_score(truth, y_pred_encode, average = 'macro')\n",
    "        print('ROC:', res[1] * 100 ,'%')\n",
    "              \n",
    "    if plot_conf:\n",
    "        fig, ax = plt.subplots(figsize=(10,6))\n",
    "\n",
    "        conf = confusion_matrix(y_test, y_pred, labels=np.unique(y_test))\n",
    "        sns.heatmap(conf, cmap= 'Set1', annot=True, cbar=False)\n",
    "        plt.ylabel('Actual')\n",
    "        plt.xlabel('Predicted')\n",
    "        plt.title('Confusion Matrix');\n",
    "    \n",
    "    if plot_auc:\n",
    "        fig, ax = plt.subplots(figsize=(10,6))\n",
    "\n",
    "        if not auc_:\n",
    "            lb = LabelBinarizer()\n",
    "            lb.fit(y_test)\n",
    "\n",
    "            truth = lb.transform(y_test)\n",
    "            y_pred_encode = lb.transform(y_pred)\n",
    "\n",
    "        fpr = [None, None, None]\n",
    "        tpr = [None, None, None]\n",
    "        auc_of_roc = [None, None, None]\n",
    "        \n",
    "        #n_classes = (0, 1)\n",
    "        \n",
    "        for i in range(0,1):\n",
    "            fpr[i], tpr[i], _ = roc_curve(truth[:, i], y_pred_encode[:, i])\n",
    "            auc_of_roc[i] = auc(fpr[i], tpr[i])\n",
    "            \n",
    "        plt.plot(fpr[0], tpr[0], label='0 - area under ROC = %0.3f' % auc_of_roc[0])\n",
    "\n",
    "        plt.xlabel('False Positive Rate')\n",
    "        plt.ylabel('True Positive Rate')\n",
    "        plt.title(\"ROC AUC\");\n",
    "        plt.legend()\n",
    "\n",
    "    return res"
   ]
  },
  {
   "cell_type": "code",
   "execution_count": 23,
   "metadata": {},
   "outputs": [],
   "source": [
    "scores = {}"
   ]
  },
  {
   "cell_type": "code",
   "execution_count": 85,
   "metadata": {},
   "outputs": [],
   "source": [
    "# classifiers after removing multi columnary and over sampling"
   ]
  },
  {
   "cell_type": "code",
   "execution_count": 24,
   "metadata": {},
   "outputs": [
    {
     "name": "stdout",
     "output_type": "stream",
     "text": [
      "Best Parameters for model: {'learning_rate': 1.0, 'n_estimators': 200}\n"
     ]
    }
   ],
   "source": [
    "# AdaBoostClassifier\n",
    "ada_params = {\n",
    "    'clf__learning_rate': [0.1, 0.5, 1.0],\n",
    "    'clf__n_estimators': [100, 200]\n",
    "}\n",
    "\n",
    "ada = Modeler(AdaBoostClassifier, X_train_over_sampled, y_train_over_sampled, X_cv_over_sampled, y_cv_over_sampled, ada_params, scale=False, n_jobs=False)"
   ]
  },
  {
   "cell_type": "code",
   "execution_count": 25,
   "metadata": {},
   "outputs": [
    {
     "name": "stdout",
     "output_type": "stream",
     "text": [
      "accuracy: 86.17021276595744 %\n",
      "recall: 74.28571428571429 %\n",
      "ROC: 74.28571428571429 %\n"
     ]
    },
    {
     "data": {
      "image/png": "[encoded data removed]",
      "text/plain": [
       "<Figure size 720x432 with 1 Axes>"
      ]
     },
     "metadata": {},
     "output_type": "display_data"
    },
    {
     "data": {
      "image/png": "[encoded data removed]",
      "text/plain": [
       "<Figure size 720x432 with 1 Axes>"
      ]
     },
     "metadata": {},
     "output_type": "display_data"
    }
   ],
   "source": [
    "model_scoring = model_eval(ada[\"model\"], X_test_over_sampled, y_test_over_sampled)\n",
    "scores[\"AdaBoost Classifier | Binary\"] = {\"Accuracy\": '{0:.2f}'.format(round(model_scoring[0], 4)*100),\n",
    "                             \"ROC\": '{0:.2f}'.format(round(model_scoring[1],4)*100),\n",
    "                             \"F1-Score\": '{0:.2f}'.format(round(model_scoring[2],4)*100),\n",
    "                             \"Recall-Score\": '{0:.2f}'.format(round(model_scoring[3],4)*100)}"
   ]
  },
  {
   "cell_type": "code",
   "execution_count": 26,
   "metadata": {},
   "outputs": [
    {
     "data": {
      "image/png": "[encoded data removed]",
      "text/plain": [
       "<Figure size 432x288 with 1 Axes>"
      ]
     },
     "metadata": {},
     "output_type": "display_data"
    }
   ],
   "source": [
    "ROC_curve = plot_roc_curve(ada[\"model\"], X_test_over_sampled, y_test_over_sampled)\n",
    "scores[\"AdaBoost Classifier | Binary\"][\"AUC\"] = '{0:.2f}'.format(round(ROC_curve.roc_auc,4)*100)"
   ]
  },
  {
   "cell_type": "code",
   "execution_count": 127,
   "metadata": {},
   "outputs": [],
   "source": [
    "#xgboost"
   ]
  },
  {
   "cell_type": "code",
   "execution_count": 27,
   "metadata": {},
   "outputs": [
    {
     "name": "stdout",
     "output_type": "stream",
     "text": [
      "[04:21:49] WARNING: C:/Users/Administrator/workspace/xgboost-win64_release_1.5.1/src/learner.cc:1115: Starting in XGBoost 1.3.0, the default evaluation metric used with the objective 'binary:logistic' was changed from 'error' to 'logloss'. Explicitly set eval_metric if you'd like to restore the old behavior.\n",
      "[04:21:50] WARNING: C:/Users/Administrator/workspace/xgboost-win64_release_1.5.1/src/learner.cc:1115: Starting in XGBoost 1.3.0, the default evaluation metric used with the objective 'binary:logistic' was changed from 'error' to 'logloss'. Explicitly set eval_metric if you'd like to restore the old behavior.\n",
      "Best Parameters for model: {'colsample_bytree': 0.8, 'learning_rate': 0.1, 'max_depth': 8, 'n_estimators': 200, 'reg_alpha': 1.1, 'subsample': 0.8}\n"
     ]
    }
   ],
   "source": [
    "xg_params = {\n",
    "    'clf__max_depth': [8, 9],\n",
    "    'clf__learning_rate': [0.1],\n",
    "    'clf__n_estimators':[200],\n",
    "    'clf__reg_alpha':[1.1],\n",
    "    'clf__colsample_bytree':[0.8],\n",
    "    'clf__subsample':[0.8, 0.9,],\n",
    "}\n",
    "\n",
    "xgboost = Modeler(XGBClassifier, X_train_over_sampled, y_train_over_sampled, X_cv_over_sampled, y_cv_over_sampled, xg_params, scale=False, n_jobs=5)"
   ]
  },
  {
   "cell_type": "code",
   "execution_count": 28,
   "metadata": {},
   "outputs": [
    {
     "name": "stdout",
     "output_type": "stream",
     "text": [
      "accuracy: 87.2340425531915 %\n",
      "recall: 77.05357142857143 %\n",
      "ROC: 77.05357142857142 %\n"
     ]
    },
    {
     "data": {
      "image/png": "[encoded data removed]",
      "text/plain": [
       "<Figure size 720x432 with 1 Axes>"
      ]
     },
     "metadata": {},
     "output_type": "display_data"
    },
    {
     "data": {
      "image/png": "[encoded data removed]",
      "text/plain": [
       "<Figure size 720x432 with 1 Axes>"
      ]
     },
     "metadata": {},
     "output_type": "display_data"
    }
   ],
   "source": [
    "model_scoring = model_eval(xgboost[\"model\"], X_test_over_sampled, y_test_over_sampled)\n",
    "scores[\"XGBoost | Binary\"] = {\"Accuracy\": '{0:.2f}'.format(round(model_scoring[0], 4)*100),\n",
    "                              \"ROC\": '{0:.2f}'.format(round(model_scoring[1],4)*100),\n",
    "                              \"F1-Score\": '{0:.2f}'.format(round(model_scoring[2],4)*100),\n",
    "                              \"Recall-Score\": '{0:.2f}'.format(round(model_scoring[3],4)*100)}\n"
   ]
  },
  {
   "cell_type": "code",
   "execution_count": 29,
   "metadata": {},
   "outputs": [
    {
     "data": {
      "image/png": "[encoded data removed]",
      "text/plain": [
       "<Figure size 432x288 with 1 Axes>"
      ]
     },
     "metadata": {},
     "output_type": "display_data"
    }
   ],
   "source": [
    "ROC_curve = plot_roc_curve(xgboost[\"model\"], X_test_over_sampled, y_test_over_sampled)\n",
    "scores[\"XGBoost | Binary\"][\"AUC\"] = '{0:.2f}'.format(round(ROC_curve.roc_auc,4)*100)"
   ]
  },
  {
   "cell_type": "code",
   "execution_count": null,
   "metadata": {},
   "outputs": [],
   "source": [
    "# Random Forest"
   ]
  },
  {
   "cell_type": "code",
   "execution_count": 30,
   "metadata": {},
   "outputs": [
    {
     "name": "stdout",
     "output_type": "stream",
     "text": [
      "Best Parameters for model: {'criterion': 'gini', 'max_depth': 20, 'max_features': 0.4, 'n_estimators': 200}\n"
     ]
    }
   ],
   "source": [
    "rfc_params = {\n",
    "    'clf__n_estimators'      : [200, 500],\n",
    "    'clf__max_depth'         : [10, 20],\n",
    "    'clf__max_features': [1.0, 0.7, 0.4],\n",
    "    'clf__criterion' :['gini', 'entropy']\n",
    "}\n",
    "\n",
    "rfc = Modeler(RandomForestClassifier, X_train_over_sampled, y_train_over_sampled, X_cv_over_sampled, y_cv_over_sampled, rfc_params, scale=False) "
   ]
  },
  {
   "cell_type": "code",
   "execution_count": 31,
   "metadata": {},
   "outputs": [
    {
     "name": "stdout",
     "output_type": "stream",
     "text": [
      "accuracy: 88.29787234042553 %\n",
      "recall: 77.76785714285714 %\n",
      "ROC: 77.76785714285714 %\n"
     ]
    },
    {
     "data": {
      "image/png": "[encoded data removed]",
      "text/plain": [
       "<Figure size 720x432 with 1 Axes>"
      ]
     },
     "metadata": {},
     "output_type": "display_data"
    },
    {
     "data": {
      "image/png": "[encoded data removed]",
      "text/plain": [
       "<Figure size 720x432 with 1 Axes>"
      ]
     },
     "metadata": {},
     "output_type": "display_data"
    }
   ],
   "source": [
    "model_scoring = model_eval(rfc[\"model\"], X_test_over_sampled, y_test_over_sampled)\n",
    "scores[\"Random Forest | Binary\"] = {\"Accuracy\": '{0:.2f}'.format(round(model_scoring[0], 4)*100),\n",
    "                             \"ROC\": '{0:.2f}'.format(round(model_scoring[1],4)*100),\n",
    "                             \"F1-Score\": '{0:.2f}'.format(round(model_scoring[2],4)*100),\n",
    "                             \"Recall-Score\": '{0:.2f}'.format(round(model_scoring[3],4)*100)}"
   ]
  },
  {
   "cell_type": "code",
   "execution_count": 32,
   "metadata": {},
   "outputs": [
    {
     "data": {
      "image/png": "[encoded data removed]",
      "text/plain": [
       "<Figure size 432x288 with 1 Axes>"
      ]
     },
     "metadata": {},
     "output_type": "display_data"
    }
   ],
   "source": [
    "ROC_curve = plot_roc_curve(rfc[\"model\"], X_test_over_sampled, y_test_over_sampled)\n",
    "scores[\"Random Forest | Binary\"][\"AUC\"] = '{0:.2f}'.format(round(ROC_curve.roc_auc,4)*100)"
   ]
  },
  {
   "cell_type": "code",
   "execution_count": 136,
   "metadata": {},
   "outputs": [],
   "source": [
    "# SVC"
   ]
  },
  {
   "cell_type": "code",
   "execution_count": 33,
   "metadata": {},
   "outputs": [
    {
     "name": "stdout",
     "output_type": "stream",
     "text": [
      "Best Parameters for model: {'C': 1, 'gamma': 0.01, 'kernel': 'rbf'}\n"
     ]
    }
   ],
   "source": [
    "svc_params = {\n",
    "    'clf__C': [0.1, 1],\n",
    "    'clf__kernel': ['linear','rbf'],\n",
    "    'clf__gamma':[1, 0.01]\n",
    "}\n",
    "\n",
    "svc = Modeler(SVC, X_train_over_sampled, y_train_over_sampled, X_cv_over_sampled, y_cv_over_sampled, svc_params, scale=False, n_jobs=False)"
   ]
  },
  {
   "cell_type": "code",
   "execution_count": 34,
   "metadata": {},
   "outputs": [
    {
     "name": "stdout",
     "output_type": "stream",
     "text": [
      "accuracy: 83.51063829787235 %\n",
      "recall: 69.76190476190476 %\n",
      "ROC: 69.76190476190476 %\n"
     ]
    },
    {
     "data": {
      "image/png": "[encoded data removed]",
      "text/plain": [
       "<Figure size 720x432 with 1 Axes>"
      ]
     },
     "metadata": {},
     "output_type": "display_data"
    },
    {
     "data": {
      "image/png": "[encoded data removed]",
      "text/plain": [
       "<Figure size 720x432 with 1 Axes>"
      ]
     },
     "metadata": {},
     "output_type": "display_data"
    }
   ],
   "source": [
    "model_scoring = model_eval(svc[\"model\"], X_test_over_sampled, y_test_over_sampled)\n",
    "scores[\"Support-Vector Machine | Binary\"] = {\"Accuracy\": '{0:.2f}'.format(round(model_scoring[0], 4)*100),\n",
    "                             \"ROC\": '{0:.2f}'.format(round(model_scoring[1],4)*100),\n",
    "                             \"F1-Score\": '{0:.2f}'.format(round(model_scoring[2],4)*100),\n",
    "                             \"Recall-Score\": '{0:.2f}'.format(round(model_scoring[3],4)*100)}"
   ]
  },
  {
   "cell_type": "code",
   "execution_count": 35,
   "metadata": {},
   "outputs": [
    {
     "data": {
      "image/png": "[encoded data removed]",
      "text/plain": [
       "<Figure size 432x288 with 1 Axes>"
      ]
     },
     "metadata": {},
     "output_type": "display_data"
    }
   ],
   "source": [
    "ROC_curve = plot_roc_curve(svc[\"model\"], X_test_over_sampled, y_test_over_sampled)\n",
    "scores[\"Support-Vector Machine | Binary\"][\"AUC\"] = '{0:.2f}'.format(round(ROC_curve.roc_auc,4)*100)"
   ]
  },
  {
   "cell_type": "code",
   "execution_count": null,
   "metadata": {},
   "outputs": [],
   "source": [
    "# naive_bayes"
   ]
  },
  {
   "cell_type": "code",
   "execution_count": 36,
   "metadata": {},
   "outputs": [
    {
     "name": "stdout",
     "output_type": "stream",
     "text": [
      "Best Parameters for model: {}\n"
     ]
    }
   ],
   "source": [
    "naive_bayes = Modeler(GaussianNB, X_train_over_sampled, y_train_over_sampled, X_cv_over_sampled, y_cv_over_sampled,params={}, scale=False, n_jobs=False)"
   ]
  },
  {
   "cell_type": "code",
   "execution_count": 37,
   "metadata": {},
   "outputs": [
    {
     "name": "stdout",
     "output_type": "stream",
     "text": [
      "accuracy: 72.87234042553192 %\n",
      "recall: 74.25595238095238 %\n",
      "ROC: 74.2559523809524 %\n"
     ]
    },
    {
     "data": {
      "image/png": "[encoded data removed]",
      "text/plain": [
       "<Figure size 720x432 with 1 Axes>"
      ]
     },
     "metadata": {},
     "output_type": "display_data"
    },
    {
     "data": {
      "image/png": "[encoded data removed]",
      "text/plain": [
       "<Figure size 720x432 with 1 Axes>"
      ]
     },
     "metadata": {},
     "output_type": "display_data"
    }
   ],
   "source": [
    "model_scoring = model_eval(naive_bayes[\"model\"], X_test_over_sampled, y_test_over_sampled)\n",
    "scores[\"Naive Bayes | Binary\"] = {\"Accuracy\": '{0:.2f}'.format(round(model_scoring[0], 4)*100),\n",
    "                             \"ROC\": '{0:.2f}'.format(round(model_scoring[1],4)*100),\n",
    "                             \"F1-Score\": '{0:.2f}'.format(round(model_scoring[2],4)*100),\n",
    "                              \"Recall-Score\": '{0:.2f}'.format(round(model_scoring[3],4)*100)}"
   ]
  },
  {
   "cell_type": "code",
   "execution_count": 38,
   "metadata": {},
   "outputs": [
    {
     "data": {
      "image/png": "[encoded data removed]",
      "text/plain": [
       "<Figure size 432x288 with 1 Axes>"
      ]
     },
     "metadata": {},
     "output_type": "display_data"
    }
   ],
   "source": [
    "ROC_curve = plot_roc_curve(naive_bayes[\"model\"], X_cv_over_sampled, y_cv_over_sampled)\n",
    "scores[\"Naive Bayes | Binary\"][\"AUC\"] = '{0:.2f}'.format(round(ROC_curve.roc_auc,4)*100)"
   ]
  },
  {
   "cell_type": "code",
   "execution_count": 44,
   "metadata": {},
   "outputs": [],
   "source": [
    "# Model Evaluation Comparision '%'"
   ]
  },
  {
   "cell_type": "code",
   "execution_count": 39,
   "metadata": {},
   "outputs": [],
   "source": [
    "score_df = pd.DataFrame.from_dict(scores).T\n",
    "score_df= score_df.sort_values('Accuracy', ascending=False)"
   ]
  },
  {
   "cell_type": "code",
   "execution_count": 40,
   "metadata": {},
   "outputs": [
    {
     "data": {
      "text/html": [
       "<div>\n",
       "<style scoped>\n",
       "    .dataframe tbody tr th:only-of-type {\n",
       "        vertical-align: middle;\n",
       "    }\n",
       "\n",
       "    .dataframe tbody tr th {\n",
       "        vertical-align: top;\n",
       "    }\n",
       "\n",
       "    .dataframe thead th {\n",
       "        text-align: right;\n",
       "    }\n",
       "</style>\n",
       "<table border=\"1\" class=\"dataframe\">\n",
       "  <thead>\n",
       "    <tr style=\"text-align: right;\">\n",
       "      <th></th>\n",
       "      <th>Accuracy</th>\n",
       "      <th>ROC</th>\n",
       "      <th>F1-Score</th>\n",
       "      <th>Recall-Score</th>\n",
       "      <th>AUC</th>\n",
       "    </tr>\n",
       "  </thead>\n",
       "  <tbody>\n",
       "    <tr>\n",
       "      <th>Random Forest | Binary</th>\n",
       "      <td>88.30</td>\n",
       "      <td>77.77</td>\n",
       "      <td>81.86</td>\n",
       "      <td>77.77</td>\n",
       "      <td>93.33</td>\n",
       "    </tr>\n",
       "    <tr>\n",
       "      <th>XGBoost | Binary</th>\n",
       "      <td>87.23</td>\n",
       "      <td>77.05</td>\n",
       "      <td>80.59</td>\n",
       "      <td>77.05</td>\n",
       "      <td>93.17</td>\n",
       "    </tr>\n",
       "    <tr>\n",
       "      <th>AdaBoost Classifier | Binary</th>\n",
       "      <td>86.17</td>\n",
       "      <td>74.29</td>\n",
       "      <td>78.13</td>\n",
       "      <td>74.29</td>\n",
       "      <td>86.44</td>\n",
       "    </tr>\n",
       "    <tr>\n",
       "      <th>Support-Vector Machine | Binary</th>\n",
       "      <td>83.51</td>\n",
       "      <td>69.76</td>\n",
       "      <td>73.09</td>\n",
       "      <td>69.76</td>\n",
       "      <td>81.68</td>\n",
       "    </tr>\n",
       "    <tr>\n",
       "      <th>Naive Bayes | Binary</th>\n",
       "      <td>72.87</td>\n",
       "      <td>74.26</td>\n",
       "      <td>69.44</td>\n",
       "      <td>74.26</td>\n",
       "      <td>77.72</td>\n",
       "    </tr>\n",
       "  </tbody>\n",
       "</table>\n",
       "</div>"
      ],
      "text/plain": [
       "                                Accuracy    ROC F1-Score Recall-Score    AUC\n",
       "Random Forest | Binary             88.30  77.77    81.86        77.77  93.33\n",
       "XGBoost | Binary                   87.23  77.05    80.59        77.05  93.17\n",
       "AdaBoost Classifier | Binary       86.17  74.29    78.13        74.29  86.44\n",
       "Support-Vector Machine | Binary    83.51  69.76    73.09        69.76  81.68\n",
       "Naive Bayes | Binary               72.87  74.26    69.44        74.26  77.72"
      ]
     },
     "execution_count": 40,
     "metadata": {},
     "output_type": "execute_result"
    }
   ],
   "source": [
    "score_df"
   ]
  },
  {
   "cell_type": "code",
   "execution_count": 123,
   "metadata": {},
   "outputs": [],
   "source": [
    "#feature importance using xgboost"
   ]
  },
  {
   "cell_type": "code",
   "execution_count": 152,
   "metadata": {},
   "outputs": [
    {
     "name": "stdout",
     "output_type": "stream",
     "text": [
      "[19:10:29] WARNING: C:/Users/Administrator/workspace/xgboost-win64_release_1.5.1/src/learner.cc:1115: Starting in XGBoost 1.3.0, the default evaluation metric used with the objective 'binary:logistic' was changed from 'error' to 'logloss'. Explicitly set eval_metric if you'd like to restore the old behavior.\n"
     ]
    },
    {
     "data": {
      "text/plain": [
       "XGBClassifier(base_score=0.5, booster='gbtree', colsample_bylevel=1,\n",
       "              colsample_bynode=1, colsample_bytree=1, enable_categorical=False,\n",
       "              gamma=0, gpu_id=-1, importance_type=None,\n",
       "              interaction_constraints='', learning_rate=0.300000012,\n",
       "              max_delta_step=0, max_depth=6, min_child_weight=1, missing=nan,\n",
       "              monotone_constraints='()', n_estimators=100, n_jobs=4,\n",
       "              num_parallel_tree=1, predictor='auto', random_state=0,\n",
       "              reg_alpha=0, reg_lambda=1, scale_pos_weight=1, subsample=1,\n",
       "              tree_method='exact', validate_parameters=1, verbosity=None)"
      ]
     },
     "execution_count": 152,
     "metadata": {},
     "output_type": "execute_result"
    }
   ],
   "source": [
    "model = XGBClassifier()\n",
    "model.fit(X_train_over_sampled,y_train_over_sampled)"
   ]
  },
  {
   "cell_type": "code",
   "execution_count": 153,
   "metadata": {},
   "outputs": [
    {
     "name": "stdout",
     "output_type": "stream",
     "text": [
      "[0.10278101 0.16066277 0.1322404  0.18246835 0.10620168 0.10247912\n",
      " 0.04859877 0.06730934 0.04976001 0.04749858]\n"
     ]
    }
   ],
   "source": [
    "print(model.feature_importances_)"
   ]
  },
  {
   "cell_type": "code",
   "execution_count": 155,
   "metadata": {},
   "outputs": [
    {
     "data": {
      "text/html": [
       "<div>\n",
       "<style scoped>\n",
       "    .dataframe tbody tr th:only-of-type {\n",
       "        vertical-align: middle;\n",
       "    }\n",
       "\n",
       "    .dataframe tbody tr th {\n",
       "        vertical-align: top;\n",
       "    }\n",
       "\n",
       "    .dataframe thead th {\n",
       "        text-align: right;\n",
       "    }\n",
       "</style>\n",
       "<table border=\"1\" class=\"dataframe\">\n",
       "  <thead>\n",
       "    <tr style=\"text-align: right;\">\n",
       "      <th></th>\n",
       "      <th>0</th>\n",
       "    </tr>\n",
       "  </thead>\n",
       "  <tbody>\n",
       "    <tr>\n",
       "      <th>count</th>\n",
       "      <td>10.000000</td>\n",
       "    </tr>\n",
       "    <tr>\n",
       "      <th>mean</th>\n",
       "      <td>0.100000</td>\n",
       "    </tr>\n",
       "    <tr>\n",
       "      <th>std</th>\n",
       "      <td>0.047801</td>\n",
       "    </tr>\n",
       "    <tr>\n",
       "      <th>min</th>\n",
       "      <td>0.047499</td>\n",
       "    </tr>\n",
       "    <tr>\n",
       "      <th>25%</th>\n",
       "      <td>0.054147</td>\n",
       "    </tr>\n",
       "    <tr>\n",
       "      <th>50%</th>\n",
       "      <td>0.102630</td>\n",
       "    </tr>\n",
       "    <tr>\n",
       "      <th>75%</th>\n",
       "      <td>0.125731</td>\n",
       "    </tr>\n",
       "    <tr>\n",
       "      <th>max</th>\n",
       "      <td>0.182468</td>\n",
       "    </tr>\n",
       "  </tbody>\n",
       "</table>\n",
       "</div>"
      ],
      "text/plain": [
       "               0\n",
       "count  10.000000\n",
       "mean    0.100000\n",
       "std     0.047801\n",
       "min     0.047499\n",
       "25%     0.054147\n",
       "50%     0.102630\n",
       "75%     0.125731\n",
       "max     0.182468"
      ]
     },
     "execution_count": 155,
     "metadata": {},
     "output_type": "execute_result"
    }
   ],
   "source": [
    "features = pd.DataFrame(model.feature_importances_)\n",
    "features.describe()"
   ]
  },
  {
   "cell_type": "code",
   "execution_count": 156,
   "metadata": {},
   "outputs": [
    {
     "data": {
      "image/png": "[encoded data removed]",
      "text/plain": [
       "<Figure size 432x288 with 1 Axes>"
      ]
     },
     "metadata": {},
     "output_type": "display_data"
    }
   ],
   "source": [
    "pyplot.bar(range(len(model.feature_importances_)),model.feature_importances_)\n",
    "pyplot.show()"
   ]
  },
  {
   "cell_type": "code",
   "execution_count": 157,
   "metadata": {},
   "outputs": [
    {
     "name": "stdout",
     "output_type": "stream",
     "text": [
      "('LOC_BLANK', 0.10278101)\n",
      "('PERCENT_COMMENTS', 0.16066277)\n",
      "('PARAMETER_COUNT', 0.1322404)\n",
      "('CONDITION_COUNT', 0.18246835)\n",
      "('CYCLOMATIC_DENSITY', 0.10620168)\n",
      "('DESIGN_COMPLEXITY', 0.10247912)\n",
      "('DESIGN_DENSITY', 0.048598774)\n",
      "('ESSENTIAL_COMPLEXITY', 0.06730934)\n",
      "('NUM_OPERATORS', 0.049760006)\n",
      "('HALSTEAD_LEVEL', 0.047498576)\n"
     ]
    }
   ],
   "source": [
    "for feature in zip(X_train_over_sampled.columns,model.feature_importances_):\n",
    "    print(feature)"
   ]
  },
  {
   "cell_type": "code",
   "execution_count": 167,
   "metadata": {},
   "outputs": [
    {
     "name": "stdout",
     "output_type": "stream",
     "text": [
      "('LOC_BLANK', 0.10278101)\n",
      "('PERCENT_COMMENTS', 0.16066277)\n",
      "('PARAMETER_COUNT', 0.1322404)\n",
      "('CONDITION_COUNT', 0.18246835)\n",
      "('CYCLOMATIC_DENSITY', 0.10620168)\n",
      "('DESIGN_COMPLEXITY', 0.10247912)\n",
      "('ESSENTIAL_COMPLEXITY', 0.06730934)\n"
     ]
    }
   ],
   "source": [
    "feature_list=[];\n",
    "for feature in zip(X_train_over_sampled.columns,model.feature_importances_):\n",
    "    if feature[1] > 0.054:\n",
    "        print(feature)\n",
    "        feature_list.append(feature)"
   ]
  },
  {
   "cell_type": "code",
   "execution_count": null,
   "metadata": {},
   "outputs": [],
   "source": [
    "# ranking features"
   ]
  },
  {
   "cell_type": "code",
   "execution_count": 173,
   "metadata": {
    "scrolled": true
   },
   "outputs": [
    {
     "data": {
      "text/html": [
       "<div>\n",
       "<style scoped>\n",
       "    .dataframe tbody tr th:only-of-type {\n",
       "        vertical-align: middle;\n",
       "    }\n",
       "\n",
       "    .dataframe tbody tr th {\n",
       "        vertical-align: top;\n",
       "    }\n",
       "\n",
       "    .dataframe thead th {\n",
       "        text-align: right;\n",
       "    }\n",
       "</style>\n",
       "<table border=\"1\" class=\"dataframe\">\n",
       "  <thead>\n",
       "    <tr style=\"text-align: right;\">\n",
       "      <th></th>\n",
       "      <th>0</th>\n",
       "      <th>1</th>\n",
       "    </tr>\n",
       "  </thead>\n",
       "  <tbody>\n",
       "    <tr>\n",
       "      <th>0</th>\n",
       "      <td>CONDITION_COUNT</td>\n",
       "      <td>0.182468</td>\n",
       "    </tr>\n",
       "    <tr>\n",
       "      <th>1</th>\n",
       "      <td>PERCENT_COMMENTS</td>\n",
       "      <td>0.160663</td>\n",
       "    </tr>\n",
       "    <tr>\n",
       "      <th>2</th>\n",
       "      <td>PARAMETER_COUNT</td>\n",
       "      <td>0.132240</td>\n",
       "    </tr>\n",
       "    <tr>\n",
       "      <th>3</th>\n",
       "      <td>CYCLOMATIC_DENSITY</td>\n",
       "      <td>0.106202</td>\n",
       "    </tr>\n",
       "    <tr>\n",
       "      <th>4</th>\n",
       "      <td>LOC_BLANK</td>\n",
       "      <td>0.102781</td>\n",
       "    </tr>\n",
       "    <tr>\n",
       "      <th>5</th>\n",
       "      <td>DESIGN_COMPLEXITY</td>\n",
       "      <td>0.102479</td>\n",
       "    </tr>\n",
       "    <tr>\n",
       "      <th>6</th>\n",
       "      <td>ESSENTIAL_COMPLEXITY</td>\n",
       "      <td>0.067309</td>\n",
       "    </tr>\n",
       "  </tbody>\n",
       "</table>\n",
       "</div>"
      ],
      "text/plain": [
       "                      0         1\n",
       "0       CONDITION_COUNT  0.182468\n",
       "1      PERCENT_COMMENTS  0.160663\n",
       "2       PARAMETER_COUNT  0.132240\n",
       "3    CYCLOMATIC_DENSITY  0.106202\n",
       "4             LOC_BLANK  0.102781\n",
       "5     DESIGN_COMPLEXITY  0.102479\n",
       "6  ESSENTIAL_COMPLEXITY  0.067309"
      ]
     },
     "execution_count": 173,
     "metadata": {},
     "output_type": "execute_result"
    }
   ],
   "source": [
    "feature_list.sort(key=lambda item: item[1])\n",
    "feature_list.reverse()\n",
    "features= pd.DataFrame(feature_list)\n",
    "features"
   ]
  },
  {
   "cell_type": "code",
   "execution_count": 174,
   "metadata": {},
   "outputs": [
    {
     "name": "stdout",
     "output_type": "stream",
     "text": [
      "[19:21:31] WARNING: C:/Users/Administrator/workspace/xgboost-win64_release_1.5.1/src/learner.cc:1115: Starting in XGBoost 1.3.0, the default evaluation metric used with the objective 'binary:logistic' was changed from 'error' to 'logloss'. Explicitly set eval_metric if you'd like to restore the old behavior.\n"
     ]
    }
   ],
   "source": [
    "sfm=SelectFromModel(model,threshold=0.054)\n",
    "X_important_train=sfm.fit(X_train_over_sampled,y_train_over_sampled)"
   ]
  },
  {
   "cell_type": "code",
   "execution_count": 175,
   "metadata": {},
   "outputs": [],
   "source": [
    "X_train_important_over_sampled = X_important_train.transform(X_train_over_sampled)"
   ]
  },
  {
   "cell_type": "code",
   "execution_count": 176,
   "metadata": {},
   "outputs": [
    {
     "data": {
      "text/plain": [
       "(1092, 7)"
      ]
     },
     "execution_count": 176,
     "metadata": {},
     "output_type": "execute_result"
    }
   ],
   "source": [
    "X_train_important_over_sampled.shape"
   ]
  },
  {
   "cell_type": "code",
   "execution_count": null,
   "metadata": {},
   "outputs": [],
   "source": [
    "#"
   ]
  },
  {
   "cell_type": "code",
   "execution_count": 179,
   "metadata": {},
   "outputs": [
    {
     "name": "stdout",
     "output_type": "stream",
     "text": [
      "Train: (764, 7) (764,) Test: (164, 7) (164,) Cross Validation (164, 7) (164,)\n"
     ]
    }
   ],
   "source": [
    "validation_size = 0.3\n",
    "random_seed=7\n",
    "\n",
    "from sklearn.model_selection import train_test_split\n",
    "X_train_over_sampled, X_test_over_sampled, y_train_over_sampled, y_test_over_sampled = train_test_split(X_train_important_over_sampled, y_train_over_sampled, test_size=0.3,random_state=7)\n",
    "X_cv_over_sampled, X_test_over_sampled, y_cv_over_sampled, y_test_over_sampled = train_test_split(X_test_over_sampled, y_test_over_sampled, test_size=0.5)\n",
    "print(\"Train:\", X_train_over_sampled.shape, y_train_over_sampled.shape,\n",
    "      \"Test:\", X_test_over_sampled.shape, y_test_over_sampled.shape,\n",
    "      \"Cross Validation\", X_cv_over_sampled.shape, y_cv_over_sampled.shape)"
   ]
  },
  {
   "cell_type": "code",
   "execution_count": 127,
   "metadata": {},
   "outputs": [],
   "source": [
    "#xgboost"
   ]
  },
  {
   "cell_type": "code",
   "execution_count": 181,
   "metadata": {},
   "outputs": [
    {
     "name": "stdout",
     "output_type": "stream",
     "text": [
      "[19:29:58] WARNING: C:/Users/Administrator/workspace/xgboost-win64_release_1.5.1/src/learner.cc:1115: Starting in XGBoost 1.3.0, the default evaluation metric used with the objective 'binary:logistic' was changed from 'error' to 'logloss'. Explicitly set eval_metric if you'd like to restore the old behavior.\n",
      "[19:29:59] WARNING: C:/Users/Administrator/workspace/xgboost-win64_release_1.5.1/src/learner.cc:1115: Starting in XGBoost 1.3.0, the default evaluation metric used with the objective 'binary:logistic' was changed from 'error' to 'logloss'. Explicitly set eval_metric if you'd like to restore the old behavior.\n",
      "Best Parameters for model: {'colsample_bytree': 0.8, 'learning_rate': 0.1, 'max_depth': 8, 'n_estimators': 200, 'reg_alpha': 1.1, 'subsample': 0.8}\n"
     ]
    }
   ],
   "source": [
    "xg_params = {\n",
    "    'clf__max_depth': [8, 9],\n",
    "    'clf__learning_rate': [0.1],\n",
    "    'clf__n_estimators':[200],\n",
    "    'clf__reg_alpha':[1.1],\n",
    "    'clf__colsample_bytree':[0.8],\n",
    "    'clf__subsample':[0.8, 0.9,],\n",
    "}\n",
    "\n",
    "xgboost = Modeler(XGBClassifier, X_train_over_sampled, y_train_over_sampled, X_cv_over_sampled, y_cv_over_sampled, xg_params, scale=False, n_jobs=5)"
   ]
  },
  {
   "cell_type": "code",
   "execution_count": 182,
   "metadata": {},
   "outputs": [
    {
     "name": "stdout",
     "output_type": "stream",
     "text": [
      "accuracy: 86.58536585365853 %\n",
      "ROC: 82.71972760161736 %\n"
     ]
    },
    {
     "data": {
      "image/png": "[encoded data removed]",
      "text/plain": [
       "<Figure size 720x432 with 1 Axes>"
      ]
     },
     "metadata": {},
     "output_type": "display_data"
    },
    {
     "data": {
      "image/png": "[encoded data removed]",
      "text/plain": [
       "<Figure size 720x432 with 1 Axes>"
      ]
     },
     "metadata": {},
     "output_type": "display_data"
    }
   ],
   "source": [
    "model_scoring = model_eval(xgboost[\"model\"], X_test_over_sampled, y_test_over_sampled, multi=False)\n",
    "scores[\"XGBoost | Binary\"] = {\"Accuracy\": '{0:.2f}'.format(round(model_scoring[0], 4)*100),\n",
    "                             \"ROC\": '{0:.2f}'.format(round(model_scoring[1],4)*100),\n",
    "                             \"F1-Score\": '{0:.2f}'.format(round(model_scoring[2],4)*100)}"
   ]
  },
  {
   "cell_type": "code",
   "execution_count": 183,
   "metadata": {},
   "outputs": [
    {
     "data": {
      "image/png": "[encoded data removed]",
      "text/plain": [
       "<Figure size 432x288 with 1 Axes>"
      ]
     },
     "metadata": {},
     "output_type": "display_data"
    }
   ],
   "source": [
    "ROC_curve = plot_roc_curve(xgboost[\"model\"], X_test_over_sampled, y_test_over_sampled)\n",
    "scores[\"XGBoost | Binary\"][\"AUC\"] = '{0:.2f}'.format(round(ROC_curve.roc_auc,4)*100)"
   ]
  }
 ],
 "metadata": {
  "kernelspec": {
   "display_name": "Python 3 (ipykernel)",
   "language": "python",
   "name": "python3"
  },
  "language_info": {
   "codemirror_mode": {
    "name": "ipython",
    "version": 3
   },
   "file_extension": ".py",
   "mimetype": "text/x-python",
   "name": "python",
   "nbconvert_exporter": "python",
   "pygments_lexer": "ipython3",
   "version": "3.7.1"
  }
 },
 "nbformat": 4,
 "nbformat_minor": 2
}
