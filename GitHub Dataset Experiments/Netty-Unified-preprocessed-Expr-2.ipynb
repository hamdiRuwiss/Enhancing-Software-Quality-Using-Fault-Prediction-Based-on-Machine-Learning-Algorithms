{
 "cells": [
  {
   "cell_type": "code",
   "execution_count": 28,
   "metadata": {},
   "outputs": [],
   "source": [
    "import pandas as pd\n",
    "import numpy as np\n",
    "import random as rnd\n",
    "from scipy.io.arff import loadarff\n",
    "\n",
    "import seaborn as sns\n",
    "import matplotlib.pyplot as plt\n",
    "plt.rcParams[\"figure.figsize\"] = (8, 5)\n",
    "\n",
    "from sklearn.ensemble import BaggingClassifier\n",
    "\n",
    "from sklearn.linear_model import LogisticRegression\n",
    "from sklearn.svm import SVC, LinearSVC\n",
    "from sklearn.ensemble import RandomForestClassifier\n",
    "from sklearn.neighbors import KNeighborsClassifier\n",
    "from sklearn.naive_bayes import GaussianNB\n",
    "from sklearn.linear_model import Perceptron\n",
    "from sklearn.linear_model import SGDClassifier\n",
    "from sklearn.tree import DecisionTreeClassifier\n",
    "from sklearn.preprocessing import StandardScaler\n",
    "from sklearn.linear_model import Lasso\n",
    "from sklearn.pipeline import Pipeline\n",
    "from sklearn.model_selection import GridSearchCV\n",
    "from sklearn.model_selection import StratifiedKFold\n",
    "\n",
    "from sklearn.ensemble import AdaBoostClassifier\n",
    "from xgboost import XGBClassifier\n",
    "\n",
    "\n",
    "from sklearn.metrics import accuracy_score, roc_auc_score, roc_curve, auc, confusion_matrix, f1_score\n",
    "\n",
    "# model evaluation calculate and score\n",
    "from sklearn.metrics import accuracy_score, recall_score, precision_score, roc_auc_score,  mean_squared_error\n",
    "\n",
    "# plot metrics model answer(metrics)\n",
    "from sklearn.metrics import plot_roc_curve, plot_precision_recall_curve\n",
    "\n",
    "# model evaluation \n",
    "from sklearn.metrics import classification_report, confusion_matrix\n",
    "\n",
    "from sklearn.preprocessing import LabelBinarizer\n",
    "\n",
    "\n",
    "from mpl_toolkits.mplot3d import Axes3D\n",
    "from sklearn.cluster import KMeans\n",
    "from sklearn.dummy import DummyClassifier\n",
    "from sklearn.decomposition import PCA\n",
    "from sklearn.mixture import GaussianMixture\n",
    "#import umap\n",
    "\n",
    "import matplotlib.pyplot as plt\n",
    "%matplotlib inline\n",
    "\n",
    "import seaborn as sns\n",
    "sns.set_style('whitegrid')\n",
    "\n",
    "import warnings\n",
    "warnings.filterwarnings('ignore')\n",
    "\n",
    "from tqdm import tqdm\n",
    "\n",
    "# import some dependencies to plot\n",
    "\n",
    "from plotly.offline import iplot\n",
    "# init_notebook_mode(connected=True)\n",
    "import plotly.graph_objs as go\n",
    "\n",
    "from sklearn.model_selection import train_test_split, KFold, cross_val_score\n",
    "\n",
    "# machine learning model\n",
    "from sklearn.naive_bayes import GaussianNB, MultinomialNB, BernoulliNB\n",
    "from sklearn.linear_model import LinearRegression\n",
    "from sklearn.tree import DecisionTreeClassifier\n",
    "# boosting\n",
    "from xgboost import XGBClassifier\n",
    "from xgboost import plot_importance\n",
    "from matplotlib import pyplot\n",
    "from sklearn.feature_selection import SelectFromModel\n",
    "\n",
    "# Import for VIF\n",
    "from statsmodels.stats.outliers_influence import variance_inflation_factor\n",
    "from statsmodels.tools.tools import add_constant"
   ]
  },
  {
   "cell_type": "code",
   "execution_count": 29,
   "metadata": {},
   "outputs": [
    {
     "data": {
      "text/html": [
       "<div>\n",
       "<style scoped>\n",
       "    .dataframe tbody tr th:only-of-type {\n",
       "        vertical-align: middle;\n",
       "    }\n",
       "\n",
       "    .dataframe tbody tr th {\n",
       "        vertical-align: top;\n",
       "    }\n",
       "\n",
       "    .dataframe thead th {\n",
       "        text-align: right;\n",
       "    }\n",
       "</style>\n",
       "<table border=\"1\" class=\"dataframe\">\n",
       "  <thead>\n",
       "    <tr style=\"text-align: right;\">\n",
       "      <th></th>\n",
       "      <th>CC</th>\n",
       "      <th>CCL</th>\n",
       "      <th>CCO</th>\n",
       "      <th>CI</th>\n",
       "      <th>CLC</th>\n",
       "      <th>CLLC</th>\n",
       "      <th>LDC</th>\n",
       "      <th>LLDC</th>\n",
       "      <th>LCOM5</th>\n",
       "      <th>NL</th>\n",
       "      <th>...</th>\n",
       "      <th>TNLM</th>\n",
       "      <th>TNLPA</th>\n",
       "      <th>TNLPM</th>\n",
       "      <th>TNLS</th>\n",
       "      <th>TNM</th>\n",
       "      <th>TNOS</th>\n",
       "      <th>TNPA</th>\n",
       "      <th>TNPM</th>\n",
       "      <th>TNS</th>\n",
       "      <th>bug</th>\n",
       "    </tr>\n",
       "  </thead>\n",
       "  <tbody>\n",
       "    <tr>\n",
       "      <th>0</th>\n",
       "      <td>0.0</td>\n",
       "      <td>0</td>\n",
       "      <td>0</td>\n",
       "      <td>0</td>\n",
       "      <td>0.0</td>\n",
       "      <td>0.0</td>\n",
       "      <td>0</td>\n",
       "      <td>0</td>\n",
       "      <td>1</td>\n",
       "      <td>1</td>\n",
       "      <td>...</td>\n",
       "      <td>2</td>\n",
       "      <td>0</td>\n",
       "      <td>2</td>\n",
       "      <td>0</td>\n",
       "      <td>2</td>\n",
       "      <td>8</td>\n",
       "      <td>0</td>\n",
       "      <td>2</td>\n",
       "      <td>0</td>\n",
       "      <td>0</td>\n",
       "    </tr>\n",
       "    <tr>\n",
       "      <th>1</th>\n",
       "      <td>0.0</td>\n",
       "      <td>0</td>\n",
       "      <td>0</td>\n",
       "      <td>0</td>\n",
       "      <td>0.0</td>\n",
       "      <td>0.0</td>\n",
       "      <td>0</td>\n",
       "      <td>0</td>\n",
       "      <td>5</td>\n",
       "      <td>0</td>\n",
       "      <td>...</td>\n",
       "      <td>5</td>\n",
       "      <td>0</td>\n",
       "      <td>5</td>\n",
       "      <td>0</td>\n",
       "      <td>5</td>\n",
       "      <td>5</td>\n",
       "      <td>0</td>\n",
       "      <td>5</td>\n",
       "      <td>0</td>\n",
       "      <td>0</td>\n",
       "    </tr>\n",
       "    <tr>\n",
       "      <th>2</th>\n",
       "      <td>0.0</td>\n",
       "      <td>0</td>\n",
       "      <td>0</td>\n",
       "      <td>0</td>\n",
       "      <td>0.0</td>\n",
       "      <td>0.0</td>\n",
       "      <td>0</td>\n",
       "      <td>0</td>\n",
       "      <td>0</td>\n",
       "      <td>0</td>\n",
       "      <td>...</td>\n",
       "      <td>0</td>\n",
       "      <td>0</td>\n",
       "      <td>0</td>\n",
       "      <td>0</td>\n",
       "      <td>0</td>\n",
       "      <td>0</td>\n",
       "      <td>0</td>\n",
       "      <td>0</td>\n",
       "      <td>0</td>\n",
       "      <td>0</td>\n",
       "    </tr>\n",
       "    <tr>\n",
       "      <th>3</th>\n",
       "      <td>0.0</td>\n",
       "      <td>0</td>\n",
       "      <td>0</td>\n",
       "      <td>0</td>\n",
       "      <td>0.0</td>\n",
       "      <td>0.0</td>\n",
       "      <td>0</td>\n",
       "      <td>0</td>\n",
       "      <td>0</td>\n",
       "      <td>0</td>\n",
       "      <td>...</td>\n",
       "      <td>0</td>\n",
       "      <td>0</td>\n",
       "      <td>0</td>\n",
       "      <td>0</td>\n",
       "      <td>1</td>\n",
       "      <td>0</td>\n",
       "      <td>0</td>\n",
       "      <td>1</td>\n",
       "      <td>0</td>\n",
       "      <td>0</td>\n",
       "    </tr>\n",
       "    <tr>\n",
       "      <th>4</th>\n",
       "      <td>0.0</td>\n",
       "      <td>0</td>\n",
       "      <td>0</td>\n",
       "      <td>0</td>\n",
       "      <td>0.0</td>\n",
       "      <td>0.0</td>\n",
       "      <td>0</td>\n",
       "      <td>0</td>\n",
       "      <td>1</td>\n",
       "      <td>0</td>\n",
       "      <td>...</td>\n",
       "      <td>9</td>\n",
       "      <td>0</td>\n",
       "      <td>9</td>\n",
       "      <td>0</td>\n",
       "      <td>9</td>\n",
       "      <td>1</td>\n",
       "      <td>0</td>\n",
       "      <td>9</td>\n",
       "      <td>0</td>\n",
       "      <td>0</td>\n",
       "    </tr>\n",
       "    <tr>\n",
       "      <th>...</th>\n",
       "      <td>...</td>\n",
       "      <td>...</td>\n",
       "      <td>...</td>\n",
       "      <td>...</td>\n",
       "      <td>...</td>\n",
       "      <td>...</td>\n",
       "      <td>...</td>\n",
       "      <td>...</td>\n",
       "      <td>...</td>\n",
       "      <td>...</td>\n",
       "      <td>...</td>\n",
       "      <td>...</td>\n",
       "      <td>...</td>\n",
       "      <td>...</td>\n",
       "      <td>...</td>\n",
       "      <td>...</td>\n",
       "      <td>...</td>\n",
       "      <td>...</td>\n",
       "      <td>...</td>\n",
       "      <td>...</td>\n",
       "      <td>...</td>\n",
       "    </tr>\n",
       "    <tr>\n",
       "      <th>1138</th>\n",
       "      <td>0.0</td>\n",
       "      <td>0</td>\n",
       "      <td>0</td>\n",
       "      <td>0</td>\n",
       "      <td>0.0</td>\n",
       "      <td>0.0</td>\n",
       "      <td>0</td>\n",
       "      <td>0</td>\n",
       "      <td>0</td>\n",
       "      <td>0</td>\n",
       "      <td>...</td>\n",
       "      <td>0</td>\n",
       "      <td>0</td>\n",
       "      <td>0</td>\n",
       "      <td>0</td>\n",
       "      <td>0</td>\n",
       "      <td>0</td>\n",
       "      <td>0</td>\n",
       "      <td>0</td>\n",
       "      <td>0</td>\n",
       "      <td>0</td>\n",
       "    </tr>\n",
       "    <tr>\n",
       "      <th>1139</th>\n",
       "      <td>0.0</td>\n",
       "      <td>0</td>\n",
       "      <td>0</td>\n",
       "      <td>0</td>\n",
       "      <td>0.0</td>\n",
       "      <td>0.0</td>\n",
       "      <td>0</td>\n",
       "      <td>0</td>\n",
       "      <td>1</td>\n",
       "      <td>0</td>\n",
       "      <td>...</td>\n",
       "      <td>3</td>\n",
       "      <td>0</td>\n",
       "      <td>1</td>\n",
       "      <td>0</td>\n",
       "      <td>3</td>\n",
       "      <td>3</td>\n",
       "      <td>0</td>\n",
       "      <td>1</td>\n",
       "      <td>0</td>\n",
       "      <td>0</td>\n",
       "    </tr>\n",
       "    <tr>\n",
       "      <th>1140</th>\n",
       "      <td>0.0</td>\n",
       "      <td>0</td>\n",
       "      <td>0</td>\n",
       "      <td>0</td>\n",
       "      <td>0.0</td>\n",
       "      <td>0.0</td>\n",
       "      <td>0</td>\n",
       "      <td>0</td>\n",
       "      <td>2</td>\n",
       "      <td>0</td>\n",
       "      <td>...</td>\n",
       "      <td>2</td>\n",
       "      <td>0</td>\n",
       "      <td>2</td>\n",
       "      <td>0</td>\n",
       "      <td>5</td>\n",
       "      <td>3</td>\n",
       "      <td>0</td>\n",
       "      <td>5</td>\n",
       "      <td>0</td>\n",
       "      <td>0</td>\n",
       "    </tr>\n",
       "    <tr>\n",
       "      <th>1141</th>\n",
       "      <td>0.0</td>\n",
       "      <td>0</td>\n",
       "      <td>0</td>\n",
       "      <td>0</td>\n",
       "      <td>0.0</td>\n",
       "      <td>0.0</td>\n",
       "      <td>0</td>\n",
       "      <td>0</td>\n",
       "      <td>0</td>\n",
       "      <td>0</td>\n",
       "      <td>...</td>\n",
       "      <td>0</td>\n",
       "      <td>0</td>\n",
       "      <td>0</td>\n",
       "      <td>0</td>\n",
       "      <td>0</td>\n",
       "      <td>0</td>\n",
       "      <td>0</td>\n",
       "      <td>0</td>\n",
       "      <td>0</td>\n",
       "      <td>0</td>\n",
       "    </tr>\n",
       "    <tr>\n",
       "      <th>1142</th>\n",
       "      <td>0.0</td>\n",
       "      <td>0</td>\n",
       "      <td>0</td>\n",
       "      <td>0</td>\n",
       "      <td>0.0</td>\n",
       "      <td>0.0</td>\n",
       "      <td>0</td>\n",
       "      <td>0</td>\n",
       "      <td>2</td>\n",
       "      <td>2</td>\n",
       "      <td>...</td>\n",
       "      <td>5</td>\n",
       "      <td>0</td>\n",
       "      <td>4</td>\n",
       "      <td>0</td>\n",
       "      <td>5</td>\n",
       "      <td>14</td>\n",
       "      <td>0</td>\n",
       "      <td>4</td>\n",
       "      <td>0</td>\n",
       "      <td>0</td>\n",
       "    </tr>\n",
       "  </tbody>\n",
       "</table>\n",
       "<p>1143 rows × 61 columns</p>\n",
       "</div>"
      ],
      "text/plain": [
       "       CC  CCL  CCO  CI  CLC  CLLC  LDC  LLDC  LCOM5  NL  ...  TNLM  TNLPA  \\\n",
       "0     0.0    0    0   0  0.0   0.0    0     0      1   1  ...     2      0   \n",
       "1     0.0    0    0   0  0.0   0.0    0     0      5   0  ...     5      0   \n",
       "2     0.0    0    0   0  0.0   0.0    0     0      0   0  ...     0      0   \n",
       "3     0.0    0    0   0  0.0   0.0    0     0      0   0  ...     0      0   \n",
       "4     0.0    0    0   0  0.0   0.0    0     0      1   0  ...     9      0   \n",
       "...   ...  ...  ...  ..  ...   ...  ...   ...    ...  ..  ...   ...    ...   \n",
       "1138  0.0    0    0   0  0.0   0.0    0     0      0   0  ...     0      0   \n",
       "1139  0.0    0    0   0  0.0   0.0    0     0      1   0  ...     3      0   \n",
       "1140  0.0    0    0   0  0.0   0.0    0     0      2   0  ...     2      0   \n",
       "1141  0.0    0    0   0  0.0   0.0    0     0      0   0  ...     0      0   \n",
       "1142  0.0    0    0   0  0.0   0.0    0     0      2   2  ...     5      0   \n",
       "\n",
       "      TNLPM  TNLS  TNM  TNOS  TNPA  TNPM  TNS  bug  \n",
       "0         2     0    2     8     0     2    0    0  \n",
       "1         5     0    5     5     0     5    0    0  \n",
       "2         0     0    0     0     0     0    0    0  \n",
       "3         0     0    1     0     0     1    0    0  \n",
       "4         9     0    9     1     0     9    0    0  \n",
       "...     ...   ...  ...   ...   ...   ...  ...  ...  \n",
       "1138      0     0    0     0     0     0    0    0  \n",
       "1139      1     0    3     3     0     1    0    0  \n",
       "1140      2     0    5     3     0     5    0    0  \n",
       "1141      0     0    0     0     0     0    0    0  \n",
       "1142      4     0    5    14     0     4    0    0  \n",
       "\n",
       "[1143 rows x 61 columns]"
      ]
     },
     "execution_count": 29,
     "metadata": {},
     "output_type": "execute_result"
    }
   ],
   "source": [
    "df_data = pd.read_csv('data/cleaned/Netty-Unified.csv')\n",
    "df_data = df_data.iloc[:, 1:]\n",
    "df_data"
   ]
  },
  {
   "cell_type": "code",
   "execution_count": 30,
   "metadata": {},
   "outputs": [
    {
     "name": "stdout",
     "output_type": "stream",
     "text": [
      "<class 'pandas.core.frame.DataFrame'>\n",
      "RangeIndex: 1143 entries, 0 to 1142\n",
      "Data columns (total 61 columns):\n",
      " #   Column  Non-Null Count  Dtype  \n",
      "---  ------  --------------  -----  \n",
      " 0   CC      1143 non-null   float64\n",
      " 1   CCL     1143 non-null   int64  \n",
      " 2   CCO     1143 non-null   int64  \n",
      " 3   CI      1143 non-null   int64  \n",
      " 4   CLC     1143 non-null   float64\n",
      " 5   CLLC    1143 non-null   float64\n",
      " 6   LDC     1143 non-null   int64  \n",
      " 7   LLDC    1143 non-null   int64  \n",
      " 8   LCOM5   1143 non-null   int64  \n",
      " 9   NL      1143 non-null   int64  \n",
      " 10  NLE     1143 non-null   int64  \n",
      " 11  WMC     1143 non-null   int64  \n",
      " 12  CBO     1143 non-null   int64  \n",
      " 13  CBOI    1143 non-null   int64  \n",
      " 14  NII     1143 non-null   int64  \n",
      " 15  NOI     1143 non-null   int64  \n",
      " 16  RFC     1143 non-null   int64  \n",
      " 17  AD      1143 non-null   float64\n",
      " 18  CD      1143 non-null   float64\n",
      " 19  CLOC    1143 non-null   int64  \n",
      " 20  DLOC    1143 non-null   int64  \n",
      " 21  PDA     1143 non-null   int64  \n",
      " 22  PUA     1143 non-null   int64  \n",
      " 23  TCD     1143 non-null   float64\n",
      " 24  TCLOC   1143 non-null   int64  \n",
      " 25  DIT     1143 non-null   int64  \n",
      " 26  NOA     1143 non-null   int64  \n",
      " 27  NOC     1143 non-null   int64  \n",
      " 28  NOD     1143 non-null   int64  \n",
      " 29  NOP     1143 non-null   int64  \n",
      " 30  LLOC    1143 non-null   int64  \n",
      " 31  LOC     1143 non-null   int64  \n",
      " 32  NA      1143 non-null   int64  \n",
      " 33  NG      1143 non-null   int64  \n",
      " 34  NLA     1143 non-null   int64  \n",
      " 35  NLG     1143 non-null   int64  \n",
      " 36  NLM     1143 non-null   int64  \n",
      " 37  NLPA    1143 non-null   int64  \n",
      " 38  NLPM    1143 non-null   int64  \n",
      " 39  NLS     1143 non-null   int64  \n",
      " 40  NM      1143 non-null   int64  \n",
      " 41  NOS     1143 non-null   int64  \n",
      " 42  NPA     1143 non-null   int64  \n",
      " 43  NPM     1143 non-null   int64  \n",
      " 44  NS      1143 non-null   int64  \n",
      " 45  TLLOC   1143 non-null   int64  \n",
      " 46  TLOC    1143 non-null   int64  \n",
      " 47  TNA     1143 non-null   int64  \n",
      " 48  TNG     1143 non-null   int64  \n",
      " 49  TNLA    1143 non-null   int64  \n",
      " 50  TNLG    1143 non-null   int64  \n",
      " 51  TNLM    1143 non-null   int64  \n",
      " 52  TNLPA   1143 non-null   int64  \n",
      " 53  TNLPM   1143 non-null   int64  \n",
      " 54  TNLS    1143 non-null   int64  \n",
      " 55  TNM     1143 non-null   int64  \n",
      " 56  TNOS    1143 non-null   int64  \n",
      " 57  TNPA    1143 non-null   int64  \n",
      " 58  TNPM    1143 non-null   int64  \n",
      " 59  TNS     1143 non-null   int64  \n",
      " 60  bug     1143 non-null   int64  \n",
      "dtypes: float64(6), int64(55)\n",
      "memory usage: 544.8 KB\n"
     ]
    }
   ],
   "source": [
    "df_data.info() #informs about the data (memory usage, data types etc.)"
   ]
  },
  {
   "cell_type": "code",
   "execution_count": 31,
   "metadata": {},
   "outputs": [
    {
     "data": {
      "text/html": [
       "<div>\n",
       "<style scoped>\n",
       "    .dataframe tbody tr th:only-of-type {\n",
       "        vertical-align: middle;\n",
       "    }\n",
       "\n",
       "    .dataframe tbody tr th {\n",
       "        vertical-align: top;\n",
       "    }\n",
       "\n",
       "    .dataframe thead th {\n",
       "        text-align: right;\n",
       "    }\n",
       "</style>\n",
       "<table border=\"1\" class=\"dataframe\">\n",
       "  <thead>\n",
       "    <tr style=\"text-align: right;\">\n",
       "      <th></th>\n",
       "      <th>CC</th>\n",
       "      <th>CCL</th>\n",
       "      <th>CCO</th>\n",
       "      <th>CI</th>\n",
       "      <th>CLC</th>\n",
       "      <th>CLLC</th>\n",
       "      <th>LDC</th>\n",
       "      <th>LLDC</th>\n",
       "      <th>LCOM5</th>\n",
       "      <th>NL</th>\n",
       "      <th>...</th>\n",
       "      <th>TNLM</th>\n",
       "      <th>TNLPA</th>\n",
       "      <th>TNLPM</th>\n",
       "      <th>TNLS</th>\n",
       "      <th>TNM</th>\n",
       "      <th>TNOS</th>\n",
       "      <th>TNPA</th>\n",
       "      <th>TNPM</th>\n",
       "      <th>TNS</th>\n",
       "      <th>bug</th>\n",
       "    </tr>\n",
       "  </thead>\n",
       "  <tbody>\n",
       "    <tr>\n",
       "      <th>count</th>\n",
       "      <td>1143.000000</td>\n",
       "      <td>1143.000000</td>\n",
       "      <td>1143.000000</td>\n",
       "      <td>1143.000000</td>\n",
       "      <td>1143.000000</td>\n",
       "      <td>1143.000000</td>\n",
       "      <td>1143.000000</td>\n",
       "      <td>1143.000000</td>\n",
       "      <td>1143.000000</td>\n",
       "      <td>1143.000000</td>\n",
       "      <td>...</td>\n",
       "      <td>1143.000000</td>\n",
       "      <td>1143.000000</td>\n",
       "      <td>1143.000000</td>\n",
       "      <td>1143.000000</td>\n",
       "      <td>1143.000000</td>\n",
       "      <td>1143.000000</td>\n",
       "      <td>1143.000000</td>\n",
       "      <td>1143.000000</td>\n",
       "      <td>1143.000000</td>\n",
       "      <td>1143.000000</td>\n",
       "    </tr>\n",
       "    <tr>\n",
       "      <th>mean</th>\n",
       "      <td>0.151581</td>\n",
       "      <td>0.707787</td>\n",
       "      <td>3.302712</td>\n",
       "      <td>1.026247</td>\n",
       "      <td>0.133842</td>\n",
       "      <td>0.142677</td>\n",
       "      <td>12.008749</td>\n",
       "      <td>10.869641</td>\n",
       "      <td>1.913386</td>\n",
       "      <td>1.133858</td>\n",
       "      <td>...</td>\n",
       "      <td>7.433946</td>\n",
       "      <td>0.729659</td>\n",
       "      <td>5.684164</td>\n",
       "      <td>0.486439</td>\n",
       "      <td>20.007874</td>\n",
       "      <td>31.619423</td>\n",
       "      <td>1.158355</td>\n",
       "      <td>15.196850</td>\n",
       "      <td>0.857393</td>\n",
       "      <td>0.237095</td>\n",
       "    </tr>\n",
       "    <tr>\n",
       "      <th>std</th>\n",
       "      <td>0.304463</td>\n",
       "      <td>2.107114</td>\n",
       "      <td>12.836547</td>\n",
       "      <td>3.760241</td>\n",
       "      <td>0.284517</td>\n",
       "      <td>0.293378</td>\n",
       "      <td>42.411977</td>\n",
       "      <td>39.711984</td>\n",
       "      <td>3.570950</td>\n",
       "      <td>1.557008</td>\n",
       "      <td>...</td>\n",
       "      <td>17.127899</td>\n",
       "      <td>5.709815</td>\n",
       "      <td>14.664878</td>\n",
       "      <td>2.144422</td>\n",
       "      <td>30.370925</td>\n",
       "      <td>78.821760</td>\n",
       "      <td>6.014747</td>\n",
       "      <td>25.189313</td>\n",
       "      <td>3.094789</td>\n",
       "      <td>0.425487</td>\n",
       "    </tr>\n",
       "    <tr>\n",
       "      <th>min</th>\n",
       "      <td>0.000000</td>\n",
       "      <td>0.000000</td>\n",
       "      <td>0.000000</td>\n",
       "      <td>0.000000</td>\n",
       "      <td>0.000000</td>\n",
       "      <td>0.000000</td>\n",
       "      <td>0.000000</td>\n",
       "      <td>0.000000</td>\n",
       "      <td>0.000000</td>\n",
       "      <td>0.000000</td>\n",
       "      <td>...</td>\n",
       "      <td>0.000000</td>\n",
       "      <td>0.000000</td>\n",
       "      <td>0.000000</td>\n",
       "      <td>0.000000</td>\n",
       "      <td>0.000000</td>\n",
       "      <td>0.000000</td>\n",
       "      <td>0.000000</td>\n",
       "      <td>0.000000</td>\n",
       "      <td>0.000000</td>\n",
       "      <td>0.000000</td>\n",
       "    </tr>\n",
       "    <tr>\n",
       "      <th>25%</th>\n",
       "      <td>0.000000</td>\n",
       "      <td>0.000000</td>\n",
       "      <td>0.000000</td>\n",
       "      <td>0.000000</td>\n",
       "      <td>0.000000</td>\n",
       "      <td>0.000000</td>\n",
       "      <td>0.000000</td>\n",
       "      <td>0.000000</td>\n",
       "      <td>1.000000</td>\n",
       "      <td>0.000000</td>\n",
       "      <td>...</td>\n",
       "      <td>1.000000</td>\n",
       "      <td>0.000000</td>\n",
       "      <td>1.000000</td>\n",
       "      <td>0.000000</td>\n",
       "      <td>2.000000</td>\n",
       "      <td>2.000000</td>\n",
       "      <td>0.000000</td>\n",
       "      <td>1.000000</td>\n",
       "      <td>0.000000</td>\n",
       "      <td>0.000000</td>\n",
       "    </tr>\n",
       "    <tr>\n",
       "      <th>50%</th>\n",
       "      <td>0.000000</td>\n",
       "      <td>0.000000</td>\n",
       "      <td>0.000000</td>\n",
       "      <td>0.000000</td>\n",
       "      <td>0.000000</td>\n",
       "      <td>0.000000</td>\n",
       "      <td>0.000000</td>\n",
       "      <td>0.000000</td>\n",
       "      <td>1.000000</td>\n",
       "      <td>1.000000</td>\n",
       "      <td>...</td>\n",
       "      <td>3.000000</td>\n",
       "      <td>0.000000</td>\n",
       "      <td>2.000000</td>\n",
       "      <td>0.000000</td>\n",
       "      <td>11.000000</td>\n",
       "      <td>8.000000</td>\n",
       "      <td>0.000000</td>\n",
       "      <td>8.000000</td>\n",
       "      <td>0.000000</td>\n",
       "      <td>0.000000</td>\n",
       "    </tr>\n",
       "    <tr>\n",
       "      <th>75%</th>\n",
       "      <td>0.124412</td>\n",
       "      <td>1.000000</td>\n",
       "      <td>1.000000</td>\n",
       "      <td>1.000000</td>\n",
       "      <td>0.083508</td>\n",
       "      <td>0.107361</td>\n",
       "      <td>6.000000</td>\n",
       "      <td>6.000000</td>\n",
       "      <td>2.000000</td>\n",
       "      <td>2.000000</td>\n",
       "      <td>...</td>\n",
       "      <td>7.000000</td>\n",
       "      <td>0.000000</td>\n",
       "      <td>5.000000</td>\n",
       "      <td>0.000000</td>\n",
       "      <td>23.000000</td>\n",
       "      <td>29.000000</td>\n",
       "      <td>0.000000</td>\n",
       "      <td>17.000000</td>\n",
       "      <td>0.000000</td>\n",
       "      <td>0.000000</td>\n",
       "    </tr>\n",
       "    <tr>\n",
       "      <th>max</th>\n",
       "      <td>1.000000</td>\n",
       "      <td>29.000000</td>\n",
       "      <td>221.000000</td>\n",
       "      <td>64.000000</td>\n",
       "      <td>1.000000</td>\n",
       "      <td>1.000000</td>\n",
       "      <td>749.000000</td>\n",
       "      <td>737.000000</td>\n",
       "      <td>71.000000</td>\n",
       "      <td>15.000000</td>\n",
       "      <td>...</td>\n",
       "      <td>327.000000</td>\n",
       "      <td>106.000000</td>\n",
       "      <td>270.000000</td>\n",
       "      <td>19.000000</td>\n",
       "      <td>327.000000</td>\n",
       "      <td>1142.000000</td>\n",
       "      <td>106.000000</td>\n",
       "      <td>270.000000</td>\n",
       "      <td>26.000000</td>\n",
       "      <td>1.000000</td>\n",
       "    </tr>\n",
       "  </tbody>\n",
       "</table>\n",
       "<p>8 rows × 61 columns</p>\n",
       "</div>"
      ],
      "text/plain": [
       "                CC          CCL          CCO           CI          CLC  \\\n",
       "count  1143.000000  1143.000000  1143.000000  1143.000000  1143.000000   \n",
       "mean      0.151581     0.707787     3.302712     1.026247     0.133842   \n",
       "std       0.304463     2.107114    12.836547     3.760241     0.284517   \n",
       "min       0.000000     0.000000     0.000000     0.000000     0.000000   \n",
       "25%       0.000000     0.000000     0.000000     0.000000     0.000000   \n",
       "50%       0.000000     0.000000     0.000000     0.000000     0.000000   \n",
       "75%       0.124412     1.000000     1.000000     1.000000     0.083508   \n",
       "max       1.000000    29.000000   221.000000    64.000000     1.000000   \n",
       "\n",
       "              CLLC          LDC         LLDC        LCOM5           NL  ...  \\\n",
       "count  1143.000000  1143.000000  1143.000000  1143.000000  1143.000000  ...   \n",
       "mean      0.142677    12.008749    10.869641     1.913386     1.133858  ...   \n",
       "std       0.293378    42.411977    39.711984     3.570950     1.557008  ...   \n",
       "min       0.000000     0.000000     0.000000     0.000000     0.000000  ...   \n",
       "25%       0.000000     0.000000     0.000000     1.000000     0.000000  ...   \n",
       "50%       0.000000     0.000000     0.000000     1.000000     1.000000  ...   \n",
       "75%       0.107361     6.000000     6.000000     2.000000     2.000000  ...   \n",
       "max       1.000000   749.000000   737.000000    71.000000    15.000000  ...   \n",
       "\n",
       "              TNLM        TNLPA        TNLPM         TNLS          TNM  \\\n",
       "count  1143.000000  1143.000000  1143.000000  1143.000000  1143.000000   \n",
       "mean      7.433946     0.729659     5.684164     0.486439    20.007874   \n",
       "std      17.127899     5.709815    14.664878     2.144422    30.370925   \n",
       "min       0.000000     0.000000     0.000000     0.000000     0.000000   \n",
       "25%       1.000000     0.000000     1.000000     0.000000     2.000000   \n",
       "50%       3.000000     0.000000     2.000000     0.000000    11.000000   \n",
       "75%       7.000000     0.000000     5.000000     0.000000    23.000000   \n",
       "max     327.000000   106.000000   270.000000    19.000000   327.000000   \n",
       "\n",
       "              TNOS         TNPA         TNPM          TNS          bug  \n",
       "count  1143.000000  1143.000000  1143.000000  1143.000000  1143.000000  \n",
       "mean     31.619423     1.158355    15.196850     0.857393     0.237095  \n",
       "std      78.821760     6.014747    25.189313     3.094789     0.425487  \n",
       "min       0.000000     0.000000     0.000000     0.000000     0.000000  \n",
       "25%       2.000000     0.000000     1.000000     0.000000     0.000000  \n",
       "50%       8.000000     0.000000     8.000000     0.000000     0.000000  \n",
       "75%      29.000000     0.000000    17.000000     0.000000     0.000000  \n",
       "max    1142.000000   106.000000   270.000000    26.000000     1.000000  \n",
       "\n",
       "[8 rows x 61 columns]"
      ]
     },
     "execution_count": 31,
     "metadata": {},
     "output_type": "execute_result"
    }
   ],
   "source": [
    "df_data.describe() #shows simple statistics (min, max, mean, etc.)"
   ]
  },
  {
   "cell_type": "code",
   "execution_count": 6,
   "metadata": {},
   "outputs": [],
   "source": [
    "# metric correlations- (step 1)"
   ]
  },
  {
   "cell_type": "code",
   "execution_count": 32,
   "metadata": {
    "scrolled": true
   },
   "outputs": [],
   "source": [
    "X_train_size_comlexity_features = df_data[['CCO','NLE','NII','NOI','TCLOC','PUA','TNOS']]\n",
    "X_train_oop_features = df_data[['LCOM5','NOC','CBOI','NPA','NG','NA','WMC','CBO','RFC','NS','DIT']]"
   ]
  },
  {
   "cell_type": "code",
   "execution_count": 33,
   "metadata": {},
   "outputs": [],
   "source": [
    "X_train_size_comlexity_features = df_data[['CCO','NLE','NII','NOI','TCLOC','PUA','TNOS']]\n",
    "X_train_oop_features = df_data[['LCOM5','NOC','WMC','CBO','RFC','DIT']]"
   ]
  },
  {
   "cell_type": "code",
   "execution_count": 199,
   "metadata": {},
   "outputs": [],
   "source": [
    "# Variance inflation factor analysis  (VIF) - setp 2"
   ]
  },
  {
   "cell_type": "code",
   "execution_count": 34,
   "metadata": {},
   "outputs": [],
   "source": [
    "def vif(features):\n",
    "\n",
    "    # Prepare a dataframe for VIF\n",
    "    X_VIF = add_constant(features)\n",
    "\n",
    "    # Simulate a multicollinearity situation of AddedLOC, A, and B\n",
    "    #X_VIF['A'] = [2 * x_i + random.random() for x_i in X_VIF['AddedLOC']]\n",
    "    #X_VIF['B'] = [3 * x_i + random.random() for x_i in X_VIF['AddedLOC']]\n",
    "\n",
    "    # Calculate VIF scores\n",
    "    vif_scores = pd.DataFrame([variance_inflation_factor(X_VIF.values, i) \n",
    "                   for i in range(X_VIF.shape[1])], \n",
    "                  index=X_VIF.columns)\n",
    "    # Prepare a final dataframe of VIF scores\n",
    "    vif_scores.reset_index(inplace = True)\n",
    "    vif_scores.columns = ['Feature', 'VIFscore']\n",
    "    vif_scores = vif_scores.loc[vif_scores['Feature'] != 'const', :]\n",
    "    vif_scores = vif_scores.sort_values(by = ['VIFscore'], ascending = False)\n",
    "    return vif_scores"
   ]
  },
  {
   "cell_type": "code",
   "execution_count": 35,
   "metadata": {},
   "outputs": [
    {
     "data": {
      "text/html": [
       "<div>\n",
       "<style scoped>\n",
       "    .dataframe tbody tr th:only-of-type {\n",
       "        vertical-align: middle;\n",
       "    }\n",
       "\n",
       "    .dataframe tbody tr th {\n",
       "        vertical-align: top;\n",
       "    }\n",
       "\n",
       "    .dataframe thead th {\n",
       "        text-align: right;\n",
       "    }\n",
       "</style>\n",
       "<table border=\"1\" class=\"dataframe\">\n",
       "  <thead>\n",
       "    <tr style=\"text-align: right;\">\n",
       "      <th></th>\n",
       "      <th>Feature</th>\n",
       "      <th>VIFscore</th>\n",
       "    </tr>\n",
       "  </thead>\n",
       "  <tbody>\n",
       "    <tr>\n",
       "      <th>7</th>\n",
       "      <td>TNOS</td>\n",
       "      <td>4.040070</td>\n",
       "    </tr>\n",
       "    <tr>\n",
       "      <th>4</th>\n",
       "      <td>NOI</td>\n",
       "      <td>2.281326</td>\n",
       "    </tr>\n",
       "    <tr>\n",
       "      <th>1</th>\n",
       "      <td>CCO</td>\n",
       "      <td>2.122696</td>\n",
       "    </tr>\n",
       "    <tr>\n",
       "      <th>6</th>\n",
       "      <td>PUA</td>\n",
       "      <td>1.826645</td>\n",
       "    </tr>\n",
       "    <tr>\n",
       "      <th>2</th>\n",
       "      <td>NLE</td>\n",
       "      <td>1.485380</td>\n",
       "    </tr>\n",
       "    <tr>\n",
       "      <th>5</th>\n",
       "      <td>TCLOC</td>\n",
       "      <td>1.397850</td>\n",
       "    </tr>\n",
       "    <tr>\n",
       "      <th>3</th>\n",
       "      <td>NII</td>\n",
       "      <td>1.169744</td>\n",
       "    </tr>\n",
       "  </tbody>\n",
       "</table>\n",
       "</div>"
      ],
      "text/plain": [
       "  Feature  VIFscore\n",
       "7    TNOS  4.040070\n",
       "4     NOI  2.281326\n",
       "1     CCO  2.122696\n",
       "6     PUA  1.826645\n",
       "2     NLE  1.485380\n",
       "5   TCLOC  1.397850\n",
       "3     NII  1.169744"
      ]
     },
     "execution_count": 35,
     "metadata": {},
     "output_type": "execute_result"
    }
   ],
   "source": [
    "vif(X_train_size_comlexity_features)"
   ]
  },
  {
   "cell_type": "code",
   "execution_count": 88,
   "metadata": {},
   "outputs": [],
   "source": [
    "# drop columns 7"
   ]
  },
  {
   "cell_type": "code",
   "execution_count": 8,
   "metadata": {},
   "outputs": [],
   "source": [
    "#X_train_size_comlexity_features= X_train_size_comlexity_features.drop(labels=['TNOS'],axis='columns')"
   ]
  },
  {
   "cell_type": "code",
   "execution_count": 36,
   "metadata": {},
   "outputs": [
    {
     "data": {
      "text/html": [
       "<div>\n",
       "<style scoped>\n",
       "    .dataframe tbody tr th:only-of-type {\n",
       "        vertical-align: middle;\n",
       "    }\n",
       "\n",
       "    .dataframe tbody tr th {\n",
       "        vertical-align: top;\n",
       "    }\n",
       "\n",
       "    .dataframe thead th {\n",
       "        text-align: right;\n",
       "    }\n",
       "</style>\n",
       "<table border=\"1\" class=\"dataframe\">\n",
       "  <thead>\n",
       "    <tr style=\"text-align: right;\">\n",
       "      <th></th>\n",
       "      <th>Feature</th>\n",
       "      <th>VIFscore</th>\n",
       "    </tr>\n",
       "  </thead>\n",
       "  <tbody>\n",
       "    <tr>\n",
       "      <th>7</th>\n",
       "      <td>TNOS</td>\n",
       "      <td>4.040070</td>\n",
       "    </tr>\n",
       "    <tr>\n",
       "      <th>4</th>\n",
       "      <td>NOI</td>\n",
       "      <td>2.281326</td>\n",
       "    </tr>\n",
       "    <tr>\n",
       "      <th>1</th>\n",
       "      <td>CCO</td>\n",
       "      <td>2.122696</td>\n",
       "    </tr>\n",
       "    <tr>\n",
       "      <th>6</th>\n",
       "      <td>PUA</td>\n",
       "      <td>1.826645</td>\n",
       "    </tr>\n",
       "    <tr>\n",
       "      <th>2</th>\n",
       "      <td>NLE</td>\n",
       "      <td>1.485380</td>\n",
       "    </tr>\n",
       "    <tr>\n",
       "      <th>5</th>\n",
       "      <td>TCLOC</td>\n",
       "      <td>1.397850</td>\n",
       "    </tr>\n",
       "    <tr>\n",
       "      <th>3</th>\n",
       "      <td>NII</td>\n",
       "      <td>1.169744</td>\n",
       "    </tr>\n",
       "  </tbody>\n",
       "</table>\n",
       "</div>"
      ],
      "text/plain": [
       "  Feature  VIFscore\n",
       "7    TNOS  4.040070\n",
       "4     NOI  2.281326\n",
       "1     CCO  2.122696\n",
       "6     PUA  1.826645\n",
       "2     NLE  1.485380\n",
       "5   TCLOC  1.397850\n",
       "3     NII  1.169744"
      ]
     },
     "execution_count": 36,
     "metadata": {},
     "output_type": "execute_result"
    }
   ],
   "source": [
    "vif(X_train_size_comlexity_features)"
   ]
  },
  {
   "cell_type": "code",
   "execution_count": 37,
   "metadata": {},
   "outputs": [
    {
     "data": {
      "text/plain": [
       "Index(['CCO', 'NLE', 'NII', 'NOI', 'TCLOC', 'PUA', 'TNOS'], dtype='object')"
      ]
     },
     "execution_count": 37,
     "metadata": {},
     "output_type": "execute_result"
    }
   ],
   "source": [
    "X_train_size_comlexity_features.columns"
   ]
  },
  {
   "cell_type": "code",
   "execution_count": 38,
   "metadata": {},
   "outputs": [
    {
     "data": {
      "text/html": [
       "<div>\n",
       "<style scoped>\n",
       "    .dataframe tbody tr th:only-of-type {\n",
       "        vertical-align: middle;\n",
       "    }\n",
       "\n",
       "    .dataframe tbody tr th {\n",
       "        vertical-align: top;\n",
       "    }\n",
       "\n",
       "    .dataframe thead th {\n",
       "        text-align: right;\n",
       "    }\n",
       "</style>\n",
       "<table border=\"1\" class=\"dataframe\">\n",
       "  <thead>\n",
       "    <tr style=\"text-align: right;\">\n",
       "      <th></th>\n",
       "      <th>Feature</th>\n",
       "      <th>VIFscore</th>\n",
       "    </tr>\n",
       "  </thead>\n",
       "  <tbody>\n",
       "    <tr>\n",
       "      <th>5</th>\n",
       "      <td>RFC</td>\n",
       "      <td>4.950776</td>\n",
       "    </tr>\n",
       "    <tr>\n",
       "      <th>3</th>\n",
       "      <td>WMC</td>\n",
       "      <td>3.637993</td>\n",
       "    </tr>\n",
       "    <tr>\n",
       "      <th>4</th>\n",
       "      <td>CBO</td>\n",
       "      <td>1.527045</td>\n",
       "    </tr>\n",
       "    <tr>\n",
       "      <th>1</th>\n",
       "      <td>LCOM5</td>\n",
       "      <td>1.504860</td>\n",
       "    </tr>\n",
       "    <tr>\n",
       "      <th>6</th>\n",
       "      <td>DIT</td>\n",
       "      <td>1.168448</td>\n",
       "    </tr>\n",
       "    <tr>\n",
       "      <th>2</th>\n",
       "      <td>NOC</td>\n",
       "      <td>1.005355</td>\n",
       "    </tr>\n",
       "  </tbody>\n",
       "</table>\n",
       "</div>"
      ],
      "text/plain": [
       "  Feature  VIFscore\n",
       "5     RFC  4.950776\n",
       "3     WMC  3.637993\n",
       "4     CBO  1.527045\n",
       "1   LCOM5  1.504860\n",
       "6     DIT  1.168448\n",
       "2     NOC  1.005355"
      ]
     },
     "execution_count": 38,
     "metadata": {},
     "output_type": "execute_result"
    }
   ],
   "source": [
    "vif(X_train_oop_features)"
   ]
  },
  {
   "cell_type": "code",
   "execution_count": 92,
   "metadata": {},
   "outputs": [],
   "source": [
    "# drop columns 9,10,5,6"
   ]
  },
  {
   "cell_type": "code",
   "execution_count": 85,
   "metadata": {},
   "outputs": [],
   "source": [
    "#X_train_oop_features= X_train_oop_features.drop(labels=['RFC'],axis='columns')"
   ]
  },
  {
   "cell_type": "code",
   "execution_count": 39,
   "metadata": {},
   "outputs": [
    {
     "data": {
      "text/html": [
       "<div>\n",
       "<style scoped>\n",
       "    .dataframe tbody tr th:only-of-type {\n",
       "        vertical-align: middle;\n",
       "    }\n",
       "\n",
       "    .dataframe tbody tr th {\n",
       "        vertical-align: top;\n",
       "    }\n",
       "\n",
       "    .dataframe thead th {\n",
       "        text-align: right;\n",
       "    }\n",
       "</style>\n",
       "<table border=\"1\" class=\"dataframe\">\n",
       "  <thead>\n",
       "    <tr style=\"text-align: right;\">\n",
       "      <th></th>\n",
       "      <th>Feature</th>\n",
       "      <th>VIFscore</th>\n",
       "    </tr>\n",
       "  </thead>\n",
       "  <tbody>\n",
       "    <tr>\n",
       "      <th>5</th>\n",
       "      <td>RFC</td>\n",
       "      <td>4.950776</td>\n",
       "    </tr>\n",
       "    <tr>\n",
       "      <th>3</th>\n",
       "      <td>WMC</td>\n",
       "      <td>3.637993</td>\n",
       "    </tr>\n",
       "    <tr>\n",
       "      <th>4</th>\n",
       "      <td>CBO</td>\n",
       "      <td>1.527045</td>\n",
       "    </tr>\n",
       "    <tr>\n",
       "      <th>1</th>\n",
       "      <td>LCOM5</td>\n",
       "      <td>1.504860</td>\n",
       "    </tr>\n",
       "    <tr>\n",
       "      <th>6</th>\n",
       "      <td>DIT</td>\n",
       "      <td>1.168448</td>\n",
       "    </tr>\n",
       "    <tr>\n",
       "      <th>2</th>\n",
       "      <td>NOC</td>\n",
       "      <td>1.005355</td>\n",
       "    </tr>\n",
       "  </tbody>\n",
       "</table>\n",
       "</div>"
      ],
      "text/plain": [
       "  Feature  VIFscore\n",
       "5     RFC  4.950776\n",
       "3     WMC  3.637993\n",
       "4     CBO  1.527045\n",
       "1   LCOM5  1.504860\n",
       "6     DIT  1.168448\n",
       "2     NOC  1.005355"
      ]
     },
     "execution_count": 39,
     "metadata": {},
     "output_type": "execute_result"
    }
   ],
   "source": [
    "vif(X_train_oop_features)"
   ]
  },
  {
   "cell_type": "code",
   "execution_count": 40,
   "metadata": {},
   "outputs": [
    {
     "data": {
      "text/plain": [
       "Index(['LCOM5', 'NOC', 'WMC', 'CBO', 'RFC', 'DIT'], dtype='object')"
      ]
     },
     "execution_count": 40,
     "metadata": {},
     "output_type": "execute_result"
    }
   ],
   "source": [
    "X_train_oop_features.columns"
   ]
  },
  {
   "cell_type": "code",
   "execution_count": null,
   "metadata": {},
   "outputs": [],
   "source": [
    "#featres after step1 & step 2"
   ]
  },
  {
   "cell_type": "code",
   "execution_count": 41,
   "metadata": {},
   "outputs": [],
   "source": [
    "X_train_all_features = pd.concat([X_train_size_comlexity_features, X_train_oop_features], axis=1)"
   ]
  },
  {
   "cell_type": "code",
   "execution_count": 42,
   "metadata": {},
   "outputs": [
    {
     "data": {
      "text/html": [
       "<div>\n",
       "<style scoped>\n",
       "    .dataframe tbody tr th:only-of-type {\n",
       "        vertical-align: middle;\n",
       "    }\n",
       "\n",
       "    .dataframe tbody tr th {\n",
       "        vertical-align: top;\n",
       "    }\n",
       "\n",
       "    .dataframe thead th {\n",
       "        text-align: right;\n",
       "    }\n",
       "</style>\n",
       "<table border=\"1\" class=\"dataframe\">\n",
       "  <thead>\n",
       "    <tr style=\"text-align: right;\">\n",
       "      <th></th>\n",
       "      <th>Feature</th>\n",
       "      <th>VIFscore</th>\n",
       "    </tr>\n",
       "  </thead>\n",
       "  <tbody>\n",
       "    <tr>\n",
       "      <th>12</th>\n",
       "      <td>RFC</td>\n",
       "      <td>66.570283</td>\n",
       "    </tr>\n",
       "    <tr>\n",
       "      <th>4</th>\n",
       "      <td>NOI</td>\n",
       "      <td>21.539173</td>\n",
       "    </tr>\n",
       "    <tr>\n",
       "      <th>6</th>\n",
       "      <td>PUA</td>\n",
       "      <td>14.688633</td>\n",
       "    </tr>\n",
       "    <tr>\n",
       "      <th>10</th>\n",
       "      <td>WMC</td>\n",
       "      <td>10.036912</td>\n",
       "    </tr>\n",
       "    <tr>\n",
       "      <th>7</th>\n",
       "      <td>TNOS</td>\n",
       "      <td>5.873887</td>\n",
       "    </tr>\n",
       "    <tr>\n",
       "      <th>11</th>\n",
       "      <td>CBO</td>\n",
       "      <td>2.815675</td>\n",
       "    </tr>\n",
       "    <tr>\n",
       "      <th>1</th>\n",
       "      <td>CCO</td>\n",
       "      <td>2.197980</td>\n",
       "    </tr>\n",
       "    <tr>\n",
       "      <th>8</th>\n",
       "      <td>LCOM5</td>\n",
       "      <td>1.937873</td>\n",
       "    </tr>\n",
       "    <tr>\n",
       "      <th>5</th>\n",
       "      <td>TCLOC</td>\n",
       "      <td>1.912436</td>\n",
       "    </tr>\n",
       "    <tr>\n",
       "      <th>2</th>\n",
       "      <td>NLE</td>\n",
       "      <td>1.787451</td>\n",
       "    </tr>\n",
       "    <tr>\n",
       "      <th>3</th>\n",
       "      <td>NII</td>\n",
       "      <td>1.516033</td>\n",
       "    </tr>\n",
       "    <tr>\n",
       "      <th>13</th>\n",
       "      <td>DIT</td>\n",
       "      <td>1.201891</td>\n",
       "    </tr>\n",
       "    <tr>\n",
       "      <th>9</th>\n",
       "      <td>NOC</td>\n",
       "      <td>1.030374</td>\n",
       "    </tr>\n",
       "  </tbody>\n",
       "</table>\n",
       "</div>"
      ],
      "text/plain": [
       "   Feature   VIFscore\n",
       "12     RFC  66.570283\n",
       "4      NOI  21.539173\n",
       "6      PUA  14.688633\n",
       "10     WMC  10.036912\n",
       "7     TNOS   5.873887\n",
       "11     CBO   2.815675\n",
       "1      CCO   2.197980\n",
       "8    LCOM5   1.937873\n",
       "5    TCLOC   1.912436\n",
       "2      NLE   1.787451\n",
       "3      NII   1.516033\n",
       "13     DIT   1.201891\n",
       "9      NOC   1.030374"
      ]
     },
     "execution_count": 42,
     "metadata": {},
     "output_type": "execute_result"
    }
   ],
   "source": [
    "vif(X_train_all_features)"
   ]
  },
  {
   "cell_type": "code",
   "execution_count": 43,
   "metadata": {},
   "outputs": [],
   "source": [
    "X_train_all_features= X_train_all_features.drop(labels=['RFC'],axis='columns')"
   ]
  },
  {
   "cell_type": "code",
   "execution_count": 44,
   "metadata": {},
   "outputs": [
    {
     "data": {
      "text/html": [
       "<div>\n",
       "<style scoped>\n",
       "    .dataframe tbody tr th:only-of-type {\n",
       "        vertical-align: middle;\n",
       "    }\n",
       "\n",
       "    .dataframe tbody tr th {\n",
       "        vertical-align: top;\n",
       "    }\n",
       "\n",
       "    .dataframe thead th {\n",
       "        text-align: right;\n",
       "    }\n",
       "</style>\n",
       "<table border=\"1\" class=\"dataframe\">\n",
       "  <thead>\n",
       "    <tr style=\"text-align: right;\">\n",
       "      <th></th>\n",
       "      <th>Feature</th>\n",
       "      <th>VIFscore</th>\n",
       "    </tr>\n",
       "  </thead>\n",
       "  <tbody>\n",
       "    <tr>\n",
       "      <th>10</th>\n",
       "      <td>WMC</td>\n",
       "      <td>7.499555</td>\n",
       "    </tr>\n",
       "    <tr>\n",
       "      <th>7</th>\n",
       "      <td>TNOS</td>\n",
       "      <td>5.828173</td>\n",
       "    </tr>\n",
       "    <tr>\n",
       "      <th>4</th>\n",
       "      <td>NOI</td>\n",
       "      <td>4.557562</td>\n",
       "    </tr>\n",
       "    <tr>\n",
       "      <th>6</th>\n",
       "      <td>PUA</td>\n",
       "      <td>4.312484</td>\n",
       "    </tr>\n",
       "    <tr>\n",
       "      <th>11</th>\n",
       "      <td>CBO</td>\n",
       "      <td>2.811263</td>\n",
       "    </tr>\n",
       "    <tr>\n",
       "      <th>1</th>\n",
       "      <td>CCO</td>\n",
       "      <td>2.196116</td>\n",
       "    </tr>\n",
       "    <tr>\n",
       "      <th>8</th>\n",
       "      <td>LCOM5</td>\n",
       "      <td>1.824730</td>\n",
       "    </tr>\n",
       "    <tr>\n",
       "      <th>2</th>\n",
       "      <td>NLE</td>\n",
       "      <td>1.785361</td>\n",
       "    </tr>\n",
       "    <tr>\n",
       "      <th>5</th>\n",
       "      <td>TCLOC</td>\n",
       "      <td>1.693620</td>\n",
       "    </tr>\n",
       "    <tr>\n",
       "      <th>3</th>\n",
       "      <td>NII</td>\n",
       "      <td>1.252619</td>\n",
       "    </tr>\n",
       "    <tr>\n",
       "      <th>12</th>\n",
       "      <td>DIT</td>\n",
       "      <td>1.193058</td>\n",
       "    </tr>\n",
       "    <tr>\n",
       "      <th>9</th>\n",
       "      <td>NOC</td>\n",
       "      <td>1.030219</td>\n",
       "    </tr>\n",
       "  </tbody>\n",
       "</table>\n",
       "</div>"
      ],
      "text/plain": [
       "   Feature  VIFscore\n",
       "10     WMC  7.499555\n",
       "7     TNOS  5.828173\n",
       "4      NOI  4.557562\n",
       "6      PUA  4.312484\n",
       "11     CBO  2.811263\n",
       "1      CCO  2.196116\n",
       "8    LCOM5  1.824730\n",
       "2      NLE  1.785361\n",
       "5    TCLOC  1.693620\n",
       "3      NII  1.252619\n",
       "12     DIT  1.193058\n",
       "9      NOC  1.030219"
      ]
     },
     "execution_count": 44,
     "metadata": {},
     "output_type": "execute_result"
    }
   ],
   "source": [
    "vif(X_train_all_features)"
   ]
  },
  {
   "cell_type": "code",
   "execution_count": 45,
   "metadata": {},
   "outputs": [],
   "source": [
    "X_train_all_features= X_train_all_features.drop(labels=['TNOS'],axis='columns')"
   ]
  },
  {
   "cell_type": "code",
   "execution_count": 46,
   "metadata": {},
   "outputs": [
    {
     "data": {
      "text/html": [
       "<div>\n",
       "<style scoped>\n",
       "    .dataframe tbody tr th:only-of-type {\n",
       "        vertical-align: middle;\n",
       "    }\n",
       "\n",
       "    .dataframe tbody tr th {\n",
       "        vertical-align: top;\n",
       "    }\n",
       "\n",
       "    .dataframe thead th {\n",
       "        text-align: right;\n",
       "    }\n",
       "</style>\n",
       "<table border=\"1\" class=\"dataframe\">\n",
       "  <thead>\n",
       "    <tr style=\"text-align: right;\">\n",
       "      <th></th>\n",
       "      <th>Feature</th>\n",
       "      <th>VIFscore</th>\n",
       "    </tr>\n",
       "  </thead>\n",
       "  <tbody>\n",
       "    <tr>\n",
       "      <th>9</th>\n",
       "      <td>WMC</td>\n",
       "      <td>5.391291</td>\n",
       "    </tr>\n",
       "    <tr>\n",
       "      <th>6</th>\n",
       "      <td>PUA</td>\n",
       "      <td>4.234219</td>\n",
       "    </tr>\n",
       "    <tr>\n",
       "      <th>4</th>\n",
       "      <td>NOI</td>\n",
       "      <td>4.131912</td>\n",
       "    </tr>\n",
       "    <tr>\n",
       "      <th>10</th>\n",
       "      <td>CBO</td>\n",
       "      <td>2.737221</td>\n",
       "    </tr>\n",
       "    <tr>\n",
       "      <th>7</th>\n",
       "      <td>LCOM5</td>\n",
       "      <td>1.823461</td>\n",
       "    </tr>\n",
       "    <tr>\n",
       "      <th>2</th>\n",
       "      <td>NLE</td>\n",
       "      <td>1.784028</td>\n",
       "    </tr>\n",
       "    <tr>\n",
       "      <th>5</th>\n",
       "      <td>TCLOC</td>\n",
       "      <td>1.692381</td>\n",
       "    </tr>\n",
       "    <tr>\n",
       "      <th>1</th>\n",
       "      <td>CCO</td>\n",
       "      <td>1.455364</td>\n",
       "    </tr>\n",
       "    <tr>\n",
       "      <th>3</th>\n",
       "      <td>NII</td>\n",
       "      <td>1.249752</td>\n",
       "    </tr>\n",
       "    <tr>\n",
       "      <th>11</th>\n",
       "      <td>DIT</td>\n",
       "      <td>1.187306</td>\n",
       "    </tr>\n",
       "    <tr>\n",
       "      <th>8</th>\n",
       "      <td>NOC</td>\n",
       "      <td>1.029108</td>\n",
       "    </tr>\n",
       "  </tbody>\n",
       "</table>\n",
       "</div>"
      ],
      "text/plain": [
       "   Feature  VIFscore\n",
       "9      WMC  5.391291\n",
       "6      PUA  4.234219\n",
       "4      NOI  4.131912\n",
       "10     CBO  2.737221\n",
       "7    LCOM5  1.823461\n",
       "2      NLE  1.784028\n",
       "5    TCLOC  1.692381\n",
       "1      CCO  1.455364\n",
       "3      NII  1.249752\n",
       "11     DIT  1.187306\n",
       "8      NOC  1.029108"
      ]
     },
     "execution_count": 46,
     "metadata": {},
     "output_type": "execute_result"
    }
   ],
   "source": [
    "vif(X_train_all_features)"
   ]
  },
  {
   "cell_type": "code",
   "execution_count": 47,
   "metadata": {},
   "outputs": [],
   "source": [
    "X_train_all_features= X_train_all_features.drop(labels=['WMC'],axis='columns')"
   ]
  },
  {
   "cell_type": "code",
   "execution_count": 48,
   "metadata": {},
   "outputs": [
    {
     "name": "stdout",
     "output_type": "stream",
     "text": [
      "X: (1143, 60)\n",
      "y: (1143,)\n"
     ]
    }
   ],
   "source": [
    "X = df_data.iloc[:, 0:-1]\n",
    "y = df_data[\"bug\"]\n",
    "\n",
    "#y = df_data.pop('Defective')\n",
    "#X = df_data\n",
    "\n",
    "print(\"X:\", X.shape)\n",
    "print(\"y:\", y.shape)"
   ]
  },
  {
   "cell_type": "code",
   "execution_count": null,
   "metadata": {},
   "outputs": [],
   "source": [
    "#resampling"
   ]
  },
  {
   "cell_type": "code",
   "execution_count": 53,
   "metadata": {
    "scrolled": true
   },
   "outputs": [
    {
     "name": "stdout",
     "output_type": "stream",
     "text": [
      "Classes: [0, 1]\n",
      "Counts: [872, 271]\n"
     ]
    },
    {
     "data": {
      "image/png": "[encoded data removed]",
      "text/plain": [
       "<Figure size 432x288 with 1 Axes>"
      ]
     },
     "metadata": {},
     "output_type": "display_data"
    }
   ],
   "source": [
    "unique, counts = np.unique(y, return_counts=True)\n",
    "print(\"Classes:\", unique.tolist())\n",
    "print(\"Counts:\", counts.tolist())\n",
    "\n",
    "plt.bar(unique, counts, color=['g', 'orange', 'r'], alpha=0.7)\n",
    "plt.title(\"#Bugs VS Occurrences\")\n",
    "plt.xticks(range(len(unique)))\n",
    "plt.ylabel(\"Occurrences\")\n",
    "plt.xlabel(\"# Bugs\");"
   ]
  },
  {
   "cell_type": "code",
   "execution_count": 19,
   "metadata": {},
   "outputs": [],
   "source": [
    "#oversampling using SMOTE up to 30%"
   ]
  },
  {
   "cell_type": "code",
   "execution_count": 50,
   "metadata": {},
   "outputs": [
    {
     "ename": "ValueError",
     "evalue": "The specified ratio required to remove samples from the minority class while trying to generate new samples. Please increase the ratio.",
     "output_type": "error",
     "traceback": [
      "\u001b[1;31m---------------------------------------------------------------------------\u001b[0m",
      "\u001b[1;31mValueError\u001b[0m                                Traceback (most recent call last)",
      "\u001b[1;32mC:\\Users\\ABDUHA~1\\AppData\\Local\\Temp/ipykernel_16292/2288177493.py\u001b[0m in \u001b[0;36m<module>\u001b[1;34m\u001b[0m\n\u001b[0;32m      1\u001b[0m \u001b[1;32mfrom\u001b[0m \u001b[0mimblearn\u001b[0m\u001b[1;33m.\u001b[0m\u001b[0mover_sampling\u001b[0m \u001b[1;32mimport\u001b[0m \u001b[0mSMOTE\u001b[0m\u001b[1;33m\u001b[0m\u001b[1;33m\u001b[0m\u001b[0m\n\u001b[1;32m----> 2\u001b[1;33m \u001b[0mX_train_over_sampled\u001b[0m\u001b[1;33m,\u001b[0m \u001b[0my_train_over_sampled\u001b[0m \u001b[1;33m=\u001b[0m \u001b[0mSMOTE\u001b[0m\u001b[1;33m(\u001b[0m\u001b[0msampling_strategy\u001b[0m\u001b[1;33m=\u001b[0m\u001b[1;36m0.3\u001b[0m\u001b[1;33m)\u001b[0m\u001b[1;33m.\u001b[0m\u001b[0mfit_resample\u001b[0m\u001b[1;33m(\u001b[0m\u001b[0mX_train_all_features\u001b[0m\u001b[1;33m,\u001b[0m \u001b[0my\u001b[0m\u001b[1;33m)\u001b[0m\u001b[1;33m\u001b[0m\u001b[1;33m\u001b[0m\u001b[0m\n\u001b[0m\u001b[0;32m      3\u001b[0m \u001b[0mprint\u001b[0m\u001b[1;33m(\u001b[0m\u001b[1;34m\"Train:\"\u001b[0m\u001b[1;33m,\u001b[0m \u001b[0mX_train_over_sampled\u001b[0m\u001b[1;33m.\u001b[0m\u001b[0mshape\u001b[0m\u001b[1;33m,\u001b[0m \u001b[0my_train_over_sampled\u001b[0m\u001b[1;33m.\u001b[0m\u001b[0mshape\u001b[0m\u001b[1;33m)\u001b[0m\u001b[1;33m\u001b[0m\u001b[1;33m\u001b[0m\u001b[0m\n",
      "\u001b[1;32m~\\Anaconda3\\lib\\site-packages\\imblearn\\base.py\u001b[0m in \u001b[0;36mfit_resample\u001b[1;34m(self, X, y)\u001b[0m\n\u001b[0;32m     78\u001b[0m \u001b[1;33m\u001b[0m\u001b[0m\n\u001b[0;32m     79\u001b[0m         self.sampling_strategy_ = check_sampling_strategy(\n\u001b[1;32m---> 80\u001b[1;33m             \u001b[0mself\u001b[0m\u001b[1;33m.\u001b[0m\u001b[0msampling_strategy\u001b[0m\u001b[1;33m,\u001b[0m \u001b[0my\u001b[0m\u001b[1;33m,\u001b[0m \u001b[0mself\u001b[0m\u001b[1;33m.\u001b[0m\u001b[0m_sampling_type\u001b[0m\u001b[1;33m\u001b[0m\u001b[1;33m\u001b[0m\u001b[0m\n\u001b[0m\u001b[0;32m     81\u001b[0m         )\n\u001b[0;32m     82\u001b[0m \u001b[1;33m\u001b[0m\u001b[0m\n",
      "\u001b[1;32m~\\Anaconda3\\lib\\site-packages\\imblearn\\utils\\_validation.py\u001b[0m in \u001b[0;36mcheck_sampling_strategy\u001b[1;34m(sampling_strategy, y, sampling_type, **kwargs)\u001b[0m\n\u001b[0;32m    533\u001b[0m         return OrderedDict(\n\u001b[0;32m    534\u001b[0m             sorted(\n\u001b[1;32m--> 535\u001b[1;33m                 \u001b[0m_sampling_strategy_float\u001b[0m\u001b[1;33m(\u001b[0m\u001b[0msampling_strategy\u001b[0m\u001b[1;33m,\u001b[0m \u001b[0my\u001b[0m\u001b[1;33m,\u001b[0m \u001b[0msampling_type\u001b[0m\u001b[1;33m)\u001b[0m\u001b[1;33m.\u001b[0m\u001b[0mitems\u001b[0m\u001b[1;33m(\u001b[0m\u001b[1;33m)\u001b[0m\u001b[1;33m\u001b[0m\u001b[1;33m\u001b[0m\u001b[0m\n\u001b[0m\u001b[0;32m    536\u001b[0m             )\n\u001b[0;32m    537\u001b[0m         )\n",
      "\u001b[1;32m~\\Anaconda3\\lib\\site-packages\\imblearn\\utils\\_validation.py\u001b[0m in \u001b[0;36m_sampling_strategy_float\u001b[1;34m(sampling_strategy, y, sampling_type)\u001b[0m\n\u001b[0;32m    372\u001b[0m         \u001b[1;32mif\u001b[0m \u001b[0many\u001b[0m\u001b[1;33m(\u001b[0m\u001b[1;33m[\u001b[0m\u001b[0mn_samples\u001b[0m \u001b[1;33m<=\u001b[0m \u001b[1;36m0\u001b[0m \u001b[1;32mfor\u001b[0m \u001b[0mn_samples\u001b[0m \u001b[1;32min\u001b[0m \u001b[0msampling_strategy_\u001b[0m\u001b[1;33m.\u001b[0m\u001b[0mvalues\u001b[0m\u001b[1;33m(\u001b[0m\u001b[1;33m)\u001b[0m\u001b[1;33m]\u001b[0m\u001b[1;33m)\u001b[0m\u001b[1;33m:\u001b[0m\u001b[1;33m\u001b[0m\u001b[1;33m\u001b[0m\u001b[0m\n\u001b[0;32m    373\u001b[0m             raise ValueError(\n\u001b[1;32m--> 374\u001b[1;33m                 \u001b[1;34m\"The specified ratio required to remove samples \"\u001b[0m\u001b[1;33m\u001b[0m\u001b[1;33m\u001b[0m\u001b[0m\n\u001b[0m\u001b[0;32m    375\u001b[0m                 \u001b[1;34m\"from the minority class while trying to \"\u001b[0m\u001b[1;33m\u001b[0m\u001b[1;33m\u001b[0m\u001b[0m\n\u001b[0;32m    376\u001b[0m                 \u001b[1;34m\"generate new samples. Please increase the \"\u001b[0m\u001b[1;33m\u001b[0m\u001b[1;33m\u001b[0m\u001b[0m\n",
      "\u001b[1;31mValueError\u001b[0m: The specified ratio required to remove samples from the minority class while trying to generate new samples. Please increase the ratio."
     ]
    }
   ],
   "source": [
    "from imblearn.over_sampling import SMOTE\n",
    "X_train_over_sampled, y_train_over_sampled = SMOTE(sampling_strategy=0.3).fit_resample(X_train_all_features, y)\n",
    "print(\"Train:\", X_train_over_sampled.shape, y_train_over_sampled.shape)"
   ]
  },
  {
   "cell_type": "code",
   "execution_count": 52,
   "metadata": {},
   "outputs": [
    {
     "ename": "NameError",
     "evalue": "name 'y_train_over_sampled' is not defined",
     "output_type": "error",
     "traceback": [
      "\u001b[1;31m---------------------------------------------------------------------------\u001b[0m",
      "\u001b[1;31mNameError\u001b[0m                                 Traceback (most recent call last)",
      "\u001b[1;32mC:\\Users\\ABDUHA~1\\AppData\\Local\\Temp/ipykernel_16292/998655288.py\u001b[0m in \u001b[0;36m<module>\u001b[1;34m\u001b[0m\n\u001b[1;32m----> 1\u001b[1;33m \u001b[0munique\u001b[0m\u001b[1;33m,\u001b[0m \u001b[0mcounts\u001b[0m \u001b[1;33m=\u001b[0m \u001b[0mnp\u001b[0m\u001b[1;33m.\u001b[0m\u001b[0munique\u001b[0m\u001b[1;33m(\u001b[0m\u001b[0my_train_over_sampled\u001b[0m\u001b[1;33m,\u001b[0m \u001b[0mreturn_counts\u001b[0m\u001b[1;33m=\u001b[0m\u001b[1;32mTrue\u001b[0m\u001b[1;33m)\u001b[0m\u001b[1;33m\u001b[0m\u001b[1;33m\u001b[0m\u001b[0m\n\u001b[0m\u001b[0;32m      2\u001b[0m \u001b[0mprint\u001b[0m\u001b[1;33m(\u001b[0m\u001b[1;34m\"Classes:\"\u001b[0m\u001b[1;33m,\u001b[0m \u001b[0munique\u001b[0m\u001b[1;33m.\u001b[0m\u001b[0mtolist\u001b[0m\u001b[1;33m(\u001b[0m\u001b[1;33m)\u001b[0m\u001b[1;33m)\u001b[0m\u001b[1;33m\u001b[0m\u001b[1;33m\u001b[0m\u001b[0m\n\u001b[0;32m      3\u001b[0m \u001b[0mprint\u001b[0m\u001b[1;33m(\u001b[0m\u001b[1;34m\"Counts:\"\u001b[0m\u001b[1;33m,\u001b[0m \u001b[0mcounts\u001b[0m\u001b[1;33m.\u001b[0m\u001b[0mtolist\u001b[0m\u001b[1;33m(\u001b[0m\u001b[1;33m)\u001b[0m\u001b[1;33m)\u001b[0m\u001b[1;33m\u001b[0m\u001b[1;33m\u001b[0m\u001b[0m\n\u001b[0;32m      4\u001b[0m \u001b[1;33m\u001b[0m\u001b[0m\n\u001b[0;32m      5\u001b[0m \u001b[0mplt\u001b[0m\u001b[1;33m.\u001b[0m\u001b[0mbar\u001b[0m\u001b[1;33m(\u001b[0m\u001b[0munique\u001b[0m\u001b[1;33m,\u001b[0m \u001b[0mcounts\u001b[0m\u001b[1;33m,\u001b[0m \u001b[0mcolor\u001b[0m\u001b[1;33m=\u001b[0m\u001b[1;33m[\u001b[0m\u001b[1;34m'g'\u001b[0m\u001b[1;33m,\u001b[0m \u001b[1;34m'orange'\u001b[0m\u001b[1;33m,\u001b[0m \u001b[1;34m'r'\u001b[0m\u001b[1;33m]\u001b[0m\u001b[1;33m,\u001b[0m \u001b[0malpha\u001b[0m\u001b[1;33m=\u001b[0m\u001b[1;36m0.7\u001b[0m\u001b[1;33m)\u001b[0m\u001b[1;33m\u001b[0m\u001b[1;33m\u001b[0m\u001b[0m\n",
      "\u001b[1;31mNameError\u001b[0m: name 'y_train_over_sampled' is not defined"
     ]
    }
   ],
   "source": [
    "unique, counts = np.unique(y_train_over_sampled, return_counts=True)\n",
    "print(\"Classes:\", unique.tolist())\n",
    "print(\"Counts:\", counts.tolist())\n",
    "\n",
    "plt.bar(unique, counts, color=['g', 'orange', 'r'], alpha=0.7)\n",
    "plt.title(\"#Bugs VS Occurrences\")\n",
    "plt.xticks(range(len(unique)))\n",
    "plt.ylabel(\"Occurrences\")\n",
    "plt.xlabel(\"# Bugs\");"
   ]
  },
  {
   "cell_type": "code",
   "execution_count": 25,
   "metadata": {},
   "outputs": [
    {
     "ename": "NameError",
     "evalue": "name 'y_train_over_sampled' is not defined",
     "output_type": "error",
     "traceback": [
      "\u001b[1;31m---------------------------------------------------------------------------\u001b[0m",
      "\u001b[1;31mNameError\u001b[0m                                 Traceback (most recent call last)",
      "\u001b[1;32mC:\\Users\\ABDUHA~1\\AppData\\Local\\Temp/ipykernel_16124/3239989228.py\u001b[0m in \u001b[0;36m<module>\u001b[1;34m\u001b[0m\n\u001b[1;32m----> 1\u001b[1;33m \u001b[0mbugs\u001b[0m\u001b[1;33m=\u001b[0m \u001b[0my_train_over_sampled\u001b[0m\u001b[1;33m.\u001b[0m\u001b[0mgroupby\u001b[0m\u001b[1;33m(\u001b[0m\u001b[0my_train_over_sampled\u001b[0m\u001b[1;33m)\u001b[0m\u001b[1;33m\u001b[0m\u001b[1;33m\u001b[0m\u001b[0m\n\u001b[0m\u001b[0;32m      2\u001b[0m \u001b[0mbugs\u001b[0m\u001b[1;33m.\u001b[0m\u001b[0msize\u001b[0m\u001b[1;33m(\u001b[0m\u001b[1;33m)\u001b[0m\u001b[1;33m\u001b[0m\u001b[1;33m\u001b[0m\u001b[0m\n",
      "\u001b[1;31mNameError\u001b[0m: name 'y_train_over_sampled' is not defined"
     ]
    }
   ],
   "source": [
    "bugs= y_train_over_sampled.groupby(y_train_over_sampled)\n",
    "bugs.size()"
   ]
  },
  {
   "cell_type": "code",
   "execution_count": 54,
   "metadata": {},
   "outputs": [],
   "source": [
    "# does not require resampling\n",
    "X_train_over_sampled = X_train_all_features\n",
    "y_train_over_sampled = y\n",
    "data = pd.concat([X_train_over_sampled, y_train_over_sampled], axis=1)"
   ]
  },
  {
   "cell_type": "code",
   "execution_count": 55,
   "metadata": {},
   "outputs": [
    {
     "data": {
      "text/html": [
       "<div>\n",
       "<style scoped>\n",
       "    .dataframe tbody tr th:only-of-type {\n",
       "        vertical-align: middle;\n",
       "    }\n",
       "\n",
       "    .dataframe tbody tr th {\n",
       "        vertical-align: top;\n",
       "    }\n",
       "\n",
       "    .dataframe thead th {\n",
       "        text-align: right;\n",
       "    }\n",
       "</style>\n",
       "<table border=\"1\" class=\"dataframe\">\n",
       "  <thead>\n",
       "    <tr style=\"text-align: right;\">\n",
       "      <th></th>\n",
       "      <th>CCO</th>\n",
       "      <th>NLE</th>\n",
       "      <th>NII</th>\n",
       "      <th>NOI</th>\n",
       "      <th>TCLOC</th>\n",
       "      <th>PUA</th>\n",
       "      <th>LCOM5</th>\n",
       "      <th>NOC</th>\n",
       "      <th>CBO</th>\n",
       "      <th>DIT</th>\n",
       "      <th>bug</th>\n",
       "    </tr>\n",
       "  </thead>\n",
       "  <tbody>\n",
       "    <tr>\n",
       "      <th>0</th>\n",
       "      <td>0</td>\n",
       "      <td>1</td>\n",
       "      <td>0</td>\n",
       "      <td>0</td>\n",
       "      <td>0</td>\n",
       "      <td>3</td>\n",
       "      <td>1</td>\n",
       "      <td>0</td>\n",
       "      <td>0</td>\n",
       "      <td>0</td>\n",
       "      <td>0</td>\n",
       "    </tr>\n",
       "    <tr>\n",
       "      <th>1</th>\n",
       "      <td>0</td>\n",
       "      <td>0</td>\n",
       "      <td>0</td>\n",
       "      <td>0</td>\n",
       "      <td>0</td>\n",
       "      <td>6</td>\n",
       "      <td>5</td>\n",
       "      <td>1</td>\n",
       "      <td>7</td>\n",
       "      <td>1</td>\n",
       "      <td>0</td>\n",
       "    </tr>\n",
       "    <tr>\n",
       "      <th>2</th>\n",
       "      <td>0</td>\n",
       "      <td>0</td>\n",
       "      <td>0</td>\n",
       "      <td>0</td>\n",
       "      <td>0</td>\n",
       "      <td>1</td>\n",
       "      <td>0</td>\n",
       "      <td>0</td>\n",
       "      <td>0</td>\n",
       "      <td>0</td>\n",
       "      <td>0</td>\n",
       "    </tr>\n",
       "    <tr>\n",
       "      <th>3</th>\n",
       "      <td>0</td>\n",
       "      <td>0</td>\n",
       "      <td>0</td>\n",
       "      <td>0</td>\n",
       "      <td>0</td>\n",
       "      <td>1</td>\n",
       "      <td>0</td>\n",
       "      <td>0</td>\n",
       "      <td>1</td>\n",
       "      <td>1</td>\n",
       "      <td>0</td>\n",
       "    </tr>\n",
       "    <tr>\n",
       "      <th>4</th>\n",
       "      <td>0</td>\n",
       "      <td>0</td>\n",
       "      <td>4</td>\n",
       "      <td>0</td>\n",
       "      <td>0</td>\n",
       "      <td>10</td>\n",
       "      <td>1</td>\n",
       "      <td>0</td>\n",
       "      <td>1</td>\n",
       "      <td>0</td>\n",
       "      <td>0</td>\n",
       "    </tr>\n",
       "    <tr>\n",
       "      <th>...</th>\n",
       "      <td>...</td>\n",
       "      <td>...</td>\n",
       "      <td>...</td>\n",
       "      <td>...</td>\n",
       "      <td>...</td>\n",
       "      <td>...</td>\n",
       "      <td>...</td>\n",
       "      <td>...</td>\n",
       "      <td>...</td>\n",
       "      <td>...</td>\n",
       "      <td>...</td>\n",
       "    </tr>\n",
       "    <tr>\n",
       "      <th>1138</th>\n",
       "      <td>0</td>\n",
       "      <td>0</td>\n",
       "      <td>0</td>\n",
       "      <td>0</td>\n",
       "      <td>6</td>\n",
       "      <td>0</td>\n",
       "      <td>0</td>\n",
       "      <td>0</td>\n",
       "      <td>0</td>\n",
       "      <td>0</td>\n",
       "      <td>0</td>\n",
       "    </tr>\n",
       "    <tr>\n",
       "      <th>1139</th>\n",
       "      <td>0</td>\n",
       "      <td>0</td>\n",
       "      <td>0</td>\n",
       "      <td>0</td>\n",
       "      <td>3</td>\n",
       "      <td>1</td>\n",
       "      <td>1</td>\n",
       "      <td>0</td>\n",
       "      <td>1</td>\n",
       "      <td>1</td>\n",
       "      <td>0</td>\n",
       "    </tr>\n",
       "    <tr>\n",
       "      <th>1140</th>\n",
       "      <td>0</td>\n",
       "      <td>0</td>\n",
       "      <td>0</td>\n",
       "      <td>2</td>\n",
       "      <td>6</td>\n",
       "      <td>2</td>\n",
       "      <td>2</td>\n",
       "      <td>0</td>\n",
       "      <td>2</td>\n",
       "      <td>2</td>\n",
       "      <td>0</td>\n",
       "    </tr>\n",
       "    <tr>\n",
       "      <th>1141</th>\n",
       "      <td>0</td>\n",
       "      <td>0</td>\n",
       "      <td>0</td>\n",
       "      <td>0</td>\n",
       "      <td>3</td>\n",
       "      <td>0</td>\n",
       "      <td>0</td>\n",
       "      <td>0</td>\n",
       "      <td>0</td>\n",
       "      <td>0</td>\n",
       "      <td>0</td>\n",
       "    </tr>\n",
       "    <tr>\n",
       "      <th>1142</th>\n",
       "      <td>0</td>\n",
       "      <td>2</td>\n",
       "      <td>2</td>\n",
       "      <td>0</td>\n",
       "      <td>44</td>\n",
       "      <td>0</td>\n",
       "      <td>2</td>\n",
       "      <td>0</td>\n",
       "      <td>0</td>\n",
       "      <td>0</td>\n",
       "      <td>0</td>\n",
       "    </tr>\n",
       "  </tbody>\n",
       "</table>\n",
       "<p>1143 rows × 11 columns</p>\n",
       "</div>"
      ],
      "text/plain": [
       "      CCO  NLE  NII  NOI  TCLOC  PUA  LCOM5  NOC  CBO  DIT  bug\n",
       "0       0    1    0    0      0    3      1    0    0    0    0\n",
       "1       0    0    0    0      0    6      5    1    7    1    0\n",
       "2       0    0    0    0      0    1      0    0    0    0    0\n",
       "3       0    0    0    0      0    1      0    0    1    1    0\n",
       "4       0    0    4    0      0   10      1    0    1    0    0\n",
       "...   ...  ...  ...  ...    ...  ...    ...  ...  ...  ...  ...\n",
       "1138    0    0    0    0      6    0      0    0    0    0    0\n",
       "1139    0    0    0    0      3    1      1    0    1    1    0\n",
       "1140    0    0    0    2      6    2      2    0    2    2    0\n",
       "1141    0    0    0    0      3    0      0    0    0    0    0\n",
       "1142    0    2    2    0     44    0      2    0    0    0    0\n",
       "\n",
       "[1143 rows x 11 columns]"
      ]
     },
     "execution_count": 55,
     "metadata": {},
     "output_type": "execute_result"
    }
   ],
   "source": [
    "data"
   ]
  },
  {
   "cell_type": "code",
   "execution_count": 28,
   "metadata": {},
   "outputs": [],
   "source": [
    "# save the dataset for c5\n",
    "filename = 'Netty-Unified.csv'\n",
    "data.to_csv('data/cleaned/expr2/{}'.format(filename),sep=',')"
   ]
  },
  {
   "cell_type": "code",
   "execution_count": 116,
   "metadata": {},
   "outputs": [],
   "source": [
    "# Model construction"
   ]
  },
  {
   "cell_type": "code",
   "execution_count": 56,
   "metadata": {},
   "outputs": [
    {
     "name": "stdout",
     "output_type": "stream",
     "text": [
      "Train: (800, 10) (800,) Test: (172, 10) (172,) Cross Validation (171, 10) (171,)\n"
     ]
    }
   ],
   "source": [
    "validation_size = 0.3\n",
    "random_seed=7\n",
    "\n",
    "from sklearn.model_selection import train_test_split\n",
    "X_train_over_sampled, X_test_over_sampled, y_train_over_sampled, y_test_over_sampled = train_test_split(X_train_over_sampled, y_train_over_sampled, test_size=0.3,random_state=7)\n",
    "X_cv_over_sampled, X_test_over_sampled, y_cv_over_sampled, y_test_over_sampled = train_test_split(X_test_over_sampled, y_test_over_sampled, test_size=0.5)\n",
    "print(\"Train:\", X_train_over_sampled.shape, y_train_over_sampled.shape,\n",
    "      \"Test:\", X_test_over_sampled.shape, y_test_over_sampled.shape,\n",
    "      \"Cross Validation\", X_cv_over_sampled.shape, y_cv_over_sampled.shape)\n"
   ]
  },
  {
   "cell_type": "code",
   "execution_count": 64,
   "metadata": {},
   "outputs": [],
   "source": [
    "def Modeler(model, X_train, y_train, X_cv, y_cv, params, scale=False, n_jobs=True, pca=False):\n",
    "    \n",
    "    if scale & pca:\n",
    "        pipeline = Pipeline([\n",
    "            ('scale', StandardScaler()),\n",
    "            ('dim_reduct', PCA(n_components=4)),\n",
    "            ('clf', model())])\n",
    "        print(\"Scaling and dim reduct...\")\n",
    "        \n",
    "    elif scale:\n",
    "        pipeline = Pipeline([ ('scale', StandardScaler()), ('clf', model())])\n",
    "        \n",
    "    elif pca:\n",
    "        pipeline = Pipeline([\n",
    "        ('dim_reduct', PCA(n_components=pca)),\n",
    "        ('clf', model())])\n",
    "    else:\n",
    "        pipeline = Pipeline([('clf', model())])\n",
    "        \n",
    "    grid = GridSearchCV(pipeline, param_grid = params, cv=5, n_jobs=4, refit=True)\n",
    "    grid.fit(X_cv, y_cv)\n",
    "    \n",
    "    best_prameters = {}\n",
    "    for k, v in grid.best_params_.items():\n",
    "        best_prameters[k[5:]] = v\n",
    "\n",
    "    if n_jobs:\n",
    "        model = model(**best_prameters, n_jobs=4)\n",
    "    else:\n",
    "        model = model(**best_prameters)\n",
    "   \n",
    "    model.fit(X_train, y_train)\n",
    "    \n",
    "    print(\"Best Parameters for model:\", best_prameters)\n",
    "\n",
    "    return {\n",
    "        \"model\": model, \n",
    "        \"best_params\":best_prameters\n",
    "    }"
   ]
  },
  {
   "cell_type": "code",
   "execution_count": 31,
   "metadata": {},
   "outputs": [],
   "source": [
    "# metrics method\n",
    "def metrics_calculate(model_name, y_val, y_pred):\n",
    "    '''\n",
    "    0. basic metrics values ['accuracy', 'precision', 'recall', 'fpr', 'fnr', 'auc']\n",
    "    1. classification report\n",
    "    2. confusion matrix\n",
    "    '''\n",
    "    y_val = np.reshape(y_val, -1).astype(np.int32)\n",
    "    y_pred = np.where(np.reshape(y_pred, -1) > 0.5, 1, 0)\n",
    "    accuracy = accuracy_score(y_val, y_pred)\n",
    "    precision = precision_score(y_val, y_pred)\n",
    "    recall = recall_score(y_val, y_pred)\n",
    "    tn, fp, fn, tp = confusion_matrix(y_val, y_pred,labels=[0,1]).ravel()\n",
    "    fpr = fp / (tn + fp)\n",
    "    fnr = fn / (tp + fn)\n",
    "    auc = roc_auc_score(y_val, y_pred)\n",
    "    print('Model:%s Acc:%.8f Prec:%.8f Recall:%.8f FNR:%.8f FPR:%.8f AUC:%.8f' % (model_name, accuracy, precision, recall, fnr, fpr, auc))\n",
    "    print(model_name, 'classification report:\\n', classification_report(y_val, y_pred))\n",
    "    print(model_name, 'confusion_matrix:\\n', confusion_matrix(y_val, y_pred))\n",
    "    print('\\n%s FNR:%.8f FPR:%.8f\\n%s accuracy:%.8f' % (model_name, fnr, fpr, model_name, accuracy_score(y_pred,y_val)))"
   ]
  },
  {
   "cell_type": "code",
   "execution_count": 32,
   "metadata": {},
   "outputs": [],
   "source": [
    "def model_eval(model, X_test, y_test, acc=True, recall_=True, auc_=True, plot_conf=True, plot_auc=True, f1=True, prop=False):\n",
    "    \n",
    "    res = [None, None, None, None] # Accuracy, auc_roc, f1_score, recall\n",
    "    y_pred = model.predict(X_test)\n",
    "    \n",
    "    if prop:\n",
    "        y_pred = np.where(y_pred > 0.5, 1, 0)\n",
    "    \n",
    "    if f1:\n",
    "        f_sc = f1_score(y_test, y_pred, average='macro')\n",
    "        res[2] = f_sc\n",
    "        \n",
    "    if acc:\n",
    "        res[0] = accuracy_score(y_test, y_pred)\n",
    "        print('accuracy:', res[0] * 100 ,'%')\n",
    "              \n",
    "    if recall_:\n",
    "        res[3]= recall_score(y_test, y_pred, average='macro')\n",
    "        print('recall:', res[3] * 100 ,'%')\n",
    "              \n",
    "    if auc_:\n",
    "        lb = LabelBinarizer()\n",
    "        lb.fit(y_test)\n",
    "\n",
    "        truth = lb.transform(y_test)\n",
    "        y_pred_encode = lb.transform(y_pred)\n",
    "              \n",
    "        res[1] = roc_auc_score(truth, y_pred_encode, average = 'macro')\n",
    "        print('ROC:', res[1] * 100 ,'%')\n",
    "              \n",
    "    if plot_conf:\n",
    "        fig, ax = plt.subplots(figsize=(10,6))\n",
    "\n",
    "        conf = confusion_matrix(y_test, y_pred, labels=np.unique(y_test))\n",
    "        sns.heatmap(conf, cmap= 'Set1', annot=True, cbar=False)\n",
    "        plt.ylabel('Actual')\n",
    "        plt.xlabel('Predicted')\n",
    "        plt.title('Confusion Matrix');\n",
    "    \n",
    "    if plot_auc:\n",
    "        fig, ax = plt.subplots(figsize=(10,6))\n",
    "\n",
    "        if not auc_:\n",
    "            lb = LabelBinarizer()\n",
    "            lb.fit(y_test)\n",
    "\n",
    "            truth = lb.transform(y_test)\n",
    "            y_pred_encode = lb.transform(y_pred)\n",
    "\n",
    "        fpr = [None, None, None]\n",
    "        tpr = [None, None, None]\n",
    "        auc_of_roc = [None, None, None]\n",
    "        \n",
    "        #n_classes = (0, 1)\n",
    "        \n",
    "        for i in range(0,1):\n",
    "            fpr[i], tpr[i], _ = roc_curve(truth[:, i], y_pred_encode[:, i])\n",
    "            auc_of_roc[i] = auc(fpr[i], tpr[i])\n",
    "            \n",
    "        plt.plot(fpr[0], tpr[0], label='0 - area under ROC = %0.3f' % auc_of_roc[0])\n",
    "\n",
    "        plt.xlabel('False Positive Rate')\n",
    "        plt.ylabel('True Positive Rate')\n",
    "        plt.title(\"ROC AUC\");\n",
    "        plt.legend()\n",
    "\n",
    "    return res"
   ]
  },
  {
   "cell_type": "code",
   "execution_count": 33,
   "metadata": {},
   "outputs": [],
   "source": [
    "scores = {}"
   ]
  },
  {
   "cell_type": "code",
   "execution_count": 85,
   "metadata": {},
   "outputs": [],
   "source": [
    "# classifiers after removing multi columnary and over sampling"
   ]
  },
  {
   "cell_type": "code",
   "execution_count": 90,
   "metadata": {},
   "outputs": [
    {
     "name": "stdout",
     "output_type": "stream",
     "text": [
      "Best Parameters for model: {'learning_rate': 0.1, 'n_estimators': 100}\n"
     ]
    }
   ],
   "source": [
    "# AdaBoostClassifier\n",
    "ada_params = {\n",
    "    'clf__learning_rate': [0.1, 0.5, 1.0],\n",
    "    'clf__n_estimators': [100, 200]\n",
    "}\n",
    "\n",
    "ada = Modeler(AdaBoostClassifier, X_train_over_sampled, y_train_over_sampled, X_cv_over_sampled, y_cv_over_sampled, ada_params, scale=False, n_jobs=False)"
   ]
  },
  {
   "cell_type": "code",
   "execution_count": 91,
   "metadata": {},
   "outputs": [
    {
     "name": "stdout",
     "output_type": "stream",
     "text": [
      "accuracy: 85.46511627906976 %\n",
      "recall: 65.9688858384809 %\n",
      "ROC: 65.9688858384809 %\n"
     ]
    },
    {
     "data": {
      "image/png": "[encoded data removed]",
      "text/plain": [
       "<Figure size 720x432 with 1 Axes>"
      ]
     },
     "metadata": {},
     "output_type": "display_data"
    },
    {
     "data": {
      "image/png": "[encoded data removed]",
      "text/plain": [
       "<Figure size 720x432 with 1 Axes>"
      ]
     },
     "metadata": {},
     "output_type": "display_data"
    }
   ],
   "source": [
    "model_scoring = model_eval(ada[\"model\"], X_test_over_sampled, y_test_over_sampled)\n",
    "scores[\"AdaBoost Classifier | Binary\"] = {\"Accuracy\": '{0:.2f}'.format(round(model_scoring[0], 4)*100),\n",
    "                             \"ROC\": '{0:.2f}'.format(round(model_scoring[1],4)*100),\n",
    "                             \"F1-Score\": '{0:.2f}'.format(round(model_scoring[2],4)*100),\n",
    "                              \"Recall-Score\": '{0:.2f}'.format(round(model_scoring[3],4)*100)}"
   ]
  },
  {
   "cell_type": "code",
   "execution_count": 92,
   "metadata": {},
   "outputs": [
    {
     "data": {
      "image/png": "[encoded data removed]",
      "text/plain": [
       "<Figure size 432x288 with 1 Axes>"
      ]
     },
     "metadata": {},
     "output_type": "display_data"
    }
   ],
   "source": [
    "ROC_curve = plot_roc_curve(ada[\"model\"], X_test_over_sampled, y_test_over_sampled)\n",
    "scores[\"AdaBoost Classifier | Binary\"][\"AUC\"] = '{0:.2f}'.format(round(ROC_curve.roc_auc,4)*100)"
   ]
  },
  {
   "cell_type": "code",
   "execution_count": 127,
   "metadata": {},
   "outputs": [],
   "source": [
    "#xgboost"
   ]
  },
  {
   "cell_type": "code",
   "execution_count": 93,
   "metadata": {},
   "outputs": [
    {
     "name": "stdout",
     "output_type": "stream",
     "text": [
      "[12:21:06] WARNING: C:/Users/Administrator/workspace/xgboost-win64_release_1.5.1/src/learner.cc:1115: Starting in XGBoost 1.3.0, the default evaluation metric used with the objective 'binary:logistic' was changed from 'error' to 'logloss'. Explicitly set eval_metric if you'd like to restore the old behavior.\n",
      "[12:21:07] WARNING: C:/Users/Administrator/workspace/xgboost-win64_release_1.5.1/src/learner.cc:1115: Starting in XGBoost 1.3.0, the default evaluation metric used with the objective 'binary:logistic' was changed from 'error' to 'logloss'. Explicitly set eval_metric if you'd like to restore the old behavior.\n",
      "Best Parameters for model: {'colsample_bytree': 0.8, 'learning_rate': 0.1, 'max_depth': 8, 'n_estimators': 200, 'reg_alpha': 1.1, 'subsample': 0.9}\n"
     ]
    }
   ],
   "source": [
    "xg_params = {\n",
    "    'clf__max_depth': [8, 9],\n",
    "    'clf__learning_rate': [0.1],\n",
    "    'clf__n_estimators':[200],\n",
    "    'clf__reg_alpha':[1.1],\n",
    "    'clf__colsample_bytree':[0.8],\n",
    "    'clf__subsample':[0.8, 0.9,],\n",
    "}\n",
    "\n",
    "xgboost = Modeler(XGBClassifier, X_train_over_sampled, y_train_over_sampled, X_cv_over_sampled, y_cv_over_sampled, xg_params, scale=False, n_jobs=5)"
   ]
  },
  {
   "cell_type": "code",
   "execution_count": 94,
   "metadata": {},
   "outputs": [
    {
     "name": "stdout",
     "output_type": "stream",
     "text": [
      "accuracy: 84.88372093023256 %\n",
      "recall: 73.1640356897735 %\n",
      "ROC: 73.16403568977351 %\n"
     ]
    },
    {
     "data": {
      "image/png": "[encoded data removed]",
      "text/plain": [
       "<Figure size 720x432 with 1 Axes>"
      ]
     },
     "metadata": {},
     "output_type": "display_data"
    },
    {
     "data": {
      "image/png": "[encoded data removed]",
      "text/plain": [
       "<Figure size 720x432 with 1 Axes>"
      ]
     },
     "metadata": {},
     "output_type": "display_data"
    }
   ],
   "source": [
    "model_scoring = model_eval(xgboost[\"model\"], X_test_over_sampled, y_test_over_sampled)\n",
    "scores[\"XGBoost | Binary\"] = {\"Accuracy\": '{0:.2f}'.format(round(model_scoring[0], 4)*100),\n",
    "                             \"ROC\": '{0:.2f}'.format(round(model_scoring[1],4)*100),\n",
    "                             \"F1-Score\": '{0:.2f}'.format(round(model_scoring[2],4)*100),\n",
    "                              \"Recall-Score\": '{0:.2f}'.format(round(model_scoring[3],4)*100)}"
   ]
  },
  {
   "cell_type": "code",
   "execution_count": 95,
   "metadata": {},
   "outputs": [
    {
     "data": {
      "image/png": "[encoded data removed]",
      "text/plain": [
       "<Figure size 432x288 with 1 Axes>"
      ]
     },
     "metadata": {},
     "output_type": "display_data"
    }
   ],
   "source": [
    "ROC_curve = plot_roc_curve(xgboost[\"model\"], X_test_over_sampled, y_test_over_sampled)\n",
    "scores[\"XGBoost | Binary\"][\"AUC\"] = '{0:.2f}'.format(round(ROC_curve.roc_auc,4)*100)"
   ]
  },
  {
   "cell_type": "code",
   "execution_count": null,
   "metadata": {},
   "outputs": [],
   "source": [
    "# Random Forest"
   ]
  },
  {
   "cell_type": "code",
   "execution_count": 48,
   "metadata": {},
   "outputs": [
    {
     "name": "stdout",
     "output_type": "stream",
     "text": [
      "Best Parameters for model: {'criterion': 'gini', 'max_depth': 10, 'max_features': 0.3, 'n_estimators': 500}\n"
     ]
    }
   ],
   "source": [
    "rfc_params = {\n",
    "    'clf__n_estimators'      : [200, 500],\n",
    "    'clf__max_depth'         : [10, 20],\n",
    "    'clf__max_features': [1.0, 0.7, 0.3],\n",
    "    'clf__criterion' :['gini', 'entropy']\n",
    "}\n",
    "\n",
    "rfc = Modeler(RandomForestClassifier, X_train_over_sampled, y_train_over_sampled, X_cv_over_sampled, y_cv_over_sampled, rfc_params, scale=False) "
   ]
  },
  {
   "cell_type": "code",
   "execution_count": 49,
   "metadata": {},
   "outputs": [
    {
     "name": "stdout",
     "output_type": "stream",
     "text": [
      "accuracy: 86.04651162790698 %\n",
      "recall: 68.9051094890511 %\n",
      "ROC: 68.9051094890511 %\n"
     ]
    },
    {
     "data": {
      "image/png": "[encoded data removed]",
      "text/plain": [
       "<Figure size 720x432 with 1 Axes>"
      ]
     },
     "metadata": {},
     "output_type": "display_data"
    },
    {
     "data": {
      "image/png": "[encoded data removed]",
      "text/plain": [
       "<Figure size 720x432 with 1 Axes>"
      ]
     },
     "metadata": {},
     "output_type": "display_data"
    }
   ],
   "source": [
    "model_scoring = model_eval(rfc[\"model\"], X_test_over_sampled, y_test_over_sampled)\n",
    "scores[\"Random Forest | Binary\"] = {\"Accuracy\": '{0:.2f}'.format(round(model_scoring[0], 4)*100),\n",
    "                             \"ROC\": '{0:.2f}'.format(round(model_scoring[1],4)*100),\n",
    "                             \"F1-Score\": '{0:.2f}'.format(round(model_scoring[2],4)*100),\n",
    "                             \"Recall-Score\": '{0:.2f}'.format(round(model_scoring[3],4)*100)}"
   ]
  },
  {
   "cell_type": "code",
   "execution_count": 50,
   "metadata": {},
   "outputs": [
    {
     "data": {
      "image/png": "[encoded data removed]",
      "text/plain": [
       "<Figure size 432x288 with 1 Axes>"
      ]
     },
     "metadata": {},
     "output_type": "display_data"
    }
   ],
   "source": [
    "ROC_curve = plot_roc_curve(rfc[\"model\"], X_test_over_sampled, y_test_over_sampled)\n",
    "scores[\"Random Forest | Binary\"][\"AUC\"] = '{0:.2f}'.format(round(ROC_curve.roc_auc,4)*100)"
   ]
  },
  {
   "cell_type": "code",
   "execution_count": 136,
   "metadata": {},
   "outputs": [],
   "source": [
    "# SVC"
   ]
  },
  {
   "cell_type": "code",
   "execution_count": 99,
   "metadata": {},
   "outputs": [
    {
     "name": "stdout",
     "output_type": "stream",
     "text": [
      "Best Parameters for model: {'C': 0.1, 'gamma': 1, 'kernel': 'rbf'}\n"
     ]
    }
   ],
   "source": [
    "svc_params = {\n",
    "    'clf__C': [0.1, 1],\n",
    "    'clf__kernel': ['rbf'],\n",
    "    'clf__gamma':[1, 0.01]\n",
    "}\n",
    "\n",
    "svc = Modeler(SVC, X_train_over_sampled, y_train_over_sampled, X_cv_over_sampled, y_cv_over_sampled, svc_params, scale=False, n_jobs=False)"
   ]
  },
  {
   "cell_type": "code",
   "execution_count": 100,
   "metadata": {},
   "outputs": [
    {
     "name": "stdout",
     "output_type": "stream",
     "text": [
      "accuracy: 81.97674418604652 %\n",
      "recall: 50.0 %\n",
      "ROC: 50.0 %\n"
     ]
    },
    {
     "data": {
      "image/png": "[encoded data removed]",
      "text/plain": [
       "<Figure size 720x432 with 1 Axes>"
      ]
     },
     "metadata": {},
     "output_type": "display_data"
    },
    {
     "data": {
      "image/png": "[encoded data removed]",
      "text/plain": [
       "<Figure size 720x432 with 1 Axes>"
      ]
     },
     "metadata": {},
     "output_type": "display_data"
    }
   ],
   "source": [
    "model_scoring = model_eval(svc[\"model\"], X_test_over_sampled, y_test_over_sampled)\n",
    "scores[\"Support-Vector Machine | Binary\"] = {\"Accuracy\": '{0:.2f}'.format(round(model_scoring[0], 4)*100),\n",
    "                             \"ROC\": '{0:.2f}'.format(round(model_scoring[1],4)*100),\n",
    "                             \"F1-Score\": '{0:.2f}'.format(round(model_scoring[2],4)*100),\n",
    "                              \"Recall-Score\": '{0:.2f}'.format(round(model_scoring[3],4)*100)}"
   ]
  },
  {
   "cell_type": "code",
   "execution_count": 101,
   "metadata": {},
   "outputs": [
    {
     "data": {
      "image/png": "[encoded data removed]",
      "text/plain": [
       "<Figure size 432x288 with 1 Axes>"
      ]
     },
     "metadata": {},
     "output_type": "display_data"
    }
   ],
   "source": [
    "ROC_curve = plot_roc_curve(svc[\"model\"], X_test_over_sampled, y_test_over_sampled)\n",
    "scores[\"Support-Vector Machine | Binary\"][\"AUC\"] = '{0:.2f}'.format(round(ROC_curve.roc_auc,4)*100)"
   ]
  },
  {
   "cell_type": "code",
   "execution_count": null,
   "metadata": {},
   "outputs": [],
   "source": [
    "# naive_bayes"
   ]
  },
  {
   "cell_type": "code",
   "execution_count": 102,
   "metadata": {},
   "outputs": [
    {
     "name": "stdout",
     "output_type": "stream",
     "text": [
      "Best Parameters for model: {}\n"
     ]
    }
   ],
   "source": [
    "naive_bayes = Modeler(GaussianNB, X_train_over_sampled, y_train_over_sampled, X_cv_over_sampled, y_cv_over_sampled,params={}, scale=False, n_jobs=False)"
   ]
  },
  {
   "cell_type": "code",
   "execution_count": 103,
   "metadata": {},
   "outputs": [
    {
     "name": "stdout",
     "output_type": "stream",
     "text": [
      "accuracy: 79.06976744186046 %\n",
      "recall: 57.03500343170899 %\n",
      "ROC: 57.035003431709 %\n"
     ]
    },
    {
     "data": {
      "image/png": "[encoded data removed]",
      "text/plain": [
       "<Figure size 720x432 with 1 Axes>"
      ]
     },
     "metadata": {},
     "output_type": "display_data"
    },
    {
     "data": {
      "image/png": "[encoded data removed]",
      "text/plain": [
       "<Figure size 720x432 with 1 Axes>"
      ]
     },
     "metadata": {},
     "output_type": "display_data"
    }
   ],
   "source": [
    "model_scoring = model_eval(naive_bayes[\"model\"], X_test_over_sampled, y_test_over_sampled)\n",
    "scores[\"Naive Bayes | Binary\"] = {\"Accuracy\": '{0:.2f}'.format(round(model_scoring[0], 4)*100),\n",
    "                             \"ROC\": '{0:.2f}'.format(round(model_scoring[1],4)*100),\n",
    "                             \"F1-Score\": '{0:.2f}'.format(round(model_scoring[2],4)*100),\n",
    "                             \"Recall-Score\": '{0:.2f}'.format(round(model_scoring[3],4)*100)}"
   ]
  },
  {
   "cell_type": "code",
   "execution_count": 104,
   "metadata": {},
   "outputs": [
    {
     "data": {
      "image/png": "[encoded data removed]",
      "text/plain": [
       "<Figure size 432x288 with 1 Axes>"
      ]
     },
     "metadata": {},
     "output_type": "display_data"
    }
   ],
   "source": [
    "ROC_curve = plot_roc_curve(naive_bayes[\"model\"], X_cv_over_sampled, y_cv_over_sampled)\n",
    "scores[\"Naive Bayes | Binary\"][\"AUC\"] = '{0:.2f}'.format(round(ROC_curve.roc_auc,4)*100)"
   ]
  },
  {
   "cell_type": "code",
   "execution_count": 175,
   "metadata": {},
   "outputs": [],
   "source": [
    "# Model Evaluation Comparision"
   ]
  },
  {
   "cell_type": "code",
   "execution_count": 105,
   "metadata": {},
   "outputs": [],
   "source": [
    "score_df = pd.DataFrame.from_dict(scores).T\n",
    "score_df= score_df.sort_values('AUC', ascending=False)"
   ]
  },
  {
   "cell_type": "code",
   "execution_count": 106,
   "metadata": {},
   "outputs": [
    {
     "data": {
      "text/html": [
       "<div>\n",
       "<style scoped>\n",
       "    .dataframe tbody tr th:only-of-type {\n",
       "        vertical-align: middle;\n",
       "    }\n",
       "\n",
       "    .dataframe tbody tr th {\n",
       "        vertical-align: top;\n",
       "    }\n",
       "\n",
       "    .dataframe thead th {\n",
       "        text-align: right;\n",
       "    }\n",
       "</style>\n",
       "<table border=\"1\" class=\"dataframe\">\n",
       "  <thead>\n",
       "    <tr style=\"text-align: right;\">\n",
       "      <th></th>\n",
       "      <th>Accuracy</th>\n",
       "      <th>ROC</th>\n",
       "      <th>F1-Score</th>\n",
       "      <th>Recall-Score</th>\n",
       "      <th>AUC</th>\n",
       "    </tr>\n",
       "  </thead>\n",
       "  <tbody>\n",
       "    <tr>\n",
       "      <th>Random Forest | Binary</th>\n",
       "      <td>88.37</td>\n",
       "      <td>74.03</td>\n",
       "      <td>77.34</td>\n",
       "      <td>74.03</td>\n",
       "      <td>84.69</td>\n",
       "    </tr>\n",
       "    <tr>\n",
       "      <th>XGBoost | Binary</th>\n",
       "      <td>84.88</td>\n",
       "      <td>73.16</td>\n",
       "      <td>73.76</td>\n",
       "      <td>73.16</td>\n",
       "      <td>82.68</td>\n",
       "    </tr>\n",
       "    <tr>\n",
       "      <th>Naive Bayes | Binary</th>\n",
       "      <td>79.07</td>\n",
       "      <td>57.04</td>\n",
       "      <td>57.88</td>\n",
       "      <td>57.04</td>\n",
       "      <td>77.74</td>\n",
       "    </tr>\n",
       "    <tr>\n",
       "      <th>AdaBoost Classifier | Binary</th>\n",
       "      <td>85.47</td>\n",
       "      <td>65.97</td>\n",
       "      <td>69.20</td>\n",
       "      <td>65.97</td>\n",
       "      <td>76.50</td>\n",
       "    </tr>\n",
       "    <tr>\n",
       "      <th>Support-Vector Machine | Binary</th>\n",
       "      <td>81.98</td>\n",
       "      <td>50.00</td>\n",
       "      <td>45.05</td>\n",
       "      <td>50.00</td>\n",
       "      <td>68.79</td>\n",
       "    </tr>\n",
       "  </tbody>\n",
       "</table>\n",
       "</div>"
      ],
      "text/plain": [
       "                                Accuracy    ROC F1-Score Recall-Score    AUC\n",
       "Random Forest | Binary             88.37  74.03    77.34        74.03  84.69\n",
       "XGBoost | Binary                   84.88  73.16    73.76        73.16  82.68\n",
       "Naive Bayes | Binary               79.07  57.04    57.88        57.04  77.74\n",
       "AdaBoost Classifier | Binary       85.47  65.97    69.20        65.97  76.50\n",
       "Support-Vector Machine | Binary    81.98  50.00    45.05        50.00  68.79"
      ]
     },
     "execution_count": 106,
     "metadata": {},
     "output_type": "execute_result"
    }
   ],
   "source": [
    "score_df"
   ]
  },
  {
   "cell_type": "code",
   "execution_count": 123,
   "metadata": {},
   "outputs": [],
   "source": [
    "#feature importance using xgboost"
   ]
  },
  {
   "cell_type": "code",
   "execution_count": 58,
   "metadata": {},
   "outputs": [
    {
     "name": "stdout",
     "output_type": "stream",
     "text": [
      "[00:16:32] WARNING: C:/Users/Administrator/workspace/xgboost-win64_release_1.5.1/src/learner.cc:1115: Starting in XGBoost 1.3.0, the default evaluation metric used with the objective 'binary:logistic' was changed from 'error' to 'logloss'. Explicitly set eval_metric if you'd like to restore the old behavior.\n"
     ]
    },
    {
     "data": {
      "text/plain": [
       "XGBClassifier(base_score=0.5, booster='gbtree', colsample_bylevel=1,\n",
       "              colsample_bynode=1, colsample_bytree=1, enable_categorical=False,\n",
       "              gamma=0, gpu_id=-1, importance_type=None,\n",
       "              interaction_constraints='', learning_rate=0.300000012,\n",
       "              max_delta_step=0, max_depth=6, min_child_weight=1, missing=nan,\n",
       "              monotone_constraints='()', n_estimators=100, n_jobs=4,\n",
       "              num_parallel_tree=1, predictor='auto', random_state=0,\n",
       "              reg_alpha=0, reg_lambda=1, scale_pos_weight=1, subsample=1,\n",
       "              tree_method='exact', validate_parameters=1, verbosity=None)"
      ]
     },
     "execution_count": 58,
     "metadata": {},
     "output_type": "execute_result"
    }
   ],
   "source": [
    "model = XGBClassifier()\n",
    "model.fit(X_train_over_sampled,y_train_over_sampled)"
   ]
  },
  {
   "cell_type": "code",
   "execution_count": 60,
   "metadata": {},
   "outputs": [
    {
     "data": {
      "text/html": [
       "<div>\n",
       "<style scoped>\n",
       "    .dataframe tbody tr th:only-of-type {\n",
       "        vertical-align: middle;\n",
       "    }\n",
       "\n",
       "    .dataframe tbody tr th {\n",
       "        vertical-align: top;\n",
       "    }\n",
       "\n",
       "    .dataframe thead th {\n",
       "        text-align: right;\n",
       "    }\n",
       "</style>\n",
       "<table border=\"1\" class=\"dataframe\">\n",
       "  <thead>\n",
       "    <tr style=\"text-align: right;\">\n",
       "      <th></th>\n",
       "      <th>0</th>\n",
       "    </tr>\n",
       "  </thead>\n",
       "  <tbody>\n",
       "    <tr>\n",
       "      <th>count</th>\n",
       "      <td>10.000000</td>\n",
       "    </tr>\n",
       "    <tr>\n",
       "      <th>mean</th>\n",
       "      <td>0.100000</td>\n",
       "    </tr>\n",
       "    <tr>\n",
       "      <th>std</th>\n",
       "      <td>0.040842</td>\n",
       "    </tr>\n",
       "    <tr>\n",
       "      <th>min</th>\n",
       "      <td>0.045186</td>\n",
       "    </tr>\n",
       "    <tr>\n",
       "      <th>25%</th>\n",
       "      <td>0.085397</td>\n",
       "    </tr>\n",
       "    <tr>\n",
       "      <th>50%</th>\n",
       "      <td>0.087015</td>\n",
       "    </tr>\n",
       "    <tr>\n",
       "      <th>75%</th>\n",
       "      <td>0.113641</td>\n",
       "    </tr>\n",
       "    <tr>\n",
       "      <th>max</th>\n",
       "      <td>0.193835</td>\n",
       "    </tr>\n",
       "  </tbody>\n",
       "</table>\n",
       "</div>"
      ],
      "text/plain": [
       "               0\n",
       "count  10.000000\n",
       "mean    0.100000\n",
       "std     0.040842\n",
       "min     0.045186\n",
       "25%     0.085397\n",
       "50%     0.087015\n",
       "75%     0.113641\n",
       "max     0.193835"
      ]
     },
     "execution_count": 60,
     "metadata": {},
     "output_type": "execute_result"
    }
   ],
   "source": [
    "features = pd.DataFrame(model.feature_importances_)\n",
    "features.describe()"
   ]
  },
  {
   "cell_type": "code",
   "execution_count": 70,
   "metadata": {},
   "outputs": [
    {
     "data": {
      "image/png": "[encoded data removed]",
      "text/plain": [
       "<Figure size 432x288 with 1 Axes>"
      ]
     },
     "metadata": {},
     "output_type": "display_data"
    }
   ],
   "source": [
    "pyplot.bar(range(len(model.feature_importances_)),model.feature_importances_)\n",
    "pyplot.show()"
   ]
  },
  {
   "cell_type": "code",
   "execution_count": 62,
   "metadata": {},
   "outputs": [
    {
     "name": "stdout",
     "output_type": "stream",
     "text": [
      "('CCO', 0.045186423)\n",
      "('NLE', 0.12140101)\n",
      "('NII', 0.07108656)\n",
      "('NOI', 0.19383506)\n",
      "('TCLOC', 0.09036193)\n",
      "('PUA', 0.08509341)\n",
      "('LCOM5', 0.08630843)\n",
      "('NOC', 0.08733408)\n",
      "('CBO', 0.08669637)\n",
      "('DIT', 0.1326967)\n"
     ]
    }
   ],
   "source": [
    "for feature in zip(X_train_over_sampled.columns,model.feature_importances_):\n",
    "    print(feature)"
   ]
  },
  {
   "cell_type": "code",
   "execution_count": 71,
   "metadata": {},
   "outputs": [
    {
     "data": {
      "text/html": [
       "<div>\n",
       "<style scoped>\n",
       "    .dataframe tbody tr th:only-of-type {\n",
       "        vertical-align: middle;\n",
       "    }\n",
       "\n",
       "    .dataframe tbody tr th {\n",
       "        vertical-align: top;\n",
       "    }\n",
       "\n",
       "    .dataframe thead th {\n",
       "        text-align: right;\n",
       "    }\n",
       "</style>\n",
       "<table border=\"1\" class=\"dataframe\">\n",
       "  <thead>\n",
       "    <tr style=\"text-align: right;\">\n",
       "      <th></th>\n",
       "      <th>0</th>\n",
       "      <th>1</th>\n",
       "    </tr>\n",
       "  </thead>\n",
       "  <tbody>\n",
       "    <tr>\n",
       "      <th>0</th>\n",
       "      <td>NOI</td>\n",
       "      <td>0.193835</td>\n",
       "    </tr>\n",
       "    <tr>\n",
       "      <th>1</th>\n",
       "      <td>DIT</td>\n",
       "      <td>0.132697</td>\n",
       "    </tr>\n",
       "    <tr>\n",
       "      <th>2</th>\n",
       "      <td>NLE</td>\n",
       "      <td>0.121401</td>\n",
       "    </tr>\n",
       "    <tr>\n",
       "      <th>3</th>\n",
       "      <td>TCLOC</td>\n",
       "      <td>0.090362</td>\n",
       "    </tr>\n",
       "    <tr>\n",
       "      <th>4</th>\n",
       "      <td>NOC</td>\n",
       "      <td>0.087334</td>\n",
       "    </tr>\n",
       "    <tr>\n",
       "      <th>5</th>\n",
       "      <td>CBO</td>\n",
       "      <td>0.086696</td>\n",
       "    </tr>\n",
       "    <tr>\n",
       "      <th>6</th>\n",
       "      <td>LCOM5</td>\n",
       "      <td>0.086308</td>\n",
       "    </tr>\n",
       "    <tr>\n",
       "      <th>7</th>\n",
       "      <td>PUA</td>\n",
       "      <td>0.085093</td>\n",
       "    </tr>\n",
       "    <tr>\n",
       "      <th>8</th>\n",
       "      <td>NII</td>\n",
       "      <td>0.071087</td>\n",
       "    </tr>\n",
       "    <tr>\n",
       "      <th>9</th>\n",
       "      <td>CCO</td>\n",
       "      <td>0.045186</td>\n",
       "    </tr>\n",
       "  </tbody>\n",
       "</table>\n",
       "</div>"
      ],
      "text/plain": [
       "       0         1\n",
       "0    NOI  0.193835\n",
       "1    DIT  0.132697\n",
       "2    NLE  0.121401\n",
       "3  TCLOC  0.090362\n",
       "4    NOC  0.087334\n",
       "5    CBO  0.086696\n",
       "6  LCOM5  0.086308\n",
       "7    PUA  0.085093\n",
       "8    NII  0.071087\n",
       "9    CCO  0.045186"
      ]
     },
     "execution_count": 71,
     "metadata": {},
     "output_type": "execute_result"
    }
   ],
   "source": [
    "feature_list=[];\n",
    "for feature in zip(X_train_over_sampled.columns,model.feature_importances_):\n",
    "    feature_list.append(feature)\n",
    "feature_list.sort(key=lambda item: item[1])\n",
    "feature_list.reverse()\n",
    "features= pd.DataFrame(feature_list)\n",
    "features"
   ]
  },
  {
   "cell_type": "code",
   "execution_count": 167,
   "metadata": {},
   "outputs": [
    {
     "name": "stdout",
     "output_type": "stream",
     "text": [
      "('LOC_BLANK', 0.10278101)\n",
      "('PERCENT_COMMENTS', 0.16066277)\n",
      "('PARAMETER_COUNT', 0.1322404)\n",
      "('CONDITION_COUNT', 0.18246835)\n",
      "('CYCLOMATIC_DENSITY', 0.10620168)\n",
      "('DESIGN_COMPLEXITY', 0.10247912)\n",
      "('ESSENTIAL_COMPLEXITY', 0.06730934)\n"
     ]
    }
   ],
   "source": [
    "feature_list=[];\n",
    "for feature in zip(X_train_over_sampled.columns,model.feature_importances_):\n",
    "    if feature[1] > 0.054:\n",
    "        print(feature)\n",
    "        feature_list.append(feature)"
   ]
  },
  {
   "cell_type": "code",
   "execution_count": null,
   "metadata": {},
   "outputs": [],
   "source": [
    "# ranking features"
   ]
  },
  {
   "cell_type": "code",
   "execution_count": 173,
   "metadata": {
    "scrolled": true
   },
   "outputs": [
    {
     "data": {
      "text/html": [
       "<div>\n",
       "<style scoped>\n",
       "    .dataframe tbody tr th:only-of-type {\n",
       "        vertical-align: middle;\n",
       "    }\n",
       "\n",
       "    .dataframe tbody tr th {\n",
       "        vertical-align: top;\n",
       "    }\n",
       "\n",
       "    .dataframe thead th {\n",
       "        text-align: right;\n",
       "    }\n",
       "</style>\n",
       "<table border=\"1\" class=\"dataframe\">\n",
       "  <thead>\n",
       "    <tr style=\"text-align: right;\">\n",
       "      <th></th>\n",
       "      <th>0</th>\n",
       "      <th>1</th>\n",
       "    </tr>\n",
       "  </thead>\n",
       "  <tbody>\n",
       "    <tr>\n",
       "      <th>0</th>\n",
       "      <td>CONDITION_COUNT</td>\n",
       "      <td>0.182468</td>\n",
       "    </tr>\n",
       "    <tr>\n",
       "      <th>1</th>\n",
       "      <td>PERCENT_COMMENTS</td>\n",
       "      <td>0.160663</td>\n",
       "    </tr>\n",
       "    <tr>\n",
       "      <th>2</th>\n",
       "      <td>PARAMETER_COUNT</td>\n",
       "      <td>0.132240</td>\n",
       "    </tr>\n",
       "    <tr>\n",
       "      <th>3</th>\n",
       "      <td>CYCLOMATIC_DENSITY</td>\n",
       "      <td>0.106202</td>\n",
       "    </tr>\n",
       "    <tr>\n",
       "      <th>4</th>\n",
       "      <td>LOC_BLANK</td>\n",
       "      <td>0.102781</td>\n",
       "    </tr>\n",
       "    <tr>\n",
       "      <th>5</th>\n",
       "      <td>DESIGN_COMPLEXITY</td>\n",
       "      <td>0.102479</td>\n",
       "    </tr>\n",
       "    <tr>\n",
       "      <th>6</th>\n",
       "      <td>ESSENTIAL_COMPLEXITY</td>\n",
       "      <td>0.067309</td>\n",
       "    </tr>\n",
       "  </tbody>\n",
       "</table>\n",
       "</div>"
      ],
      "text/plain": [
       "                      0         1\n",
       "0       CONDITION_COUNT  0.182468\n",
       "1      PERCENT_COMMENTS  0.160663\n",
       "2       PARAMETER_COUNT  0.132240\n",
       "3    CYCLOMATIC_DENSITY  0.106202\n",
       "4             LOC_BLANK  0.102781\n",
       "5     DESIGN_COMPLEXITY  0.102479\n",
       "6  ESSENTIAL_COMPLEXITY  0.067309"
      ]
     },
     "execution_count": 173,
     "metadata": {},
     "output_type": "execute_result"
    }
   ],
   "source": [
    "feature_list.sort(key=lambda item: item[1])\n",
    "feature_list.reverse()\n",
    "features= pd.DataFrame(feature_list)\n",
    "features"
   ]
  },
  {
   "cell_type": "code",
   "execution_count": 174,
   "metadata": {},
   "outputs": [
    {
     "name": "stdout",
     "output_type": "stream",
     "text": [
      "[19:21:31] WARNING: C:/Users/Administrator/workspace/xgboost-win64_release_1.5.1/src/learner.cc:1115: Starting in XGBoost 1.3.0, the default evaluation metric used with the objective 'binary:logistic' was changed from 'error' to 'logloss'. Explicitly set eval_metric if you'd like to restore the old behavior.\n"
     ]
    }
   ],
   "source": [
    "sfm=SelectFromModel(model,threshold=0.054)\n",
    "X_important_train=sfm.fit(X_train_over_sampled,y_train_over_sampled)"
   ]
  },
  {
   "cell_type": "code",
   "execution_count": 175,
   "metadata": {},
   "outputs": [],
   "source": [
    "X_train_important_over_sampled = X_important_train.transform(X_train_over_sampled)"
   ]
  },
  {
   "cell_type": "code",
   "execution_count": 176,
   "metadata": {},
   "outputs": [
    {
     "data": {
      "text/plain": [
       "(1092, 7)"
      ]
     },
     "execution_count": 176,
     "metadata": {},
     "output_type": "execute_result"
    }
   ],
   "source": [
    "X_train_important_over_sampled.shape"
   ]
  },
  {
   "cell_type": "code",
   "execution_count": null,
   "metadata": {},
   "outputs": [],
   "source": [
    "#"
   ]
  },
  {
   "cell_type": "code",
   "execution_count": 179,
   "metadata": {},
   "outputs": [
    {
     "name": "stdout",
     "output_type": "stream",
     "text": [
      "Train: (764, 7) (764,) Test: (164, 7) (164,) Cross Validation (164, 7) (164,)\n"
     ]
    }
   ],
   "source": [
    "validation_size = 0.3\n",
    "random_seed=7\n",
    "\n",
    "from sklearn.model_selection import train_test_split\n",
    "X_train_over_sampled, X_test_over_sampled, y_train_over_sampled, y_test_over_sampled = train_test_split(X_train_important_over_sampled, y_train_over_sampled, test_size=0.3,random_state=7)\n",
    "X_cv_over_sampled, X_test_over_sampled, y_cv_over_sampled, y_test_over_sampled = train_test_split(X_test_over_sampled, y_test_over_sampled, test_size=0.5)\n",
    "print(\"Train:\", X_train_over_sampled.shape, y_train_over_sampled.shape,\n",
    "      \"Test:\", X_test_over_sampled.shape, y_test_over_sampled.shape,\n",
    "      \"Cross Validation\", X_cv_over_sampled.shape, y_cv_over_sampled.shape)"
   ]
  },
  {
   "cell_type": "code",
   "execution_count": 127,
   "metadata": {},
   "outputs": [],
   "source": [
    "#xgboost"
   ]
  },
  {
   "cell_type": "code",
   "execution_count": 181,
   "metadata": {},
   "outputs": [
    {
     "name": "stdout",
     "output_type": "stream",
     "text": [
      "[19:29:58] WARNING: C:/Users/Administrator/workspace/xgboost-win64_release_1.5.1/src/learner.cc:1115: Starting in XGBoost 1.3.0, the default evaluation metric used with the objective 'binary:logistic' was changed from 'error' to 'logloss'. Explicitly set eval_metric if you'd like to restore the old behavior.\n",
      "[19:29:59] WARNING: C:/Users/Administrator/workspace/xgboost-win64_release_1.5.1/src/learner.cc:1115: Starting in XGBoost 1.3.0, the default evaluation metric used with the objective 'binary:logistic' was changed from 'error' to 'logloss'. Explicitly set eval_metric if you'd like to restore the old behavior.\n",
      "Best Parameters for model: {'colsample_bytree': 0.8, 'learning_rate': 0.1, 'max_depth': 8, 'n_estimators': 200, 'reg_alpha': 1.1, 'subsample': 0.8}\n"
     ]
    }
   ],
   "source": [
    "xg_params = {\n",
    "    'clf__max_depth': [8, 9],\n",
    "    'clf__learning_rate': [0.1],\n",
    "    'clf__n_estimators':[200],\n",
    "    'clf__reg_alpha':[1.1],\n",
    "    'clf__colsample_bytree':[0.8],\n",
    "    'clf__subsample':[0.8, 0.9,],\n",
    "}\n",
    "\n",
    "xgboost = Modeler(XGBClassifier, X_train_over_sampled, y_train_over_sampled, X_cv_over_sampled, y_cv_over_sampled, xg_params, scale=False, n_jobs=5)"
   ]
  },
  {
   "cell_type": "code",
   "execution_count": 182,
   "metadata": {},
   "outputs": [
    {
     "name": "stdout",
     "output_type": "stream",
     "text": [
      "accuracy: 86.58536585365853 %\n",
      "ROC: 82.71972760161736 %\n"
     ]
    },
    {
     "data": {
      "image/png": "[encoded data removed]",
      "text/plain": [
       "<Figure size 720x432 with 1 Axes>"
      ]
     },
     "metadata": {},
     "output_type": "display_data"
    },
    {
     "data": {
      "image/png": "[encoded data removed]",
      "text/plain": [
       "<Figure size 720x432 with 1 Axes>"
      ]
     },
     "metadata": {},
     "output_type": "display_data"
    }
   ],
   "source": [
    "model_scoring = model_eval(xgboost[\"model\"], X_test_over_sampled, y_test_over_sampled, multi=False)\n",
    "scores[\"XGBoost | Binary\"] = {\"Accuracy\": '{0:.2f}'.format(round(model_scoring[0], 4)*100),\n",
    "                             \"ROC\": '{0:.2f}'.format(round(model_scoring[1],4)*100),\n",
    "                             \"F1-Score\": '{0:.2f}'.format(round(model_scoring[2],4)*100)}"
   ]
  },
  {
   "cell_type": "code",
   "execution_count": 183,
   "metadata": {},
   "outputs": [
    {
     "data": {
      "image/png": "[encoded data removed]",
      "text/plain": [
       "<Figure size 432x288 with 1 Axes>"
      ]
     },
     "metadata": {},
     "output_type": "display_data"
    }
   ],
   "source": [
    "ROC_curve = plot_roc_curve(xgboost[\"model\"], X_test_over_sampled, y_test_over_sampled)\n",
    "scores[\"XGBoost | Binary\"][\"AUC\"] = '{0:.2f}'.format(round(ROC_curve.roc_auc,4)*100)"
   ]
  }
 ],
 "metadata": {
  "kernelspec": {
   "display_name": "Python 3 (ipykernel)",
   "language": "python",
   "name": "python3"
  },
  "language_info": {
   "codemirror_mode": {
    "name": "ipython",
    "version": 3
   },
   "file_extension": ".py",
   "mimetype": "text/x-python",
   "name": "python",
   "nbconvert_exporter": "python",
   "pygments_lexer": "ipython3",
   "version": "3.7.1"
  }
 },
 "nbformat": 4,
 "nbformat_minor": 2
}
