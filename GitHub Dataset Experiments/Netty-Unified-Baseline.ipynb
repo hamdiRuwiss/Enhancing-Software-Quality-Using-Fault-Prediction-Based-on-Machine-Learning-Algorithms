{
 "cells": [
  {
   "cell_type": "code",
   "execution_count": 1,
   "metadata": {},
   "outputs": [],
   "source": [
    "import pandas as pd\n",
    "import numpy as np\n",
    "import random as rnd\n",
    "from scipy.io.arff import loadarff\n",
    "\n",
    "import seaborn as sns\n",
    "import matplotlib.pyplot as plt\n",
    "plt.rcParams[\"figure.figsize\"] = (8, 5)\n",
    "\n",
    "from sklearn.ensemble import BaggingClassifier\n",
    "\n",
    "from sklearn.linear_model import LogisticRegression\n",
    "from sklearn.svm import SVC, LinearSVC\n",
    "from sklearn.ensemble import RandomForestClassifier\n",
    "from sklearn.neighbors import KNeighborsClassifier\n",
    "from sklearn.naive_bayes import GaussianNB\n",
    "from sklearn.linear_model import Perceptron\n",
    "from sklearn.linear_model import SGDClassifier\n",
    "from sklearn.tree import DecisionTreeClassifier\n",
    "from sklearn.preprocessing import StandardScaler\n",
    "from sklearn.linear_model import Lasso\n",
    "from sklearn.pipeline import Pipeline\n",
    "from sklearn.model_selection import GridSearchCV\n",
    "from sklearn.model_selection import StratifiedKFold\n",
    "\n",
    "from sklearn.ensemble import AdaBoostClassifier\n",
    "from xgboost import XGBClassifier\n",
    "\n",
    "\n",
    "from sklearn.metrics import accuracy_score, roc_auc_score, roc_curve, auc, confusion_matrix, f1_score\n",
    "\n",
    "# model evaluation calculate and score\n",
    "from sklearn.metrics import accuracy_score, recall_score, precision_score, roc_auc_score,  mean_squared_error\n",
    "\n",
    "# plot metrics model answer(metrics)\n",
    "from sklearn.metrics import plot_roc_curve, plot_precision_recall_curve\n",
    "\n",
    "# model evaluation \n",
    "from sklearn.metrics import classification_report, confusion_matrix\n",
    "\n",
    "from sklearn.preprocessing import LabelBinarizer\n",
    "\n",
    "\n",
    "from mpl_toolkits.mplot3d import Axes3D\n",
    "from sklearn.cluster import KMeans\n",
    "from sklearn.dummy import DummyClassifier\n",
    "from sklearn.decomposition import PCA\n",
    "from sklearn.mixture import GaussianMixture\n",
    "#import umap\n",
    "\n",
    "import matplotlib.pyplot as plt\n",
    "%matplotlib inline\n",
    "\n",
    "import seaborn as sns\n",
    "sns.set_style('whitegrid')\n",
    "\n",
    "import warnings\n",
    "warnings.filterwarnings('ignore')\n",
    "\n",
    "from tqdm import tqdm\n",
    "\n",
    "# import some dependencies to plot\n",
    "\n",
    "from plotly.offline import iplot\n",
    "# init_notebook_mode(connected=True)\n",
    "import plotly.graph_objs as go\n",
    "\n",
    "from sklearn.model_selection import train_test_split, KFold, cross_val_score\n",
    "\n",
    "# machine learning model\n",
    "from sklearn.naive_bayes import GaussianNB, MultinomialNB, BernoulliNB\n",
    "from sklearn.linear_model import LinearRegression\n",
    "from sklearn.tree import DecisionTreeClassifier\n",
    "# boosting\n",
    "from xgboost import XGBClassifier\n",
    "from xgboost import plot_importance\n",
    "from matplotlib import pyplot\n",
    "from sklearn.feature_selection import SelectFromModel\n",
    "\n",
    "# Import for VIF\n",
    "from statsmodels.stats.outliers_influence import variance_inflation_factor\n",
    "from statsmodels.tools.tools import add_constant"
   ]
  },
  {
   "cell_type": "code",
   "execution_count": 2,
   "metadata": {},
   "outputs": [
    {
     "data": {
      "text/html": [
       "<div>\n",
       "<style scoped>\n",
       "    .dataframe tbody tr th:only-of-type {\n",
       "        vertical-align: middle;\n",
       "    }\n",
       "\n",
       "    .dataframe tbody tr th {\n",
       "        vertical-align: top;\n",
       "    }\n",
       "\n",
       "    .dataframe thead th {\n",
       "        text-align: right;\n",
       "    }\n",
       "</style>\n",
       "<table border=\"1\" class=\"dataframe\">\n",
       "  <thead>\n",
       "    <tr style=\"text-align: right;\">\n",
       "      <th></th>\n",
       "      <th>Unnamed: 0</th>\n",
       "      <th>CC</th>\n",
       "      <th>CCL</th>\n",
       "      <th>CCO</th>\n",
       "      <th>CI</th>\n",
       "      <th>CLC</th>\n",
       "      <th>CLLC</th>\n",
       "      <th>LDC</th>\n",
       "      <th>LLDC</th>\n",
       "      <th>LCOM5</th>\n",
       "      <th>...</th>\n",
       "      <th>TNLM</th>\n",
       "      <th>TNLPA</th>\n",
       "      <th>TNLPM</th>\n",
       "      <th>TNLS</th>\n",
       "      <th>TNM</th>\n",
       "      <th>TNOS</th>\n",
       "      <th>TNPA</th>\n",
       "      <th>TNPM</th>\n",
       "      <th>TNS</th>\n",
       "      <th>bug</th>\n",
       "    </tr>\n",
       "  </thead>\n",
       "  <tbody>\n",
       "    <tr>\n",
       "      <th>0</th>\n",
       "      <td>0</td>\n",
       "      <td>0.0</td>\n",
       "      <td>0</td>\n",
       "      <td>0</td>\n",
       "      <td>0</td>\n",
       "      <td>0.0</td>\n",
       "      <td>0.0</td>\n",
       "      <td>0</td>\n",
       "      <td>0</td>\n",
       "      <td>1</td>\n",
       "      <td>...</td>\n",
       "      <td>2</td>\n",
       "      <td>0</td>\n",
       "      <td>2</td>\n",
       "      <td>0</td>\n",
       "      <td>2</td>\n",
       "      <td>8</td>\n",
       "      <td>0</td>\n",
       "      <td>2</td>\n",
       "      <td>0</td>\n",
       "      <td>0</td>\n",
       "    </tr>\n",
       "    <tr>\n",
       "      <th>1</th>\n",
       "      <td>1</td>\n",
       "      <td>0.0</td>\n",
       "      <td>0</td>\n",
       "      <td>0</td>\n",
       "      <td>0</td>\n",
       "      <td>0.0</td>\n",
       "      <td>0.0</td>\n",
       "      <td>0</td>\n",
       "      <td>0</td>\n",
       "      <td>5</td>\n",
       "      <td>...</td>\n",
       "      <td>5</td>\n",
       "      <td>0</td>\n",
       "      <td>5</td>\n",
       "      <td>0</td>\n",
       "      <td>5</td>\n",
       "      <td>5</td>\n",
       "      <td>0</td>\n",
       "      <td>5</td>\n",
       "      <td>0</td>\n",
       "      <td>0</td>\n",
       "    </tr>\n",
       "    <tr>\n",
       "      <th>2</th>\n",
       "      <td>2</td>\n",
       "      <td>0.0</td>\n",
       "      <td>0</td>\n",
       "      <td>0</td>\n",
       "      <td>0</td>\n",
       "      <td>0.0</td>\n",
       "      <td>0.0</td>\n",
       "      <td>0</td>\n",
       "      <td>0</td>\n",
       "      <td>0</td>\n",
       "      <td>...</td>\n",
       "      <td>0</td>\n",
       "      <td>0</td>\n",
       "      <td>0</td>\n",
       "      <td>0</td>\n",
       "      <td>0</td>\n",
       "      <td>0</td>\n",
       "      <td>0</td>\n",
       "      <td>0</td>\n",
       "      <td>0</td>\n",
       "      <td>0</td>\n",
       "    </tr>\n",
       "    <tr>\n",
       "      <th>3</th>\n",
       "      <td>3</td>\n",
       "      <td>0.0</td>\n",
       "      <td>0</td>\n",
       "      <td>0</td>\n",
       "      <td>0</td>\n",
       "      <td>0.0</td>\n",
       "      <td>0.0</td>\n",
       "      <td>0</td>\n",
       "      <td>0</td>\n",
       "      <td>0</td>\n",
       "      <td>...</td>\n",
       "      <td>0</td>\n",
       "      <td>0</td>\n",
       "      <td>0</td>\n",
       "      <td>0</td>\n",
       "      <td>1</td>\n",
       "      <td>0</td>\n",
       "      <td>0</td>\n",
       "      <td>1</td>\n",
       "      <td>0</td>\n",
       "      <td>0</td>\n",
       "    </tr>\n",
       "    <tr>\n",
       "      <th>4</th>\n",
       "      <td>5</td>\n",
       "      <td>0.0</td>\n",
       "      <td>0</td>\n",
       "      <td>0</td>\n",
       "      <td>0</td>\n",
       "      <td>0.0</td>\n",
       "      <td>0.0</td>\n",
       "      <td>0</td>\n",
       "      <td>0</td>\n",
       "      <td>1</td>\n",
       "      <td>...</td>\n",
       "      <td>9</td>\n",
       "      <td>0</td>\n",
       "      <td>9</td>\n",
       "      <td>0</td>\n",
       "      <td>9</td>\n",
       "      <td>1</td>\n",
       "      <td>0</td>\n",
       "      <td>9</td>\n",
       "      <td>0</td>\n",
       "      <td>0</td>\n",
       "    </tr>\n",
       "    <tr>\n",
       "      <th>...</th>\n",
       "      <td>...</td>\n",
       "      <td>...</td>\n",
       "      <td>...</td>\n",
       "      <td>...</td>\n",
       "      <td>...</td>\n",
       "      <td>...</td>\n",
       "      <td>...</td>\n",
       "      <td>...</td>\n",
       "      <td>...</td>\n",
       "      <td>...</td>\n",
       "      <td>...</td>\n",
       "      <td>...</td>\n",
       "      <td>...</td>\n",
       "      <td>...</td>\n",
       "      <td>...</td>\n",
       "      <td>...</td>\n",
       "      <td>...</td>\n",
       "      <td>...</td>\n",
       "      <td>...</td>\n",
       "      <td>...</td>\n",
       "      <td>...</td>\n",
       "    </tr>\n",
       "    <tr>\n",
       "      <th>1138</th>\n",
       "      <td>1294</td>\n",
       "      <td>0.0</td>\n",
       "      <td>0</td>\n",
       "      <td>0</td>\n",
       "      <td>0</td>\n",
       "      <td>0.0</td>\n",
       "      <td>0.0</td>\n",
       "      <td>0</td>\n",
       "      <td>0</td>\n",
       "      <td>0</td>\n",
       "      <td>...</td>\n",
       "      <td>0</td>\n",
       "      <td>0</td>\n",
       "      <td>0</td>\n",
       "      <td>0</td>\n",
       "      <td>0</td>\n",
       "      <td>0</td>\n",
       "      <td>0</td>\n",
       "      <td>0</td>\n",
       "      <td>0</td>\n",
       "      <td>0</td>\n",
       "    </tr>\n",
       "    <tr>\n",
       "      <th>1139</th>\n",
       "      <td>1296</td>\n",
       "      <td>0.0</td>\n",
       "      <td>0</td>\n",
       "      <td>0</td>\n",
       "      <td>0</td>\n",
       "      <td>0.0</td>\n",
       "      <td>0.0</td>\n",
       "      <td>0</td>\n",
       "      <td>0</td>\n",
       "      <td>1</td>\n",
       "      <td>...</td>\n",
       "      <td>3</td>\n",
       "      <td>0</td>\n",
       "      <td>1</td>\n",
       "      <td>0</td>\n",
       "      <td>3</td>\n",
       "      <td>3</td>\n",
       "      <td>0</td>\n",
       "      <td>1</td>\n",
       "      <td>0</td>\n",
       "      <td>0</td>\n",
       "    </tr>\n",
       "    <tr>\n",
       "      <th>1140</th>\n",
       "      <td>1297</td>\n",
       "      <td>0.0</td>\n",
       "      <td>0</td>\n",
       "      <td>0</td>\n",
       "      <td>0</td>\n",
       "      <td>0.0</td>\n",
       "      <td>0.0</td>\n",
       "      <td>0</td>\n",
       "      <td>0</td>\n",
       "      <td>2</td>\n",
       "      <td>...</td>\n",
       "      <td>2</td>\n",
       "      <td>0</td>\n",
       "      <td>2</td>\n",
       "      <td>0</td>\n",
       "      <td>5</td>\n",
       "      <td>3</td>\n",
       "      <td>0</td>\n",
       "      <td>5</td>\n",
       "      <td>0</td>\n",
       "      <td>0</td>\n",
       "    </tr>\n",
       "    <tr>\n",
       "      <th>1141</th>\n",
       "      <td>1298</td>\n",
       "      <td>0.0</td>\n",
       "      <td>0</td>\n",
       "      <td>0</td>\n",
       "      <td>0</td>\n",
       "      <td>0.0</td>\n",
       "      <td>0.0</td>\n",
       "      <td>0</td>\n",
       "      <td>0</td>\n",
       "      <td>0</td>\n",
       "      <td>...</td>\n",
       "      <td>0</td>\n",
       "      <td>0</td>\n",
       "      <td>0</td>\n",
       "      <td>0</td>\n",
       "      <td>0</td>\n",
       "      <td>0</td>\n",
       "      <td>0</td>\n",
       "      <td>0</td>\n",
       "      <td>0</td>\n",
       "      <td>0</td>\n",
       "    </tr>\n",
       "    <tr>\n",
       "      <th>1142</th>\n",
       "      <td>1299</td>\n",
       "      <td>0.0</td>\n",
       "      <td>0</td>\n",
       "      <td>0</td>\n",
       "      <td>0</td>\n",
       "      <td>0.0</td>\n",
       "      <td>0.0</td>\n",
       "      <td>0</td>\n",
       "      <td>0</td>\n",
       "      <td>2</td>\n",
       "      <td>...</td>\n",
       "      <td>5</td>\n",
       "      <td>0</td>\n",
       "      <td>4</td>\n",
       "      <td>0</td>\n",
       "      <td>5</td>\n",
       "      <td>14</td>\n",
       "      <td>0</td>\n",
       "      <td>4</td>\n",
       "      <td>0</td>\n",
       "      <td>0</td>\n",
       "    </tr>\n",
       "  </tbody>\n",
       "</table>\n",
       "<p>1143 rows × 62 columns</p>\n",
       "</div>"
      ],
      "text/plain": [
       "      Unnamed: 0   CC  CCL  CCO  CI  CLC  CLLC  LDC  LLDC  LCOM5  ...  TNLM  \\\n",
       "0              0  0.0    0    0   0  0.0   0.0    0     0      1  ...     2   \n",
       "1              1  0.0    0    0   0  0.0   0.0    0     0      5  ...     5   \n",
       "2              2  0.0    0    0   0  0.0   0.0    0     0      0  ...     0   \n",
       "3              3  0.0    0    0   0  0.0   0.0    0     0      0  ...     0   \n",
       "4              5  0.0    0    0   0  0.0   0.0    0     0      1  ...     9   \n",
       "...          ...  ...  ...  ...  ..  ...   ...  ...   ...    ...  ...   ...   \n",
       "1138        1294  0.0    0    0   0  0.0   0.0    0     0      0  ...     0   \n",
       "1139        1296  0.0    0    0   0  0.0   0.0    0     0      1  ...     3   \n",
       "1140        1297  0.0    0    0   0  0.0   0.0    0     0      2  ...     2   \n",
       "1141        1298  0.0    0    0   0  0.0   0.0    0     0      0  ...     0   \n",
       "1142        1299  0.0    0    0   0  0.0   0.0    0     0      2  ...     5   \n",
       "\n",
       "      TNLPA  TNLPM  TNLS  TNM  TNOS  TNPA  TNPM  TNS  bug  \n",
       "0         0      2     0    2     8     0     2    0    0  \n",
       "1         0      5     0    5     5     0     5    0    0  \n",
       "2         0      0     0    0     0     0     0    0    0  \n",
       "3         0      0     0    1     0     0     1    0    0  \n",
       "4         0      9     0    9     1     0     9    0    0  \n",
       "...     ...    ...   ...  ...   ...   ...   ...  ...  ...  \n",
       "1138      0      0     0    0     0     0     0    0    0  \n",
       "1139      0      1     0    3     3     0     1    0    0  \n",
       "1140      0      2     0    5     3     0     5    0    0  \n",
       "1141      0      0     0    0     0     0     0    0    0  \n",
       "1142      0      4     0    5    14     0     4    0    0  \n",
       "\n",
       "[1143 rows x 62 columns]"
      ]
     },
     "execution_count": 2,
     "metadata": {},
     "output_type": "execute_result"
    }
   ],
   "source": [
    "df_data = pd.read_csv('data/cleaned/Netty-Unified.csv')\n",
    "df_data"
   ]
  },
  {
   "cell_type": "code",
   "execution_count": 4,
   "metadata": {},
   "outputs": [],
   "source": [
    "df_data = df_data.iloc[:, 1:]"
   ]
  },
  {
   "cell_type": "code",
   "execution_count": 5,
   "metadata": {},
   "outputs": [
    {
     "name": "stdout",
     "output_type": "stream",
     "text": [
      "<class 'pandas.core.frame.DataFrame'>\n",
      "RangeIndex: 1143 entries, 0 to 1142\n",
      "Data columns (total 60 columns):\n",
      " #   Column  Non-Null Count  Dtype  \n",
      "---  ------  --------------  -----  \n",
      " 0   CCL     1143 non-null   int64  \n",
      " 1   CCO     1143 non-null   int64  \n",
      " 2   CI      1143 non-null   int64  \n",
      " 3   CLC     1143 non-null   float64\n",
      " 4   CLLC    1143 non-null   float64\n",
      " 5   LDC     1143 non-null   int64  \n",
      " 6   LLDC    1143 non-null   int64  \n",
      " 7   LCOM5   1143 non-null   int64  \n",
      " 8   NL      1143 non-null   int64  \n",
      " 9   NLE     1143 non-null   int64  \n",
      " 10  WMC     1143 non-null   int64  \n",
      " 11  CBO     1143 non-null   int64  \n",
      " 12  CBOI    1143 non-null   int64  \n",
      " 13  NII     1143 non-null   int64  \n",
      " 14  NOI     1143 non-null   int64  \n",
      " 15  RFC     1143 non-null   int64  \n",
      " 16  AD      1143 non-null   float64\n",
      " 17  CD      1143 non-null   float64\n",
      " 18  CLOC    1143 non-null   int64  \n",
      " 19  DLOC    1143 non-null   int64  \n",
      " 20  PDA     1143 non-null   int64  \n",
      " 21  PUA     1143 non-null   int64  \n",
      " 22  TCD     1143 non-null   float64\n",
      " 23  TCLOC   1143 non-null   int64  \n",
      " 24  DIT     1143 non-null   int64  \n",
      " 25  NOA     1143 non-null   int64  \n",
      " 26  NOC     1143 non-null   int64  \n",
      " 27  NOD     1143 non-null   int64  \n",
      " 28  NOP     1143 non-null   int64  \n",
      " 29  LLOC    1143 non-null   int64  \n",
      " 30  LOC     1143 non-null   int64  \n",
      " 31  NA      1143 non-null   int64  \n",
      " 32  NG      1143 non-null   int64  \n",
      " 33  NLA     1143 non-null   int64  \n",
      " 34  NLG     1143 non-null   int64  \n",
      " 35  NLM     1143 non-null   int64  \n",
      " 36  NLPA    1143 non-null   int64  \n",
      " 37  NLPM    1143 non-null   int64  \n",
      " 38  NLS     1143 non-null   int64  \n",
      " 39  NM      1143 non-null   int64  \n",
      " 40  NOS     1143 non-null   int64  \n",
      " 41  NPA     1143 non-null   int64  \n",
      " 42  NPM     1143 non-null   int64  \n",
      " 43  NS      1143 non-null   int64  \n",
      " 44  TLLOC   1143 non-null   int64  \n",
      " 45  TLOC    1143 non-null   int64  \n",
      " 46  TNA     1143 non-null   int64  \n",
      " 47  TNG     1143 non-null   int64  \n",
      " 48  TNLA    1143 non-null   int64  \n",
      " 49  TNLG    1143 non-null   int64  \n",
      " 50  TNLM    1143 non-null   int64  \n",
      " 51  TNLPA   1143 non-null   int64  \n",
      " 52  TNLPM   1143 non-null   int64  \n",
      " 53  TNLS    1143 non-null   int64  \n",
      " 54  TNM     1143 non-null   int64  \n",
      " 55  TNOS    1143 non-null   int64  \n",
      " 56  TNPA    1143 non-null   int64  \n",
      " 57  TNPM    1143 non-null   int64  \n",
      " 58  TNS     1143 non-null   int64  \n",
      " 59  bug     1143 non-null   int64  \n",
      "dtypes: float64(5), int64(55)\n",
      "memory usage: 535.9 KB\n"
     ]
    }
   ],
   "source": [
    "df_data.info() #informs about the data (memory usage, data types etc.)"
   ]
  },
  {
   "cell_type": "code",
   "execution_count": 6,
   "metadata": {},
   "outputs": [
    {
     "data": {
      "text/html": [
       "<div>\n",
       "<style scoped>\n",
       "    .dataframe tbody tr th:only-of-type {\n",
       "        vertical-align: middle;\n",
       "    }\n",
       "\n",
       "    .dataframe tbody tr th {\n",
       "        vertical-align: top;\n",
       "    }\n",
       "\n",
       "    .dataframe thead th {\n",
       "        text-align: right;\n",
       "    }\n",
       "</style>\n",
       "<table border=\"1\" class=\"dataframe\">\n",
       "  <thead>\n",
       "    <tr style=\"text-align: right;\">\n",
       "      <th></th>\n",
       "      <th>CCL</th>\n",
       "      <th>CCO</th>\n",
       "      <th>CI</th>\n",
       "      <th>CLC</th>\n",
       "      <th>CLLC</th>\n",
       "      <th>LDC</th>\n",
       "      <th>LLDC</th>\n",
       "      <th>LCOM5</th>\n",
       "      <th>NL</th>\n",
       "      <th>NLE</th>\n",
       "      <th>...</th>\n",
       "      <th>TNLM</th>\n",
       "      <th>TNLPA</th>\n",
       "      <th>TNLPM</th>\n",
       "      <th>TNLS</th>\n",
       "      <th>TNM</th>\n",
       "      <th>TNOS</th>\n",
       "      <th>TNPA</th>\n",
       "      <th>TNPM</th>\n",
       "      <th>TNS</th>\n",
       "      <th>bug</th>\n",
       "    </tr>\n",
       "  </thead>\n",
       "  <tbody>\n",
       "    <tr>\n",
       "      <th>count</th>\n",
       "      <td>1143.000000</td>\n",
       "      <td>1143.000000</td>\n",
       "      <td>1143.000000</td>\n",
       "      <td>1143.000000</td>\n",
       "      <td>1143.000000</td>\n",
       "      <td>1143.000000</td>\n",
       "      <td>1143.000000</td>\n",
       "      <td>1143.000000</td>\n",
       "      <td>1143.000000</td>\n",
       "      <td>1143.000000</td>\n",
       "      <td>...</td>\n",
       "      <td>1143.000000</td>\n",
       "      <td>1143.000000</td>\n",
       "      <td>1143.000000</td>\n",
       "      <td>1143.000000</td>\n",
       "      <td>1143.000000</td>\n",
       "      <td>1143.000000</td>\n",
       "      <td>1143.000000</td>\n",
       "      <td>1143.000000</td>\n",
       "      <td>1143.000000</td>\n",
       "      <td>1143.000000</td>\n",
       "    </tr>\n",
       "    <tr>\n",
       "      <th>mean</th>\n",
       "      <td>0.707787</td>\n",
       "      <td>3.302712</td>\n",
       "      <td>1.026247</td>\n",
       "      <td>0.133842</td>\n",
       "      <td>0.142677</td>\n",
       "      <td>12.008749</td>\n",
       "      <td>10.869641</td>\n",
       "      <td>1.913386</td>\n",
       "      <td>1.133858</td>\n",
       "      <td>1.025372</td>\n",
       "      <td>...</td>\n",
       "      <td>7.433946</td>\n",
       "      <td>0.729659</td>\n",
       "      <td>5.684164</td>\n",
       "      <td>0.486439</td>\n",
       "      <td>20.007874</td>\n",
       "      <td>31.619423</td>\n",
       "      <td>1.158355</td>\n",
       "      <td>15.196850</td>\n",
       "      <td>0.857393</td>\n",
       "      <td>0.237095</td>\n",
       "    </tr>\n",
       "    <tr>\n",
       "      <th>std</th>\n",
       "      <td>2.107114</td>\n",
       "      <td>12.836547</td>\n",
       "      <td>3.760241</td>\n",
       "      <td>0.284517</td>\n",
       "      <td>0.293378</td>\n",
       "      <td>42.411977</td>\n",
       "      <td>39.711984</td>\n",
       "      <td>3.570950</td>\n",
       "      <td>1.557008</td>\n",
       "      <td>1.262508</td>\n",
       "      <td>...</td>\n",
       "      <td>17.127899</td>\n",
       "      <td>5.709815</td>\n",
       "      <td>14.664878</td>\n",
       "      <td>2.144422</td>\n",
       "      <td>30.370925</td>\n",
       "      <td>78.821760</td>\n",
       "      <td>6.014747</td>\n",
       "      <td>25.189313</td>\n",
       "      <td>3.094789</td>\n",
       "      <td>0.425487</td>\n",
       "    </tr>\n",
       "    <tr>\n",
       "      <th>min</th>\n",
       "      <td>0.000000</td>\n",
       "      <td>0.000000</td>\n",
       "      <td>0.000000</td>\n",
       "      <td>0.000000</td>\n",
       "      <td>0.000000</td>\n",
       "      <td>0.000000</td>\n",
       "      <td>0.000000</td>\n",
       "      <td>0.000000</td>\n",
       "      <td>0.000000</td>\n",
       "      <td>0.000000</td>\n",
       "      <td>...</td>\n",
       "      <td>0.000000</td>\n",
       "      <td>0.000000</td>\n",
       "      <td>0.000000</td>\n",
       "      <td>0.000000</td>\n",
       "      <td>0.000000</td>\n",
       "      <td>0.000000</td>\n",
       "      <td>0.000000</td>\n",
       "      <td>0.000000</td>\n",
       "      <td>0.000000</td>\n",
       "      <td>0.000000</td>\n",
       "    </tr>\n",
       "    <tr>\n",
       "      <th>25%</th>\n",
       "      <td>0.000000</td>\n",
       "      <td>0.000000</td>\n",
       "      <td>0.000000</td>\n",
       "      <td>0.000000</td>\n",
       "      <td>0.000000</td>\n",
       "      <td>0.000000</td>\n",
       "      <td>0.000000</td>\n",
       "      <td>1.000000</td>\n",
       "      <td>0.000000</td>\n",
       "      <td>0.000000</td>\n",
       "      <td>...</td>\n",
       "      <td>1.000000</td>\n",
       "      <td>0.000000</td>\n",
       "      <td>1.000000</td>\n",
       "      <td>0.000000</td>\n",
       "      <td>2.000000</td>\n",
       "      <td>2.000000</td>\n",
       "      <td>0.000000</td>\n",
       "      <td>1.000000</td>\n",
       "      <td>0.000000</td>\n",
       "      <td>0.000000</td>\n",
       "    </tr>\n",
       "    <tr>\n",
       "      <th>50%</th>\n",
       "      <td>0.000000</td>\n",
       "      <td>0.000000</td>\n",
       "      <td>0.000000</td>\n",
       "      <td>0.000000</td>\n",
       "      <td>0.000000</td>\n",
       "      <td>0.000000</td>\n",
       "      <td>0.000000</td>\n",
       "      <td>1.000000</td>\n",
       "      <td>1.000000</td>\n",
       "      <td>1.000000</td>\n",
       "      <td>...</td>\n",
       "      <td>3.000000</td>\n",
       "      <td>0.000000</td>\n",
       "      <td>2.000000</td>\n",
       "      <td>0.000000</td>\n",
       "      <td>11.000000</td>\n",
       "      <td>8.000000</td>\n",
       "      <td>0.000000</td>\n",
       "      <td>8.000000</td>\n",
       "      <td>0.000000</td>\n",
       "      <td>0.000000</td>\n",
       "    </tr>\n",
       "    <tr>\n",
       "      <th>75%</th>\n",
       "      <td>1.000000</td>\n",
       "      <td>1.000000</td>\n",
       "      <td>1.000000</td>\n",
       "      <td>0.083508</td>\n",
       "      <td>0.107361</td>\n",
       "      <td>6.000000</td>\n",
       "      <td>6.000000</td>\n",
       "      <td>2.000000</td>\n",
       "      <td>2.000000</td>\n",
       "      <td>2.000000</td>\n",
       "      <td>...</td>\n",
       "      <td>7.000000</td>\n",
       "      <td>0.000000</td>\n",
       "      <td>5.000000</td>\n",
       "      <td>0.000000</td>\n",
       "      <td>23.000000</td>\n",
       "      <td>29.000000</td>\n",
       "      <td>0.000000</td>\n",
       "      <td>17.000000</td>\n",
       "      <td>0.000000</td>\n",
       "      <td>0.000000</td>\n",
       "    </tr>\n",
       "    <tr>\n",
       "      <th>max</th>\n",
       "      <td>29.000000</td>\n",
       "      <td>221.000000</td>\n",
       "      <td>64.000000</td>\n",
       "      <td>1.000000</td>\n",
       "      <td>1.000000</td>\n",
       "      <td>749.000000</td>\n",
       "      <td>737.000000</td>\n",
       "      <td>71.000000</td>\n",
       "      <td>15.000000</td>\n",
       "      <td>9.000000</td>\n",
       "      <td>...</td>\n",
       "      <td>327.000000</td>\n",
       "      <td>106.000000</td>\n",
       "      <td>270.000000</td>\n",
       "      <td>19.000000</td>\n",
       "      <td>327.000000</td>\n",
       "      <td>1142.000000</td>\n",
       "      <td>106.000000</td>\n",
       "      <td>270.000000</td>\n",
       "      <td>26.000000</td>\n",
       "      <td>1.000000</td>\n",
       "    </tr>\n",
       "  </tbody>\n",
       "</table>\n",
       "<p>8 rows × 60 columns</p>\n",
       "</div>"
      ],
      "text/plain": [
       "               CCL          CCO           CI          CLC         CLLC  \\\n",
       "count  1143.000000  1143.000000  1143.000000  1143.000000  1143.000000   \n",
       "mean      0.707787     3.302712     1.026247     0.133842     0.142677   \n",
       "std       2.107114    12.836547     3.760241     0.284517     0.293378   \n",
       "min       0.000000     0.000000     0.000000     0.000000     0.000000   \n",
       "25%       0.000000     0.000000     0.000000     0.000000     0.000000   \n",
       "50%       0.000000     0.000000     0.000000     0.000000     0.000000   \n",
       "75%       1.000000     1.000000     1.000000     0.083508     0.107361   \n",
       "max      29.000000   221.000000    64.000000     1.000000     1.000000   \n",
       "\n",
       "               LDC         LLDC        LCOM5           NL          NLE  ...  \\\n",
       "count  1143.000000  1143.000000  1143.000000  1143.000000  1143.000000  ...   \n",
       "mean     12.008749    10.869641     1.913386     1.133858     1.025372  ...   \n",
       "std      42.411977    39.711984     3.570950     1.557008     1.262508  ...   \n",
       "min       0.000000     0.000000     0.000000     0.000000     0.000000  ...   \n",
       "25%       0.000000     0.000000     1.000000     0.000000     0.000000  ...   \n",
       "50%       0.000000     0.000000     1.000000     1.000000     1.000000  ...   \n",
       "75%       6.000000     6.000000     2.000000     2.000000     2.000000  ...   \n",
       "max     749.000000   737.000000    71.000000    15.000000     9.000000  ...   \n",
       "\n",
       "              TNLM        TNLPA        TNLPM         TNLS          TNM  \\\n",
       "count  1143.000000  1143.000000  1143.000000  1143.000000  1143.000000   \n",
       "mean      7.433946     0.729659     5.684164     0.486439    20.007874   \n",
       "std      17.127899     5.709815    14.664878     2.144422    30.370925   \n",
       "min       0.000000     0.000000     0.000000     0.000000     0.000000   \n",
       "25%       1.000000     0.000000     1.000000     0.000000     2.000000   \n",
       "50%       3.000000     0.000000     2.000000     0.000000    11.000000   \n",
       "75%       7.000000     0.000000     5.000000     0.000000    23.000000   \n",
       "max     327.000000   106.000000   270.000000    19.000000   327.000000   \n",
       "\n",
       "              TNOS         TNPA         TNPM          TNS          bug  \n",
       "count  1143.000000  1143.000000  1143.000000  1143.000000  1143.000000  \n",
       "mean     31.619423     1.158355    15.196850     0.857393     0.237095  \n",
       "std      78.821760     6.014747    25.189313     3.094789     0.425487  \n",
       "min       0.000000     0.000000     0.000000     0.000000     0.000000  \n",
       "25%       2.000000     0.000000     1.000000     0.000000     0.000000  \n",
       "50%       8.000000     0.000000     8.000000     0.000000     0.000000  \n",
       "75%      29.000000     0.000000    17.000000     0.000000     0.000000  \n",
       "max    1142.000000   106.000000   270.000000    26.000000     1.000000  \n",
       "\n",
       "[8 rows x 60 columns]"
      ]
     },
     "execution_count": 6,
     "metadata": {},
     "output_type": "execute_result"
    }
   ],
   "source": [
    "df_data.describe() #shows simple statistics (min, max, mean, etc.)"
   ]
  },
  {
   "cell_type": "code",
   "execution_count": 6,
   "metadata": {},
   "outputs": [
    {
     "data": {
      "text/plain": [
       "(1847, 61)"
      ]
     },
     "execution_count": 6,
     "metadata": {},
     "output_type": "execute_result"
    }
   ],
   "source": [
    "df_data.shape"
   ]
  },
  {
   "cell_type": "code",
   "execution_count": 7,
   "metadata": {},
   "outputs": [
    {
     "name": "stdout",
     "output_type": "stream",
     "text": [
      "X: (1143, 59)\n",
      "y: (1143,)\n"
     ]
    }
   ],
   "source": [
    "X = df_data.iloc[:, 0:-1]\n",
    "y = df_data[\"bug\"]\n",
    "\n",
    "#y = df_data.pop('Defective')\n",
    "#X = df_data\n",
    "\n",
    "print(\"X:\", X.shape)\n",
    "print(\"y:\", y.shape)"
   ]
  },
  {
   "cell_type": "code",
   "execution_count": 8,
   "metadata": {},
   "outputs": [
    {
     "data": {
      "text/html": [
       "<div>\n",
       "<style scoped>\n",
       "    .dataframe tbody tr th:only-of-type {\n",
       "        vertical-align: middle;\n",
       "    }\n",
       "\n",
       "    .dataframe tbody tr th {\n",
       "        vertical-align: top;\n",
       "    }\n",
       "\n",
       "    .dataframe thead th {\n",
       "        text-align: right;\n",
       "    }\n",
       "</style>\n",
       "<table border=\"1\" class=\"dataframe\">\n",
       "  <thead>\n",
       "    <tr style=\"text-align: right;\">\n",
       "      <th></th>\n",
       "      <th>CCL</th>\n",
       "      <th>CCO</th>\n",
       "      <th>CI</th>\n",
       "      <th>CLC</th>\n",
       "      <th>CLLC</th>\n",
       "      <th>LDC</th>\n",
       "      <th>LLDC</th>\n",
       "      <th>LCOM5</th>\n",
       "      <th>NL</th>\n",
       "      <th>NLE</th>\n",
       "      <th>...</th>\n",
       "      <th>TNLG</th>\n",
       "      <th>TNLM</th>\n",
       "      <th>TNLPA</th>\n",
       "      <th>TNLPM</th>\n",
       "      <th>TNLS</th>\n",
       "      <th>TNM</th>\n",
       "      <th>TNOS</th>\n",
       "      <th>TNPA</th>\n",
       "      <th>TNPM</th>\n",
       "      <th>TNS</th>\n",
       "    </tr>\n",
       "  </thead>\n",
       "  <tbody>\n",
       "    <tr>\n",
       "      <th>count</th>\n",
       "      <td>1143.000000</td>\n",
       "      <td>1143.000000</td>\n",
       "      <td>1143.000000</td>\n",
       "      <td>1143.000000</td>\n",
       "      <td>1143.000000</td>\n",
       "      <td>1143.000000</td>\n",
       "      <td>1143.000000</td>\n",
       "      <td>1143.000000</td>\n",
       "      <td>1143.000000</td>\n",
       "      <td>1143.000000</td>\n",
       "      <td>...</td>\n",
       "      <td>1143.000000</td>\n",
       "      <td>1143.000000</td>\n",
       "      <td>1143.000000</td>\n",
       "      <td>1143.000000</td>\n",
       "      <td>1143.000000</td>\n",
       "      <td>1143.000000</td>\n",
       "      <td>1143.000000</td>\n",
       "      <td>1143.000000</td>\n",
       "      <td>1143.000000</td>\n",
       "      <td>1143.000000</td>\n",
       "    </tr>\n",
       "    <tr>\n",
       "      <th>mean</th>\n",
       "      <td>0.707787</td>\n",
       "      <td>3.302712</td>\n",
       "      <td>1.026247</td>\n",
       "      <td>0.133842</td>\n",
       "      <td>0.142677</td>\n",
       "      <td>12.008749</td>\n",
       "      <td>10.869641</td>\n",
       "      <td>1.913386</td>\n",
       "      <td>1.133858</td>\n",
       "      <td>1.025372</td>\n",
       "      <td>...</td>\n",
       "      <td>0.653543</td>\n",
       "      <td>7.433946</td>\n",
       "      <td>0.729659</td>\n",
       "      <td>5.684164</td>\n",
       "      <td>0.486439</td>\n",
       "      <td>20.007874</td>\n",
       "      <td>31.619423</td>\n",
       "      <td>1.158355</td>\n",
       "      <td>15.196850</td>\n",
       "      <td>0.857393</td>\n",
       "    </tr>\n",
       "    <tr>\n",
       "      <th>std</th>\n",
       "      <td>2.107114</td>\n",
       "      <td>12.836547</td>\n",
       "      <td>3.760241</td>\n",
       "      <td>0.284517</td>\n",
       "      <td>0.293378</td>\n",
       "      <td>42.411977</td>\n",
       "      <td>39.711984</td>\n",
       "      <td>3.570950</td>\n",
       "      <td>1.557008</td>\n",
       "      <td>1.262508</td>\n",
       "      <td>...</td>\n",
       "      <td>3.756000</td>\n",
       "      <td>17.127899</td>\n",
       "      <td>5.709815</td>\n",
       "      <td>14.664878</td>\n",
       "      <td>2.144422</td>\n",
       "      <td>30.370925</td>\n",
       "      <td>78.821760</td>\n",
       "      <td>6.014747</td>\n",
       "      <td>25.189313</td>\n",
       "      <td>3.094789</td>\n",
       "    </tr>\n",
       "    <tr>\n",
       "      <th>min</th>\n",
       "      <td>0.000000</td>\n",
       "      <td>0.000000</td>\n",
       "      <td>0.000000</td>\n",
       "      <td>0.000000</td>\n",
       "      <td>0.000000</td>\n",
       "      <td>0.000000</td>\n",
       "      <td>0.000000</td>\n",
       "      <td>0.000000</td>\n",
       "      <td>0.000000</td>\n",
       "      <td>0.000000</td>\n",
       "      <td>...</td>\n",
       "      <td>0.000000</td>\n",
       "      <td>0.000000</td>\n",
       "      <td>0.000000</td>\n",
       "      <td>0.000000</td>\n",
       "      <td>0.000000</td>\n",
       "      <td>0.000000</td>\n",
       "      <td>0.000000</td>\n",
       "      <td>0.000000</td>\n",
       "      <td>0.000000</td>\n",
       "      <td>0.000000</td>\n",
       "    </tr>\n",
       "    <tr>\n",
       "      <th>25%</th>\n",
       "      <td>0.000000</td>\n",
       "      <td>0.000000</td>\n",
       "      <td>0.000000</td>\n",
       "      <td>0.000000</td>\n",
       "      <td>0.000000</td>\n",
       "      <td>0.000000</td>\n",
       "      <td>0.000000</td>\n",
       "      <td>1.000000</td>\n",
       "      <td>0.000000</td>\n",
       "      <td>0.000000</td>\n",
       "      <td>...</td>\n",
       "      <td>0.000000</td>\n",
       "      <td>1.000000</td>\n",
       "      <td>0.000000</td>\n",
       "      <td>1.000000</td>\n",
       "      <td>0.000000</td>\n",
       "      <td>2.000000</td>\n",
       "      <td>2.000000</td>\n",
       "      <td>0.000000</td>\n",
       "      <td>1.000000</td>\n",
       "      <td>0.000000</td>\n",
       "    </tr>\n",
       "    <tr>\n",
       "      <th>50%</th>\n",
       "      <td>0.000000</td>\n",
       "      <td>0.000000</td>\n",
       "      <td>0.000000</td>\n",
       "      <td>0.000000</td>\n",
       "      <td>0.000000</td>\n",
       "      <td>0.000000</td>\n",
       "      <td>0.000000</td>\n",
       "      <td>1.000000</td>\n",
       "      <td>1.000000</td>\n",
       "      <td>1.000000</td>\n",
       "      <td>...</td>\n",
       "      <td>0.000000</td>\n",
       "      <td>3.000000</td>\n",
       "      <td>0.000000</td>\n",
       "      <td>2.000000</td>\n",
       "      <td>0.000000</td>\n",
       "      <td>11.000000</td>\n",
       "      <td>8.000000</td>\n",
       "      <td>0.000000</td>\n",
       "      <td>8.000000</td>\n",
       "      <td>0.000000</td>\n",
       "    </tr>\n",
       "    <tr>\n",
       "      <th>75%</th>\n",
       "      <td>1.000000</td>\n",
       "      <td>1.000000</td>\n",
       "      <td>1.000000</td>\n",
       "      <td>0.083508</td>\n",
       "      <td>0.107361</td>\n",
       "      <td>6.000000</td>\n",
       "      <td>6.000000</td>\n",
       "      <td>2.000000</td>\n",
       "      <td>2.000000</td>\n",
       "      <td>2.000000</td>\n",
       "      <td>...</td>\n",
       "      <td>0.000000</td>\n",
       "      <td>7.000000</td>\n",
       "      <td>0.000000</td>\n",
       "      <td>5.000000</td>\n",
       "      <td>0.000000</td>\n",
       "      <td>23.000000</td>\n",
       "      <td>29.000000</td>\n",
       "      <td>0.000000</td>\n",
       "      <td>17.000000</td>\n",
       "      <td>0.000000</td>\n",
       "    </tr>\n",
       "    <tr>\n",
       "      <th>max</th>\n",
       "      <td>29.000000</td>\n",
       "      <td>221.000000</td>\n",
       "      <td>64.000000</td>\n",
       "      <td>1.000000</td>\n",
       "      <td>1.000000</td>\n",
       "      <td>749.000000</td>\n",
       "      <td>737.000000</td>\n",
       "      <td>71.000000</td>\n",
       "      <td>15.000000</td>\n",
       "      <td>9.000000</td>\n",
       "      <td>...</td>\n",
       "      <td>101.000000</td>\n",
       "      <td>327.000000</td>\n",
       "      <td>106.000000</td>\n",
       "      <td>270.000000</td>\n",
       "      <td>19.000000</td>\n",
       "      <td>327.000000</td>\n",
       "      <td>1142.000000</td>\n",
       "      <td>106.000000</td>\n",
       "      <td>270.000000</td>\n",
       "      <td>26.000000</td>\n",
       "    </tr>\n",
       "  </tbody>\n",
       "</table>\n",
       "<p>8 rows × 59 columns</p>\n",
       "</div>"
      ],
      "text/plain": [
       "               CCL          CCO           CI          CLC         CLLC  \\\n",
       "count  1143.000000  1143.000000  1143.000000  1143.000000  1143.000000   \n",
       "mean      0.707787     3.302712     1.026247     0.133842     0.142677   \n",
       "std       2.107114    12.836547     3.760241     0.284517     0.293378   \n",
       "min       0.000000     0.000000     0.000000     0.000000     0.000000   \n",
       "25%       0.000000     0.000000     0.000000     0.000000     0.000000   \n",
       "50%       0.000000     0.000000     0.000000     0.000000     0.000000   \n",
       "75%       1.000000     1.000000     1.000000     0.083508     0.107361   \n",
       "max      29.000000   221.000000    64.000000     1.000000     1.000000   \n",
       "\n",
       "               LDC         LLDC        LCOM5           NL          NLE  ...  \\\n",
       "count  1143.000000  1143.000000  1143.000000  1143.000000  1143.000000  ...   \n",
       "mean     12.008749    10.869641     1.913386     1.133858     1.025372  ...   \n",
       "std      42.411977    39.711984     3.570950     1.557008     1.262508  ...   \n",
       "min       0.000000     0.000000     0.000000     0.000000     0.000000  ...   \n",
       "25%       0.000000     0.000000     1.000000     0.000000     0.000000  ...   \n",
       "50%       0.000000     0.000000     1.000000     1.000000     1.000000  ...   \n",
       "75%       6.000000     6.000000     2.000000     2.000000     2.000000  ...   \n",
       "max     749.000000   737.000000    71.000000    15.000000     9.000000  ...   \n",
       "\n",
       "              TNLG         TNLM        TNLPA        TNLPM         TNLS  \\\n",
       "count  1143.000000  1143.000000  1143.000000  1143.000000  1143.000000   \n",
       "mean      0.653543     7.433946     0.729659     5.684164     0.486439   \n",
       "std       3.756000    17.127899     5.709815    14.664878     2.144422   \n",
       "min       0.000000     0.000000     0.000000     0.000000     0.000000   \n",
       "25%       0.000000     1.000000     0.000000     1.000000     0.000000   \n",
       "50%       0.000000     3.000000     0.000000     2.000000     0.000000   \n",
       "75%       0.000000     7.000000     0.000000     5.000000     0.000000   \n",
       "max     101.000000   327.000000   106.000000   270.000000    19.000000   \n",
       "\n",
       "               TNM         TNOS         TNPA         TNPM          TNS  \n",
       "count  1143.000000  1143.000000  1143.000000  1143.000000  1143.000000  \n",
       "mean     20.007874    31.619423     1.158355    15.196850     0.857393  \n",
       "std      30.370925    78.821760     6.014747    25.189313     3.094789  \n",
       "min       0.000000     0.000000     0.000000     0.000000     0.000000  \n",
       "25%       2.000000     2.000000     0.000000     1.000000     0.000000  \n",
       "50%      11.000000     8.000000     0.000000     8.000000     0.000000  \n",
       "75%      23.000000    29.000000     0.000000    17.000000     0.000000  \n",
       "max     327.000000  1142.000000   106.000000   270.000000    26.000000  \n",
       "\n",
       "[8 rows x 59 columns]"
      ]
     },
     "execution_count": 8,
     "metadata": {},
     "output_type": "execute_result"
    }
   ],
   "source": [
    "X.describe() #shows simple statistics (min, max, mean, etc.)"
   ]
  },
  {
   "cell_type": "code",
   "execution_count": 20,
   "metadata": {},
   "outputs": [],
   "source": [
    "#bug distribution"
   ]
  },
  {
   "cell_type": "code",
   "execution_count": 9,
   "metadata": {
    "scrolled": true
   },
   "outputs": [
    {
     "name": "stdout",
     "output_type": "stream",
     "text": [
      "Classes: [0, 1]\n",
      "Counts: [872, 271]\n"
     ]
    },
    {
     "data": {
      "image/png": "[encoded data removed]",
      "text/plain": [
       "<Figure size 432x288 with 1 Axes>"
      ]
     },
     "metadata": {},
     "output_type": "display_data"
    }
   ],
   "source": [
    "unique, counts = np.unique(y, return_counts=True)\n",
    "print(\"Classes:\", unique.tolist())\n",
    "print(\"Counts:\", counts.tolist())\n",
    "\n",
    "plt.bar(unique, counts, color=['g', 'orange', 'r'], alpha=0.7)\n",
    "plt.title(\"#Bugs VS Occurrences\")\n",
    "plt.xticks(range(len(unique)))\n",
    "plt.ylabel(\"Occurrences\")\n",
    "plt.xlabel(\"# Bugs\");"
   ]
  },
  {
   "cell_type": "code",
   "execution_count": 10,
   "metadata": {},
   "outputs": [],
   "source": [
    "# save the dataset for c5\n",
    "filename = 'Netty-Unified.csv'\n",
    "df_data.to_csv('data/cleaned/baseline/{}'.format(filename),sep=',')"
   ]
  },
  {
   "cell_type": "code",
   "execution_count": 11,
   "metadata": {},
   "outputs": [
    {
     "name": "stdout",
     "output_type": "stream",
     "text": [
      "Train: (800, 59) (800,) Test: (172, 59) (172,) Cross Validation (171, 59) (171,)\n"
     ]
    }
   ],
   "source": [
    "validation_size = 0.3\n",
    "random_seed=7\n",
    "\n",
    "from sklearn.model_selection import train_test_split\n",
    "X_train, X_test, y_train, y_test = train_test_split(X, y, test_size=0.3,random_state=7)\n",
    "X_cv, X_test, y_cv, y_test = train_test_split(X_test, y_test, test_size=0.5)\n",
    "print(\"Train:\", X_train.shape, y_train.shape,\n",
    "      \"Test:\", X_test.shape, y_test.shape,\n",
    "      \"Cross Validation\", X_cv.shape, y_cv.shape)\n"
   ]
  },
  {
   "cell_type": "code",
   "execution_count": 12,
   "metadata": {},
   "outputs": [],
   "source": [
    "def Modeler(model, X_train, y_train, X_cv, y_cv, params, scale=False, n_jobs=True, pca=False):\n",
    "    \n",
    "    if scale & pca:\n",
    "        pipeline = Pipeline([\n",
    "            ('scale', StandardScaler()),\n",
    "            ('dim_reduct', PCA(n_components=4)),\n",
    "            ('clf', model())])\n",
    "        print(\"Scaling and dim reduct...\")\n",
    "        \n",
    "    elif scale:\n",
    "        pipeline = Pipeline([ ('scale', StandardScaler()), ('clf', model())])\n",
    "        \n",
    "    elif pca:\n",
    "        pipeline = Pipeline([\n",
    "        ('dim_reduct', PCA(n_components=pca)),\n",
    "        ('clf', model())])\n",
    "    else:\n",
    "        pipeline = Pipeline([('clf', model())])\n",
    "        \n",
    "    grid = GridSearchCV(pipeline, param_grid = params, cv=5, n_jobs=4, refit=True)\n",
    "    grid.fit(X_cv, y_cv)\n",
    "    \n",
    "    best_prameters = {}\n",
    "    for k, v in grid.best_params_.items():\n",
    "        best_prameters[k[5:]] = v\n",
    "\n",
    "    if n_jobs:\n",
    "        model = model(**best_prameters, n_jobs=4)\n",
    "    else:\n",
    "        model = model(**best_prameters)\n",
    "   \n",
    "    model.fit(X_train, y_train)\n",
    "    \n",
    "    print(\"Best Parameters for model:\", best_prameters)\n",
    "\n",
    "    return {\n",
    "        \"model\": model, \n",
    "        \"best_params\":best_prameters\n",
    "    }"
   ]
  },
  {
   "cell_type": "code",
   "execution_count": 13,
   "metadata": {},
   "outputs": [],
   "source": [
    "# metrics method\n",
    "def metrics_calculate(model_name, y_val, y_pred):\n",
    "    '''\n",
    "    0. basic metrics values ['accuracy', 'precision', 'recall', 'fpr', 'fnr', 'auc']\n",
    "    1. classification report\n",
    "    2. confusion matrix\n",
    "    '''\n",
    "    y_val = np.reshape(y_val, -1).astype(np.int32)\n",
    "    y_pred = np.where(np.reshape(y_pred, -1) > 0.5, 1, 0)\n",
    "    accuracy = accuracy_score(y_val, y_pred)\n",
    "    precision = precision_score(y_val, y_pred)\n",
    "    recall = recall_score(y_val, y_pred)\n",
    "    tn, fp, fn, tp = confusion_matrix(y_val, y_pred,labels=[0,1]).ravel()\n",
    "    fpr = fp / (tn + fp)\n",
    "    fnr = fn / (tp + fn)\n",
    "    auc = roc_auc_score(y_val, y_pred)\n",
    "    print('Model:%s Acc:%.8f Prec:%.8f Recall:%.8f FNR:%.8f FPR:%.8f AUC:%.8f' % (model_name, accuracy, precision, recall, fnr, fpr, auc))\n",
    "    print(model_name, 'classification report:\\n', classification_report(y_val, y_pred))\n",
    "    print(model_name, 'confusion_matrix:\\n', confusion_matrix(y_val, y_pred))\n",
    "    print('\\n%s FNR:%.8f FPR:%.8f\\n%s accuracy:%.8f' % (model_name, fnr, fpr, model_name, accuracy_score(y_pred,y_val)))"
   ]
  },
  {
   "cell_type": "code",
   "execution_count": 14,
   "metadata": {},
   "outputs": [],
   "source": [
    "def model_eval(model, X_test, y_test, acc=True, recall_=True, auc_=True, plot_conf=True, plot_auc=True, f1=True, prop=False):\n",
    "    \n",
    "    res = [None, None, None, None] # Accuracy, auc_roc, f1_score, recall\n",
    "    y_pred = model.predict(X_test)\n",
    "    \n",
    "    if prop:\n",
    "        y_pred = np.where(y_pred > 0.5, 1, 0)\n",
    "    \n",
    "    if f1:\n",
    "        f_sc = f1_score(y_test, y_pred, average='macro')\n",
    "        res[2] = f_sc\n",
    "        \n",
    "    if acc:\n",
    "        res[0] = accuracy_score(y_test, y_pred)\n",
    "        print('accuracy:', res[0] * 100 ,'%')\n",
    "              \n",
    "    if recall_:\n",
    "        res[3]= recall_score(y_test, y_pred, average='macro')\n",
    "        print('recall:', res[3] * 100 ,'%')\n",
    "              \n",
    "    if auc_:\n",
    "        lb = LabelBinarizer()\n",
    "        lb.fit(y_test)\n",
    "\n",
    "        truth = lb.transform(y_test)\n",
    "        y_pred_encode = lb.transform(y_pred)\n",
    "              \n",
    "        res[1] = roc_auc_score(truth, y_pred_encode, average = 'macro')\n",
    "        print('ROC:', res[1] * 100 ,'%')\n",
    "              \n",
    "    if plot_conf:\n",
    "        fig, ax = plt.subplots(figsize=(10,6))\n",
    "\n",
    "        conf = confusion_matrix(y_test, y_pred, labels=np.unique(y_test))\n",
    "        sns.heatmap(conf, cmap= 'Set1', annot=True, cbar=False)\n",
    "        plt.ylabel('Actual')\n",
    "        plt.xlabel('Predicted')\n",
    "        plt.title('Confusion Matrix');\n",
    "    \n",
    "    if plot_auc:\n",
    "        fig, ax = plt.subplots(figsize=(10,6))\n",
    "\n",
    "        if not auc_:\n",
    "            lb = LabelBinarizer()\n",
    "            lb.fit(y_test)\n",
    "\n",
    "            truth = lb.transform(y_test)\n",
    "            y_pred_encode = lb.transform(y_pred)\n",
    "\n",
    "        fpr = [None, None, None]\n",
    "        tpr = [None, None, None]\n",
    "        auc_of_roc = [None, None, None]\n",
    "        \n",
    "        #n_classes = (0, 1)\n",
    "        \n",
    "        for i in range(0,1):\n",
    "            fpr[i], tpr[i], _ = roc_curve(truth[:, i], y_pred_encode[:, i])\n",
    "            auc_of_roc[i] = auc(fpr[i], tpr[i])\n",
    "            \n",
    "        plt.plot(fpr[0], tpr[0], label='0 - area under ROC = %0.3f' % auc_of_roc[0])\n",
    "\n",
    "        plt.xlabel('False Positive Rate')\n",
    "        plt.ylabel('True Positive Rate')\n",
    "        plt.title(\"ROC AUC\");\n",
    "        plt.legend()\n",
    "\n",
    "    return res"
   ]
  },
  {
   "cell_type": "code",
   "execution_count": 15,
   "metadata": {},
   "outputs": [],
   "source": [
    "scores = {}"
   ]
  },
  {
   "cell_type": "code",
   "execution_count": 17,
   "metadata": {},
   "outputs": [],
   "source": [
    "# classifiers baseline"
   ]
  },
  {
   "cell_type": "code",
   "execution_count": 79,
   "metadata": {},
   "outputs": [],
   "source": [
    "#adaboost"
   ]
  },
  {
   "cell_type": "code",
   "execution_count": 16,
   "metadata": {},
   "outputs": [
    {
     "name": "stdout",
     "output_type": "stream",
     "text": [
      "Best Parameters for model: {}\n"
     ]
    }
   ],
   "source": [
    "# AdaBoostClassifier\n",
    "ada_params = {\n",
    "  #  'clf__learning_rate': [0.1, 0.5, 1.0],\n",
    "  #  'clf__n_estimators': [100, 200]\n",
    "}\n",
    "\n",
    "ada = Modeler(AdaBoostClassifier, X_train, y_train, X_cv, y_cv, ada_params, scale=False, n_jobs=False)"
   ]
  },
  {
   "cell_type": "code",
   "execution_count": 17,
   "metadata": {},
   "outputs": [
    {
     "name": "stdout",
     "output_type": "stream",
     "text": [
      "accuracy: 83.13953488372093 %\n",
      "recall: 69.20750782064651 %\n",
      "ROC: 69.2075078206465 %\n"
     ]
    },
    {
     "data": {
      "image/png": "[encoded data removed]",
      "text/plain": [
       "<Figure size 720x432 with 1 Axes>"
      ]
     },
     "metadata": {},
     "output_type": "display_data"
    },
    {
     "data": {
      "image/png": "[encoded data removed]",
      "text/plain": [
       "<Figure size 720x432 with 1 Axes>"
      ]
     },
     "metadata": {},
     "output_type": "display_data"
    }
   ],
   "source": [
    "model_scoring = model_eval(ada[\"model\"], X_test, y_test)\n",
    "scores[\"AdaBoost Classifier | Binary\"] = {\"Accuracy\": '{0:.2f}'.format(round(model_scoring[0], 4)*100),\n",
    "                             #\"ROC\": '{0:.2f}'.format(round(model_scoring[1],4)*100),\n",
    "                             \"F1-Score\": '{0:.2f}'.format(round(model_scoring[2],4)*100),\n",
    "                            \"Recall-Score\": '{0:.2f}'.format(round(model_scoring[3],4)*100)}"
   ]
  },
  {
   "cell_type": "code",
   "execution_count": 18,
   "metadata": {},
   "outputs": [
    {
     "data": {
      "image/png": "[encoded data removed]",
      "text/plain": [
       "<Figure size 432x288 with 1 Axes>"
      ]
     },
     "metadata": {},
     "output_type": "display_data"
    }
   ],
   "source": [
    "ROC_curve = plot_roc_curve(ada[\"model\"], X_test, y_test)\n",
    "scores[\"AdaBoost Classifier | Binary\"][\"AUC\"] = '{0:.2f}'.format(round(ROC_curve.roc_auc,4)*100)"
   ]
  },
  {
   "cell_type": "code",
   "execution_count": null,
   "metadata": {},
   "outputs": [],
   "source": [
    "#xgboost"
   ]
  },
  {
   "cell_type": "code",
   "execution_count": 20,
   "metadata": {},
   "outputs": [
    {
     "name": "stdout",
     "output_type": "stream",
     "text": [
      "[22:21:09] WARNING: C:/Users/Administrator/workspace/xgboost-win64_release_1.5.1/src/learner.cc:1115: Starting in XGBoost 1.3.0, the default evaluation metric used with the objective 'binary:logistic' was changed from 'error' to 'logloss'. Explicitly set eval_metric if you'd like to restore the old behavior.\n",
      "[22:21:10] WARNING: C:/Users/Administrator/workspace/xgboost-win64_release_1.5.1/src/learner.cc:1115: Starting in XGBoost 1.3.0, the default evaluation metric used with the objective 'binary:logistic' was changed from 'error' to 'logloss'. Explicitly set eval_metric if you'd like to restore the old behavior.\n",
      "Best Parameters for model: {}\n"
     ]
    }
   ],
   "source": [
    "xg_params = {\n",
    "  #  'clf__max_depth': [8, 9],\n",
    "  #  'clf__learning_rate': [0.1],\n",
    "  #  'clf__n_estimators':[200],\n",
    "  #  'clf__reg_alpha':[1.1],\n",
    "  #  'clf__colsample_bytree':[0.8],\n",
    "  #  'clf__subsample':[0.8, 0.9,],\n",
    "}\n",
    "\n",
    "xgboost = Modeler(XGBClassifier, X_train, y_train, X_cv, y_cv, xg_params, scale=False, n_jobs=5)"
   ]
  },
  {
   "cell_type": "code",
   "execution_count": 21,
   "metadata": {},
   "outputs": [
    {
     "name": "stdout",
     "output_type": "stream",
     "text": [
      "accuracy: 84.30232558139535 %\n",
      "recall: 74.19186652763294 %\n",
      "ROC: 74.19186652763294 %\n"
     ]
    },
    {
     "data": {
      "image/png": "[encoded data removed]",
      "text/plain": [
       "<Figure size 720x432 with 1 Axes>"
      ]
     },
     "metadata": {},
     "output_type": "display_data"
    },
    {
     "data": {
      "image/png": "[encoded data removed]",
      "text/plain": [
       "<Figure size 720x432 with 1 Axes>"
      ]
     },
     "metadata": {},
     "output_type": "display_data"
    }
   ],
   "source": [
    "model_scoring = model_eval(xgboost[\"model\"], X_test, y_test)\n",
    "scores[\"XGBoost | Binary\"] = {\"Accuracy\": '{0:.2f}'.format(round(model_scoring[0], 4)*100),\n",
    "                             #\"ROC\": '{0:.2f}'.format(round(model_scoring[1],4)*100),\n",
    "                             \"F1-Score\": '{0:.2f}'.format(round(model_scoring[2],4)*100),\n",
    "                             \"Recall-Score\": '{0:.2f}'.format(round(model_scoring[3],4)*100)}"
   ]
  },
  {
   "cell_type": "code",
   "execution_count": 22,
   "metadata": {},
   "outputs": [
    {
     "data": {
      "image/png": "[encoded data removed]",
      "text/plain": [
       "<Figure size 432x288 with 1 Axes>"
      ]
     },
     "metadata": {},
     "output_type": "display_data"
    }
   ],
   "source": [
    "ROC_curve = plot_roc_curve(xgboost[\"model\"], X_test, y_test)\n",
    "scores[\"XGBoost | Binary\"][\"AUC\"] = '{0:.2f}'.format(round(ROC_curve.roc_auc,4)*100)"
   ]
  },
  {
   "cell_type": "code",
   "execution_count": null,
   "metadata": {},
   "outputs": [],
   "source": [
    "# Random Forest"
   ]
  },
  {
   "cell_type": "code",
   "execution_count": 23,
   "metadata": {},
   "outputs": [
    {
     "name": "stdout",
     "output_type": "stream",
     "text": [
      "Best Parameters for model: {}\n"
     ]
    }
   ],
   "source": [
    "rfc_params = {\n",
    "   # 'clf__n_estimators'      : [200, 500],\n",
    "   # 'clf__max_depth'         : [10, 20],\n",
    "   # 'clf__max_features': [1.0, 0.7, 0.4],\n",
    "   # 'clf__criterion' :['gini', 'entropy']\n",
    "}\n",
    "\n",
    "rfc = Modeler(RandomForestClassifier, X_train, y_train, X_cv, y_cv, rfc_params, scale=False) "
   ]
  },
  {
   "cell_type": "code",
   "execution_count": 24,
   "metadata": {},
   "outputs": [
    {
     "name": "stdout",
     "output_type": "stream",
     "text": [
      "accuracy: 87.20930232558139 %\n",
      "recall: 73.88946819603754 %\n",
      "ROC: 73.88946819603754 %\n"
     ]
    },
    {
     "data": {
      "image/png": "[encoded data removed]",
      "text/plain": [
       "<Figure size 720x432 with 1 Axes>"
      ]
     },
     "metadata": {},
     "output_type": "display_data"
    },
    {
     "data": {
      "image/png": "[encoded data removed]",
      "text/plain": [
       "<Figure size 720x432 with 1 Axes>"
      ]
     },
     "metadata": {},
     "output_type": "display_data"
    }
   ],
   "source": [
    "model_scoring = model_eval(rfc[\"model\"], X_test, y_test)\n",
    "scores[\"Random Forest | Binary\"] = {\"Accuracy\": '{0:.2f}'.format(round(model_scoring[0], 4)*100),\n",
    "                             #\"ROC\": '{0:.2f}'.format(round(model_scoring[1],4)*100),\n",
    "                             \"F1-Score\": '{0:.2f}'.format(round(model_scoring[2],4)*100),\n",
    "                           \"Recall-Score\": '{0:.2f}'.format(round(model_scoring[3],4)*100)}"
   ]
  },
  {
   "cell_type": "code",
   "execution_count": 25,
   "metadata": {},
   "outputs": [
    {
     "data": {
      "image/png": "[encoded data removed]",
      "text/plain": [
       "<Figure size 432x288 with 1 Axes>"
      ]
     },
     "metadata": {},
     "output_type": "display_data"
    }
   ],
   "source": [
    "ROC_curve = plot_roc_curve(rfc[\"model\"], X_test, y_test)\n",
    "scores[\"Random Forest | Binary\"][\"AUC\"] = '{0:.2f}'.format(round(ROC_curve.roc_auc,4)*100)"
   ]
  },
  {
   "cell_type": "code",
   "execution_count": 84,
   "metadata": {},
   "outputs": [],
   "source": [
    "#svm"
   ]
  },
  {
   "cell_type": "code",
   "execution_count": 26,
   "metadata": {},
   "outputs": [
    {
     "name": "stdout",
     "output_type": "stream",
     "text": [
      "Best Parameters for model: {}\n"
     ]
    }
   ],
   "source": [
    "# SVC()\n",
    "svc_params = {\n",
    "   # 'clf__C': [0.1, 1, 10],\n",
    "   # 'clf__kernel': ['linear', 'rbf'],\n",
    "   # 'clf__gamma':[1, 0.01]\n",
    "}\n",
    "\n",
    "svc = Modeler(SVC, X_train, y_train, X_cv, y_cv, svc_params, scale=False, n_jobs=False)"
   ]
  },
  {
   "cell_type": "code",
   "execution_count": 27,
   "metadata": {},
   "outputs": [
    {
     "name": "stdout",
     "output_type": "stream",
     "text": [
      "accuracy: 82.55813953488372 %\n",
      "recall: 57.14285714285714 %\n",
      "ROC: 57.14285714285714 %\n"
     ]
    },
    {
     "data": {
      "image/png": "[encoded data removed]",
      "text/plain": [
       "<Figure size 720x432 with 1 Axes>"
      ]
     },
     "metadata": {},
     "output_type": "display_data"
    },
    {
     "data": {
      "image/png": "[encoded data removed]",
      "text/plain": [
       "<Figure size 720x432 with 1 Axes>"
      ]
     },
     "metadata": {},
     "output_type": "display_data"
    }
   ],
   "source": [
    "model_scoring = model_eval(svc[\"model\"], X_test, y_test)\n",
    "scores[\"Support-Vector Machine | Binary\"] = {\"Accuracy\": '{0:.2f}'.format(round(model_scoring[0], 4)*100),\n",
    "                             #\"ROC\": '{0:.2f}'.format(round(model_scoring[1],4)*100),\n",
    "                             \"F1-Score\": '{0:.2f}'.format(round(model_scoring[2],4)*100),\n",
    "                             \"Recall-Score\": '{0:.2f}'.format(round(model_scoring[3],4)*100)}"
   ]
  },
  {
   "cell_type": "code",
   "execution_count": 28,
   "metadata": {},
   "outputs": [
    {
     "data": {
      "image/png": "[encoded data removed]",
      "text/plain": [
       "<Figure size 432x288 with 1 Axes>"
      ]
     },
     "metadata": {},
     "output_type": "display_data"
    }
   ],
   "source": [
    "ROC_curve = plot_roc_curve(svc[\"model\"], X_test, y_test)\n",
    "scores[\"Support-Vector Machine | Binary\"][\"AUC\"] = '{0:.2f}'.format(round(ROC_curve.roc_auc,4)*100)"
   ]
  },
  {
   "cell_type": "code",
   "execution_count": null,
   "metadata": {},
   "outputs": [],
   "source": [
    "# naive_bayes"
   ]
  },
  {
   "cell_type": "code",
   "execution_count": 29,
   "metadata": {},
   "outputs": [
    {
     "name": "stdout",
     "output_type": "stream",
     "text": [
      "Best Parameters for model: {}\n"
     ]
    }
   ],
   "source": [
    "naive_bayes = Modeler(GaussianNB, X_train, y_train, X_cv, y_cv,params={}, scale=False, n_jobs=False)"
   ]
  },
  {
   "cell_type": "code",
   "execution_count": 30,
   "metadata": {},
   "outputs": [
    {
     "name": "stdout",
     "output_type": "stream",
     "text": [
      "accuracy: 79.65116279069767 %\n",
      "recall: 69.14494264859228 %\n",
      "ROC: 69.14494264859228 %\n"
     ]
    },
    {
     "data": {
      "image/png": "[encoded data removed]",
      "text/plain": [
       "<Figure size 720x432 with 1 Axes>"
      ]
     },
     "metadata": {},
     "output_type": "display_data"
    },
    {
     "data": {
      "image/png": "[encoded data removed]",
      "text/plain": [
       "<Figure size 720x432 with 1 Axes>"
      ]
     },
     "metadata": {},
     "output_type": "display_data"
    }
   ],
   "source": [
    "model_scoring = model_eval(naive_bayes[\"model\"], X_test, y_test)\n",
    "scores[\"Naive Bayes | Binary\"] = {\"Accuracy\": '{0:.2f}'.format(round(model_scoring[0], 4)*100),\n",
    "                             #\"ROC\": '{0:.2f}'.format(round(model_scoring[1],4)*100),\n",
    "                             \"F1-Score\": '{0:.2f}'.format(round(model_scoring[2],4)*100),\n",
    "                            \"Recall-Score\": '{0:.2f}'.format(round(model_scoring[3],4)*100)}"
   ]
  },
  {
   "cell_type": "code",
   "execution_count": 31,
   "metadata": {},
   "outputs": [
    {
     "data": {
      "image/png": "[encoded data removed]",
      "text/plain": [
       "<Figure size 432x288 with 1 Axes>"
      ]
     },
     "metadata": {},
     "output_type": "display_data"
    }
   ],
   "source": [
    "ROC_curve = plot_roc_curve(naive_bayes[\"model\"], X_cv, y_cv)\n",
    "scores[\"Naive Bayes | Binary\"][\"AUC\"] = '{0:.2f}'.format(round(ROC_curve.roc_auc,4)*100)"
   ]
  },
  {
   "cell_type": "code",
   "execution_count": 32,
   "metadata": {},
   "outputs": [],
   "source": [
    "score_df = pd.DataFrame.from_dict(scores).T\n",
    "score_df= score_df.sort_values('Accuracy', ascending=False)"
   ]
  },
  {
   "cell_type": "code",
   "execution_count": 33,
   "metadata": {},
   "outputs": [
    {
     "data": {
      "text/html": [
       "<div>\n",
       "<style scoped>\n",
       "    .dataframe tbody tr th:only-of-type {\n",
       "        vertical-align: middle;\n",
       "    }\n",
       "\n",
       "    .dataframe tbody tr th {\n",
       "        vertical-align: top;\n",
       "    }\n",
       "\n",
       "    .dataframe thead th {\n",
       "        text-align: right;\n",
       "    }\n",
       "</style>\n",
       "<table border=\"1\" class=\"dataframe\">\n",
       "  <thead>\n",
       "    <tr style=\"text-align: right;\">\n",
       "      <th></th>\n",
       "      <th>Accuracy</th>\n",
       "      <th>F1-Score</th>\n",
       "      <th>Recall-Score</th>\n",
       "      <th>AUC</th>\n",
       "    </tr>\n",
       "  </thead>\n",
       "  <tbody>\n",
       "    <tr>\n",
       "      <th>Random Forest | Binary</th>\n",
       "      <td>87.21</td>\n",
       "      <td>77.19</td>\n",
       "      <td>73.89</td>\n",
       "      <td>81.36</td>\n",
       "    </tr>\n",
       "    <tr>\n",
       "      <th>XGBoost | Binary</th>\n",
       "      <td>84.30</td>\n",
       "      <td>74.98</td>\n",
       "      <td>74.19</td>\n",
       "      <td>80.95</td>\n",
       "    </tr>\n",
       "    <tr>\n",
       "      <th>AdaBoost Classifier | Binary</th>\n",
       "      <td>83.14</td>\n",
       "      <td>71.11</td>\n",
       "      <td>69.21</td>\n",
       "      <td>75.96</td>\n",
       "    </tr>\n",
       "    <tr>\n",
       "      <th>Support-Vector Machine | Binary</th>\n",
       "      <td>82.56</td>\n",
       "      <td>57.57</td>\n",
       "      <td>57.14</td>\n",
       "      <td>75.09</td>\n",
       "    </tr>\n",
       "    <tr>\n",
       "      <th>Naive Bayes | Binary</th>\n",
       "      <td>79.65</td>\n",
       "      <td>68.94</td>\n",
       "      <td>69.14</td>\n",
       "      <td>65.20</td>\n",
       "    </tr>\n",
       "  </tbody>\n",
       "</table>\n",
       "</div>"
      ],
      "text/plain": [
       "                                Accuracy F1-Score Recall-Score    AUC\n",
       "Random Forest | Binary             87.21    77.19        73.89  81.36\n",
       "XGBoost | Binary                   84.30    74.98        74.19  80.95\n",
       "AdaBoost Classifier | Binary       83.14    71.11        69.21  75.96\n",
       "Support-Vector Machine | Binary    82.56    57.57        57.14  75.09\n",
       "Naive Bayes | Binary               79.65    68.94        69.14  65.20"
      ]
     },
     "execution_count": 33,
     "metadata": {},
     "output_type": "execute_result"
    }
   ],
   "source": [
    "score_df"
   ]
  }
 ],
 "metadata": {
  "kernelspec": {
   "display_name": "Python 3 (ipykernel)",
   "language": "python",
   "name": "python3"
  },
  "language_info": {
   "codemirror_mode": {
    "name": "ipython",
    "version": 3
   },
   "file_extension": ".py",
   "mimetype": "text/x-python",
   "name": "python",
   "nbconvert_exporter": "python",
   "pygments_lexer": "ipython3",
   "version": "3.7.1"
  }
 },
 "nbformat": 4,
 "nbformat_minor": 2
}
